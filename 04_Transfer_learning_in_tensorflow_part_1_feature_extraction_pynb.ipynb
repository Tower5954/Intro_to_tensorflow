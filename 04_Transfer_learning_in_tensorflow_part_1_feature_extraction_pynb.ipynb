{
  "nbformat": 4,
  "nbformat_minor": 0,
  "metadata": {
    "colab": {
      "name": "04-Transfer-learning-in-tensorflow-part-1-feature-extraction.pynb",
      "provenance": [],
      "toc_visible": true,
      "authorship_tag": "ABX9TyPN7zP6GVV2UiMSsnpl0Hse",
      "include_colab_link": true
    },
    "kernelspec": {
      "name": "python3",
      "display_name": "Python 3"
    },
    "language_info": {
      "name": "python"
    },
    "accelerator": "GPU"
  },
  "cells": [
    {
      "cell_type": "markdown",
      "metadata": {
        "id": "view-in-github",
        "colab_type": "text"
      },
      "source": [
        "<a href=\"https://colab.research.google.com/github/Tower5954/TensorFlow/blob/main/04_Transfer_learning_in_tensorflow_part_1_feature_extraction_pynb.ipynb\" target=\"_parent\"><img src=\"https://colab.research.google.com/assets/colab-badge.svg\" alt=\"Open In Colab\"/></a>"
      ]
    },
    {
      "cell_type": "markdown",
      "metadata": {
        "id": "tr0ztOmoyW0A"
      },
      "source": [
        "# Transfer learning with TensorFlow part 1: Feature extraction.\n",
        "\n",
        "Transfer learning is leveraging a working model's existing architecture and learned patterns for our own problem.\n",
        "\n",
        "There are 2 main benefits:\n",
        "\n",
        "1. Can leverage an existing neural network architecture proven to work on problems similar to our own.\n",
        "2. Can leverage a working neural network architecture which has already learned patterns on similar data to our own, then we can adapt those patterns to our own data."
      ]
    },
    {
      "cell_type": "code",
      "metadata": {
        "colab": {
          "base_uri": "https://localhost:8080/"
        },
        "id": "pIfVE6322euw",
        "outputId": "738e902e-3edb-406e-e564-3b97692d74a7"
      },
      "source": [
        "# Are we using a GPU?\n",
        "!nvidia-smi"
      ],
      "execution_count": 1,
      "outputs": [
        {
          "output_type": "stream",
          "name": "stdout",
          "text": [
            "Thu Dec 16 07:27:32 2021       \n",
            "+-----------------------------------------------------------------------------+\n",
            "| NVIDIA-SMI 495.44       Driver Version: 460.32.03    CUDA Version: 11.2     |\n",
            "|-------------------------------+----------------------+----------------------+\n",
            "| GPU  Name        Persistence-M| Bus-Id        Disp.A | Volatile Uncorr. ECC |\n",
            "| Fan  Temp  Perf  Pwr:Usage/Cap|         Memory-Usage | GPU-Util  Compute M. |\n",
            "|                               |                      |               MIG M. |\n",
            "|===============================+======================+======================|\n",
            "|   0  Tesla K80           Off  | 00000000:00:04.0 Off |                    0 |\n",
            "| N/A   72C    P8    32W / 149W |      0MiB / 11441MiB |      0%      Default |\n",
            "|                               |                      |                  N/A |\n",
            "+-------------------------------+----------------------+----------------------+\n",
            "                                                                               \n",
            "+-----------------------------------------------------------------------------+\n",
            "| Processes:                                                                  |\n",
            "|  GPU   GI   CI        PID   Type   Process name                  GPU Memory |\n",
            "|        ID   ID                                                   Usage      |\n",
            "|=============================================================================|\n",
            "|  No running processes found                                                 |\n",
            "+-----------------------------------------------------------------------------+\n"
          ]
        }
      ]
    },
    {
      "cell_type": "markdown",
      "metadata": {
        "id": "ySMubJoH25WO"
      },
      "source": [
        "## Downloading and becoming one with the data.\n",
        "\n"
      ]
    },
    {
      "cell_type": "code",
      "metadata": {
        "colab": {
          "base_uri": "https://localhost:8080/"
        },
        "id": "L4KIFapl3JbM",
        "outputId": "c35cec78-653f-4704-f66e-4007f56204a3"
      },
      "source": [
        "# Get data (10% of 10 food classes from Food101)\n",
        "\n",
        "import zipfile\n",
        "\n",
        "# Download the data\n",
        "!wget https://storage.googleapis.com/ztm_tf_course/food_vision/10_food_classes_10_percent.zip\n",
        "\n",
        "# Unzip the downloaded file\n",
        "zip_ref = zipfile.ZipFile(\"10_food_classes_10_percent.zip\")\n",
        "zip_ref.extractall()\n",
        "zip_ref.close()\n"
      ],
      "execution_count": 2,
      "outputs": [
        {
          "output_type": "stream",
          "name": "stdout",
          "text": [
            "--2021-12-16 07:27:33--  https://storage.googleapis.com/ztm_tf_course/food_vision/10_food_classes_10_percent.zip\n",
            "Resolving storage.googleapis.com (storage.googleapis.com)... 74.125.70.128, 74.125.202.128, 74.125.69.128, ...\n",
            "Connecting to storage.googleapis.com (storage.googleapis.com)|74.125.70.128|:443... connected.\n",
            "HTTP request sent, awaiting response... 200 OK\n",
            "Length: 168546183 (161M) [application/zip]\n",
            "Saving to: ‘10_food_classes_10_percent.zip’\n",
            "\n",
            "10_food_classes_10_ 100%[===================>] 160.74M   122MB/s    in 1.3s    \n",
            "\n",
            "2021-12-16 07:27:34 (122 MB/s) - ‘10_food_classes_10_percent.zip’ saved [168546183/168546183]\n",
            "\n"
          ]
        }
      ]
    },
    {
      "cell_type": "code",
      "metadata": {
        "colab": {
          "base_uri": "https://localhost:8080/"
        },
        "id": "HpAUw8HJ5Mvl",
        "outputId": "9f9dd2d5-2c11-4c1c-8710-36d7b4e75721"
      },
      "source": [
        "# How many images in each folder?\n",
        "import os\n",
        "\n",
        "# Walk through 10 percent data directory and list number of files\n",
        "for dirpath, dirnames, filenames in os.walk(\"10_food_classes_10_percent\"):\n",
        "  print(f\"There are: {len(dirnames)} directories and {len(filenames)} images in '{dirpath}' \")"
      ],
      "execution_count": 3,
      "outputs": [
        {
          "output_type": "stream",
          "name": "stdout",
          "text": [
            "There are: 2 directories and 0 images in '10_food_classes_10_percent' \n",
            "There are: 10 directories and 0 images in '10_food_classes_10_percent/train' \n",
            "There are: 0 directories and 75 images in '10_food_classes_10_percent/train/sushi' \n",
            "There are: 0 directories and 75 images in '10_food_classes_10_percent/train/hamburger' \n",
            "There are: 0 directories and 75 images in '10_food_classes_10_percent/train/ice_cream' \n",
            "There are: 0 directories and 75 images in '10_food_classes_10_percent/train/grilled_salmon' \n",
            "There are: 0 directories and 75 images in '10_food_classes_10_percent/train/pizza' \n",
            "There are: 0 directories and 75 images in '10_food_classes_10_percent/train/steak' \n",
            "There are: 0 directories and 75 images in '10_food_classes_10_percent/train/chicken_wings' \n",
            "There are: 0 directories and 75 images in '10_food_classes_10_percent/train/chicken_curry' \n",
            "There are: 0 directories and 75 images in '10_food_classes_10_percent/train/fried_rice' \n",
            "There are: 0 directories and 75 images in '10_food_classes_10_percent/train/ramen' \n",
            "There are: 10 directories and 0 images in '10_food_classes_10_percent/test' \n",
            "There are: 0 directories and 250 images in '10_food_classes_10_percent/test/sushi' \n",
            "There are: 0 directories and 250 images in '10_food_classes_10_percent/test/hamburger' \n",
            "There are: 0 directories and 250 images in '10_food_classes_10_percent/test/ice_cream' \n",
            "There are: 0 directories and 250 images in '10_food_classes_10_percent/test/grilled_salmon' \n",
            "There are: 0 directories and 250 images in '10_food_classes_10_percent/test/pizza' \n",
            "There are: 0 directories and 250 images in '10_food_classes_10_percent/test/steak' \n",
            "There are: 0 directories and 250 images in '10_food_classes_10_percent/test/chicken_wings' \n",
            "There are: 0 directories and 250 images in '10_food_classes_10_percent/test/chicken_curry' \n",
            "There are: 0 directories and 250 images in '10_food_classes_10_percent/test/fried_rice' \n",
            "There are: 0 directories and 250 images in '10_food_classes_10_percent/test/ramen' \n"
          ]
        }
      ]
    },
    {
      "cell_type": "markdown",
      "source": [
        "## Create data loaders (preparing the data)\n",
        "\n",
        "We will use the `ImageDataGenerator` class to load in our images in batches "
      ],
      "metadata": {
        "id": "KzOchzj36o4y"
      }
    },
    {
      "cell_type": "code",
      "source": [
        "# Set up data inputs\n",
        "\n",
        "from tensorflow.keras.preprocessing.image import ImageDataGenerator\n",
        "\n",
        "IMAGE_SHAPE = (224,224)\n",
        "BATCH_SIZE = (32)\n",
        "\n",
        "train_dir = \"10_food_classes_10_percent/train\"\n",
        "test_dir = \"10_food_classes_10_percent/test\"\n",
        "\n",
        "train_datagen = ImageDataGenerator(rescale=1/255.)\n",
        "test_datagen = ImageDataGenerator(rescale=1/255.)\n",
        "\n",
        "print(\"Training images:\")\n",
        "train_data_10_percent = train_datagen.flow_from_directory(train_dir,\n",
        "                                                          target_size=IMAGE_SHAPE,\n",
        "                                                          batch_size=BATCH_SIZE,\n",
        "                                                          class_mode=\"categorical\")\n",
        "\n",
        "\n",
        "print(\"Testing images:\")\n",
        "test_data = test_datagen.flow_from_directory(test_dir,\n",
        "                                             target_size=IMAGE_SHAPE,\n",
        "                                             batch_size=BATCH_SIZE,\n",
        "                                             class_mode=\"categorical\")"
      ],
      "metadata": {
        "colab": {
          "base_uri": "https://localhost:8080/"
        },
        "id": "wjPCLy5-8BXf",
        "outputId": "7b017f12-ea54-42fe-c912-b2da1dee7116"
      },
      "execution_count": 4,
      "outputs": [
        {
          "output_type": "stream",
          "name": "stdout",
          "text": [
            "Training images:\n",
            "Found 750 images belonging to 10 classes.\n",
            "Testing images:\n",
            "Found 2500 images belonging to 10 classes.\n"
          ]
        }
      ]
    },
    {
      "cell_type": "markdown",
      "source": [
        "## Setting up callbacks (things to run while the model trains)\n",
        "\n",
        "Callbacks are extra functionality you can add to a model to be performed during or after training. Some of the more popular callbacks are:\n",
        "* Tracking experiments with the TensorBoard callback.\n",
        "* Model checkpoint with the ModelCheckpoint callback.\n",
        "* Stopping a model from training (before it trains too long and overfits) with the EarlyStopping callback.\n",
        "\n",
        "\n",
        "\n"
      ],
      "metadata": {
        "id": "nPOVdaj0-yKw"
      }
    },
    {
      "cell_type": "code",
      "source": [
        "# Create TensorBoard callback (functionised to allow for creating a new one for each model)"
      ],
      "metadata": {
        "id": "Z4HybvrzkWGT"
      },
      "execution_count": 5,
      "outputs": []
    },
    {
      "cell_type": "code",
      "source": [
        "import datetime\n",
        "import tensorflow as tf\n",
        "\n",
        "\n",
        "def create_tensorboard_callback(dir_name, experiment_name):\n",
        "  log_dir = dir_name + \"/\" +experiment_name + \"/\" + datetime.datetime.now().strftime('%d%m%Y-%H%M')\n",
        "  tensorboard_callback = tf.keras.callbacks.TensorBoard(log_dir)\n",
        "  print(f\"Saving Tensorboard log files to: {log_dir}\")\n",
        "  return tensorboard_callback"
      ],
      "metadata": {
        "id": "MJ3I92bWnc_2"
      },
      "execution_count": 6,
      "outputs": []
    },
    {
      "cell_type": "markdown",
      "source": [
        "🔑 **Note**: 🔑 You can customise the directory where your TensorBoard logs(model training metrics)gets saved to wherever you like. The `log_dir` parameter created above is just one option. "
      ],
      "metadata": {
        "id": "80n4AoKfphKx"
      }
    },
    {
      "cell_type": "markdown",
      "source": [
        "## Creating models using TensorFlow Hub\n",
        "\n",
        "\n",
        "In the past we have used TensorFlow to create our own models layer by layer from scratch.\n",
        "\n",
        "Now we are going to do a similar process, except the majority of our model's layers are going to come from TensorFlow Hub.\n",
        "\n",
        "We can access pretrained models on: https://tfhub.dev/\n",
        "\n",
        "Browsing the TensorFlow Hub page and sorting for image classification, we found the following feature vector model link:\n",
        "https://tfhub.dev/tensorflow/efficientnet/b0/feature-vector/1"
      ],
      "metadata": {
        "id": "CL3OcIAxscEo"
      }
    },
    {
      "cell_type": "markdown",
      "source": [
        "🔑 Note: Comparing different model architecture performance on the same data is a very common practice. The simple reason is because you want to know which model performs best for your problem.\n",
        "\n",
        "Update: As of 14 August 2021, EfficientNet V2 pretrained models are available on TensorFlow Hub. The original code in this notebook uses EfficientNet V1, it has been left unchanged. In my experiments with this dataset, V1 outperforms V2. Best to experiment with your own data and see what suits you."
      ],
      "metadata": {
        "id": "ijYm4oWAx56-"
      }
    },
    {
      "cell_type": "code",
      "source": [
        "# Comparing the following models:\n",
        "\n",
        "\n",
        "# Resnet 50 V2 feature vector\n",
        "resnet_url = 'https://tfhub.dev/google/imagenet/resnet_v2_50/feature_vector/4'\n",
        "\n",
        "# Original: EfficientNetB0 feature vector (version 1)\n",
        "efficientnet_url = \"https://tfhub.dev/tensorflow/efficientnet/b0/feature-vector/1\"\n",
        "\n",
        "# # New: EfficientNetB0 feature vector (version 2)\n",
        "# efficientnet_url = \"https://tfhub.dev/google/imagenet/efficientnet_v2_imagenet1k_b0/feature_vector/2\""
      ],
      "metadata": {
        "id": "7_QfDqVroWan"
      },
      "execution_count": 7,
      "outputs": []
    },
    {
      "cell_type": "code",
      "source": [
        "# import dependencies\n",
        "\n",
        "import tensorflow as tf\n",
        "import tensorflow_hub as hub\n",
        "from tensorflow.keras import layers \n",
        "import matplotlib.pyplot as plt"
      ],
      "metadata": {
        "id": "OK-DI1WgyQdP"
      },
      "execution_count": 8,
      "outputs": []
    },
    {
      "cell_type": "code",
      "source": [
        "# Create a make_model() function to create a model from a URL\n",
        "\n",
        "def create_model(model_url, num_classes=10):\n",
        "  \"\"\"\n",
        "  Takes a TensorFlow Hub URL and creates a keras Sequential model with it.\n",
        "\n",
        "  Args: \n",
        "      model_url (str): A Tensorflow Hub feature extraction URL.\n",
        "      num_classes (int): Number of output neurons in the output layer,\n",
        "      should be equal to number of target classes, default is 10.\n",
        "\n",
        "  Returns:\n",
        "      An uncompiled Keras Sequential model with model_url as feature extractor \n",
        "      layer and dense output layer with num_classes output neurons. \n",
        "  \"\"\"\n",
        "  # Download the pretrained model and save it as a kera slayer\n",
        "  feature_extracor_layer = hub.KerasLayer(model_url,\n",
        "                                          trainable=False, # Freeze the already trained patterns.\n",
        "                                          name='feature_extraction_layer',\n",
        "                                          input_shape=IMAGE_SHAPE + (3,)) \n",
        "  \n",
        "  # Create a model\n",
        "  model = tf.keras.Sequential([\n",
        "                  feature_extracor_layer,\n",
        "                  layers.Dense(num_classes, activation='softmax', name='output_layer')\n",
        "  ])\n",
        "\n",
        "\n",
        "  return model\n",
        "\n"
      ],
      "metadata": {
        "id": "2GDs9pq95Rg5"
      },
      "execution_count": 9,
      "outputs": []
    },
    {
      "cell_type": "markdown",
      "source": [
        "### Creating and Testing a **ResNet** TensorFlow Hub Feature Extraction model\n",
        "\n",
        "\n",
        "\n"
      ],
      "metadata": {
        "id": "3A7Uca7BQYrS"
      }
    },
    {
      "cell_type": "code",
      "source": [
        "resnet_model = create_model(resnet_url)"
      ],
      "metadata": {
        "id": "wGTbmogbQTGg"
      },
      "execution_count": 10,
      "outputs": []
    },
    {
      "cell_type": "code",
      "source": [
        "resnet_model.summary()"
      ],
      "metadata": {
        "colab": {
          "base_uri": "https://localhost:8080/"
        },
        "id": "5i83tt3zRAO8",
        "outputId": "fc697599-e269-4ba3-8eeb-341487594736"
      },
      "execution_count": 11,
      "outputs": [
        {
          "output_type": "stream",
          "name": "stdout",
          "text": [
            "Model: \"sequential\"\n",
            "_________________________________________________________________\n",
            " Layer (type)                Output Shape              Param #   \n",
            "=================================================================\n",
            " feature_extraction_layer (K  (None, 2048)             23564800  \n",
            " erasLayer)                                                      \n",
            "                                                                 \n",
            " output_layer (Dense)        (None, 10)                20490     \n",
            "                                                                 \n",
            "=================================================================\n",
            "Total params: 23,585,290\n",
            "Trainable params: 20,490\n",
            "Non-trainable params: 23,564,800\n",
            "_________________________________________________________________\n"
          ]
        }
      ]
    },
    {
      "cell_type": "code",
      "source": [
        "resnet_model.compile(loss=\"categorical_crossentropy\",\n",
        "                     optimizer=tf.keras.optimizers.Adam(),\n",
        "                     metrics=[\"accuracy\"])"
      ],
      "metadata": {
        "id": "qm5IiVn2R1BL"
      },
      "execution_count": 12,
      "outputs": []
    },
    {
      "cell_type": "code",
      "source": [
        "from tensorflow.python.util.dispatch import dispatch_for_unary_elementwise_apis\n",
        "# Fitting the ResNet model to the data (10 percent of 10 classes)\n",
        "\n",
        "resnet_history = resnet_model.fit(train_data_10_percent,\n",
        "                                  epochs=5,\n",
        "                                  steps_per_epoch=len(train_data_10_percent),\n",
        "                                  validation_data=test_data,\n",
        "                                  callbacks=[create_tensorboard_callback(dir_name=\"tensorflow_hub\",\n",
        "                                                                         experiment_name=\"resnet50v2\")])"
      ],
      "metadata": {
        "colab": {
          "base_uri": "https://localhost:8080/"
        },
        "id": "-VF5u6aNSqXF",
        "outputId": "76436d55-0a1c-49fb-ce3b-e850d9d80604"
      },
      "execution_count": 13,
      "outputs": [
        {
          "output_type": "stream",
          "name": "stdout",
          "text": [
            "Saving Tensorboard log files to: tensorflow_hub/resnet50v2/16122021-0727\n",
            "Epoch 1/5\n",
            "24/24 [==============================] - 42s 1s/step - loss: 1.9122 - accuracy: 0.3613 - val_loss: 1.2311 - val_accuracy: 0.6088\n",
            "Epoch 2/5\n",
            "24/24 [==============================] - 23s 989ms/step - loss: 0.9421 - accuracy: 0.7253 - val_loss: 0.8536 - val_accuracy: 0.7368\n",
            "Epoch 3/5\n",
            "24/24 [==============================] - 22s 935ms/step - loss: 0.6381 - accuracy: 0.8240 - val_loss: 0.7525 - val_accuracy: 0.7576\n",
            "Epoch 4/5\n",
            "24/24 [==============================] - 25s 1s/step - loss: 0.4924 - accuracy: 0.8613 - val_loss: 0.7017 - val_accuracy: 0.7676\n",
            "Epoch 5/5\n",
            "24/24 [==============================] - 24s 1s/step - loss: 0.3918 - accuracy: 0.9053 - val_loss: 0.6660 - val_accuracy: 0.7780\n"
          ]
        }
      ]
    },
    {
      "cell_type": "markdown",
      "source": [
        "The transfer learning feature extractor model out performed all previous models\n",
        "we built by hand and in a quicker training time and with only 10%\n",
        "of the training examples."
      ],
      "metadata": {
        "id": "2zuOrte6UIZl"
      }
    },
    {
      "cell_type": "code",
      "source": [
        "# Create a function to plot loss curves.\n",
        "\n",
        "def plot_loss_curves(history):\n",
        "  \"\"\"\n",
        "  Returns seperate loss curves for training and validation metrics.\n",
        "\n",
        "  Args:\n",
        "      history: TensorFlow History object.\n",
        "\n",
        "  Returns:\n",
        "      Plots of training/validation loss and accuracy metrics.\n",
        "  \"\"\"\n",
        "\n",
        "  loss = history.history[\"loss\"]\n",
        "  val_loss = history.history[\"val_loss\"]\n",
        "\n",
        "  accuracy = history.history[\"accuracy\"]\n",
        "  val_accuracy = history.history[\"val_accuracy\"]\n",
        "\n",
        "  epochs = range(len(history.history[\"loss\"]))\n",
        "\n",
        "  # plot loss\n",
        "  plt.plot(epochs,loss, label=\"training_loss\")\n",
        "  plt.plot(epochs, val_loss, label=\"val_loss\")\n",
        "  plt.title(\"Loss\")\n",
        "  plt.xlabel(\"Epochs\")\n",
        "  plt.legend()\n",
        "\n",
        "  # plot accuracy\n",
        "  plt.figure()\n",
        "  plt.plot(epochs, accuracy, label=\"training_accuracy\")\n",
        "  plt.plot(epochs, val_accuracy, label=\"val_accuracy\")\n",
        "  plt.title(\"Accuracy\")\n",
        "  plt.xlabel(\"Epochs\")\n",
        "  plt.legend();"
      ],
      "metadata": {
        "id": "9fbLRhaZXOFF"
      },
      "execution_count": 14,
      "outputs": []
    },
    {
      "cell_type": "code",
      "source": [
        "plot_loss_curves(resnet_history)"
      ],
      "metadata": {
        "colab": {
          "base_uri": "https://localhost:8080/",
          "height": 573
        },
        "id": "3IJzoXb0CGLD",
        "outputId": "d14899cd-dc53-40a1-ec56-f0715e62c959"
      },
      "execution_count": 15,
      "outputs": [
        {
          "output_type": "display_data",
          "data": {
            "image/png": "[encoded data removed]",
            "text/plain": [
              "<Figure size 432x288 with 1 Axes>"
            ]
          },
          "metadata": {
            "needs_background": "light"
          }
        },
        {
          "output_type": "display_data",
          "data": {
            "image/png": "[encoded data removed]",
            "text/plain": [
              "<Figure size 432x288 with 1 Axes>"
            ]
          },
          "metadata": {
            "needs_background": "light"
          }
        }
      ]
    },
    {
      "cell_type": "markdown",
      "source": [
        "### Creating and Testing a **EfficientNetB0** TensorFlow Hub Feature Extraction model"
      ],
      "metadata": {
        "id": "QfGY9lbICK15"
      }
    },
    {
      "cell_type": "code",
      "source": [
        "# Create EffecientNetB0 feature extractor model\n",
        "\n",
        "efficientnet_model = create_model(model_url=efficientnet_url)\n",
        "\n",
        "# Compile the model \n",
        "\n",
        "efficientnet_model.compile(loss=\"categorical_crossentropy\",\n",
        "                           optimizer=tf.keras.optimizers.Adam(),\n",
        "                           metrics=[\"accuracy\"])\n",
        "\n",
        "# Fit the model to 10% of the training data\n",
        "efficient_history = efficientnet_model.fit(train_data_10_percent,\n",
        "                                           epochs=5,\n",
        "                                           steps_per_epoch=(len(train_data_10_percent)),\n",
        "                                           validation_data=test_data,\n",
        "                                           validation_steps=len(test_data),\n",
        "                                           callbacks=[create_tensorboard_callback(dir_name=\"tensorflow_hub\",experiment_name=\"efficientnetB0\")]\n",
        "                                           )"
      ],
      "metadata": {
        "colab": {
          "base_uri": "https://localhost:8080/"
        },
        "id": "y5Odvo1KDDog",
        "outputId": "e242d866-20b3-4392-b838-84b55f94902e"
      },
      "execution_count": 16,
      "outputs": [
        {
          "output_type": "stream",
          "name": "stdout",
          "text": [
            "Saving Tensorboard log files to: tensorflow_hub/efficientnetB0/16122021-0730\n",
            "Epoch 1/5\n",
            "24/24 [==============================] - 38s 1s/step - loss: 1.8493 - accuracy: 0.4293 - val_loss: 1.2826 - val_accuracy: 0.7500\n",
            "Epoch 2/5\n",
            "24/24 [==============================] - 20s 847ms/step - loss: 1.0569 - accuracy: 0.7600 - val_loss: 0.8548 - val_accuracy: 0.8168\n",
            "Epoch 3/5\n",
            "24/24 [==============================] - 19s 812ms/step - loss: 0.7574 - accuracy: 0.8347 - val_loss: 0.6888 - val_accuracy: 0.8472\n",
            "Epoch 4/5\n",
            "24/24 [==============================] - 20s 876ms/step - loss: 0.6055 - accuracy: 0.8693 - val_loss: 0.6047 - val_accuracy: 0.8568\n",
            "Epoch 5/5\n",
            "24/24 [==============================] - 25s 1s/step - loss: 0.5133 - accuracy: 0.8907 - val_loss: 0.5543 - val_accuracy: 0.8600\n"
          ]
        }
      ]
    },
    {
      "cell_type": "code",
      "source": [
        "plot_loss_curves(efficient_history)"
      ],
      "metadata": {
        "colab": {
          "base_uri": "https://localhost:8080/",
          "height": 573
        },
        "id": "6Pt-uzdPHERT",
        "outputId": "3245fbc0-0bbe-45ea-f370-aea06f991cfe"
      },
      "execution_count": 17,
      "outputs": [
        {
          "output_type": "display_data",
          "data": {
            "image/png": "[encoded data removed]",
            "text/plain": [
              "<Figure size 432x288 with 1 Axes>"
            ]
          },
          "metadata": {
            "needs_background": "light"
          }
        },
        {
          "output_type": "display_data",
          "data": {
            "image/png": "[encoded data removed]",
            "text/plain": [
              "<Figure size 432x288 with 1 Axes>"
            ]
          },
          "metadata": {
            "needs_background": "light"
          }
        }
      ]
    },
    {
      "cell_type": "code",
      "source": [
        "efficientnet_model.summary()"
      ],
      "metadata": {
        "id": "COBR5e_9HqLi",
        "colab": {
          "base_uri": "https://localhost:8080/"
        },
        "outputId": "722cd291-3941-4d37-98d2-98bb7ae92c25"
      },
      "execution_count": 18,
      "outputs": [
        {
          "output_type": "stream",
          "name": "stdout",
          "text": [
            "Model: \"sequential_1\"\n",
            "_________________________________________________________________\n",
            " Layer (type)                Output Shape              Param #   \n",
            "=================================================================\n",
            " feature_extraction_layer (K  (None, 1280)             4049564   \n",
            " erasLayer)                                                      \n",
            "                                                                 \n",
            " output_layer (Dense)        (None, 10)                12810     \n",
            "                                                                 \n",
            "=================================================================\n",
            "Total params: 4,062,374\n",
            "Trainable params: 12,810\n",
            "Non-trainable params: 4,049,564\n",
            "_________________________________________________________________\n"
          ]
        }
      ]
    },
    {
      "cell_type": "code",
      "source": [
        "# How many layers doess the effcientnet_model have?\n",
        "len(efficientnet_model.layers[0].weights)"
      ],
      "metadata": {
        "colab": {
          "base_uri": "https://localhost:8080/"
        },
        "id": "P2E_OTVG1Eu7",
        "outputId": "fa131f0b-dd8c-43ad-f1ad-ac781c3c10b7"
      },
      "execution_count": 19,
      "outputs": [
        {
          "output_type": "execute_result",
          "data": {
            "text/plain": [
              "309"
            ]
          },
          "metadata": {},
          "execution_count": 19
        }
      ]
    },
    {
      "cell_type": "markdown",
      "source": [
        "## Different types of Transfer learning\n",
        "\n",
        "* **\"As is\" transfer learning** - using an exisisting model with no changes (e.g. using ImageNet model on 1000 ImageNet classes)\n",
        "* **\"Feature extraction\" transfer learning** - use the prelearned patterns of a pretrained model (e.g. EffecientNetB0 trained on ImageNet) and adjust the output layer for your own problem (e.g. 1000 classes -> 10 classes of food).\n",
        "* **\"Fine-tuning\" transfer learning** - use the prelearned patterns of an exisiting model and \"fine-tune\" many or all of the underlying layers (including new output layers). "
      ],
      "metadata": {
        "id": "Vb_SEZ1wyANp"
      }
    },
    {
      "cell_type": "markdown",
      "source": [
        "## Comparing the models results using TensorBoard\n",
        "\n",
        "> 🔑 **Note**: 🔑 When uploading to TensorBoard.dev, you are making your experiments public. "
      ],
      "metadata": {
        "id": "Jyc1X5XSz3Zw"
      }
    },
    {
      "cell_type": "code",
      "source": [
        " # Upload TensorBoard dev records "
      ],
      "metadata": {
        "id": "FJp8W_OF2s-y"
      },
      "execution_count": 19,
      "outputs": []
    },
    {
      "cell_type": "code",
      "source": [
        "from tensorflow.python.keras.backend import one_hot\n",
        "!tensorboard dev upload --logdir ./tensorflow_hub/ \\\n",
        "--name \"EfficientB0 vs. ResNet50v2\" \\\n",
        "--description \"Comparing two different TF Hub feature extraction model architecture using 10% of the training data\" \\\n",
        "--one_shot\n"
      ],
      "metadata": {
        "colab": {
          "base_uri": "https://localhost:8080/"
        },
        "id": "27Ho2ekDJS6E",
        "outputId": "cac8696c-7f8c-444a-b0a8-46732168aabf"
      },
      "execution_count": 20,
      "outputs": [
        {
          "output_type": "stream",
          "name": "stdout",
          "text": [
            "\n",
            "***** TensorBoard Uploader *****\n",
            "\n",
            "This will upload your TensorBoard logs to https://tensorboard.dev/ from\n",
            "the following directory:\n",
            "\n",
            "./tensorflow_hub/\n",
            "\n",
            "This TensorBoard will be visible to everyone. Do not upload sensitive\n",
            "data.\n",
            "\n",
            "Your use of this service is subject to Google's Terms of Service\n",
            "<https://policies.google.com/terms> and Privacy Policy\n",
            "<https://policies.google.com/privacy>, and TensorBoard.dev's Terms of Service\n",
            "<https://tensorboard.dev/policy/terms/>.\n",
            "\n",
            "This notice will not be shown again while you are logged into the uploader.\n",
            "To log out, run `tensorboard dev auth revoke`.\n",
            "\n",
            "Continue? (yes/NO) yes\n",
            "\n",
            "Please visit this URL to authorize this application: https://accounts.google.com/o/oauth2/auth?response_type=code&client_id=373649185512-8v619h5kft38l4456nm2dj4ubeqsrvh6.apps.googleusercontent.com&redirect_uri=urn%3Aietf%3Awg%3Aoauth%3A2.0%3Aoob&scope=openid+https%3A%2F%2Fwww.googleapis.com%2Fauth%2Fuserinfo.email&state=seOvDA9A8vYaEfPOk97AK3dvzSqKtr&prompt=consent&access_type=offline\n",
            "Enter the authorization code: 4/1AX4XfWhEBb1Kpx0xfE4YNksjkpHlqwFsOMlznXaWBadzsmFv68Ndnagpd0w\n",
            "\n",
            "\n",
            "New experiment created. View your TensorBoard at: https://tensorboard.dev/experiment/jPkeD7glR2G1vEJngcvFgA/\n",
            "\n",
            "\u001b[1m[2021-12-16T07:35:14]\u001b[0m Started scanning logdir.\n",
            "\u001b[1m[2021-12-16T07:35:16]\u001b[0m Total uploaded: 60 scalars, 0 tensors, 2 binary objects (5.6 MB)\n",
            "\u001b[1m[2021-12-16T07:35:16]\u001b[0m Done scanning logdir.\n",
            "\n",
            "\n",
            "Done. View your TensorBoard at https://tensorboard.dev/experiment/jPkeD7glR2G1vEJngcvFgA/\n"
          ]
        }
      ]
    },
    {
      "cell_type": "markdown",
      "source": [
        "The TensorBoard experiment has been publicly uploaded to here: https://tensorboard.dev/experiment/jPkeD7glR2G1vEJngcvFgA/"
      ],
      "metadata": {
        "id": "0C7oYAygKa8y"
      }
    },
    {
      "cell_type": "code",
      "source": [
        "# Check out the TensorBoard experiments that you have:\n",
        "!tensorboard dev list\n"
      ],
      "metadata": {
        "colab": {
          "base_uri": "https://localhost:8080/"
        },
        "id": "sJep3wYtLb6C",
        "outputId": "ffdab2a7-324b-4f80-fbef-75b05290fe5f"
      },
      "execution_count": 21,
      "outputs": [
        {
          "output_type": "stream",
          "name": "stdout",
          "text": [
            "https://tensorboard.dev/experiment/jPkeD7glR2G1vEJngcvFgA/\n",
            "\tName                 EfficientB0 vs. ResNet50v2\n",
            "\tDescription          Comparing two different TF Hub feature extraction model architecture using 10% of the training data\n",
            "\tId                   jPkeD7glR2G1vEJngcvFgA\n",
            "\tCreated              2021-12-16 07:35:14 (8 minutes ago)\n",
            "\tUpdated              2021-12-16 07:35:16 (8 minutes ago)\n",
            "\tRuns                 4\n",
            "\tTags                 5\n",
            "\tScalars              60\n",
            "\tTensor bytes         0\n",
            "\tBinary object bytes  5918938\n",
            "Total: 1 experiment(s)\n"
          ]
        }
      ]
    },
    {
      "cell_type": "code",
      "source": [
        "# Delete an experiment\n",
        "# !tensorboard dev delete --experiment_id [Id]"
      ],
      "metadata": {
        "id": "dDkaJ5skMgxj"
      },
      "execution_count": null,
      "outputs": []
    }
  ]
}