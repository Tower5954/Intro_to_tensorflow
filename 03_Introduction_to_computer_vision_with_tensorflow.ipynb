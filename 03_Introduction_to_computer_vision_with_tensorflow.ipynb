{
  "nbformat": 4,
  "nbformat_minor": 0,
  "metadata": {
    "colab": {
      "name": "03-Introduction-to-computer-vision-with-tensorflow.ipynb",
      "provenance": [],
      "toc_visible": true,
      "authorship_tag": "ABX9TyPRaB741afY3KdVV4b5adfG",
      "include_colab_link": true
    },
    "kernelspec": {
      "name": "python3",
      "display_name": "Python 3"
    },
    "language_info": {
      "name": "python"
    },
    "accelerator": "GPU"
  },
  "cells": [
    {
      "cell_type": "markdown",
      "metadata": {
        "id": "view-in-github",
        "colab_type": "text"
      },
      "source": [
        "<a href=\"https://colab.research.google.com/github/Tower5954/TensorFlow/blob/main/03_Introduction_to_computer_vision_with_tensorflow.ipynb\" target=\"_parent\"><img src=\"https://colab.research.google.com/assets/colab-badge.svg\" alt=\"Open In Colab\"/></a>"
      ]
    },
    {
      "cell_type": "markdown",
      "metadata": {
        "id": "4psHQm4YpSyu"
      },
      "source": [
        "# Introduction to Convolutional Neural Networks and Computer Vision with TensorFlow."
      ]
    },
    {
      "cell_type": "markdown",
      "metadata": {
        "id": "FJY_FigEuegx"
      },
      "source": [
        "Computer vision is the practice of writing algorithms which can discover patterns in visual data. Such as the camera of a self-driving car recognising the car in-front "
      ]
    },
    {
      "cell_type": "markdown",
      "metadata": {
        "id": "e3esU5R7vChi"
      },
      "source": [
        "## Get the data."
      ]
    },
    {
      "cell_type": "code",
      "metadata": {
        "colab": {
          "base_uri": "https://localhost:8080/"
        },
        "id": "2sLpECU6vGWF",
        "outputId": "c60512f5-4a96-49a4-b77f-17abc385c71f"
      },
      "source": [
        "import zipfile\n",
        "\n",
        "!wget https://storage.googleapis.com/ztm_tf_course/food_vision/pizza_steak.zip \n",
        "\n",
        "# Unzip the downloaded file\n",
        "zip_ref = zipfile.ZipFile(\"pizza_steak.zip\")\n",
        "zip_ref.extractall()\n",
        "zip_ref.close()"
      ],
      "execution_count": 9,
      "outputs": [
        {
          "output_type": "stream",
          "name": "stdout",
          "text": [
            "--2021-11-18 11:38:23--  https://storage.googleapis.com/ztm_tf_course/food_vision/pizza_steak.zip\n",
            "Resolving storage.googleapis.com (storage.googleapis.com)... 173.194.197.128, 64.233.191.128, 173.194.74.128, ...\n",
            "Connecting to storage.googleapis.com (storage.googleapis.com)|173.194.197.128|:443... connected.\n",
            "HTTP request sent, awaiting response... 200 OK\n",
            "Length: 109579078 (105M) [application/zip]\n",
            "Saving to: ‘pizza_steak.zip’\n",
            "\n",
            "pizza_steak.zip     100%[===================>] 104.50M   161MB/s    in 0.6s    \n",
            "\n",
            "2021-11-18 11:38:23 (161 MB/s) - ‘pizza_steak.zip’ saved [109579078/109579078]\n",
            "\n"
          ]
        }
      ]
    },
    {
      "cell_type": "markdown",
      "metadata": {
        "id": "JCKOnjVmxxrT"
      },
      "source": [
        "🔑**Note:**🔑 We start with smaller datasets so we can experiment quickly and figure what works (or better yet, what does not work) before scaling up. "
      ]
    },
    {
      "cell_type": "markdown",
      "metadata": {
        "id": "eKLqXa440_S-"
      },
      "source": [
        "## Inspect the data (become one with it).\n",
        "\n",
        "A very crucial step at the beginning of any machine learning project is becoming one with the data.\n",
        "\n",
        "For a computer vision project...this usually involves visualising many samples of the data. "
      ]
    },
    {
      "cell_type": "code",
      "metadata": {
        "colab": {
          "base_uri": "https://localhost:8080/"
        },
        "id": "VjC3OAnm82lf",
        "outputId": "9afc4a64-4f29-4796-88c2-a46f893c6027"
      },
      "source": [
        "!ls pizza_steak"
      ],
      "execution_count": 2,
      "outputs": [
        {
          "output_type": "stream",
          "name": "stdout",
          "text": [
            "test  train\n"
          ]
        }
      ]
    },
    {
      "cell_type": "code",
      "metadata": {
        "colab": {
          "base_uri": "https://localhost:8080/"
        },
        "id": "p7sTiWMZ8_Og",
        "outputId": "e987807c-ef0b-42a0-bf74-5b5bdf31c55b"
      },
      "source": [
        "!ls pizza_steak/train"
      ],
      "execution_count": 3,
      "outputs": [
        {
          "output_type": "stream",
          "name": "stdout",
          "text": [
            "pizza  steak\n"
          ]
        }
      ]
    },
    {
      "cell_type": "code",
      "metadata": {
        "colab": {
          "base_uri": "https://localhost:8080/"
        },
        "id": "riRoZHht9E1a",
        "outputId": "f4b18c41-7e1c-4a55-80b1-38c2298b2c07"
      },
      "source": [
        "!ls pizza_steak/train/steak"
      ],
      "execution_count": 4,
      "outputs": [
        {
          "output_type": "stream",
          "name": "stdout",
          "text": [
            "1000205.jpg  1647351.jpg  2238681.jpg  2824680.jpg  3375959.jpg  417368.jpg\n",
            "100135.jpg   1650002.jpg  2238802.jpg  2825100.jpg  3381560.jpg  4176.jpg\n",
            "101312.jpg   165639.jpg   2254705.jpg  2826987.jpg  3382936.jpg  42125.jpg\n",
            "1021458.jpg  1658186.jpg  225990.jpg   2832499.jpg  3386119.jpg  421476.jpg\n",
            "1032846.jpg  1658443.jpg  2260231.jpg  2832960.jpg  3388717.jpg  421561.jpg\n",
            "10380.jpg    165964.jpg   2268692.jpg  285045.jpg   3389138.jpg  438871.jpg\n",
            "1049459.jpg  167069.jpg   2271133.jpg  285147.jpg   3393547.jpg  43924.jpg\n",
            "1053665.jpg  1675632.jpg  227576.jpg   2855315.jpg  3393688.jpg  440188.jpg\n",
            "1068516.jpg  1678108.jpg  2283057.jpg  2856066.jpg  3396589.jpg  442757.jpg\n",
            "1068975.jpg  168006.jpg   2286639.jpg  2859933.jpg  339891.jpg\t 443210.jpg\n",
            "1081258.jpg  1682496.jpg  2287136.jpg  286219.jpg   3417789.jpg  444064.jpg\n",
            "1090122.jpg  1684438.jpg  2291292.jpg  2862562.jpg  3425047.jpg  444709.jpg\n",
            "1093966.jpg  168775.jpg   229323.jpg   2865730.jpg  3434983.jpg  447557.jpg\n",
            "1098844.jpg  1697339.jpg  2300534.jpg  2878151.jpg  3435358.jpg  461187.jpg\n",
            "1100074.jpg  1710569.jpg  2300845.jpg  2880035.jpg  3438319.jpg  461689.jpg\n",
            "1105280.jpg  1714605.jpg  231296.jpg   2881783.jpg  3444407.jpg  465494.jpg\n",
            "1117936.jpg  1724387.jpg  2315295.jpg  2884233.jpg  345734.jpg\t 468384.jpg\n",
            "1126126.jpg  1724717.jpg  2323132.jpg  2890573.jpg  3460673.jpg  477486.jpg\n",
            "114601.jpg   172936.jpg   2324994.jpg  2893832.jpg  3465327.jpg  482022.jpg\n",
            "1147047.jpg  1736543.jpg  2327701.jpg  2893892.jpg  3466159.jpg  482465.jpg\n",
            "1147883.jpg  1736968.jpg  2331076.jpg  2907177.jpg  3469024.jpg  483788.jpg\n",
            "1155665.jpg  1746626.jpg  233964.jpg   290850.jpg   3470083.jpg  493029.jpg\n",
            "1163977.jpg  1752330.jpg  2344227.jpg  2909031.jpg  3476564.jpg  503589.jpg\n",
            "1190233.jpg  1761285.jpg  234626.jpg   2910418.jpg  3478318.jpg  510757.jpg\n",
            "1208405.jpg  176508.jpg   234704.jpg   2912290.jpg  3488748.jpg  513129.jpg\n",
            "1209120.jpg  1772039.jpg  2357281.jpg  2916448.jpg  3492328.jpg  513842.jpg\n",
            "1212161.jpg  1777107.jpg  2361812.jpg  2916967.jpg  3518960.jpg  523535.jpg\n",
            "1213988.jpg  1787505.jpg  2365287.jpg  2927833.jpg  3522209.jpg  525041.jpg\n",
            "1219039.jpg  179293.jpg   2374582.jpg  2928643.jpg  3524429.jpg  534560.jpg\n",
            "1225762.jpg  1816235.jpg  239025.jpg   2929179.jpg  3528458.jpg  534633.jpg\n",
            "1230968.jpg  1822407.jpg  2390628.jpg  2936477.jpg  3531805.jpg  536535.jpg\n",
            "1236155.jpg  1823263.jpg  2392910.jpg  2938012.jpg  3536023.jpg  541410.jpg\n",
            "1241193.jpg  1826066.jpg  2394465.jpg  2938151.jpg  3538682.jpg  543691.jpg\n",
            "1248337.jpg  1828502.jpg  2395127.jpg  2939678.jpg  3540750.jpg  560503.jpg\n",
            "1257104.jpg  1828969.jpg  2396291.jpg  2940544.jpg  354329.jpg\t 561972.jpg\n",
            "126345.jpg   1829045.jpg  2400975.jpg  2940621.jpg  3547166.jpg  56240.jpg\n",
            "1264050.jpg  1829088.jpg  2403776.jpg  2949079.jpg  3553911.jpg  56409.jpg\n",
            "1264154.jpg  1836332.jpg  2403907.jpg  295491.jpg   3556871.jpg  564530.jpg\n",
            "1264858.jpg  1839025.jpg  240435.jpg   296268.jpg   355715.jpg\t 568972.jpg\n",
            "127029.jpg   1839481.jpg  2404695.jpg  2964732.jpg  356234.jpg\t 576725.jpg\n",
            "1289900.jpg  183995.jpg   2404884.jpg  2965021.jpg  3571963.jpg  588739.jpg\n",
            "1290362.jpg  184110.jpg   2407770.jpg  2966859.jpg  3576078.jpg  590142.jpg\n",
            "1295457.jpg  184226.jpg   2412263.jpg  2977966.jpg  3577618.jpg  60633.jpg\n",
            "1312841.jpg  1846706.jpg  2425062.jpg  2979061.jpg  3577732.jpg  60655.jpg\n",
            "1313316.jpg  1849364.jpg  2425389.jpg  2983260.jpg  3578934.jpg  606820.jpg\n",
            "1324791.jpg  1849463.jpg  2435316.jpg  2984311.jpg  358042.jpg\t 612551.jpg\n",
            "1327567.jpg  1849542.jpg  2437268.jpg  2988960.jpg  358045.jpg\t 614975.jpg\n",
            "1327667.jpg  1853564.jpg  2437843.jpg  2989882.jpg  3591821.jpg  616809.jpg\n",
            "1333055.jpg  1869467.jpg  2440131.jpg  2995169.jpg  359330.jpg\t 628628.jpg\n",
            "1334054.jpg  1870942.jpg  2443168.jpg  2996324.jpg  3601483.jpg  632427.jpg\n",
            "1335556.jpg  187303.jpg   2446660.jpg  3000131.jpg  3606642.jpg  636594.jpg\n",
            "1337814.jpg  187521.jpg   2455944.jpg  3002350.jpg  3609394.jpg  637374.jpg\n",
            "1340977.jpg  1888450.jpg  2458401.jpg  3007772.jpg  361067.jpg\t 640539.jpg\n",
            "1343209.jpg  1889336.jpg  2487306.jpg  3008192.jpg  3613455.jpg  644777.jpg\n",
            "134369.jpg   1907039.jpg  248841.jpg   3009617.jpg  3621464.jpg  644867.jpg\n",
            "1344105.jpg  1925230.jpg  2489716.jpg  3011642.jpg  3621562.jpg  658189.jpg\n",
            "134598.jpg   1927984.jpg  2490489.jpg  3020591.jpg  3621565.jpg  660900.jpg\n",
            "1346387.jpg  1930577.jpg  2495884.jpg  3030578.jpg  3623556.jpg  663014.jpg\n",
            "1348047.jpg  1937872.jpg  2495903.jpg  3047807.jpg  3640915.jpg  664545.jpg\n",
            "1351372.jpg  1941807.jpg  2499364.jpg  3059843.jpg  3643951.jpg  667075.jpg\n",
            "1362989.jpg  1942333.jpg  2500292.jpg  3074367.jpg  3653129.jpg  669180.jpg\n",
            "1367035.jpg  1945132.jpg  2509017.jpg  3082120.jpg  3656752.jpg  669960.jpg\n",
            "1371177.jpg  1961025.jpg  250978.jpg   3094354.jpg  3663518.jpg  6709.jpg\n",
            "1375640.jpg  1966300.jpg  2514432.jpg  3095301.jpg  3663800.jpg  674001.jpg\n",
            "1382427.jpg  1966967.jpg  2526838.jpg  3099645.jpg  3664376.jpg  676189.jpg\n",
            "1392718.jpg  1969596.jpg  252858.jpg   3100476.jpg  3670607.jpg  681609.jpg\n",
            "1395906.jpg  1971757.jpg  2532239.jpg  3110387.jpg  3671021.jpg  6926.jpg\n",
            "1400760.jpg  1976160.jpg  2534567.jpg  3113772.jpg  3671877.jpg  703556.jpg\n",
            "1403005.jpg  1984271.jpg  2535431.jpg  3116018.jpg  368073.jpg\t 703909.jpg\n",
            "1404770.jpg  1987213.jpg  2535456.jpg  3128952.jpg  368162.jpg\t 704316.jpg\n",
            "140832.jpg   1987639.jpg  2538000.jpg  3130412.jpg  368170.jpg\t 714298.jpg\n",
            "141056.jpg   1995118.jpg  2543081.jpg  3136.jpg     3693649.jpg  720060.jpg\n",
            "141135.jpg   1995252.jpg  2544643.jpg  313851.jpg   3700079.jpg  726083.jpg\n",
            "1413972.jpg  199754.jpg   2547797.jpg  3140083.jpg  3704103.jpg  728020.jpg\n",
            "1421393.jpg  2002400.jpg  2548974.jpg  3140147.jpg  3707493.jpg  732986.jpg\n",
            "1428947.jpg  2011264.jpg  2549316.jpg  3142045.jpg  3716881.jpg  734445.jpg\n",
            "1433912.jpg  2012996.jpg  2561199.jpg  3142618.jpg  3724677.jpg  735441.jpg\n",
            "143490.jpg   2013535.jpg  2563233.jpg  3142674.jpg  3727036.jpg  740090.jpg\n",
            "1445352.jpg  2017387.jpg  256592.jpg   3143192.jpg  3727491.jpg  745189.jpg\n",
            "1446401.jpg  2018173.jpg  2568848.jpg  314359.jpg   3736065.jpg  752203.jpg\n",
            "1453991.jpg  2020613.jpg  2573392.jpg  3157832.jpg  37384.jpg\t 75537.jpg\n",
            "1456841.jpg  2032669.jpg  2592401.jpg  3159818.jpg  3743286.jpg  756655.jpg\n",
            "146833.jpg   203450.jpg   2599817.jpg  3162376.jpg  3745515.jpg  762210.jpg\n",
            "1476404.jpg  2034628.jpg  2603058.jpg  3168620.jpg  3750472.jpg  763690.jpg\n",
            "1485083.jpg  2036920.jpg  2606444.jpg  3171085.jpg  3752362.jpg  767442.jpg\n",
            "1487113.jpg  2038418.jpg  2614189.jpg  317206.jpg   3766099.jpg  786409.jpg\n",
            "148916.jpg   2042975.jpg  2614649.jpg  3173444.jpg  3770370.jpg  80215.jpg\n",
            "149087.jpg   2045647.jpg  2615718.jpg  3180182.jpg  377190.jpg\t 802348.jpg\n",
            "1493169.jpg  2050584.jpg  2619625.jpg  31881.jpg    3777020.jpg  804684.jpg\n",
            "149682.jpg   2052542.jpg  2622140.jpg  3191589.jpg  3777482.jpg  812163.jpg\n",
            "1508094.jpg  2056627.jpg  262321.jpg   3204977.jpg  3781152.jpg  813486.jpg\n",
            "1512226.jpg  2062248.jpg  2625330.jpg  320658.jpg   3787809.jpg  819027.jpg\n",
            "1512347.jpg  2081995.jpg  2628106.jpg  3209173.jpg  3788729.jpg  822550.jpg\n",
            "1524526.jpg  2087958.jpg  2629750.jpg  3223400.jpg  3790962.jpg  823766.jpg\n",
            "1530833.jpg  2088030.jpg  2643906.jpg  3223601.jpg  3792514.jpg  827764.jpg\n",
            "1539499.jpg  2088195.jpg  2644457.jpg  3241894.jpg  379737.jpg\t 830007.jpg\n",
            "1541672.jpg  2090493.jpg  2648423.jpg  3245533.jpg  3807440.jpg  838344.jpg\n",
            "1548239.jpg  2090504.jpg  2651300.jpg  3245622.jpg  381162.jpg\t 853327.jpg\n",
            "1550997.jpg  2125877.jpg  2653594.jpg  3247009.jpg  3812039.jpg  854150.jpg\n",
            "1552530.jpg  2129685.jpg  2661577.jpg  3253588.jpg  3829392.jpg  864997.jpg\n",
            "15580.jpg    2133717.jpg  2668916.jpg  3260624.jpg  3830872.jpg  885571.jpg\n",
            "1559052.jpg  2136662.jpg  268444.jpg   326587.jpg   38442.jpg\t 907107.jpg\n",
            "1563266.jpg  213765.jpg   2691461.jpg  32693.jpg    3855584.jpg  908261.jpg\n",
            "1567554.jpg  2138335.jpg  2706403.jpg  3271253.jpg  3857508.jpg  910672.jpg\n",
            "1575322.jpg  2140776.jpg  270687.jpg   3274423.jpg  386335.jpg\t 911803.jpg\n",
            "1588879.jpg  214320.jpg   2707522.jpg  3280453.jpg  3867460.jpg  91432.jpg\n",
            "1594719.jpg  2146963.jpg  2711806.jpg  3298495.jpg  3868959.jpg  914570.jpg\n",
            "1595869.jpg  215222.jpg   2716993.jpg  330182.jpg   3869679.jpg  922752.jpg\n",
            "1598345.jpg  2154126.jpg  2724554.jpg  3306627.jpg  388776.jpg\t 923772.jpg\n",
            "1598885.jpg  2154779.jpg  2738227.jpg  3315727.jpg  3890465.jpg  926414.jpg\n",
            "1600179.jpg  2159975.jpg  2748917.jpg  331860.jpg   3894222.jpg  931356.jpg\n",
            "1600794.jpg  2163079.jpg  2760475.jpg  332232.jpg   3895825.jpg  937133.jpg\n",
            "160552.jpg   217250.jpg   2761427.jpg  3322909.jpg  389739.jpg\t 945791.jpg\n",
            "1606596.jpg  2172600.jpg  2765887.jpg  332557.jpg   3916407.jpg  947877.jpg\n",
            "1615395.jpg  2173084.jpg  2768451.jpg  3326734.jpg  393349.jpg\t 952407.jpg\n",
            "1618011.jpg  217996.jpg   2771149.jpg  3330642.jpg  393494.jpg\t 952437.jpg\n",
            "1619357.jpg  2193684.jpg  2779040.jpg  3333128.jpg  398288.jpg\t 955466.jpg\n",
            "1621763.jpg  220341.jpg   2788312.jpg  3333735.jpg  40094.jpg\t 9555.jpg\n",
            "1623325.jpg  22080.jpg\t  2788759.jpg  3334973.jpg  401094.jpg\t 961341.jpg\n",
            "1624450.jpg  2216146.jpg  2796102.jpg  3335013.jpg  401144.jpg\t 97656.jpg\n",
            "1624747.jpg  2222018.jpg  280284.jpg   3335267.jpg  401651.jpg\t 979110.jpg\n",
            "1628861.jpg  2223787.jpg  2807888.jpg  3346787.jpg  405173.jpg\t 980247.jpg\n",
            "1632774.jpg  2230959.jpg  2815172.jpg  3364420.jpg  405794.jpg\t 982988.jpg\n",
            "1636831.jpg  2232310.jpg  2818805.jpg  336637.jpg   40762.jpg\t 987732.jpg\n",
            "1645470.jpg  2233395.jpg  2823872.jpg  3372616.jpg  413325.jpg\t 996684.jpg\n"
          ]
        }
      ]
    },
    {
      "cell_type": "code",
      "metadata": {
        "colab": {
          "base_uri": "https://localhost:8080/"
        },
        "id": "FC0cOFca9QEB",
        "outputId": "cea86f88-b048-46f3-abcc-5c6de135f290"
      },
      "source": [
        "import os\n",
        "\n",
        "# Walk through pizza_steak directory and list number of files\n",
        "for dirpath, dirnames, filenames in os.walk(\"pizza_steak\"):\n",
        "  print(f\"There are {len(dirnames)} directories and {len(filenames)} images in '{dirpath}'.\")"
      ],
      "execution_count": 10,
      "outputs": [
        {
          "output_type": "stream",
          "name": "stdout",
          "text": [
            "There are 2 directories and 1 images in 'pizza_steak'.\n",
            "There are 2 directories and 1 images in 'pizza_steak/train'.\n",
            "There are 0 directories and 750 images in 'pizza_steak/train/pizza'.\n",
            "There are 0 directories and 750 images in 'pizza_steak/train/steak'.\n",
            "There are 2 directories and 1 images in 'pizza_steak/test'.\n",
            "There are 0 directories and 250 images in 'pizza_steak/test/pizza'.\n",
            "There are 0 directories and 250 images in 'pizza_steak/test/steak'.\n"
          ]
        }
      ]
    },
    {
      "cell_type": "code",
      "metadata": {
        "colab": {
          "base_uri": "https://localhost:8080/"
        },
        "id": "Mh38dIVR-Z8P",
        "outputId": "a59b2025-7e50-42bb-91fe-d170d567282e"
      },
      "source": [
        "# The extra file in the pizza_steak directory is \".DS_Store\"\n",
        "!ls -la pizza_steak"
      ],
      "execution_count": 11,
      "outputs": [
        {
          "output_type": "stream",
          "name": "stdout",
          "text": [
            "total 24\n",
            "drwxr-xr-x 4 root root 4096 Nov 18 11:38 .\n",
            "drwxr-xr-x 1 root root 4096 Nov 18 11:38 ..\n",
            "-rw-r--r-- 1 root root 6148 Nov 18 11:38 .DS_Store\n",
            "drwxr-xr-x 4 root root 4096 Nov 18 11:38 test\n",
            "drwxr-xr-x 4 root root 4096 Nov 18 11:38 train\n"
          ]
        }
      ]
    },
    {
      "cell_type": "code",
      "metadata": {
        "colab": {
          "base_uri": "https://localhost:8080/"
        },
        "id": "H-i51UNb-qu_",
        "outputId": "bde6d8a8-971c-46e3-c5ba-e79adaa9c37d"
      },
      "source": [
        "# Another way to find out how many images are in a file\n",
        "num_steak_images_train = len(os.listdir(\"pizza_steak/train/steak\"))\n",
        "\n",
        "num_steak_images_train"
      ],
      "execution_count": 7,
      "outputs": [
        {
          "output_type": "execute_result",
          "data": {
            "text/plain": [
              "750"
            ]
          },
          "metadata": {},
          "execution_count": 7
        }
      ]
    },
    {
      "cell_type": "markdown",
      "metadata": {
        "id": "GMieuq2d_087"
      },
      "source": [
        "To visualise the images, first let us get the class names programmatically."
      ]
    },
    {
      "cell_type": "code",
      "metadata": {
        "colab": {
          "base_uri": "https://localhost:8080/"
        },
        "id": "qTTWF47JAEwU",
        "outputId": "4fd56461-996b-437b-8dd2-a4dcd2eebf48"
      },
      "source": [
        "# Get the classnames programmatically\n",
        "\n",
        "import pathlib\n",
        "import numpy as np\n",
        "\n",
        "data_dir = pathlib.Path(\"pizza_steak/train\")\n",
        "\n",
        "class_names = np.array(sorted([item.name for item in data_dir.glob(\"*\")])) # Craeted a list of classnames from the subdirectories\n",
        "\n",
        "print(class_names)"
      ],
      "execution_count": 7,
      "outputs": [
        {
          "output_type": "stream",
          "name": "stdout",
          "text": [
            "[]\n"
          ]
        }
      ]
    },
    {
      "cell_type": "code",
      "metadata": {
        "colab": {
          "base_uri": "https://localhost:8080/"
        },
        "id": "frCCHtzzBSC0",
        "outputId": "9987bbeb-2b2f-4461-9f8e-0d37d1adeaf9"
      },
      "source": [
        "import pathlib\n",
        "import numpy as np\n",
        "\n",
        "data_dir = pathlib.Path(\"pizza_steak/train\")\n",
        "\n",
        "class_names = np.array(sorted([item.name for item in data_dir.glob(\"*\")])) # Craeted a list of classnames from the subdirectories\n",
        "class_names = class_names[1:]\n",
        "print(class_names)"
      ],
      "execution_count": 8,
      "outputs": [
        {
          "output_type": "stream",
          "name": "stdout",
          "text": [
            "[]\n"
          ]
        }
      ]
    },
    {
      "cell_type": "markdown",
      "metadata": {
        "id": "sLTq7X_jBeMp"
      },
      "source": [
        "\n",
        "\n",
        "Visualise our images."
      ]
    },
    {
      "cell_type": "code",
      "metadata": {
        "id": "1lLfytTRBqjJ"
      },
      "source": [
        "import matplotlib.pyplot as plt\n",
        "import matplotlib.image as mping\n",
        "import random\n",
        "\n",
        "\n",
        "def view_random_image(target_dir, target_class):\n",
        "  # Set up the target directory (we will view the images from here)\n",
        "  target_folder = target_dir+target_class\n",
        "\n",
        "  # Get a random image path\n",
        "  random_image = random.sample(os.listdir(target_folder), 1) \n",
        "  print(random_image)\n",
        "\n",
        "  # Read in the image using matplotlib\n",
        "  img = mping.imread(target_folder + \"/\" + random_image[0])\n",
        "  plt.imshow(img)\n",
        "  plt.title(target_class)\n",
        "  plt.axis(\"off\");\n",
        "\n",
        "\n",
        "  print(f\"Image shape: {img.shape}\") # Show the shape of the image\n",
        "\n",
        "  return img"
      ],
      "execution_count": 5,
      "outputs": []
    },
    {
      "cell_type": "markdown",
      "metadata": {
        "id": "N2DfZanEDubk"
      },
      "source": [
        "View a random image from the training set"
      ]
    },
    {
      "cell_type": "code",
      "metadata": {
        "colab": {
          "base_uri": "https://localhost:8080/",
          "height": 286
        },
        "id": "FDA-uvzzD4wJ",
        "outputId": "d11e8fba-a4cb-47ae-9dab-d6e672ac6d1e"
      },
      "source": [
        "img = view_random_image(target_dir=\"pizza_steak/train/\", target_class=\"steak\")"
      ],
      "execution_count": 6,
      "outputs": [
        {
          "output_type": "error",
          "ename": "NameError",
          "evalue": "ignored",
          "traceback": [
            "\u001b[0;31m---------------------------------------------------------------------------\u001b[0m",
            "\u001b[0;31mNameError\u001b[0m                                 Traceback (most recent call last)",
            "\u001b[0;32m<ipython-input-6-56359c4dbe75>\u001b[0m in \u001b[0;36m<module>\u001b[0;34m()\u001b[0m\n\u001b[0;32m----> 1\u001b[0;31m \u001b[0mimg\u001b[0m \u001b[0;34m=\u001b[0m \u001b[0mview_random_image\u001b[0m\u001b[0;34m(\u001b[0m\u001b[0mtarget_dir\u001b[0m\u001b[0;34m=\u001b[0m\u001b[0;34m\"pizza_steak/train/\"\u001b[0m\u001b[0;34m,\u001b[0m \u001b[0mtarget_class\u001b[0m\u001b[0;34m=\u001b[0m\u001b[0;34m\"steak\"\u001b[0m\u001b[0;34m)\u001b[0m\u001b[0;34m\u001b[0m\u001b[0;34m\u001b[0m\u001b[0m\n\u001b[0m",
            "\u001b[0;32m<ipython-input-5-6b19d571cf72>\u001b[0m in \u001b[0;36mview_random_image\u001b[0;34m(target_dir, target_class)\u001b[0m\n\u001b[1;32m      9\u001b[0m \u001b[0;34m\u001b[0m\u001b[0m\n\u001b[1;32m     10\u001b[0m   \u001b[0;31m# Get a random image path\u001b[0m\u001b[0;34m\u001b[0m\u001b[0;34m\u001b[0m\u001b[0;34m\u001b[0m\u001b[0m\n\u001b[0;32m---> 11\u001b[0;31m   \u001b[0mrandom_image\u001b[0m \u001b[0;34m=\u001b[0m \u001b[0mrandom\u001b[0m\u001b[0;34m.\u001b[0m\u001b[0msample\u001b[0m\u001b[0;34m(\u001b[0m\u001b[0mos\u001b[0m\u001b[0;34m.\u001b[0m\u001b[0mlistdir\u001b[0m\u001b[0;34m(\u001b[0m\u001b[0mtarget_folder\u001b[0m\u001b[0;34m)\u001b[0m\u001b[0;34m,\u001b[0m \u001b[0;36m1\u001b[0m\u001b[0;34m)\u001b[0m\u001b[0;34m\u001b[0m\u001b[0;34m\u001b[0m\u001b[0m\n\u001b[0m\u001b[1;32m     12\u001b[0m   \u001b[0mprint\u001b[0m\u001b[0;34m(\u001b[0m\u001b[0mrandom_image\u001b[0m\u001b[0;34m)\u001b[0m\u001b[0;34m\u001b[0m\u001b[0;34m\u001b[0m\u001b[0m\n\u001b[1;32m     13\u001b[0m \u001b[0;34m\u001b[0m\u001b[0m\n",
            "\u001b[0;31mNameError\u001b[0m: name 'os' is not defined"
          ]
        }
      ]
    },
    {
      "cell_type": "code",
      "metadata": {
        "colab": {
          "base_uri": "https://localhost:8080/",
          "height": 298
        },
        "id": "QU9hrIHoEI1L",
        "outputId": "dee713eb-7fa0-444c-d495-c967f61db608"
      },
      "source": [
        "img = view_random_image(target_dir=\"pizza_steak/train/\", target_class=\"pizza\")"
      ],
      "execution_count": 12,
      "outputs": [
        {
          "output_type": "stream",
          "name": "stdout",
          "text": [
            "['282013.jpg']\n",
            "Image shape: (512, 382, 3)\n"
          ]
        },
        {
          "output_type": "display_data",
          "data": {
            "image/png": "[encoded data removed]",
            "text/plain": [
              "<Figure size 432x288 with 1 Axes>"
            ]
          },
          "metadata": {
            "needs_background": "light"
          }
        }
      ]
    },
    {
      "cell_type": "code",
      "metadata": {
        "colab": {
          "base_uri": "https://localhost:8080/"
        },
        "id": "CpdFs1xQEsbg",
        "outputId": "8bb5b3e0-01f7-41e6-ee69-0de0599d9485"
      },
      "source": [
        "img.dtype"
      ],
      "execution_count": 13,
      "outputs": [
        {
          "output_type": "execute_result",
          "data": {
            "text/plain": [
              "dtype('uint8')"
            ]
          },
          "metadata": {},
          "execution_count": 13
        }
      ]
    },
    {
      "cell_type": "code",
      "metadata": {
        "colab": {
          "base_uri": "https://localhost:8080/"
        },
        "id": "brQx6JBQE6CA",
        "outputId": "2bedfb7d-5184-44f4-ce35-c0f13143e7ac"
      },
      "source": [
        "import tensorflow as tf\n",
        "tf.constant(img)"
      ],
      "execution_count": 14,
      "outputs": [
        {
          "output_type": "execute_result",
          "data": {
            "text/plain": [
              "<tf.Tensor: shape=(512, 382, 3), dtype=uint8, numpy=\n",
              "array([[[180,  61,   3],\n",
              "        [183,  64,   6],\n",
              "        [187,  67,   7],\n",
              "        ...,\n",
              "        [157,  38,   6],\n",
              "        [157,  38,   6],\n",
              "        [157,  38,   6]],\n",
              "\n",
              "       [[185,  66,   8],\n",
              "        [185,  66,   8],\n",
              "        [187,  67,   7],\n",
              "        ...,\n",
              "        [155,  36,   4],\n",
              "        [155,  36,   4],\n",
              "        [156,  37,   5]],\n",
              "\n",
              "       [[188,  69,  11],\n",
              "        [187,  68,  10],\n",
              "        [186,  66,   6],\n",
              "        ...,\n",
              "        [156,  36,   2],\n",
              "        [157,  37,   3],\n",
              "        [158,  38,   4]],\n",
              "\n",
              "       ...,\n",
              "\n",
              "       [[147,  48,   9],\n",
              "        [145,  46,   7],\n",
              "        [142,  43,   2],\n",
              "        ...,\n",
              "        [177,  71,  29],\n",
              "        [178,  72,  30],\n",
              "        [179,  73,  31]],\n",
              "\n",
              "       [[149,  51,  12],\n",
              "        [146,  48,   9],\n",
              "        [143,  44,   3],\n",
              "        ...,\n",
              "        [177,  71,  29],\n",
              "        [177,  71,  29],\n",
              "        [176,  70,  28]],\n",
              "\n",
              "       [[150,  52,  13],\n",
              "        [146,  48,   9],\n",
              "        [141,  43,   4],\n",
              "        ...,\n",
              "        [176,  70,  28],\n",
              "        [172,  66,  24],\n",
              "        [169,  63,  21]]], dtype=uint8)>"
            ]
          },
          "metadata": {},
          "execution_count": 14
        }
      ]
    },
    {
      "cell_type": "code",
      "metadata": {
        "colab": {
          "base_uri": "https://localhost:8080/"
        },
        "id": "K2xbH-Q7FC-p",
        "outputId": "450f67e7-8c4b-4058-9cee-3f8181c44c0e"
      },
      "source": [
        "# View the image shape\n",
        "\n",
        "img.shape # returns width, height, colour channels"
      ],
      "execution_count": 15,
      "outputs": [
        {
          "output_type": "execute_result",
          "data": {
            "text/plain": [
              "(512, 382, 3)"
            ]
          },
          "metadata": {},
          "execution_count": 15
        }
      ]
    },
    {
      "cell_type": "markdown",
      "metadata": {
        "id": "CR6HS-seJ27b"
      },
      "source": [
        "🔑 **Note:** 🔑 Many machine learning models, including neural networks prefer the values they work with to be 0 & 1. Knowing this, one of the most common preprocessing steps for working with images is to **scale** (also referred to as **normalisation**) the pixel values by dividing the image arrays by 255 (since 255 is the maximum pixel value)."
      ]
    },
    {
      "cell_type": "code",
      "metadata": {
        "colab": {
          "base_uri": "https://localhost:8080/"
        },
        "id": "8DBXXM9JH3g9",
        "outputId": "0aae3495-29e0-4461-9e98-d519cf94a43e"
      },
      "source": [
        "# Get all the pixel values between 0 & 1\n",
        "img/255."
      ],
      "execution_count": 16,
      "outputs": [
        {
          "output_type": "execute_result",
          "data": {
            "text/plain": [
              "array([[[0.70588235, 0.23921569, 0.01176471],\n",
              "        [0.71764706, 0.25098039, 0.02352941],\n",
              "        [0.73333333, 0.2627451 , 0.02745098],\n",
              "        ...,\n",
              "        [0.61568627, 0.14901961, 0.02352941],\n",
              "        [0.61568627, 0.14901961, 0.02352941],\n",
              "        [0.61568627, 0.14901961, 0.02352941]],\n",
              "\n",
              "       [[0.7254902 , 0.25882353, 0.03137255],\n",
              "        [0.7254902 , 0.25882353, 0.03137255],\n",
              "        [0.73333333, 0.2627451 , 0.02745098],\n",
              "        ...,\n",
              "        [0.60784314, 0.14117647, 0.01568627],\n",
              "        [0.60784314, 0.14117647, 0.01568627],\n",
              "        [0.61176471, 0.14509804, 0.01960784]],\n",
              "\n",
              "       [[0.7372549 , 0.27058824, 0.04313725],\n",
              "        [0.73333333, 0.26666667, 0.03921569],\n",
              "        [0.72941176, 0.25882353, 0.02352941],\n",
              "        ...,\n",
              "        [0.61176471, 0.14117647, 0.00784314],\n",
              "        [0.61568627, 0.14509804, 0.01176471],\n",
              "        [0.61960784, 0.14901961, 0.01568627]],\n",
              "\n",
              "       ...,\n",
              "\n",
              "       [[0.57647059, 0.18823529, 0.03529412],\n",
              "        [0.56862745, 0.18039216, 0.02745098],\n",
              "        [0.55686275, 0.16862745, 0.00784314],\n",
              "        ...,\n",
              "        [0.69411765, 0.27843137, 0.11372549],\n",
              "        [0.69803922, 0.28235294, 0.11764706],\n",
              "        [0.70196078, 0.28627451, 0.12156863]],\n",
              "\n",
              "       [[0.58431373, 0.2       , 0.04705882],\n",
              "        [0.57254902, 0.18823529, 0.03529412],\n",
              "        [0.56078431, 0.17254902, 0.01176471],\n",
              "        ...,\n",
              "        [0.69411765, 0.27843137, 0.11372549],\n",
              "        [0.69411765, 0.27843137, 0.11372549],\n",
              "        [0.69019608, 0.2745098 , 0.10980392]],\n",
              "\n",
              "       [[0.58823529, 0.20392157, 0.05098039],\n",
              "        [0.57254902, 0.18823529, 0.03529412],\n",
              "        [0.55294118, 0.16862745, 0.01568627],\n",
              "        ...,\n",
              "        [0.69019608, 0.2745098 , 0.10980392],\n",
              "        [0.6745098 , 0.25882353, 0.09411765],\n",
              "        [0.6627451 , 0.24705882, 0.08235294]]])"
            ]
          },
          "metadata": {},
          "execution_count": 16
        }
      ]
    },
    {
      "cell_type": "markdown",
      "metadata": {
        "id": "DLF625qTJUA5"
      },
      "source": [
        "## An end-to-end example.\n",
        "\n",
        "\n",
        "We will build a convolutional neural network to find patterns in our images, more specifically we need a way to: \n",
        "* Load the images\n",
        "* Preprocess the images \n",
        "* Build a CNN to find patterns in our images\n",
        "* Compile the CNN \n",
        "* Fit the CNN to the training data "
      ]
    },
    {
      "cell_type": "code",
      "metadata": {
        "id": "t-vqOmAzMFea"
      },
      "source": [
        "import tensorflow as tf\n",
        "from tensorflow.keras.preprocessing.image import ImageDataGenerator"
      ],
      "execution_count": 4,
      "outputs": []
    },
    {
      "cell_type": "code",
      "metadata": {
        "colab": {
          "base_uri": "https://localhost:8080/"
        },
        "id": "UoA2KHNpMlUn",
        "outputId": "3084e8fa-0084-4633-da4a-5f161a071061"
      },
      "source": [
        "# Set the seed \n",
        "tf.random.set_seed(42)\n",
        "\n",
        "# Preprocess data (get all the pixel values between 0 and 1, also called scaling/normalisation)\n",
        "train_datagen = ImageDataGenerator(rescale=1./255)\n",
        "valid_datagen = ImageDataGenerator(rescale=1./255)\n",
        "\n",
        "# Set up paths to the directories \n",
        "train_dir = \"/content/pizza_steak/train\"\n",
        "test_dir = \"pizza_steak/test\"\n",
        "\n",
        "# Import data from directories and turn it into batches\n",
        "train_data = train_datagen.flow_from_directory(directory=train_dir,\n",
        "                                               batch_size=32,\n",
        "                                               target_size=(244, 244),\n",
        "                                               class_mode=\"binary\",\n",
        "                                               seed=42)\n",
        "\n",
        "valid_data = valid_datagen.flow_from_directory(directory=test_dir,\n",
        "                                               batch_size=32,\n",
        "                                               target_size=(244, 244),\n",
        "                                               class_mode=\"binary\",\n",
        "                                               seed=42)\n",
        "\n",
        "# Build a CNN model (This is the same model as the Tiny VGG on the CNN explainer website)\n",
        "model_1 = tf.keras.Sequential([\n",
        "  tf.keras.layers.Conv2D(filters=10,\n",
        "                         kernel_size=3,\n",
        "                         activation=\"relu\",\n",
        "                         input_shape=(244, 244, 3)),\n",
        "  tf.keras.layers.Conv2D(10, 3, activation=\"relu\"),\n",
        "  tf.keras.layers.MaxPool2D(pool_size=2, padding=\"valid\"),\n",
        "  tf.keras.layers.Conv2D(10, 3, activation=\"relu\"),\n",
        "  tf.keras.layers.Conv2D(10, 3, activation=\"relu\"),\n",
        "  tf.keras.layers.MaxPool2D(2),\n",
        "  tf.keras.layers.Flatten(),\n",
        "  tf.keras.layers.Dense(1, activation=\"sigmoid\")\n",
        "])\n",
        "\n",
        "# Compile the CNN \n",
        "model_1.compile(loss=\"binary_crossentropy\",\n",
        "                optimizer=tf.keras.optimizers.Adam(),\n",
        "                metrics=[\"accuracy\"])\n",
        "\n",
        "# Fit the model \n",
        "history_1 = model_1.fit(train_data,\n",
        "                        epochs=5,\n",
        "                        steps_per_epoch=len(train_data),\n",
        "                        validation_data=valid_data,\n",
        "                        validation_steps=len(valid_data))"
      ],
      "execution_count": 18,
      "outputs": [
        {
          "output_type": "stream",
          "name": "stdout",
          "text": [
            "Found 1500 images belonging to 2 classes.\n",
            "Found 500 images belonging to 2 classes.\n",
            "Epoch 1/5\n",
            "47/47 [==============================] - 43s 267ms/step - loss: 0.5502 - accuracy: 0.7327 - val_loss: 0.3619 - val_accuracy: 0.8600\n",
            "Epoch 2/5\n",
            "47/47 [==============================] - 11s 244ms/step - loss: 0.4328 - accuracy: 0.8147 - val_loss: 0.4186 - val_accuracy: 0.7920\n",
            "Epoch 3/5\n",
            "47/47 [==============================] - 11s 243ms/step - loss: 0.4205 - accuracy: 0.8200 - val_loss: 0.3192 - val_accuracy: 0.8820\n",
            "Epoch 4/5\n",
            "47/47 [==============================] - 11s 241ms/step - loss: 0.3693 - accuracy: 0.8420 - val_loss: 0.3076 - val_accuracy: 0.8680\n",
            "Epoch 5/5\n",
            "47/47 [==============================] - 12s 248ms/step - loss: 0.3074 - accuracy: 0.8813 - val_loss: 0.2887 - val_accuracy: 0.8700\n"
          ]
        }
      ]
    },
    {
      "cell_type": "markdown",
      "metadata": {
        "id": "nP5SwcE6XJs3"
      },
      "source": [
        "🔑 **Note:** 🔑 If the above cell is taking longer than ~1 minute per epoch, make sure that you are using a GPU by going to Runtime -> Change Runtime type -> Hardware Accelarator -> GPU.\n",
        "(You may have to rerun the cells above). "
      ]
    },
    {
      "cell_type": "code",
      "metadata": {
        "id": "e9Zr_VatNJoa"
      },
      "source": [
        "# Without a GPU\n",
        "# 47/47 [==============================] - 126s 3s/step - loss: 0.5639 - accuracy: 0.7193 - val_loss: 0.4292 - val_accuracy: 0.8400"
      ],
      "execution_count": 19,
      "outputs": []
    },
    {
      "cell_type": "code",
      "metadata": {
        "colab": {
          "base_uri": "https://localhost:8080/"
        },
        "id": "omPANgPRY7PH",
        "outputId": "bc27110d-9937-49c2-85c3-aff4db9a5572"
      },
      "source": [
        "model_1.summary()"
      ],
      "execution_count": 20,
      "outputs": [
        {
          "output_type": "stream",
          "name": "stdout",
          "text": [
            "Model: \"sequential\"\n",
            "_________________________________________________________________\n",
            " Layer (type)                Output Shape              Param #   \n",
            "=================================================================\n",
            " conv2d (Conv2D)             (None, 242, 242, 10)      280       \n",
            "                                                                 \n",
            " conv2d_1 (Conv2D)           (None, 240, 240, 10)      910       \n",
            "                                                                 \n",
            " max_pooling2d (MaxPooling2D  (None, 120, 120, 10)     0         \n",
            " )                                                               \n",
            "                                                                 \n",
            " conv2d_2 (Conv2D)           (None, 118, 118, 10)      910       \n",
            "                                                                 \n",
            " conv2d_3 (Conv2D)           (None, 116, 116, 10)      910       \n",
            "                                                                 \n",
            " max_pooling2d_1 (MaxPooling  (None, 58, 58, 10)       0         \n",
            " 2D)                                                             \n",
            "                                                                 \n",
            " flatten (Flatten)           (None, 33640)             0         \n",
            "                                                                 \n",
            " dense (Dense)               (None, 1)                 33641     \n",
            "                                                                 \n",
            "=================================================================\n",
            "Total params: 36,651\n",
            "Trainable params: 36,651\n",
            "Non-trainable params: 0\n",
            "_________________________________________________________________\n"
          ]
        }
      ]
    },
    {
      "cell_type": "markdown",
      "metadata": {
        "id": "SlwNAqbgY9iz"
      },
      "source": [
        "## Using the same model as before\n",
        "\n",
        "---\n",
        "\n",
        "Replicate the model built in a previous section, to see if it will work with image data.\n",
        "\n",
        "The model we will build is from the [TensorFlow playground]('https://playground.tensorflow.org/#activation=relu&batchSize=30&dataset=gauss&regDataset=reg-plane&learningRate=0.0001&regularizationRate=0&noise=0&networkShape=5,6,6,2&seed=0.34082&showTestData=true&discretize=false&percTrainData=80&x=true&y=true&xTimesY=false&xSquared=false&ySquared=false&cosX=false&sinX=false&cosY=false&sinY=false&collectStats=false&problem=classification&initZero=false&hideText=false')."
      ]
    },
    {
      "cell_type": "code",
      "metadata": {
        "colab": {
          "base_uri": "https://localhost:8080/"
        },
        "id": "jnPiWgGjnu1l",
        "outputId": "bb8465f5-7d74-4e44-9e4e-a0c269e9f931"
      },
      "source": [
        "# Set random seed\n",
        "tf.random.set_seed(42)\n",
        "\n",
        "# Create a model to replicate the TensorFlow Playground model\n",
        "model_2 = tf.keras.Sequential([\n",
        "  tf.keras.layers.Flatten(), # dense layers expect a 1-dimensional vector as input\n",
        "  tf.keras.layers.Dense(4, activation='relu'),\n",
        "  tf.keras.layers.Dense(4, activation='relu'),\n",
        "  tf.keras.layers.Dense(1, activation='sigmoid')\n",
        "])\n",
        "\n",
        "# Compile the model\n",
        "model_2.compile(loss='binary_crossentropy',\n",
        "              optimizer=tf.keras.optimizers.Adam(),\n",
        "              metrics=[\"accuracy\"])\n",
        "\n",
        "# Fit the model\n",
        "history_2 = model_2.fit(train_data, # use same training data created above\n",
        "                        epochs=5,\n",
        "                        steps_per_epoch=len(train_data),\n",
        "                        validation_data=valid_data, # use same validation data created above\n",
        "                        validation_steps=len(valid_data))"
      ],
      "execution_count": 21,
      "outputs": [
        {
          "output_type": "stream",
          "name": "stdout",
          "text": [
            "Epoch 1/5\n",
            "47/47 [==============================] - 11s 220ms/step - loss: 1.8740 - accuracy: 0.4900 - val_loss: 0.6932 - val_accuracy: 0.5000\n",
            "Epoch 2/5\n",
            "47/47 [==============================] - 10s 214ms/step - loss: 0.6932 - accuracy: 0.5000 - val_loss: 0.6932 - val_accuracy: 0.5000\n",
            "Epoch 3/5\n",
            "47/47 [==============================] - 10s 215ms/step - loss: 0.6932 - accuracy: 0.5000 - val_loss: 0.6932 - val_accuracy: 0.5000\n",
            "Epoch 4/5\n",
            "47/47 [==============================] - 10s 216ms/step - loss: 0.6932 - accuracy: 0.5000 - val_loss: 0.6932 - val_accuracy: 0.5000\n",
            "Epoch 5/5\n",
            "47/47 [==============================] - 10s 218ms/step - loss: 0.6932 - accuracy: 0.5000 - val_loss: 0.6932 - val_accuracy: 0.5000\n"
          ]
        }
      ]
    },
    {
      "cell_type": "code",
      "metadata": {
        "id": "GfZBLUONt7rg",
        "colab": {
          "base_uri": "https://localhost:8080/"
        },
        "outputId": "6c72f25f-3617-4175-9e36-3513c4e3c02f"
      },
      "source": [
        "model_2.summary()"
      ],
      "execution_count": 22,
      "outputs": [
        {
          "output_type": "stream",
          "name": "stdout",
          "text": [
            "Model: \"sequential_1\"\n",
            "_________________________________________________________________\n",
            " Layer (type)                Output Shape              Param #   \n",
            "=================================================================\n",
            " flatten_1 (Flatten)         (None, None)              0         \n",
            "                                                                 \n",
            " dense_1 (Dense)             (None, 4)                 714436    \n",
            "                                                                 \n",
            " dense_2 (Dense)             (None, 4)                 20        \n",
            "                                                                 \n",
            " dense_3 (Dense)             (None, 1)                 5         \n",
            "                                                                 \n",
            "=================================================================\n",
            "Total params: 714,461\n",
            "Trainable params: 714,461\n",
            "Non-trainable params: 0\n",
            "_________________________________________________________________\n"
          ]
        }
      ]
    },
    {
      "cell_type": "code",
      "metadata": {
        "colab": {
          "base_uri": "https://localhost:8080/"
        },
        "id": "bcn7PPmgCur6",
        "outputId": "f2e92273-04dc-400e-e71b-fcf24fb0b675"
      },
      "source": [
        "train_data"
      ],
      "execution_count": 23,
      "outputs": [
        {
          "output_type": "execute_result",
          "data": {
            "text/plain": [
              "<keras.preprocessing.image.DirectoryIterator at 0x7f63a42fe250>"
            ]
          },
          "metadata": {},
          "execution_count": 23
        }
      ]
    },
    {
      "cell_type": "markdown",
      "metadata": {
        "id": "IYQbSoTHES_X"
      },
      "source": [
        "Despite having more than 20x more parameters than our CNN (model_1), model_2 performs terribly"
      ]
    },
    {
      "cell_type": "markdown",
      "metadata": {
        "id": "0xFBSLVKFbmU"
      },
      "source": [
        "**model_3**"
      ]
    },
    {
      "cell_type": "code",
      "metadata": {
        "colab": {
          "base_uri": "https://localhost:8080/"
        },
        "id": "6gZi31MyFlTe",
        "outputId": "b3b76c31-e48f-42cd-eae0-42058e58ce34"
      },
      "source": [
        "# set random seed \n",
        "tf.random.set_seed(42)\n",
        "\n",
        "# Create a model (same as the previous model but tweeked)\n",
        "model_3 = tf.keras.Sequential([\n",
        "                  tf.keras.layers.Flatten(),\n",
        "                  tf.keras.layers.Dense(100, activation='relu'),\n",
        "                  tf.keras.layers.Dense(100, activation='relu'),\n",
        "                  tf.keras.layers.Dense(100, activation='relu'),\n",
        "                  tf.keras.layers.Dense(1, activation='sigmoid')\n",
        "])\n",
        "\n",
        "# Compile the model\n",
        "model_3.compile(loss='binary_crossentropy',\n",
        "                optimizer=tf.keras.optimizers.Adam(),\n",
        "                metrics=['accuracy'])\n",
        "\n",
        "# Fit the model \n",
        "history_3 = model_3.fit(train_data,\n",
        "                        epochs=5,\n",
        "                        steps_per_epoch=len(train_data),\n",
        "                        validation_data=valid_data, \n",
        "                        validation_steps=len(valid_data))"
      ],
      "execution_count": 24,
      "outputs": [
        {
          "output_type": "stream",
          "name": "stdout",
          "text": [
            "Epoch 1/5\n",
            "47/47 [==============================] - 11s 226ms/step - loss: 4.0943 - accuracy: 0.5780 - val_loss: 0.8353 - val_accuracy: 0.7060\n",
            "Epoch 2/5\n",
            "47/47 [==============================] - 10s 220ms/step - loss: 0.6794 - accuracy: 0.7227 - val_loss: 0.5501 - val_accuracy: 0.6820\n",
            "Epoch 3/5\n",
            "47/47 [==============================] - 10s 220ms/step - loss: 0.7389 - accuracy: 0.7033 - val_loss: 0.6205 - val_accuracy: 0.7020\n",
            "Epoch 4/5\n",
            "47/47 [==============================] - 10s 217ms/step - loss: 0.5163 - accuracy: 0.7527 - val_loss: 0.4899 - val_accuracy: 0.7520\n",
            "Epoch 5/5\n",
            "47/47 [==============================] - 10s 219ms/step - loss: 0.5006 - accuracy: 0.7633 - val_loss: 0.4488 - val_accuracy: 0.7860\n"
          ]
        }
      ]
    },
    {
      "cell_type": "code",
      "metadata": {
        "colab": {
          "base_uri": "https://localhost:8080/"
        },
        "id": "wtmX0IIQIzIb",
        "outputId": "db258a18-15b4-47f3-8ee5-80c8a4b15519"
      },
      "source": [
        "model_3.summary()"
      ],
      "execution_count": 25,
      "outputs": [
        {
          "output_type": "stream",
          "name": "stdout",
          "text": [
            "Model: \"sequential_2\"\n",
            "_________________________________________________________________\n",
            " Layer (type)                Output Shape              Param #   \n",
            "=================================================================\n",
            " flatten_2 (Flatten)         (None, None)              0         \n",
            "                                                                 \n",
            " dense_4 (Dense)             (None, 100)               17860900  \n",
            "                                                                 \n",
            " dense_5 (Dense)             (None, 100)               10100     \n",
            "                                                                 \n",
            " dense_6 (Dense)             (None, 100)               10100     \n",
            "                                                                 \n",
            " dense_7 (Dense)             (None, 1)                 101       \n",
            "                                                                 \n",
            "=================================================================\n",
            "Total params: 17,881,201\n",
            "Trainable params: 17,881,201\n",
            "Non-trainable params: 0\n",
            "_________________________________________________________________\n"
          ]
        }
      ]
    },
    {
      "cell_type": "code",
      "metadata": {
        "colab": {
          "base_uri": "https://localhost:8080/"
        },
        "id": "gdVEiEzBJ6fZ",
        "outputId": "9778c461-7764-43fb-c1ac-fa7baeb6c0fe"
      },
      "source": [
        "17881201/36651"
      ],
      "execution_count": 26,
      "outputs": [
        {
          "output_type": "execute_result",
          "data": {
            "text/plain": [
              "487.8775749638482"
            ]
          },
          "metadata": {},
          "execution_count": 26
        }
      ]
    },
    {
      "cell_type": "markdown",
      "metadata": {
        "id": "wcFiE9XaK6Tp"
      },
      "source": [
        "`model_3` has nearly 500 times more parameters than `model_1`. However, `model_1` still performs better."
      ]
    },
    {
      "cell_type": "markdown",
      "metadata": {
        "id": "HRFOOnT3LcTZ"
      },
      "source": [
        "🔑 **Note:** 🔑 You may think of a trainable parameter as **patterns a model can learn from data.** Intuitevely, you may think more are better. In a lot of cases, it is. However, in this case, the difference is the two different styles of models that we are using. Where a series of dense layers has a number of different learnable parameters connected to one another and hence a number of possible learning patterns, **a convolutional neural network seeks to sort out and learn the most important patterns in an image.** So even though, there are less learnable parameters in our convolutional neural network, these are often more helpful in dechiphering between different **features** in an image. "
      ]
    },
    {
      "cell_type": "markdown",
      "metadata": {
        "id": "54IJ-nC8eDjI"
      },
      "source": [
        "## Binary classification: Breaking it down."
      ]
    },
    {
      "cell_type": "markdown",
      "metadata": {
        "id": "wJcCxCXBfL4L"
      },
      "source": [
        "\n",
        "\n",
        "---\n",
        "\n",
        "1. Become one with the data (visualise, visualise, visualise).\n",
        "2. Preprocess the data (prepare it for the model, the main step is to scale/normalise and turning the data into batches).\n",
        "3. Create a model (start with a baseline).\n",
        "4. Fit the model.\n",
        "5. Evaluate the model.\n",
        "6. Adjust different parameters and improve the model (try to better the baseline).\n",
        "7. Repeat until satisfied (Experiment, experiment, experiment).\n",
        "\n",
        "\n",
        "\n",
        "---\n",
        "\n",
        "\n",
        "\n",
        "\n",
        "\n",
        "\n"
      ]
    },
    {
      "cell_type": "markdown",
      "metadata": {
        "id": "0vnHcob2gjna"
      },
      "source": [
        "### 1.Become one with the data.\n",
        "\n"
      ]
    },
    {
      "cell_type": "code",
      "metadata": {
        "colab": {
          "base_uri": "https://localhost:8080/",
          "height": 269
        },
        "id": "60W7Pw31g2hk",
        "outputId": "db707ccc-0193-4790-d47c-7f2231ea5913"
      },
      "source": [
        "# Visualise the data\n",
        "\n",
        "plt.figure()\n",
        "plt.subplot(1, 2, 1)\n",
        "steak_img = view_random_image('pizza_steak/train/', 'steak')\n",
        "\n",
        "plt.subplot(1, 2, 2)\n",
        "pizza_img = view_random_image('pizza_steak/train/', 'pizza')\n",
        "\n"
      ],
      "execution_count": 12,
      "outputs": [
        {
          "output_type": "stream",
          "name": "stdout",
          "text": [
            "['2011264.jpg']\n",
            "Image shape: (512, 512, 3)\n",
            "['3207504.jpg']\n",
            "Image shape: (512, 512, 3)\n"
          ]
        },
        {
          "output_type": "display_data",
          "data": {
            "image/png": "[encoded data removed]",
            "text/plain": [
              "<Figure size 432x288 with 2 Axes>"
            ]
          },
          "metadata": {
            "needs_background": "light"
          }
        }
      ]
    },
    {
      "cell_type": "markdown",
      "metadata": {
        "id": "Jvox_n3fh5jW"
      },
      "source": [
        "### 2.Preprocess the data (prepare it for a model)"
      ]
    },
    {
      "cell_type": "code",
      "metadata": {
        "id": "mKXdq477jzwr"
      },
      "source": [
        "# Define the directory dataset paths\n",
        "train_dir = 'pizza_steak/train/'\n",
        "test_dir = 'pizza_steak/test/'"
      ],
      "execution_count": 13,
      "outputs": []
    },
    {
      "cell_type": "markdown",
      "metadata": {
        "id": "yO9iiFkskTZq"
      },
      "source": [
        "The next step is to turn the data into **batches**.\n",
        "\n",
        "A batch is a small subset of data. Rather than look at the full dataset's images all at one time, a model may only look at 32 at one time. \n",
        "\n",
        "It does this for a few reasons:    \n",
        "1. 10,000 images (or more) may not fit in the memory of the processor (GPU)\n",
        "\n",
        "\n",
        "```\n",
        "!nvidia-smi\n",
        "```\n",
        "2. Trying to learn the pattern in 10,000 images in one go, could result in the model not performing/learning very well.\n",
        "\n",
        "**Why 32?**\n",
        "\n",
        "Because 32 is good for your health...\n",
        "[Yann Lecun](https://twitter.com/ylecun/status/989610208497360896?s=20)\n",
        "\n",
        "\n",
        "\n"
      ]
    },
    {
      "cell_type": "code",
      "metadata": {
        "id": "QIqxJNB3kgBD"
      },
      "source": [
        "# Create train and test data generators and rescale the data\n",
        "from tensorflow.keras.preprocessing.image import ImageDataGenerator\n",
        "\n",
        "train_datagen = ImageDataGenerator(rescale=1/255.)\n",
        "test_datagen = ImageDataGenerator(rescale=1/255.)"
      ],
      "execution_count": 14,
      "outputs": []
    },
    {
      "cell_type": "markdown",
      "metadata": {
        "id": "RC6MU_xeov9s"
      },
      "source": [
        "[ImageDataGenerator](https://www.tensorflow.org/api_docs/python/tf/keras/preprocessing/image/ImageDataGenerator)\n",
        "\n",
        "\n",
        "\n"
      ]
    },
    {
      "cell_type": "code",
      "metadata": {
        "colab": {
          "base_uri": "https://localhost:8080/"
        },
        "id": "ibbcj7WKo3pF",
        "outputId": "db7f46b6-3a0d-455f-bda4-8b469888e12a"
      },
      "source": [
        "# Load in the image data from directories and turn them into batches\n",
        "train_data = train_datagen.flow_from_directory(directory=train_dir,\n",
        "                                               target_size=(244,244),   # Target size of images(height, width)\n",
        "                                               class_mode='binary',     # Type of data you are working with\n",
        "                                               batch_size=32)           # Size of minibatches to load data into.\n",
        "\n",
        "test_data = test_datagen.flow_from_directory(test_dir,\n",
        "                                             target_size=(244,244),\n",
        "                                             class_mode='binary',\n",
        "                                             batch_size=32)"
      ],
      "execution_count": 15,
      "outputs": [
        {
          "output_type": "stream",
          "name": "stdout",
          "text": [
            "Found 1500 images belonging to 2 classes.\n",
            "Found 500 images belonging to 2 classes.\n"
          ]
        }
      ]
    },
    {
      "cell_type": "markdown",
      "metadata": {
        "id": "Swut8ptBq6LJ"
      },
      "source": [
        "Get a sample of train data batch."
      ]
    },
    {
      "cell_type": "code",
      "metadata": {
        "colab": {
          "base_uri": "https://localhost:8080/"
        },
        "id": "hUz3ik0ZbEg-",
        "outputId": "7d82a123-0b8c-4f76-e228-22f2fc1b49f6"
      },
      "source": [
        "images, labels = train_data.next() # get the 'next' batch of images/labels in train data  \n",
        "len(images), len(labels)"
      ],
      "execution_count": 16,
      "outputs": [
        {
          "output_type": "execute_result",
          "data": {
            "text/plain": [
              "(32, 32)"
            ]
          },
          "metadata": {},
          "execution_count": 16
        }
      ]
    },
    {
      "cell_type": "markdown",
      "metadata": {
        "id": "ZSBZvLBhbiw1"
      },
      "source": [
        "How many batches are there?"
      ]
    },
    {
      "cell_type": "code",
      "metadata": {
        "colab": {
          "base_uri": "https://localhost:8080/"
        },
        "id": "zMnM-hqhbvAD",
        "outputId": "2c2569b6-7f13-429c-d427-f8debf698778"
      },
      "source": [
        "len(train_data)"
      ],
      "execution_count": 17,
      "outputs": [
        {
          "output_type": "execute_result",
          "data": {
            "text/plain": [
              "47"
            ]
          },
          "metadata": {},
          "execution_count": 17
        }
      ]
    },
    {
      "cell_type": "code",
      "metadata": {
        "colab": {
          "base_uri": "https://localhost:8080/"
        },
        "id": "xq2dR5H9bxUe",
        "outputId": "3301aafb-c46a-44b2-a232-bdc8fff297aa"
      },
      "source": [
        "1500/32"
      ],
      "execution_count": 18,
      "outputs": [
        {
          "output_type": "execute_result",
          "data": {
            "text/plain": [
              "46.875"
            ]
          },
          "metadata": {},
          "execution_count": 18
        }
      ]
    },
    {
      "cell_type": "markdown",
      "metadata": {
        "id": "KDA5WkKhb8Ev"
      },
      "source": [
        "Get the first two images and the check the shape"
      ]
    },
    {
      "cell_type": "code",
      "metadata": {
        "colab": {
          "base_uri": "https://localhost:8080/"
        },
        "id": "cg9ndXvacNFq",
        "outputId": "eb5cdc3e-669d-44cf-d24b-c9696a160b5e"
      },
      "source": [
        "images[:2], images[0].shape"
      ],
      "execution_count": 19,
      "outputs": [
        {
          "output_type": "execute_result",
          "data": {
            "text/plain": [
              "(array([[[[0.10980393, 0.10980393, 0.07058824],\n",
              "          [0.03529412, 0.03529412, 0.00392157],\n",
              "          [0.10196079, 0.10588236, 0.08235294],\n",
              "          ...,\n",
              "          [0.25882354, 0.32941177, 0.37647063],\n",
              "          [0.19215688, 0.2627451 , 0.31764707],\n",
              "          [0.18823531, 0.2627451 , 0.32156864]],\n",
              " \n",
              "         [[0.0509804 , 0.05490196, 0.        ],\n",
              "          [0.09411766, 0.09411766, 0.05490196],\n",
              "          [0.18039216, 0.18431373, 0.15294118],\n",
              "          ...,\n",
              "          [0.18823531, 0.25490198, 0.29411766],\n",
              "          [0.17254902, 0.2392157 , 0.2784314 ],\n",
              "          [0.18823531, 0.2509804 , 0.3019608 ]],\n",
              " \n",
              "         [[0.07450981, 0.07058824, 0.        ],\n",
              "          [0.15686275, 0.16078432, 0.10588236],\n",
              "          [0.17254902, 0.18039216, 0.12941177],\n",
              "          ...,\n",
              "          [0.18823531, 0.2392157 , 0.27058825],\n",
              "          [0.14117648, 0.19215688, 0.22352943],\n",
              "          [0.12941177, 0.18039216, 0.21568629]],\n",
              " \n",
              "         ...,\n",
              " \n",
              "         [[0.2392157 , 0.27058825, 0.21960786],\n",
              "          [0.05882353, 0.10588236, 0.05882353],\n",
              "          [0.0627451 , 0.10980393, 0.0627451 ],\n",
              "          ...,\n",
              "          [0.6666667 , 0.64705884, 0.57254905],\n",
              "          [0.62352943, 0.6       , 0.5372549 ],\n",
              "          [0.74509805, 0.73333335, 0.6745098 ]],\n",
              " \n",
              "         [[0.08235294, 0.12156864, 0.07843138],\n",
              "          [0.09019608, 0.13725491, 0.09803922],\n",
              "          [0.05490196, 0.10588236, 0.07058824],\n",
              "          ...,\n",
              "          [0.6627451 , 0.6509804 , 0.58431375],\n",
              "          [0.49803925, 0.4901961 , 0.43137258],\n",
              "          [0.7019608 , 0.7058824 , 0.6509804 ]],\n",
              " \n",
              "         [[0.08627451, 0.13333334, 0.09411766],\n",
              "          [0.03529412, 0.07843138, 0.04705883],\n",
              "          [0.01176471, 0.0627451 , 0.03529412],\n",
              "          ...,\n",
              "          [0.73333335, 0.7294118 , 0.65882355],\n",
              "          [0.7568628 , 0.7607844 , 0.69803923],\n",
              "          [0.7254902 , 0.73333335, 0.6784314 ]]],\n",
              " \n",
              " \n",
              "        [[[0.08627451, 0.03137255, 0.09803922],\n",
              "          [0.08627451, 0.03137255, 0.09019608],\n",
              "          [0.09019608, 0.03529412, 0.09411766],\n",
              "          ...,\n",
              "          [0.9725491 , 0.8745099 , 0.75294125],\n",
              "          [0.94117653, 0.86666673, 0.7372549 ],\n",
              "          [0.9294118 , 0.8745099 , 0.7372549 ]],\n",
              " \n",
              "         [[0.07843138, 0.02352941, 0.08235294],\n",
              "          [0.07450981, 0.01960784, 0.07843138],\n",
              "          [0.07450981, 0.01960784, 0.07058824],\n",
              "          ...,\n",
              "          [0.9686275 , 0.8705883 , 0.75294125],\n",
              "          [0.95294124, 0.8705883 , 0.7490196 ],\n",
              "          [0.9490197 , 0.8862746 , 0.7568628 ]],\n",
              " \n",
              "         [[0.09411766, 0.03921569, 0.09019608],\n",
              "          [0.07843138, 0.03137255, 0.07843138],\n",
              "          [0.08235294, 0.03529412, 0.08235294],\n",
              "          ...,\n",
              "          [0.9725491 , 0.8745099 , 0.7568628 ],\n",
              "          [0.95294124, 0.8705883 , 0.7490196 ],\n",
              "          [0.93725497, 0.8745099 , 0.74509805]],\n",
              " \n",
              "         ...,\n",
              " \n",
              "         [[0.854902  , 0.7294118 , 0.5803922 ],\n",
              "          [0.86666673, 0.7372549 , 0.6       ],\n",
              "          [0.86274517, 0.73333335, 0.59607846],\n",
              "          ...,\n",
              "          [0.87843144, 0.77647066, 0.6392157 ],\n",
              "          [0.882353  , 0.7803922 , 0.63529414],\n",
              "          [0.854902  , 0.75294125, 0.60784316]],\n",
              " \n",
              "         [[0.86666673, 0.7372549 , 0.6       ],\n",
              "          [0.86666673, 0.7372549 , 0.6       ],\n",
              "          [0.854902  , 0.7254902 , 0.5882353 ],\n",
              "          ...,\n",
              "          [0.86274517, 0.7607844 , 0.62352943],\n",
              "          [0.8745099 , 0.7725491 , 0.627451  ],\n",
              "          [0.87843144, 0.7803922 , 0.62352943]],\n",
              " \n",
              "         [[0.86274517, 0.73333335, 0.59607846],\n",
              "          [0.8588236 , 0.7294118 , 0.5921569 ],\n",
              "          [0.854902  , 0.7254902 , 0.5882353 ],\n",
              "          ...,\n",
              "          [0.8745099 , 0.7725491 , 0.6431373 ],\n",
              "          [0.87843144, 0.77647066, 0.6313726 ],\n",
              "          [0.854902  , 0.7568628 , 0.6       ]]]], dtype=float32),\n",
              " (244, 244, 3))"
            ]
          },
          "metadata": {},
          "execution_count": 19
        }
      ]
    },
    {
      "cell_type": "markdown",
      "metadata": {
        "id": "I4goj70GcWGi"
      },
      "source": [
        "View the first batch of labels."
      ]
    },
    {
      "cell_type": "code",
      "metadata": {
        "colab": {
          "base_uri": "https://localhost:8080/"
        },
        "id": "59dyfeiac_xn",
        "outputId": "669a9c4a-c384-4f58-9c09-953e28b2c325"
      },
      "source": [
        "labels"
      ],
      "execution_count": 20,
      "outputs": [
        {
          "output_type": "execute_result",
          "data": {
            "text/plain": [
              "array([0., 1., 1., 1., 1., 1., 1., 1., 0., 0., 1., 1., 1., 0., 0., 0., 0.,\n",
              "       0., 1., 0., 1., 1., 1., 1., 1., 1., 1., 1., 1., 0., 0., 1.],\n",
              "      dtype=float32)"
            ]
          },
          "metadata": {},
          "execution_count": 20
        }
      ]
    },
    {
      "cell_type": "markdown",
      "metadata": {
        "id": "S7mr02rfdDEd"
      },
      "source": [
        "### 3.Create a model (start with a baseline)"
      ]
    },
    {
      "cell_type": "markdown",
      "metadata": {
        "id": "naaVa5YNdvOI"
      },
      "source": [
        "A base line is a relatively simple model or existing result that you setup when beginning a machine learning experimentand then as you keep experimenting, you try to beat the baseline.\n",
        "\n",
        "> 🔑 **Note**: 🔑 In deep learning, there is almost an infinite amount of architectures you could create. So one of the best ways to get started is to start with something simple and see if it works on your data and then introduce complexity as required (e.g. look at which current model is performing best in the fieldfor your problem)."
      ]
    },
    {
      "cell_type": "markdown",
      "metadata": {
        "id": "QpPHkP9keQ3i"
      },
      "source": [
        "Make the creating of our model a little easier"
      ]
    },
    {
      "cell_type": "code",
      "metadata": {
        "id": "vjN125B_i0uy"
      },
      "source": [
        "from tensorflow.keras.optimizers import Adam\n",
        "from tensorflow.keras.layers import Dense, Flatten, Conv2D, MaxPool2D, Activation\n",
        "from tensorflow.keras import Sequential"
      ],
      "execution_count": 21,
      "outputs": []
    },
    {
      "cell_type": "markdown",
      "metadata": {
        "id": "5zotAgvRjpWd"
      },
      "source": [
        "Create the model (This will be our baseline, a layer convolutional neural network)"
      ]
    },
    {
      "cell_type": "code",
      "metadata": {
        "id": "4Cfewrw-kM31"
      },
      "source": [
        "model_4 = Sequential([ \n",
        "      Conv2D(filters=10,\n",
        "             kernel_size=3,\n",
        "             strides=1,\n",
        "             padding='valid',\n",
        "             activation='relu'),\n",
        "      Conv2D(10, 3, activation='relu'),\n",
        "      Conv2D(10, 3, activation='relu'),\n",
        "      Flatten(),\n",
        "      Dense(1, activation='sigmoid')\n",
        "\n",
        "])"
      ],
      "execution_count": 32,
      "outputs": []
    },
    {
      "cell_type": "markdown",
      "metadata": {
        "id": "PG9w00WTluvO"
      },
      "source": [
        "Compile the model"
      ]
    },
    {
      "cell_type": "code",
      "metadata": {
        "id": "3qmyPXJu1Spu"
      },
      "source": [
        "model_4.compile(loss=\"binary_crossentropy\",\n",
        "                optimizer=Adam(),\n",
        "                metrics=[\"accuracy\"])"
      ],
      "execution_count": 33,
      "outputs": []
    },
    {
      "cell_type": "markdown",
      "metadata": {
        "id": "BA_z1xvz2d-_"
      },
      "source": [
        "### 4.Fit the model"
      ]
    },
    {
      "cell_type": "markdown",
      "metadata": {
        "id": "N2u_uE4z2kbi"
      },
      "source": [
        "Get a summary of our model.\n"
      ]
    },
    {
      "cell_type": "code",
      "metadata": {
        "colab": {
          "base_uri": "https://localhost:8080/",
          "height": 286
        },
        "id": "oZ35f-t82qwB",
        "outputId": "747d1c04-479a-4721-aa38-bd79d1ae885f"
      },
      "source": [
        "model_4.summary()"
      ],
      "execution_count": 34,
      "outputs": [
        {
          "output_type": "error",
          "ename": "ValueError",
          "evalue": "ignored",
          "traceback": [
            "\u001b[0;31m---------------------------------------------------------------------------\u001b[0m",
            "\u001b[0;31mValueError\u001b[0m                                Traceback (most recent call last)",
            "\u001b[0;32m<ipython-input-34-4b0ddac7604c>\u001b[0m in \u001b[0;36m<module>\u001b[0;34m()\u001b[0m\n\u001b[0;32m----> 1\u001b[0;31m \u001b[0mmodel_4\u001b[0m\u001b[0;34m.\u001b[0m\u001b[0msummary\u001b[0m\u001b[0;34m(\u001b[0m\u001b[0;34m)\u001b[0m\u001b[0;34m\u001b[0m\u001b[0;34m\u001b[0m\u001b[0m\n\u001b[0m",
            "\u001b[0;32m/usr/local/lib/python3.7/dist-packages/keras/engine/training.py\u001b[0m in \u001b[0;36msummary\u001b[0;34m(self, line_length, positions, print_fn, expand_nested)\u001b[0m\n\u001b[1;32m   2578\u001b[0m     \u001b[0;32mif\u001b[0m \u001b[0;32mnot\u001b[0m \u001b[0mself\u001b[0m\u001b[0;34m.\u001b[0m\u001b[0mbuilt\u001b[0m\u001b[0;34m:\u001b[0m\u001b[0;34m\u001b[0m\u001b[0;34m\u001b[0m\u001b[0m\n\u001b[1;32m   2579\u001b[0m       raise ValueError(\n\u001b[0;32m-> 2580\u001b[0;31m           \u001b[0;34m'This model has not yet been built. '\u001b[0m\u001b[0;34m\u001b[0m\u001b[0;34m\u001b[0m\u001b[0m\n\u001b[0m\u001b[1;32m   2581\u001b[0m           \u001b[0;34m'Build the model first by calling `build()` or by calling '\u001b[0m\u001b[0;34m\u001b[0m\u001b[0;34m\u001b[0m\u001b[0m\n\u001b[1;32m   2582\u001b[0m           'the model on a batch of data.')\n",
            "\u001b[0;31mValueError\u001b[0m: This model has not yet been built. Build the model first by calling `build()` or by calling the model on a batch of data."
          ]
        }
      ]
    },
    {
      "cell_type": "markdown",
      "metadata": {
        "id": "1w0necyA2uRZ"
      },
      "source": [
        "Check the lengths of training and test data generators."
      ]
    },
    {
      "cell_type": "code",
      "metadata": {
        "colab": {
          "base_uri": "https://localhost:8080/"
        },
        "id": "A8rmQY9-3PqX",
        "outputId": "b8e2721c-7a7b-4096-8e3d-e4989dc8b63e"
      },
      "source": [
        "len(train_data), len(test_data)"
      ],
      "execution_count": 35,
      "outputs": [
        {
          "output_type": "execute_result",
          "data": {
            "text/plain": [
              "(47, 16)"
            ]
          },
          "metadata": {},
          "execution_count": 35
        }
      ]
    },
    {
      "cell_type": "code",
      "metadata": {
        "colab": {
          "base_uri": "https://localhost:8080/"
        },
        "id": "bs3-Jhbb3hGY",
        "outputId": "8b005423-10fb-410f-a05e-54b657bba741"
      },
      "source": [
        "# Fit the model \n",
        "\n",
        "history_4 = model_4.fit(train_data,\n",
        "                        epochs=5,\n",
        "                        steps_per_epoch=len(train_data),\n",
        "                        validation_data=test_data,\n",
        "                        validation_steps=len(test_data)\n",
        "                        )"
      ],
      "execution_count": 36,
      "outputs": [
        {
          "output_type": "stream",
          "name": "stdout",
          "text": [
            "Epoch 1/5\n",
            "47/47 [==============================] - 16s 281ms/step - loss: 0.7636 - accuracy: 0.7013 - val_loss: 0.3750 - val_accuracy: 0.8340\n",
            "Epoch 2/5\n",
            "47/47 [==============================] - 12s 254ms/step - loss: 0.3853 - accuracy: 0.8373 - val_loss: 0.3650 - val_accuracy: 0.8420\n",
            "Epoch 3/5\n",
            "47/47 [==============================] - 12s 259ms/step - loss: 0.2660 - accuracy: 0.9007 - val_loss: 0.3621 - val_accuracy: 0.8400\n",
            "Epoch 4/5\n",
            "47/47 [==============================] - 12s 256ms/step - loss: 0.0973 - accuracy: 0.9753 - val_loss: 0.4024 - val_accuracy: 0.8180\n",
            "Epoch 5/5\n",
            "47/47 [==============================] - 12s 257ms/step - loss: 0.0477 - accuracy: 0.9887 - val_loss: 0.6516 - val_accuracy: 0.7920\n"
          ]
        }
      ]
    },
    {
      "cell_type": "code",
      "metadata": {
        "id": "LOoOZk2n4noP"
      },
      "source": [
        ""
      ],
      "execution_count": 36,
      "outputs": []
    }
  ]
}