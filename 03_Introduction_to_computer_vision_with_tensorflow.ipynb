{
  "nbformat": 4,
  "nbformat_minor": 0,
  "metadata": {
    "colab": {
      "name": "03-Introduction-to-computer-vision-with-tensorflow.ipynb",
      "provenance": [],
      "authorship_tag": "ABX9TyPB0iFa5GN5KuiDeu9N34ke",
      "include_colab_link": true
    },
    "kernelspec": {
      "name": "python3",
      "display_name": "Python 3"
    },
    "language_info": {
      "name": "python"
    }
  },
  "cells": [
    {
      "cell_type": "markdown",
      "metadata": {
        "id": "view-in-github",
        "colab_type": "text"
      },
      "source": [
        "<a href=\"https://colab.research.google.com/github/Tower5954/TensorFlow/blob/main/03_Introduction_to_computer_vision_with_tensorflow.ipynb\" target=\"_parent\"><img src=\"https://colab.research.google.com/assets/colab-badge.svg\" alt=\"Open In Colab\"/></a>"
      ]
    },
    {
      "cell_type": "markdown",
      "metadata": {
        "id": "4psHQm4YpSyu"
      },
      "source": [
        "# Introduction to Convolutional Neural Networks and Computer Vision with TensorFlow"
      ]
    },
    {
      "cell_type": "markdown",
      "metadata": {
        "id": "FJY_FigEuegx"
      },
      "source": [
        "Computer vision is the practice of writing algorithms which can discover patterns in visual data. Such as the camera of a self-driving car recognising the car in-front "
      ]
    },
    {
      "cell_type": "markdown",
      "metadata": {
        "id": "e3esU5R7vChi"
      },
      "source": [
        "## Get the data"
      ]
    },
    {
      "cell_type": "code",
      "metadata": {
        "colab": {
          "base_uri": "https://localhost:8080/"
        },
        "id": "2sLpECU6vGWF",
        "outputId": "f907dce3-8c72-4603-bcb4-c1271021e9ab"
      },
      "source": [
        "import zipfile\n",
        "\n",
        "!wget https://storage.googleapis.com/ztm_tf_course/food_vision/pizza_steak.zip \n",
        "\n",
        "# Unzip the downloaded file\n",
        "zip_ref = zipfile.ZipFile(\"pizza_steak.zip\")\n",
        "zip_ref.extractall()\n",
        "zip_ref.close()"
      ],
      "execution_count": 3,
      "outputs": [
        {
          "output_type": "stream",
          "name": "stdout",
          "text": [
            "--2021-11-10 17:04:06--  https://storage.googleapis.com/ztm_tf_course/food_vision/pizza_steak.zip\n",
            "Resolving storage.googleapis.com (storage.googleapis.com)... 172.217.15.80, 142.250.188.48, 142.251.45.16, ...\n",
            "Connecting to storage.googleapis.com (storage.googleapis.com)|172.217.15.80|:443... connected.\n",
            "HTTP request sent, awaiting response... 200 OK\n",
            "Length: 109579078 (105M) [application/zip]\n",
            "Saving to: ‘pizza_steak.zip.1’\n",
            "\n",
            "pizza_steak.zip.1   100%[===================>] 104.50M   160MB/s    in 0.7s    \n",
            "\n",
            "2021-11-10 17:04:07 (160 MB/s) - ‘pizza_steak.zip.1’ saved [109579078/109579078]\n",
            "\n"
          ]
        }
      ]
    },
    {
      "cell_type": "markdown",
      "metadata": {
        "id": "JCKOnjVmxxrT"
      },
      "source": [
        "🔑**Note:**🔑 We start with smaller datasets so we can experiment quickly and figure what works (or better yet, what does not work) before scaling up. "
      ]
    },
    {
      "cell_type": "code",
      "metadata": {
        "id": "eKLqXa440_S-"
      },
      "source": [
        ""
      ],
      "execution_count": null,
      "outputs": []
    }
  ]
}