{
  "nbformat": 4,
  "nbformat_minor": 0,
  "metadata": {
    "colab": {
      "name": "05_Transfer_learning_in_TensorFlow_part_2_fine_tuning.ipynb",
      "provenance": [],
      "toc_visible": true,
      "authorship_tag": "ABX9TyPY/zigZ1G594nA+ykv8eKu",
      "include_colab_link": true
    },
    "kernelspec": {
      "name": "python3",
      "display_name": "Python 3"
    },
    "language_info": {
      "name": "python"
    },
    "accelerator": "GPU"
  },
  "cells": [
    {
      "cell_type": "markdown",
      "metadata": {
        "id": "view-in-github",
        "colab_type": "text"
      },
      "source": [
        "<a href=\"https://colab.research.google.com/github/Tower5954/TensorFlow/blob/main/05_Transfer_learning_in_TensorFlow_part_2_fine_tuning.ipynb\" target=\"_parent\"><img src=\"https://colab.research.google.com/assets/colab-badge.svg\" alt=\"Open In Colab\"/></a>"
      ]
    },
    {
      "cell_type": "markdown",
      "source": [
        "# Transfer learning with TensorFlow part 2: Fine-tuning\n",
        "\n",
        "In the previous notebook, we covered transfer learning feature extraction, in this notebook we will go through a new kind of transfer learning: fine-tuning"
      ],
      "metadata": {
        "id": "h7bjh3cKczHO"
      }
    },
    {
      "cell_type": "code",
      "source": [
        "# Check if we are using a GPU\n",
        "!nvidia-smi"
      ],
      "metadata": {
        "colab": {
          "base_uri": "https://localhost:8080/"
        },
        "id": "gThBAIqofghG",
        "outputId": "dc9671a0-8fac-4625-ae8a-f8bf12235b08"
      },
      "execution_count": 1,
      "outputs": [
        {
          "output_type": "stream",
          "name": "stdout",
          "text": [
            "Mon Dec 20 05:35:25 2021       \n",
            "+-----------------------------------------------------------------------------+\n",
            "| NVIDIA-SMI 495.44       Driver Version: 460.32.03    CUDA Version: 11.2     |\n",
            "|-------------------------------+----------------------+----------------------+\n",
            "| GPU  Name        Persistence-M| Bus-Id        Disp.A | Volatile Uncorr. ECC |\n",
            "| Fan  Temp  Perf  Pwr:Usage/Cap|         Memory-Usage | GPU-Util  Compute M. |\n",
            "|                               |                      |               MIG M. |\n",
            "|===============================+======================+======================|\n",
            "|   0  Tesla K80           Off  | 00000000:00:04.0 Off |                    0 |\n",
            "| N/A   35C    P8    28W / 149W |      0MiB / 11441MiB |      0%      Default |\n",
            "|                               |                      |                  N/A |\n",
            "+-------------------------------+----------------------+----------------------+\n",
            "                                                                               \n",
            "+-----------------------------------------------------------------------------+\n",
            "| Processes:                                                                  |\n",
            "|  GPU   GI   CI        PID   Type   Process name                  GPU Memory |\n",
            "|        ID   ID                                                   Usage      |\n",
            "|=============================================================================|\n",
            "|  No running processes found                                                 |\n",
            "+-----------------------------------------------------------------------------+\n"
          ]
        }
      ]
    },
    {
      "cell_type": "markdown",
      "source": [
        "## Creating helper functions\n",
        "\n",
        "It is a good idea, to put functions that you will use a lot in a script, that you can download and import into your notebooks (or elsewhere).\n",
        "\n",
        "We have done this for some of the functions previously used here:\n",
        "https://raw.githubusercontent.com/mrdbourke/tensorflow-deep-learning/main/extras/helper_functions.py"
      ],
      "metadata": {
        "id": "oW5f6TEnfwOU"
      }
    },
    {
      "cell_type": "code",
      "source": [
        "!wget https://raw.githubusercontent.com/mrdbourke/tensorflow-deep-learning/main/extras/helper_functions.py"
      ],
      "metadata": {
        "colab": {
          "base_uri": "https://localhost:8080/"
        },
        "id": "5Y2gwkhGluge",
        "outputId": "77622266-2f85-4aa4-84ff-23fe6a346cbe"
      },
      "execution_count": 2,
      "outputs": [
        {
          "output_type": "stream",
          "name": "stdout",
          "text": [
            "--2021-12-20 05:35:25--  https://raw.githubusercontent.com/mrdbourke/tensorflow-deep-learning/main/extras/helper_functions.py\n",
            "Resolving raw.githubusercontent.com (raw.githubusercontent.com)... 185.199.108.133, 185.199.109.133, 185.199.110.133, ...\n",
            "Connecting to raw.githubusercontent.com (raw.githubusercontent.com)|185.199.108.133|:443... connected.\n",
            "HTTP request sent, awaiting response... 200 OK\n",
            "Length: 10246 (10K) [text/plain]\n",
            "Saving to: ‘helper_functions.py’\n",
            "\n",
            "helper_functions.py 100%[===================>]  10.01K  --.-KB/s    in 0s      \n",
            "\n",
            "2021-12-20 05:35:25 (28.8 MB/s) - ‘helper_functions.py’ saved [10246/10246]\n",
            "\n"
          ]
        }
      ]
    },
    {
      "cell_type": "code",
      "source": [
        "from helper_functions import create_tensorboard_callback,plot_loss_curves,unzip_data,walk_through_dir"
      ],
      "metadata": {
        "id": "tI4lgbGllwOD"
      },
      "execution_count": 3,
      "outputs": []
    },
    {
      "cell_type": "markdown",
      "source": [
        "## The data"
      ],
      "metadata": {
        "id": "5v5busqJqNy1"
      }
    },
    {
      "cell_type": "markdown",
      "source": [
        "This time we will see how we can use the pretrained models within tf.keras.applications and apply them to our own problem (recognising images of food)\n",
        "link: https://www.tensorflow.org/api_docs/python/tf/keras/applications"
      ],
      "metadata": {
        "id": "6Y_NtTFg45sk"
      }
    },
    {
      "cell_type": "code",
      "source": [
        "# Get 10% of training data of 10 classes of food 101"
      ],
      "metadata": {
        "id": "M9FAuKuW7DiS"
      },
      "execution_count": 4,
      "outputs": []
    },
    {
      "cell_type": "code",
      "source": [
        "!wget https://storage.googleapis.com/ztm_tf_course/food_vision/10_food_classes_10_percent.zip"
      ],
      "metadata": {
        "colab": {
          "base_uri": "https://localhost:8080/"
        },
        "id": "0n0xEYyq7Qqn",
        "outputId": "df545c8e-6467-4c30-9eab-d054676725ec"
      },
      "execution_count": 5,
      "outputs": [
        {
          "output_type": "stream",
          "name": "stdout",
          "text": [
            "--2021-12-20 05:35:31--  https://storage.googleapis.com/ztm_tf_course/food_vision/10_food_classes_10_percent.zip\n",
            "Resolving storage.googleapis.com (storage.googleapis.com)... 209.85.145.128, 172.217.219.128, 209.85.146.128, ...\n",
            "Connecting to storage.googleapis.com (storage.googleapis.com)|209.85.145.128|:443... connected.\n",
            "HTTP request sent, awaiting response... 200 OK\n",
            "Length: 168546183 (161M) [application/zip]\n",
            "Saving to: ‘10_food_classes_10_percent.zip’\n",
            "\n",
            "10_food_classes_10_ 100%[===================>] 160.74M   183MB/s    in 0.9s    \n",
            "\n",
            "2021-12-20 05:35:32 (183 MB/s) - ‘10_food_classes_10_percent.zip’ saved [168546183/168546183]\n",
            "\n"
          ]
        }
      ]
    },
    {
      "cell_type": "code",
      "source": [
        "unzip_data(\"10_food_classes_10_percent.zip\")"
      ],
      "metadata": {
        "id": "A9sv88K78Wqs"
      },
      "execution_count": 6,
      "outputs": []
    },
    {
      "cell_type": "code",
      "source": [
        "# check how many images and subdirectories in the dataset"
      ],
      "metadata": {
        "id": "CgV-Th8f8ptV"
      },
      "execution_count": 7,
      "outputs": []
    },
    {
      "cell_type": "code",
      "source": [
        "walk_through_dir(\"10_food_classes_10_percent\")"
      ],
      "metadata": {
        "colab": {
          "base_uri": "https://localhost:8080/"
        },
        "id": "Rza3Hc1b89WG",
        "outputId": "043c4857-d093-488b-ffaa-8cfa5f0d1e90"
      },
      "execution_count": 8,
      "outputs": [
        {
          "output_type": "stream",
          "name": "stdout",
          "text": [
            "There are 2 directories and 0 images in '10_food_classes_10_percent'.\n",
            "There are 10 directories and 0 images in '10_food_classes_10_percent/test'.\n",
            "There are 0 directories and 250 images in '10_food_classes_10_percent/test/fried_rice'.\n",
            "There are 0 directories and 250 images in '10_food_classes_10_percent/test/grilled_salmon'.\n",
            "There are 0 directories and 250 images in '10_food_classes_10_percent/test/steak'.\n",
            "There are 0 directories and 250 images in '10_food_classes_10_percent/test/hamburger'.\n",
            "There are 0 directories and 250 images in '10_food_classes_10_percent/test/chicken_curry'.\n",
            "There are 0 directories and 250 images in '10_food_classes_10_percent/test/pizza'.\n",
            "There are 0 directories and 250 images in '10_food_classes_10_percent/test/sushi'.\n",
            "There are 0 directories and 250 images in '10_food_classes_10_percent/test/ramen'.\n",
            "There are 0 directories and 250 images in '10_food_classes_10_percent/test/chicken_wings'.\n",
            "There are 0 directories and 250 images in '10_food_classes_10_percent/test/ice_cream'.\n",
            "There are 10 directories and 0 images in '10_food_classes_10_percent/train'.\n",
            "There are 0 directories and 75 images in '10_food_classes_10_percent/train/fried_rice'.\n",
            "There are 0 directories and 75 images in '10_food_classes_10_percent/train/grilled_salmon'.\n",
            "There are 0 directories and 75 images in '10_food_classes_10_percent/train/steak'.\n",
            "There are 0 directories and 75 images in '10_food_classes_10_percent/train/hamburger'.\n",
            "There are 0 directories and 75 images in '10_food_classes_10_percent/train/chicken_curry'.\n",
            "There are 0 directories and 75 images in '10_food_classes_10_percent/train/pizza'.\n",
            "There are 0 directories and 75 images in '10_food_classes_10_percent/train/sushi'.\n",
            "There are 0 directories and 75 images in '10_food_classes_10_percent/train/ramen'.\n",
            "There are 0 directories and 75 images in '10_food_classes_10_percent/train/chicken_wings'.\n",
            "There are 0 directories and 75 images in '10_food_classes_10_percent/train/ice_cream'.\n"
          ]
        }
      ]
    },
    {
      "cell_type": "code",
      "source": [
        "# Create training and test "
      ],
      "metadata": {
        "id": "AN07Qpnp9ErP"
      },
      "execution_count": 9,
      "outputs": []
    },
    {
      "cell_type": "code",
      "source": [
        "train_dir = \"10_food_classes_10_percent/train\" \n",
        "test_dir = \"10_food_classes_10_percent/test\""
      ],
      "metadata": {
        "id": "kOgOhNBt9dc6"
      },
      "execution_count": 10,
      "outputs": []
    },
    {
      "cell_type": "code",
      "source": [
        "import tensorflow as tf\n",
        "IMG_SIZE = (224,224)\n",
        "BATCH_SIZE = 32\n",
        "\n",
        "train_data_10_percent = tf.keras.preprocessing.image_dataset_from_directory(directory=train_dir,\n",
        "                                                                            image_size=IMG_SIZE,\n",
        "                                                                            label_mode=\"categorical\",\n",
        "                                                                            batch_size=BATCH_SIZE)\n",
        "\n",
        "\n",
        "test_data = tf.keras.preprocessing.image_dataset_from_directory(directory=test_dir,\n",
        "                                                                image_size=IMG_SIZE,\n",
        "                                                                label_mode=\"categorical\",\n",
        "                                                                batch_size=BATCH_SIZE)"
      ],
      "metadata": {
        "colab": {
          "base_uri": "https://localhost:8080/"
        },
        "id": "brqhPExi93yD",
        "outputId": "fc741141-ffb6-4f04-dd71-2ae24edf429d"
      },
      "execution_count": 11,
      "outputs": [
        {
          "output_type": "stream",
          "name": "stdout",
          "text": [
            "Found 750 files belonging to 10 classes.\n",
            "Found 2500 files belonging to 10 classes.\n"
          ]
        }
      ]
    },
    {
      "cell_type": "code",
      "source": [
        "train_data_10_percent"
      ],
      "metadata": {
        "colab": {
          "base_uri": "https://localhost:8080/"
        },
        "id": "18Yy7CJEABa8",
        "outputId": "8ff7363e-c185-43d7-811a-1f80e6ce9765"
      },
      "execution_count": 12,
      "outputs": [
        {
          "output_type": "execute_result",
          "data": {
            "text/plain": [
              "<BatchDataset shapes: ((None, 224, 224, 3), (None, 10)), types: (tf.float32, tf.float32)>"
            ]
          },
          "metadata": {},
          "execution_count": 12
        }
      ]
    },
    {
      "cell_type": "code",
      "source": [
        "# Check the class names of the dataset"
      ],
      "metadata": {
        "id": "LjcmhrWAAKyw"
      },
      "execution_count": 13,
      "outputs": []
    },
    {
      "cell_type": "code",
      "source": [
        "train_data_10_percent.class_names"
      ],
      "metadata": {
        "colab": {
          "base_uri": "https://localhost:8080/"
        },
        "id": "cd3vVzQ0A3vg",
        "outputId": "53115fe6-7058-4b3b-821b-463550194b6a"
      },
      "execution_count": 14,
      "outputs": [
        {
          "output_type": "execute_result",
          "data": {
            "text/plain": [
              "['chicken_curry',\n",
              " 'chicken_wings',\n",
              " 'fried_rice',\n",
              " 'grilled_salmon',\n",
              " 'hamburger',\n",
              " 'ice_cream',\n",
              " 'pizza',\n",
              " 'ramen',\n",
              " 'steak',\n",
              " 'sushi']"
            ]
          },
          "metadata": {},
          "execution_count": 14
        }
      ]
    },
    {
      "cell_type": "code",
      "source": [
        "# See an example of a batch of data\n",
        "\n",
        "for images, labels in train_data_10_percent.take(1):\n",
        "  print(images,labels)"
      ],
      "metadata": {
        "colab": {
          "base_uri": "https://localhost:8080/"
        },
        "id": "ruN_LwIzA8Sb",
        "outputId": "9acbd026-b7a0-4fae-bd4a-622cbf92f5aa"
      },
      "execution_count": 15,
      "outputs": [
        {
          "output_type": "stream",
          "name": "stdout",
          "text": [
            "tf.Tensor(\n",
            "[[[[1.00000000e+00 2.00000000e+00 0.00000000e+00]\n",
            "   [1.00000000e+00 2.00000000e+00 0.00000000e+00]\n",
            "   [3.00000000e+00 2.00000000e+00 0.00000000e+00]\n",
            "   ...\n",
            "   [0.00000000e+00 1.00000000e+00 3.00000000e+00]\n",
            "   [0.00000000e+00 1.00000000e+00 3.00000000e+00]\n",
            "   [0.00000000e+00 2.00000000e+00 3.00000000e+00]]\n",
            "\n",
            "  [[1.00000000e+00 2.00000000e+00 0.00000000e+00]\n",
            "   [2.06632662e+00 1.06632650e+00 0.00000000e+00]\n",
            "   [3.00000000e+00 2.00000000e+00 0.00000000e+00]\n",
            "   ...\n",
            "   [0.00000000e+00 1.00000000e+00 3.00000000e+00]\n",
            "   [0.00000000e+00 1.00000000e+00 3.00000000e+00]\n",
            "   [0.00000000e+00 1.00000000e+00 3.00000000e+00]]\n",
            "\n",
            "  [[2.29081655e+00 1.71938777e+00 0.00000000e+00]\n",
            "   [2.98469400e+00 1.98469388e+00 0.00000000e+00]\n",
            "   [3.00000000e+00 2.00000000e+00 0.00000000e+00]\n",
            "   ...\n",
            "   [0.00000000e+00 1.00000000e+00 3.00000000e+00]\n",
            "   [0.00000000e+00 1.00000000e+00 3.00000000e+00]\n",
            "   [0.00000000e+00 1.00000000e+00 3.00000000e+00]]\n",
            "\n",
            "  ...\n",
            "\n",
            "  [[8.21429443e+00 2.14294434e-01 0.00000000e+00]\n",
            "   [8.41328239e+00 4.13282186e-01 0.00000000e+00]\n",
            "   [9.21429443e+00 1.21429443e+00 0.00000000e+00]\n",
            "   ...\n",
            "   [2.09999695e+01 2.19999695e+01 1.39999695e+01]\n",
            "   [1.87142639e+01 1.97142639e+01 1.17142639e+01]\n",
            "   [1.69234581e+01 1.79234581e+01 9.92345905e+00]]\n",
            "\n",
            "  [[9.92858887e+00 1.92858887e+00 0.00000000e+00]\n",
            "   [9.99489880e+00 1.99489927e+00 0.00000000e+00]\n",
            "   [1.09285889e+01 2.92858887e+00 9.28588867e-01]\n",
            "   ...\n",
            "   [2.02142639e+01 2.12142639e+01 1.32142639e+01]\n",
            "   [1.79285583e+01 1.89285583e+01 1.09285583e+01]\n",
            "   [1.60459042e+01 1.70459042e+01 9.04590511e+00]]\n",
            "\n",
            "  [[9.00000000e+00 1.00000000e+00 0.00000000e+00]\n",
            "   [9.35714722e+00 1.35714722e+00 0.00000000e+00]\n",
            "   [1.00000000e+01 2.00000000e+00 0.00000000e+00]\n",
            "   ...\n",
            "   [2.02142639e+01 2.12142639e+01 1.32142639e+01]\n",
            "   [1.79285583e+01 1.89285583e+01 1.09285583e+01]\n",
            "   [1.60000000e+01 1.70000000e+01 9.00000000e+00]]]\n",
            "\n",
            "\n",
            " [[[2.36428566e+01 2.66428566e+01 1.56428576e+01]\n",
            "   [2.50000000e+01 2.80000000e+01 1.70000000e+01]\n",
            "   [2.61479588e+01 2.91479588e+01 1.81479588e+01]\n",
            "   ...\n",
            "   [4.57140684e+00 6.57140684e+00 1.57140672e+00]\n",
            "   [4.02551508e+00 6.02551508e+00 1.02551484e+00]\n",
            "   [5.48470640e+00 7.48470640e+00 2.48470616e+00]]\n",
            "\n",
            "  [[2.52602043e+01 2.82602043e+01 1.72602043e+01]\n",
            "   [2.67908173e+01 2.97908173e+01 1.87908173e+01]\n",
            "   [2.94591846e+01 3.24591827e+01 2.14591846e+01]\n",
            "   ...\n",
            "   [3.80104065e+00 5.80104065e+00 8.01040590e-01]\n",
            "   [4.86223316e+00 6.86223316e+00 1.86223304e+00]\n",
            "   [2.71425056e+00 4.71425056e+00 4.59157005e-02]]\n",
            "\n",
            "  [[2.94285717e+01 3.24285736e+01 2.14285717e+01]\n",
            "   [3.01734695e+01 3.31734695e+01 2.21734695e+01]\n",
            "   [3.16632652e+01 3.46632652e+01 2.36632652e+01]\n",
            "   ...\n",
            "   [5.44901371e+00 7.44901371e+00 2.44901371e+00]\n",
            "   [6.71427250e+00 8.71427250e+00 3.71427250e+00]\n",
            "   [4.13774776e+00 6.13774776e+00 1.13774776e+00]]\n",
            "\n",
            "  ...\n",
            "\n",
            "  [[4.70914793e+00 1.57091475e+01 1.17091475e+01]\n",
            "   [4.17344475e+00 1.51734447e+01 1.11734447e+01]\n",
            "   [8.92349911e+00 1.99235001e+01 1.59235001e+01]\n",
            "   ...\n",
            "   [9.05509720e+01 9.75509720e+01 1.03550972e+02]\n",
            "   [9.50560760e+01 1.02056076e+02 1.08056076e+02]\n",
            "   [9.32295609e+01 1.00229561e+02 1.06229561e+02]]\n",
            "\n",
            "  [[1.31121600e+00 1.23112154e+01 8.31121540e+00]\n",
            "   [2.71937633e+00 1.37193766e+01 9.71937656e+00]\n",
            "   [8.44385433e+00 1.94438534e+01 1.54438543e+01]\n",
            "   ...\n",
            "   [9.37652740e+01 1.00765274e+02 1.08765274e+02]\n",
            "   [9.69846878e+01 1.03984688e+02 1.11984688e+02]\n",
            "   [9.36632004e+01 1.00663200e+02 1.08663200e+02]]\n",
            "\n",
            "  [[1.35714281e+00 1.23571424e+01 8.35714245e+00]\n",
            "   [1.92857170e+00 1.29285717e+01 8.92857170e+00]\n",
            "   [4.14789677e+00 1.51478968e+01 1.11478968e+01]\n",
            "   ...\n",
            "   [9.43623886e+01 1.01362389e+02 1.09362389e+02]\n",
            "   [9.39080276e+01 1.00908028e+02 1.08908028e+02]\n",
            "   [8.96533737e+01 9.66533737e+01 1.04653374e+02]]]\n",
            "\n",
            "\n",
            " [[[1.41285721e+02 1.11698982e+02 8.28724518e+01]\n",
            "   [1.41525497e+02 1.12525505e+02 8.25255051e+01]\n",
            "   [1.39642853e+02 1.10642860e+02 7.82142868e+01]\n",
            "   ...\n",
            "   [9.20714493e+01 1.04999781e+01 1.42857141e+01]\n",
            "   [9.38061523e+01 1.16683722e+01 1.57142992e+01]\n",
            "   [9.74132767e+01 1.24132776e+01 1.74132786e+01]]\n",
            "\n",
            "  [[1.42903061e+02 1.11903061e+02 8.29030609e+01]\n",
            "   [1.40142853e+02 1.09142853e+02 7.81530609e+01]\n",
            "   [1.43301025e+02 1.12729591e+02 8.15153046e+01]\n",
            "   ...\n",
            "   [9.78979645e+01 1.29438763e+01 1.79285717e+01]\n",
            "   [1.00000015e+02 1.31326637e+01 1.90663395e+01]\n",
            "   [1.02193810e+02 1.40000000e+01 2.00000000e+01]]\n",
            "\n",
            "  [[1.44204086e+02 1.11204079e+02 7.97755127e+01]\n",
            "   [1.41928574e+02 1.08928566e+02 7.79285660e+01]\n",
            "   [1.41571426e+02 1.12663269e+02 8.27091827e+01]\n",
            "   ...\n",
            "   [1.01214287e+02 1.17857141e+01 1.75714283e+01]\n",
            "   [1.02270416e+02 1.10561323e+01 1.76275616e+01]\n",
            "   [1.03000000e+02 1.17857141e+01 1.83571434e+01]]\n",
            "\n",
            "  ...\n",
            "\n",
            "  [[2.03785736e+02 1.99785736e+02 1.88785736e+02]\n",
            "   [2.03056122e+02 1.99056122e+02 1.88056122e+02]\n",
            "   [2.03000000e+02 1.99000000e+02 1.88000000e+02]\n",
            "   ...\n",
            "   [2.00449020e+02 1.89214264e+02 1.77979507e+02]\n",
            "   [2.02428589e+02 1.90857117e+02 1.78857117e+02]\n",
            "   [2.00714355e+02 1.89142883e+02 1.77142883e+02]]\n",
            "\n",
            "  [[2.00117371e+02 1.96117371e+02 1.85117371e+02]\n",
            "   [2.02000015e+02 1.98000015e+02 1.87000015e+02]\n",
            "   [2.03341858e+02 1.99341858e+02 1.88341858e+02]\n",
            "   ...\n",
            "   [2.00714294e+02 1.89142822e+02 1.77142822e+02]\n",
            "   [2.02714233e+02 1.88714233e+02 1.77714233e+02]\n",
            "   [2.01265335e+02 1.87265335e+02 1.76265335e+02]]\n",
            "\n",
            "  [[2.03127563e+02 1.99127563e+02 1.88127563e+02]\n",
            "   [2.02668335e+02 1.98668335e+02 1.87668335e+02]\n",
            "   [2.02928467e+02 1.98928467e+02 1.87928467e+02]\n",
            "   ...\n",
            "   [2.00433701e+02 1.88862228e+02 1.76862228e+02]\n",
            "   [1.99908157e+02 1.85908157e+02 1.74908157e+02]\n",
            "   [2.01556290e+02 1.87556290e+02 1.76556290e+02]]]\n",
            "\n",
            "\n",
            " ...\n",
            "\n",
            "\n",
            " [[[1.22000000e+02 1.24000000e+02 1.19000000e+02]\n",
            "   [1.21000000e+02 1.23000000e+02 1.18000000e+02]\n",
            "   [1.21214287e+02 1.23214287e+02 1.18214287e+02]\n",
            "   ...\n",
            "   [6.46428604e+01 6.06428566e+01 5.16428566e+01]\n",
            "   [6.25714149e+01 5.84999733e+01 4.97142982e+01]\n",
            "   [5.98724365e+01 5.48724365e+01 5.12296143e+01]]\n",
            "\n",
            "  [[1.22000000e+02 1.24000000e+02 1.20857147e+02]\n",
            "   [1.22928574e+02 1.24928574e+02 1.21785713e+02]\n",
            "   [1.22729591e+02 1.24729591e+02 1.21586731e+02]\n",
            "   ...\n",
            "   [6.78724442e+01 6.38724480e+01 5.48724480e+01]\n",
            "   [6.57193604e+01 6.16479225e+01 5.28622475e+01]\n",
            "   [6.24999657e+01 5.74999657e+01 5.38571434e+01]]\n",
            "\n",
            "  [[1.23000000e+02 1.25000000e+02 1.22428574e+02]\n",
            "   [1.24928574e+02 1.26928574e+02 1.24357147e+02]\n",
            "   [1.23785713e+02 1.25785713e+02 1.23214287e+02]\n",
            "   ...\n",
            "   [7.16428375e+01 6.76428375e+01 5.86428375e+01]\n",
            "   [6.90714035e+01 6.49999619e+01 5.62142868e+01]\n",
            "   [6.48571091e+01 5.98571091e+01 5.62142868e+01]]\n",
            "\n",
            "  ...\n",
            "\n",
            "  [[1.12571404e+02 1.14571404e+02 1.03571404e+02]\n",
            "   [1.09357117e+02 1.11357117e+02 1.00357117e+02]\n",
            "   [1.06214264e+02 1.08214264e+02 9.52142639e+01]\n",
            "   ...\n",
            "   [1.38214264e+02 1.38214264e+02 1.38214264e+02]\n",
            "   [1.37214264e+02 1.37214264e+02 1.37214264e+02]\n",
            "   [1.38000000e+02 1.38000000e+02 1.38000000e+02]]\n",
            "\n",
            "  [[1.11331627e+02 1.13331627e+02 1.02331627e+02]\n",
            "   [1.09071426e+02 1.11071426e+02 1.00071426e+02]\n",
            "   [1.05770401e+02 1.07770401e+02 9.47704010e+01]\n",
            "   ...\n",
            "   [1.36484665e+02 1.36484665e+02 1.36484665e+02]\n",
            "   [1.35137787e+02 1.35137787e+02 1.35137787e+02]\n",
            "   [1.37331665e+02 1.37331665e+02 1.37331665e+02]]\n",
            "\n",
            "  [[1.08872398e+02 1.10872398e+02 9.98723984e+01]\n",
            "   [1.07714249e+02 1.09714249e+02 9.87142487e+01]\n",
            "   [1.04214249e+02 1.06214249e+02 9.32142487e+01]\n",
            "   ...\n",
            "   [1.38000000e+02 1.38000000e+02 1.38000000e+02]\n",
            "   [1.37331665e+02 1.37331665e+02 1.37331665e+02]\n",
            "   [1.36872421e+02 1.36872421e+02 1.36872421e+02]]]\n",
            "\n",
            "\n",
            " [[[3.00000000e+00 2.00000000e+00 1.00000000e+01]\n",
            "   [3.00000000e+00 2.00000000e+00 8.00000000e+00]\n",
            "   [7.85714149e-01 0.00000000e+00 5.57142830e+00]\n",
            "   ...\n",
            "   [2.26479950e+01 9.20923519e+00 9.20923519e+00]\n",
            "   [2.60969429e+01 1.49030828e+01 1.45000134e+01]\n",
            "   [2.67857132e+01 1.67857132e+01 1.57857141e+01]]\n",
            "\n",
            "  [[3.00000000e+00 2.00000000e+00 1.00000000e+01]\n",
            "   [3.00000000e+00 2.00000000e+00 8.00000000e+00]\n",
            "   [7.85714149e-01 0.00000000e+00 5.57142830e+00]\n",
            "   ...\n",
            "   [2.02550831e+01 5.85716438e+00 5.05612373e+00]\n",
            "   [1.81428432e+01 7.14284325e+00 5.14284325e+00]\n",
            "   [1.68571072e+01 5.85710716e+00 3.85710716e+00]]\n",
            "\n",
            "  [[3.00000000e+00 1.78571415e+00 1.04285717e+01]\n",
            "   [3.00000000e+00 2.00000000e+00 1.00000000e+01]\n",
            "   [7.85714149e-01 0.00000000e+00 5.78571415e+00]\n",
            "   ...\n",
            "   [1.83571434e+01 4.78571415e+00 5.21428585e+00]\n",
            "   [1.80152817e+01 4.64286995e+00 3.78571415e+00]\n",
            "   [1.63571434e+01 5.57142830e+00 3.78571415e+00]]\n",
            "\n",
            "  ...\n",
            "\n",
            "  [[1.42076523e+02 1.45647995e+02 2.19647995e+02]\n",
            "   [1.40285690e+02 1.43857162e+02 2.17857162e+02]\n",
            "   [1.41811188e+02 1.42785721e+02 2.17785736e+02]\n",
            "   ...\n",
            "   [9.73367081e+01 1.47076538e+02 1.95693924e+02]\n",
            "   [1.00571350e+02 1.48928558e+02 2.05698929e+02]\n",
            "   [1.11500000e+02 1.59857208e+02 2.18994919e+02]]\n",
            "\n",
            "  [[1.41025513e+02 1.47025513e+02 2.23025513e+02]\n",
            "   [1.39142868e+02 1.45142868e+02 2.21142868e+02]\n",
            "   [1.41229584e+02 1.44015305e+02 2.21015305e+02]\n",
            "   ...\n",
            "   [1.00571472e+02 1.52500031e+02 2.02857239e+02]\n",
            "   [9.94898834e+01 1.49418442e+02 2.02632767e+02]\n",
            "   [1.04137863e+02 1.53137863e+02 2.09137863e+02]]\n",
            "\n",
            "  [[1.41000000e+02 1.49000000e+02 2.24000000e+02]\n",
            "   [1.39403091e+02 1.47403091e+02 2.22403091e+02]\n",
            "   [1.41653000e+02 1.45280640e+02 2.22000000e+02]\n",
            "   ...\n",
            "   [1.10209267e+02 1.61142883e+02 2.18918442e+02]\n",
            "   [1.07974571e+02 1.58974579e+02 2.15882721e+02]\n",
            "   [1.06000000e+02 1.55000000e+02 2.11000000e+02]]]\n",
            "\n",
            "\n",
            " [[[3.05714302e+01 1.26989794e+01 4.10204077e+00]\n",
            "   [3.80255089e+01 1.81683674e+01 7.23979616e+00]\n",
            "   [4.86377563e+01 2.21479588e+01 6.85714293e+00]\n",
            "   ...\n",
            "   [1.25285713e+02 8.82857132e+01 5.92857132e+01]\n",
            "   [1.25285713e+02 8.92857132e+01 5.72857132e+01]\n",
            "   [1.25285713e+02 8.92857132e+01 5.72857132e+01]]\n",
            "\n",
            "  [[3.70714264e+01 1.48826532e+01 5.02040815e+00]\n",
            "   [4.45663261e+01 2.07193890e+01 8.80102158e+00]\n",
            "   [5.31275520e+01 2.53571434e+01 8.14285755e+00]\n",
            "   ...\n",
            "   [1.29857147e+02 9.36428833e+01 6.22856712e+01]\n",
            "   [1.29857147e+02 9.38571472e+01 6.18571434e+01]\n",
            "   [1.29857147e+02 9.38571472e+01 6.18571434e+01]]\n",
            "\n",
            "  [[4.39285698e+01 1.52193880e+01 5.13775539e+00]\n",
            "   [5.16428566e+01 2.17448997e+01 7.72959185e+00]\n",
            "   [6.03571434e+01 2.56428566e+01 8.00000000e+00]\n",
            "   ...\n",
            "   [1.36428574e+02 9.74285736e+01 6.67652740e+01]\n",
            "   [1.36428574e+02 9.74285736e+01 6.64285736e+01]\n",
            "   [1.36428574e+02 9.74285736e+01 6.64285736e+01]]\n",
            "\n",
            "  ...\n",
            "\n",
            "  [[1.63714355e+02 9.57143478e+01 3.31428795e+01]\n",
            "   [1.60428635e+02 9.24286346e+01 2.98571644e+01]\n",
            "   [1.60571487e+02 9.25714951e+01 3.00000229e+01]\n",
            "   ...\n",
            "   [1.69168350e+02 9.91683578e+01 2.87398262e+01]\n",
            "   [1.69214264e+02 9.92142639e+01 2.87857361e+01]\n",
            "   [1.69494919e+02 9.94949112e+01 2.90663834e+01]]\n",
            "\n",
            "  [[1.70403076e+02 1.03071442e+02 3.60663261e+01]\n",
            "   [1.69071442e+02 1.02005119e+02 3.42040939e+01]\n",
            "   [1.68270416e+02 1.01071442e+02 3.36683731e+01]\n",
            "   ...\n",
            "   [1.69857117e+02 9.98571167e+01 3.08571167e+01]\n",
            "   [1.69994904e+02 9.99948959e+01 3.09948959e+01]\n",
            "   [1.70857117e+02 1.00857117e+02 3.18571167e+01]]\n",
            "\n",
            "  [[1.69285645e+02 1.02285645e+02 3.22856445e+01]\n",
            "   [1.68311157e+02 1.01311157e+02 3.13111572e+01]\n",
            "   [1.67566284e+02 1.00566284e+02 3.05662842e+01]\n",
            "   ...\n",
            "   [1.67862259e+02 9.68622665e+01 3.08622665e+01]\n",
            "   [1.68000000e+02 9.70000000e+01 3.10000000e+01]\n",
            "   [1.68357178e+02 9.73571777e+01 3.13571777e+01]]]], shape=(32, 224, 224, 3), dtype=float32) tf.Tensor(\n",
            "[[0. 0. 0. 0. 0. 1. 0. 0. 0. 0.]\n",
            " [0. 1. 0. 0. 0. 0. 0. 0. 0. 0.]\n",
            " [0. 0. 1. 0. 0. 0. 0. 0. 0. 0.]\n",
            " [0. 0. 0. 0. 0. 0. 0. 1. 0. 0.]\n",
            " [0. 0. 0. 0. 0. 0. 0. 0. 1. 0.]\n",
            " [0. 0. 0. 0. 0. 0. 0. 0. 0. 1.]\n",
            " [0. 0. 0. 0. 1. 0. 0. 0. 0. 0.]\n",
            " [1. 0. 0. 0. 0. 0. 0. 0. 0. 0.]\n",
            " [0. 0. 0. 0. 0. 0. 0. 0. 1. 0.]\n",
            " [0. 0. 0. 0. 0. 0. 0. 0. 0. 1.]\n",
            " [0. 0. 0. 0. 1. 0. 0. 0. 0. 0.]\n",
            " [0. 0. 0. 0. 0. 0. 0. 0. 0. 1.]\n",
            " [0. 0. 0. 0. 1. 0. 0. 0. 0. 0.]\n",
            " [0. 0. 0. 0. 0. 0. 1. 0. 0. 0.]\n",
            " [0. 0. 0. 0. 0. 0. 0. 0. 0. 1.]\n",
            " [0. 0. 0. 0. 0. 0. 1. 0. 0. 0.]\n",
            " [0. 0. 0. 0. 0. 0. 0. 1. 0. 0.]\n",
            " [0. 0. 0. 0. 0. 0. 1. 0. 0. 0.]\n",
            " [0. 0. 0. 0. 0. 0. 0. 0. 1. 0.]\n",
            " [0. 0. 0. 1. 0. 0. 0. 0. 0. 0.]\n",
            " [0. 0. 0. 0. 0. 0. 1. 0. 0. 0.]\n",
            " [0. 0. 0. 0. 1. 0. 0. 0. 0. 0.]\n",
            " [0. 0. 0. 0. 0. 0. 1. 0. 0. 0.]\n",
            " [0. 0. 1. 0. 0. 0. 0. 0. 0. 0.]\n",
            " [0. 1. 0. 0. 0. 0. 0. 0. 0. 0.]\n",
            " [0. 0. 0. 0. 0. 0. 0. 0. 0. 1.]\n",
            " [1. 0. 0. 0. 0. 0. 0. 0. 0. 0.]\n",
            " [0. 0. 0. 0. 0. 1. 0. 0. 0. 0.]\n",
            " [0. 0. 0. 0. 0. 0. 0. 0. 1. 0.]\n",
            " [0. 0. 0. 0. 0. 1. 0. 0. 0. 0.]\n",
            " [0. 0. 0. 0. 1. 0. 0. 0. 0. 0.]\n",
            " [0. 0. 0. 0. 0. 1. 0. 0. 0. 0.]], shape=(32, 10), dtype=float32)\n"
          ]
        }
      ]
    },
    {
      "cell_type": "markdown",
      "source": [
        "## Model 0: Building a transfer learning feature extraction model using the keras functional API.\n",
        "\n",
        "---\n",
        "\n",
        "\n",
        "\n",
        "The sequential API is straightforward, it runs the layers in sequential order.\n",
        "\n",
        "However, the functional API  gives more flexiability with models.\n",
        "link: https://www.tensorflow.org/guide/keras/functional?hl=en"
      ],
      "metadata": {
        "id": "aSuzT8aRBjOd"
      }
    },
    {
      "cell_type": "markdown",
      "source": [
        "**1.** Create a base model with tf.keras.applications."
      ],
      "metadata": {
        "id": "6j_9Fa5zJI18"
      }
    },
    {
      "cell_type": "code",
      "source": [
        "base_model = tf.keras.applications.EfficientNetB0(include_top=False)"
      ],
      "metadata": {
        "id": "SkP2G6Z2JIyb",
        "colab": {
          "base_uri": "https://localhost:8080/"
        },
        "outputId": "d23f31f7-7610-4198-a62e-4976fcd74e3b"
      },
      "execution_count": 17,
      "outputs": [
        {
          "output_type": "stream",
          "name": "stdout",
          "text": [
            "Downloading data from https://storage.googleapis.com/keras-applications/efficientnetb0_notop.h5\n",
            "16711680/16705208 [==============================] - 0s 0us/step\n",
            "16719872/16705208 [==============================] - 0s 0us/step\n"
          ]
        }
      ]
    },
    {
      "cell_type": "markdown",
      "source": [
        "\n",
        "\n",
        "---\n",
        "\n"
      ],
      "metadata": {
        "id": "9XtxhLhQJIvw"
      }
    },
    {
      "cell_type": "markdown",
      "source": [
        "**2**. Freeze the base model (so the underlying pre-trained patterns aren't updated during training)."
      ],
      "metadata": {
        "id": "TF9vF0ETXHBv"
      }
    },
    {
      "cell_type": "code",
      "source": [
        "base_model.trainable = False"
      ],
      "metadata": {
        "id": "a6V4BKM6Xi9I"
      },
      "execution_count": 18,
      "outputs": []
    },
    {
      "cell_type": "markdown",
      "source": [
        "\n",
        "\n",
        "---\n",
        "\n",
        "\n",
        "\n",
        "\n"
      ],
      "metadata": {
        "id": "yIMBFZuwXswx"
      }
    },
    {
      "cell_type": "markdown",
      "source": [
        "**3**. Create inputs in to the model."
      ],
      "metadata": {
        "id": "gdEmLkulX85a"
      }
    },
    {
      "cell_type": "code",
      "source": [
        "inputs = tf.keras.layers.Input(shape=(254,254,3), name='input_layer')"
      ],
      "metadata": {
        "id": "8aPXH-ZAYJHl"
      },
      "execution_count": 19,
      "outputs": []
    },
    {
      "cell_type": "markdown",
      "source": [
        "\n",
        "\n",
        "\n",
        "\n",
        "---\n",
        "\n",
        "\n",
        "\n",
        "\n"
      ],
      "metadata": {
        "id": "QrWOvXG3YlMC"
      }
    },
    {
      "cell_type": "markdown",
      "source": [
        "**4**. If using ResNet50V2 you will need to normalise inputs (you don't have to for EffecientNet(s)).\n"
      ],
      "metadata": {
        "id": "k8UIMKqCYpJ0"
      }
    },
    {
      "cell_type": "code",
      "source": [
        "# x = tf.keras.layers.experimental.preprocessing.Rescaling(1./255)(inputs)"
      ],
      "metadata": {
        "id": "TurhseFzY8ev"
      },
      "execution_count": 20,
      "outputs": []
    },
    {
      "cell_type": "markdown",
      "source": [
        "\n",
        "\n",
        "---\n",
        "\n"
      ],
      "metadata": {
        "id": "djrIpGUdZmI1"
      }
    },
    {
      "cell_type": "markdown",
      "source": [
        "**5**. Pass the inputs to the base_model."
      ],
      "metadata": {
        "id": "ZIgy3l8DZpNl"
      }
    },
    {
      "cell_type": "code",
      "source": [
        "x = base_model(inputs)\n",
        "print(f\"Shape after passing inputs through base model: {x.shape} \")"
      ],
      "metadata": {
        "colab": {
          "base_uri": "https://localhost:8080/"
        },
        "id": "OP_jDP2Yal1c",
        "outputId": "c5ee0ea6-0331-4fe9-ba53-514859ca1276"
      },
      "execution_count": 21,
      "outputs": [
        {
          "output_type": "stream",
          "name": "stdout",
          "text": [
            "Shape after passing inputs through base model: (None, 7, 7, 1280) \n"
          ]
        }
      ]
    },
    {
      "cell_type": "markdown",
      "source": [
        "\n",
        "\n",
        "---\n",
        "\n",
        "\n",
        "\n"
      ],
      "metadata": {
        "id": "Rxq5iOaFa_Wx"
      }
    },
    {
      "cell_type": "markdown",
      "source": [
        "**6**. Average pool the outputs of the base model (aggregate all the most importantinformation, reduce number of computations). "
      ],
      "metadata": {
        "id": "oXtpuBSdbCbG"
      }
    },
    {
      "cell_type": "code",
      "source": [
        "x = tf.keras.layers.GlobalAveragePooling2D(name='global_avg_pooling_layer')(x)\n",
        "print(f\"Shape after GlobalAveragePooling2d: {x.shape}\")"
      ],
      "metadata": {
        "colab": {
          "base_uri": "https://localhost:8080/"
        },
        "id": "feLyLh39bkGq",
        "outputId": "6dcd129c-e00f-48d7-9010-624dffd20547"
      },
      "execution_count": 22,
      "outputs": [
        {
          "output_type": "stream",
          "name": "stdout",
          "text": [
            "Shape after GlobalAveragePooling2d: (None, 1280)\n"
          ]
        }
      ]
    },
    {
      "cell_type": "markdown",
      "source": [
        "\n",
        "\n",
        "---"
      ],
      "metadata": {
        "id": "v1QBk960cJVN"
      }
    },
    {
      "cell_type": "markdown",
      "source": [
        "**7**. Create the output activation layer."
      ],
      "metadata": {
        "id": "tOA2ZRJTcOwZ"
      }
    },
    {
      "cell_type": "code",
      "source": [
        "outputs = tf.keras.layers.Dense(10, activation=\"softmax\", name=\"output_layer\")(x)"
      ],
      "metadata": {
        "id": "oPcjkIZPck_5"
      },
      "execution_count": 23,
      "outputs": []
    },
    {
      "cell_type": "markdown",
      "source": [
        "\n",
        "\n",
        "---"
      ],
      "metadata": {
        "id": "mSl5MaPvc-cx"
      }
    },
    {
      "cell_type": "markdown",
      "source": [
        "**8**. Combine the inputs with the outputs into a model."
      ],
      "metadata": {
        "id": "NmpaoccOdGp7"
      }
    },
    {
      "cell_type": "code",
      "source": [
        "model_0 = tf.keras.Model(inputs,outputs)"
      ],
      "metadata": {
        "id": "fWQTA9UcdW1g"
      },
      "execution_count": 24,
      "outputs": []
    },
    {
      "cell_type": "markdown",
      "source": [
        "\n",
        "\n",
        "---"
      ],
      "metadata": {
        "id": "cyAu3myRdmCg"
      }
    },
    {
      "cell_type": "markdown",
      "source": [
        "**9**. Compile for the model"
      ],
      "metadata": {
        "id": "3wx-neO7dp-F"
      }
    },
    {
      "cell_type": "code",
      "source": [
        ""
      ],
      "metadata": {
        "id": "M-zJs36Bd3pm"
      },
      "execution_count": null,
      "outputs": []
    }
  ]
}