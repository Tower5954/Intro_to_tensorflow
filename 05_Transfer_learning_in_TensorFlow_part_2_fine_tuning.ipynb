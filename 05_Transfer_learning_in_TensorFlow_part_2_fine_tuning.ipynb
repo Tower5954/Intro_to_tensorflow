{
  "nbformat": 4,
  "nbformat_minor": 0,
  "metadata": {
    "colab": {
      "name": "05_Transfer_learning_in_TensorFlow_part_2_fine_tuning.ipynb",
      "provenance": [],
      "authorship_tag": "ABX9TyNq+gcfYAWGijzhdpsdKlwQ",
      "include_colab_link": true
    },
    "kernelspec": {
      "name": "python3",
      "display_name": "Python 3"
    },
    "language_info": {
      "name": "python"
    },
    "accelerator": "GPU"
  },
  "cells": [
    {
      "cell_type": "markdown",
      "metadata": {
        "id": "view-in-github",
        "colab_type": "text"
      },
      "source": [
        "<a href=\"https://colab.research.google.com/github/Tower5954/TensorFlow/blob/main/05_Transfer_learning_in_TensorFlow_part_2_fine_tuning.ipynb\" target=\"_parent\"><img src=\"https://colab.research.google.com/assets/colab-badge.svg\" alt=\"Open In Colab\"/></a>"
      ]
    },
    {
      "cell_type": "markdown",
      "source": [
        "# Transfer learning with TensorFlow part 2: Fine-tuning\n",
        "\n",
        "In the previous notebook, we covered transfer learning feature extraction, in this notebook we will go through a new kind of transfer learning: fine-tuning"
      ],
      "metadata": {
        "id": "h7bjh3cKczHO"
      }
    },
    {
      "cell_type": "code",
      "source": [
        "# Check if we are using a GPU\n",
        "!nvidia-smi"
      ],
      "metadata": {
        "colab": {
          "base_uri": "https://localhost:8080/"
        },
        "id": "gThBAIqofghG",
        "outputId": "a48fedf3-2586-496a-d3d3-27b358491911"
      },
      "execution_count": 1,
      "outputs": [
        {
          "output_type": "stream",
          "name": "stdout",
          "text": [
            "Sun Dec 19 04:11:25 2021       \n",
            "+-----------------------------------------------------------------------------+\n",
            "| NVIDIA-SMI 495.44       Driver Version: 460.32.03    CUDA Version: 11.2     |\n",
            "|-------------------------------+----------------------+----------------------+\n",
            "| GPU  Name        Persistence-M| Bus-Id        Disp.A | Volatile Uncorr. ECC |\n",
            "| Fan  Temp  Perf  Pwr:Usage/Cap|         Memory-Usage | GPU-Util  Compute M. |\n",
            "|                               |                      |               MIG M. |\n",
            "|===============================+======================+======================|\n",
            "|   0  Tesla K80           Off  | 00000000:00:04.0 Off |                    0 |\n",
            "| N/A   62C    P8    31W / 149W |      0MiB / 11441MiB |      0%      Default |\n",
            "|                               |                      |                  N/A |\n",
            "+-------------------------------+----------------------+----------------------+\n",
            "                                                                               \n",
            "+-----------------------------------------------------------------------------+\n",
            "| Processes:                                                                  |\n",
            "|  GPU   GI   CI        PID   Type   Process name                  GPU Memory |\n",
            "|        ID   ID                                                   Usage      |\n",
            "|=============================================================================|\n",
            "|  No running processes found                                                 |\n",
            "+-----------------------------------------------------------------------------+\n"
          ]
        }
      ]
    },
    {
      "cell_type": "markdown",
      "source": [
        "## Creating helper functions\n",
        "\n",
        "It is a good idea, to put functions that you will use a lot in a script, that you can download and import into your notebooks (or elsewhere).\n",
        "\n",
        "We have done this for some of the functions previously used here:\n",
        "https://raw.githubusercontent.com/mrdbourke/tensorflow-deep-learning/main/extras/helper_functions.py"
      ],
      "metadata": {
        "id": "oW5f6TEnfwOU"
      }
    },
    {
      "cell_type": "code",
      "source": [
        "!wget https://raw.githubusercontent.com/mrdbourke/tensorflow-deep-learning/main/extras/helper_functions.py"
      ],
      "metadata": {
        "colab": {
          "base_uri": "https://localhost:8080/"
        },
        "id": "5Y2gwkhGluge",
        "outputId": "98818f2a-889e-4ec7-bf08-98cab3b1560c"
      },
      "execution_count": 2,
      "outputs": [
        {
          "output_type": "stream",
          "name": "stdout",
          "text": [
            "--2021-12-19 04:11:25--  https://raw.githubusercontent.com/mrdbourke/tensorflow-deep-learning/main/extras/helper_functions.py\n",
            "Resolving raw.githubusercontent.com (raw.githubusercontent.com)... 185.199.109.133, 185.199.111.133, 185.199.110.133, ...\n",
            "Connecting to raw.githubusercontent.com (raw.githubusercontent.com)|185.199.109.133|:443... connected.\n",
            "HTTP request sent, awaiting response... 200 OK\n",
            "Length: 10246 (10K) [text/plain]\n",
            "Saving to: ‘helper_functions.py’\n",
            "\n",
            "helper_functions.py 100%[===================>]  10.01K  --.-KB/s    in 0s      \n",
            "\n",
            "2021-12-19 04:11:25 (45.3 MB/s) - ‘helper_functions.py’ saved [10246/10246]\n",
            "\n"
          ]
        }
      ]
    },
    {
      "cell_type": "code",
      "source": [
        "from helper_functions import create_tensorboard_callback,plot_loss_curves,unzip_data,walk_through_dir"
      ],
      "metadata": {
        "id": "tI4lgbGllwOD"
      },
      "execution_count": 3,
      "outputs": []
    },
    {
      "cell_type": "markdown",
      "source": [
        "## The data"
      ],
      "metadata": {
        "id": "5v5busqJqNy1"
      }
    },
    {
      "cell_type": "markdown",
      "source": [
        "This time we will see how we can use the pretrained models within tf.keras.applications and apply them to our own problem (recognising images of food)\n",
        "link: https://www.tensorflow.org/api_docs/python/tf/keras/applications"
      ],
      "metadata": {
        "id": "6Y_NtTFg45sk"
      }
    },
    {
      "cell_type": "code",
      "source": [
        "# Get 10% of training data of 10 classes of food 101"
      ],
      "metadata": {
        "id": "M9FAuKuW7DiS"
      },
      "execution_count": 4,
      "outputs": []
    },
    {
      "cell_type": "code",
      "source": [
        "!wget https://storage.googleapis.com/ztm_tf_course/food_vision/10_food_classes_10_percent.zip"
      ],
      "metadata": {
        "colab": {
          "base_uri": "https://localhost:8080/"
        },
        "id": "0n0xEYyq7Qqn",
        "outputId": "d8b60ad1-f089-48ef-f820-47f86374e445"
      },
      "execution_count": 5,
      "outputs": [
        {
          "output_type": "stream",
          "name": "stdout",
          "text": [
            "--2021-12-19 04:27:02--  https://storage.googleapis.com/ztm_tf_course/food_vision/10_food_classes_10_percent.zip\n",
            "Resolving storage.googleapis.com (storage.googleapis.com)... 108.177.111.128, 108.177.121.128, 142.250.103.128, ...\n",
            "Connecting to storage.googleapis.com (storage.googleapis.com)|108.177.111.128|:443... connected.\n",
            "HTTP request sent, awaiting response... 200 OK\n",
            "Length: 168546183 (161M) [application/zip]\n",
            "Saving to: ‘10_food_classes_10_percent.zip’\n",
            "\n",
            "10_food_classes_10_ 100%[===================>] 160.74M   163MB/s    in 1.0s    \n",
            "\n",
            "2021-12-19 04:27:03 (163 MB/s) - ‘10_food_classes_10_percent.zip’ saved [168546183/168546183]\n",
            "\n"
          ]
        }
      ]
    },
    {
      "cell_type": "code",
      "source": [
        "unzip_data(\"10_food_classes_10_percent.zip\")"
      ],
      "metadata": {
        "id": "A9sv88K78Wqs"
      },
      "execution_count": 6,
      "outputs": []
    },
    {
      "cell_type": "code",
      "source": [
        "# check how many images and subdirectories in the dataset"
      ],
      "metadata": {
        "id": "CgV-Th8f8ptV"
      },
      "execution_count": 7,
      "outputs": []
    },
    {
      "cell_type": "code",
      "source": [
        "walk_through_dir(\"10_food_classes_10_percent\")"
      ],
      "metadata": {
        "colab": {
          "base_uri": "https://localhost:8080/"
        },
        "id": "Rza3Hc1b89WG",
        "outputId": "03ee1ad2-5a73-45e3-a622-62fed6f2dba0"
      },
      "execution_count": 8,
      "outputs": [
        {
          "output_type": "stream",
          "name": "stdout",
          "text": [
            "There are 2 directories and 0 images in '10_food_classes_10_percent'.\n",
            "There are 10 directories and 0 images in '10_food_classes_10_percent/test'.\n",
            "There are 0 directories and 250 images in '10_food_classes_10_percent/test/fried_rice'.\n",
            "There are 0 directories and 250 images in '10_food_classes_10_percent/test/grilled_salmon'.\n",
            "There are 0 directories and 250 images in '10_food_classes_10_percent/test/steak'.\n",
            "There are 0 directories and 250 images in '10_food_classes_10_percent/test/hamburger'.\n",
            "There are 0 directories and 250 images in '10_food_classes_10_percent/test/chicken_curry'.\n",
            "There are 0 directories and 250 images in '10_food_classes_10_percent/test/pizza'.\n",
            "There are 0 directories and 250 images in '10_food_classes_10_percent/test/sushi'.\n",
            "There are 0 directories and 250 images in '10_food_classes_10_percent/test/ramen'.\n",
            "There are 0 directories and 250 images in '10_food_classes_10_percent/test/chicken_wings'.\n",
            "There are 0 directories and 250 images in '10_food_classes_10_percent/test/ice_cream'.\n",
            "There are 10 directories and 0 images in '10_food_classes_10_percent/train'.\n",
            "There are 0 directories and 75 images in '10_food_classes_10_percent/train/fried_rice'.\n",
            "There are 0 directories and 75 images in '10_food_classes_10_percent/train/grilled_salmon'.\n",
            "There are 0 directories and 75 images in '10_food_classes_10_percent/train/steak'.\n",
            "There are 0 directories and 75 images in '10_food_classes_10_percent/train/hamburger'.\n",
            "There are 0 directories and 75 images in '10_food_classes_10_percent/train/chicken_curry'.\n",
            "There are 0 directories and 75 images in '10_food_classes_10_percent/train/pizza'.\n",
            "There are 0 directories and 75 images in '10_food_classes_10_percent/train/sushi'.\n",
            "There are 0 directories and 75 images in '10_food_classes_10_percent/train/ramen'.\n",
            "There are 0 directories and 75 images in '10_food_classes_10_percent/train/chicken_wings'.\n",
            "There are 0 directories and 75 images in '10_food_classes_10_percent/train/ice_cream'.\n"
          ]
        }
      ]
    },
    {
      "cell_type": "code",
      "source": [
        "# Create training and test "
      ],
      "metadata": {
        "id": "AN07Qpnp9ErP"
      },
      "execution_count": 9,
      "outputs": []
    },
    {
      "cell_type": "code",
      "source": [
        "train_dir = \"10_food_classes_10_percent/train\" \n",
        "test_dir = \"10_food_classes_10_percent/test\""
      ],
      "metadata": {
        "id": "kOgOhNBt9dc6"
      },
      "execution_count": 10,
      "outputs": []
    },
    {
      "cell_type": "code",
      "source": [
        "import tensorflow as tf\n",
        "IMG_SIZE = (224,224)\n",
        "BATCH_SIZE = 32\n",
        "\n",
        "train_data_10_percent = tf.keras.preprocessing.image_dataset_from_directory(directory=train_dir,\n",
        "                                                                            image_size=IMG_SIZE,\n",
        "                                                                            label_mode=\"categorical\",\n",
        "                                                                            batch_size=BATCH_SIZE)\n",
        "\n",
        "\n",
        "test_data = tf.keras.preprocessing.image_dataset_from_directory(directory=test_dir,\n",
        "                                                                image_size=IMG_SIZE,\n",
        "                                                                label_mode=\"categorical\",\n",
        "                                                                batch_size=BATCH_SIZE)"
      ],
      "metadata": {
        "colab": {
          "base_uri": "https://localhost:8080/"
        },
        "id": "brqhPExi93yD",
        "outputId": "652a55b1-b731-433c-dee3-6b8be4ce99fd"
      },
      "execution_count": 11,
      "outputs": [
        {
          "output_type": "stream",
          "name": "stdout",
          "text": [
            "Found 750 files belonging to 10 classes.\n",
            "Found 2500 files belonging to 10 classes.\n"
          ]
        }
      ]
    },
    {
      "cell_type": "code",
      "source": [
        "train_data_10_percent"
      ],
      "metadata": {
        "colab": {
          "base_uri": "https://localhost:8080/"
        },
        "id": "18Yy7CJEABa8",
        "outputId": "00e33403-140a-424a-a222-f3e025e719e3"
      },
      "execution_count": 12,
      "outputs": [
        {
          "output_type": "execute_result",
          "data": {
            "text/plain": [
              "<BatchDataset shapes: ((None, 224, 224, 3), (None, 10)), types: (tf.float32, tf.float32)>"
            ]
          },
          "metadata": {},
          "execution_count": 12
        }
      ]
    },
    {
      "cell_type": "code",
      "source": [
        "# Check the class names of the dataset"
      ],
      "metadata": {
        "id": "LjcmhrWAAKyw"
      },
      "execution_count": 13,
      "outputs": []
    },
    {
      "cell_type": "code",
      "source": [
        "train_data_10_percent.class_names"
      ],
      "metadata": {
        "colab": {
          "base_uri": "https://localhost:8080/"
        },
        "id": "cd3vVzQ0A3vg",
        "outputId": "729df31b-662a-4470-d8f0-63f0916bb6cd"
      },
      "execution_count": 14,
      "outputs": [
        {
          "output_type": "execute_result",
          "data": {
            "text/plain": [
              "['chicken_curry',\n",
              " 'chicken_wings',\n",
              " 'fried_rice',\n",
              " 'grilled_salmon',\n",
              " 'hamburger',\n",
              " 'ice_cream',\n",
              " 'pizza',\n",
              " 'ramen',\n",
              " 'steak',\n",
              " 'sushi']"
            ]
          },
          "metadata": {},
          "execution_count": 14
        }
      ]
    },
    {
      "cell_type": "code",
      "source": [
        "# See an example of a batch of data\n",
        "\n",
        "for images, labels in train_data_10_percent.take(1):\n",
        "  print(images,labels)"
      ],
      "metadata": {
        "colab": {
          "base_uri": "https://localhost:8080/"
        },
        "id": "ruN_LwIzA8Sb",
        "outputId": "39234f18-57db-468f-aca4-7117b7197bee"
      },
      "execution_count": 15,
      "outputs": [
        {
          "output_type": "stream",
          "name": "stdout",
          "text": [
            "tf.Tensor(\n",
            "[[[[1.00000000e+00 0.00000000e+00 3.10000000e+01]\n",
            "   [1.00000000e+00 0.00000000e+00 3.10000000e+01]\n",
            "   [1.00000000e+00 0.00000000e+00 3.10000000e+01]\n",
            "   ...\n",
            "   [1.00000000e+00 0.00000000e+00 3.10000000e+01]\n",
            "   [1.00000000e+00 0.00000000e+00 3.10000000e+01]\n",
            "   [1.00000000e+00 0.00000000e+00 3.10000000e+01]]\n",
            "\n",
            "  [[1.00000000e+00 0.00000000e+00 3.10000000e+01]\n",
            "   [1.00000000e+00 0.00000000e+00 3.10000000e+01]\n",
            "   [1.00000000e+00 0.00000000e+00 3.10000000e+01]\n",
            "   ...\n",
            "   [1.00000000e+00 0.00000000e+00 3.10000000e+01]\n",
            "   [1.00000000e+00 0.00000000e+00 3.10000000e+01]\n",
            "   [1.00000000e+00 0.00000000e+00 3.10000000e+01]]\n",
            "\n",
            "  [[1.00000000e+00 0.00000000e+00 3.10000000e+01]\n",
            "   [1.00000000e+00 0.00000000e+00 3.10000000e+01]\n",
            "   [1.00000000e+00 0.00000000e+00 3.10000000e+01]\n",
            "   ...\n",
            "   [1.00000000e+00 0.00000000e+00 3.10000000e+01]\n",
            "   [1.00000000e+00 0.00000000e+00 3.10000000e+01]\n",
            "   [1.00000000e+00 0.00000000e+00 3.10000000e+01]]\n",
            "\n",
            "  ...\n",
            "\n",
            "  [[1.07500107e+02 9.49286346e+01 8.90816803e+01]\n",
            "   [1.15714394e+02 1.01285782e+02 9.41582489e+01]\n",
            "   [1.17974548e+02 1.04188812e+02 9.51888123e+01]\n",
            "   ...\n",
            "   [1.18617378e+02 2.90000000e+01 2.76939182e+01]\n",
            "   [1.19000000e+02 2.90000000e+01 2.80000000e+01]\n",
            "   [1.20076530e+02 3.00765305e+01 2.98622665e+01]]\n",
            "\n",
            "  [[1.07045891e+02 9.20458908e+01 8.70458908e+01]\n",
            "   [1.15852043e+02 1.00852043e+02 9.38520432e+01]\n",
            "   [1.15841820e+02 1.02056099e+02 9.32703857e+01]\n",
            "   ...\n",
            "   [1.17943863e+02 2.99438648e+01 2.87296009e+01]\n",
            "   [1.17923454e+02 2.79234543e+01 2.79234543e+01]\n",
            "   [1.17857117e+02 2.78571167e+01 2.78571167e+01]]\n",
            "\n",
            "  [[1.00785606e+02 8.57856064e+01 8.07856064e+01]\n",
            "   [1.13999931e+02 9.89999313e+01 9.28061218e+01]\n",
            "   [1.11999931e+02 9.74284973e+01 9.06427841e+01]\n",
            "   ...\n",
            "   [1.16857086e+02 2.88570862e+01 2.76428223e+01]\n",
            "   [1.14571381e+02 2.65713806e+01 2.55713806e+01]\n",
            "   [1.14642822e+02 2.46428223e+01 2.66428223e+01]]]\n",
            "\n",
            "\n",
            " [[[9.97704086e+01 8.47704086e+01 7.97704086e+01]\n",
            "   [9.99540787e+01 8.49540787e+01 7.99540787e+01]\n",
            "   [9.87193909e+01 8.37193909e+01 7.87193909e+01]\n",
            "   ...\n",
            "   [8.32244949e+01 6.12244949e+01 5.02244949e+01]\n",
            "   [8.33112183e+01 6.13112144e+01 4.83112144e+01]\n",
            "   [8.20305862e+01 6.00305862e+01 4.70305862e+01]]\n",
            "\n",
            "  [[1.00214287e+02 8.52142868e+01 8.02142868e+01]\n",
            "   [1.02928574e+02 8.79285736e+01 8.29285736e+01]\n",
            "   [9.97857132e+01 8.47857132e+01 7.97857132e+01]\n",
            "   ...\n",
            "   [8.33265152e+01 6.13265114e+01 5.03265114e+01]\n",
            "   [8.10000000e+01 5.90000000e+01 4.80000000e+01]\n",
            "   [8.41429596e+01 6.21429596e+01 4.91429596e+01]]\n",
            "\n",
            "  [[1.02642860e+02 8.80714340e+01 8.28571472e+01]\n",
            "   [1.02484695e+02 8.79132614e+01 8.26989746e+01]\n",
            "   [9.95051041e+01 8.49336777e+01 7.97193909e+01]\n",
            "   ...\n",
            "   [8.21938248e+01 6.01479073e+01 4.92856483e+01]\n",
            "   [8.32142868e+01 6.12142868e+01 5.02142868e+01]\n",
            "   [8.16530075e+01 5.96530075e+01 4.86530075e+01]]\n",
            "\n",
            "  ...\n",
            "\n",
            "  [[2.10591568e+02 2.18591568e+02 2.21591568e+02]\n",
            "   [2.30836639e+02 2.38836639e+02 2.41836639e+02]\n",
            "   [2.34739914e+02 2.42739914e+02 2.45739914e+02]\n",
            "   ...\n",
            "   [1.70117233e+02 1.26520348e+02 4.83826180e+01]\n",
            "   [1.64474518e+02 1.16903099e+02 3.87449684e+01]\n",
            "   [1.66433304e+02 1.17004784e+02 3.95762558e+01]]\n",
            "\n",
            "  [[1.96214615e+02 2.01214615e+02 2.05214615e+02]\n",
            "   [2.08872192e+02 2.13872192e+02 2.17872192e+02]\n",
            "   [2.25576508e+02 2.30576508e+02 2.34576508e+02]\n",
            "   ...\n",
            "   [1.60785736e+02 1.15168343e+02 4.06121788e+01]\n",
            "   [1.68622375e+02 1.20484596e+02 4.43366089e+01]\n",
            "   [1.62193466e+02 1.13193459e+02 3.60505753e+01]]\n",
            "\n",
            "  [[2.44515427e+02 2.49515427e+02 2.52137848e+02]\n",
            "   [2.01648727e+02 2.06648727e+02 2.10648727e+02]\n",
            "   [2.08667542e+02 2.13667542e+02 2.17667542e+02]\n",
            "   ...\n",
            "   [1.72132980e+02 1.23852333e+02 4.85563278e+01]\n",
            "   [1.61703796e+02 1.11897598e+02 3.27547112e+01]\n",
            "   [1.56423279e+02 1.05066101e+02 2.33517475e+01]]]\n",
            "\n",
            "\n",
            " [[[1.96612244e+02 1.90438782e+02 1.71025513e+02]\n",
            "   [1.93663269e+02 1.90520416e+02 1.72714294e+02]\n",
            "   [1.87357147e+02 1.88418365e+02 1.74147949e+02]\n",
            "   ...\n",
            "   [1.01642921e+02 6.29949265e+01 4.57041397e+01]\n",
            "   [1.02979591e+02 6.39336624e+01 4.90714417e+01]\n",
            "   [1.05040840e+02 6.43265533e+01 5.36122704e+01]]\n",
            "\n",
            "  [[1.93428574e+02 1.89290817e+02 1.72479584e+02]\n",
            "   [1.90494904e+02 1.88341827e+02 1.73071426e+02]\n",
            "   [1.91642868e+02 1.92127548e+02 1.80198975e+02]\n",
            "   ...\n",
            "   [9.97857590e+01 6.57857361e+01 5.29031448e+01]\n",
            "   [9.98622055e+01 6.27907791e+01 5.45764923e+01]\n",
            "   [9.51887741e+01 5.81173439e+01 5.19030609e+01]]\n",
            "\n",
            "  [[1.94801025e+02 1.95096939e+02 1.79806122e+02]\n",
            "   [1.94040817e+02 1.95255096e+02 1.81142853e+02]\n",
            "   [1.92760208e+02 1.93433670e+02 1.81525497e+02]\n",
            "   ...\n",
            "   [9.16836319e+01 6.32346840e+01 5.73265572e+01]\n",
            "   [8.76581650e+01 5.85153084e+01 5.71581650e+01]\n",
            "   [9.13673935e+01 6.06531105e+01 6.20816841e+01]]\n",
            "\n",
            "  ...\n",
            "\n",
            "  [[1.73938782e+02 1.71153046e+02 1.61510254e+02]\n",
            "   [1.73714310e+02 1.73714310e+02 1.61714310e+02]\n",
            "   [1.71382629e+02 1.73811203e+02 1.60596924e+02]\n",
            "   ...\n",
            "   [1.74382614e+02 1.84382614e+02 1.76382614e+02]\n",
            "   [1.72341843e+02 1.82341843e+02 1.73229568e+02]\n",
            "   [1.74923508e+02 1.83352036e+02 1.72780563e+02]]\n",
            "\n",
            "  [[1.70785736e+02 1.67785736e+02 1.58785736e+02]\n",
            "   [1.73066360e+02 1.73066360e+02 1.63066360e+02]\n",
            "   [1.68413300e+02 1.70841873e+02 1.59199020e+02]\n",
            "   ...\n",
            "   [1.75000000e+02 1.85056137e+02 1.73887726e+02]\n",
            "   [1.75142883e+02 1.83142883e+02 1.70132675e+02]\n",
            "   [1.77545868e+02 1.85545868e+02 1.71739655e+02]]\n",
            "\n",
            "  [[1.74127533e+02 1.71127533e+02 1.64127533e+02]\n",
            "   [1.75428543e+02 1.75428543e+02 1.67428543e+02]\n",
            "   [1.73066360e+02 1.75280640e+02 1.64280640e+02]\n",
            "   ...\n",
            "   [1.75494949e+02 1.84137741e+02 1.70923477e+02]\n",
            "   [1.73714264e+02 1.81714264e+02 1.66714264e+02]\n",
            "   [1.73214111e+02 1.81800888e+02 1.65627335e+02]]]\n",
            "\n",
            "\n",
            " ...\n",
            "\n",
            "\n",
            " [[[1.00000000e+00 1.00000000e+00 1.00000000e+00]\n",
            "   [1.00000000e+00 1.00000000e+00 1.00000000e+00]\n",
            "   [1.00000000e+00 1.00000000e+00 1.00000000e+00]\n",
            "   ...\n",
            "   [7.19913387e+00 2.91844821e+00 7.83169317e+00]\n",
            "   [2.37914448e+01 1.54598179e+01 6.54130793e+00]\n",
            "   [1.04856934e+02 9.38569336e+01 6.44282227e+01]]\n",
            "\n",
            "  [[1.00000000e+00 1.00000000e+00 1.00000000e+00]\n",
            "   [1.00000000e+00 1.00000000e+00 1.00000000e+00]\n",
            "   [1.00000000e+00 1.00000000e+00 1.00000000e+00]\n",
            "   ...\n",
            "   [3.00000000e+00 2.14263916e-01 8.87664676e-01]\n",
            "   [6.51076126e+01 5.51841316e+01 4.26738205e+01]\n",
            "   [1.05280533e+02 9.42805328e+01 6.48518219e+01]]\n",
            "\n",
            "  [[1.00000000e+00 1.00000000e+00 1.00000000e+00]\n",
            "   [1.00000000e+00 1.00000000e+00 1.00000000e+00]\n",
            "   [1.00000000e+00 1.00000000e+00 1.00000000e+00]\n",
            "   ...\n",
            "   [8.82673168e+00 4.20930147e+00 1.01023281e+00]\n",
            "   [9.29338608e+01 8.11328354e+01 6.42756119e+01]\n",
            "   [1.05505249e+02 9.17093506e+01 6.27245064e+01]]\n",
            "\n",
            "  ...\n",
            "\n",
            "  [[1.58000000e+02 1.80000000e+02 1.78000000e+02]\n",
            "   [1.58928574e+02 1.80928574e+02 1.78928574e+02]\n",
            "   [1.57831635e+02 1.79831635e+02 1.77831635e+02]\n",
            "   ...\n",
            "   [6.15714722e+01 3.65714722e+01 1.45714722e+01]\n",
            "   [5.91734962e+01 3.31734962e+01 1.01734982e+01]\n",
            "   [5.30815277e+01 2.70815277e+01 4.08152723e+00]]\n",
            "\n",
            "  [[1.58974487e+02 1.80974487e+02 1.78974487e+02]\n",
            "   [1.60928574e+02 1.82928574e+02 1.80928574e+02]\n",
            "   [1.62928558e+02 1.84928558e+02 1.82928558e+02]\n",
            "   ...\n",
            "   [6.56989899e+01 4.06989861e+01 1.86989880e+01]\n",
            "   [6.38622208e+01 3.78622208e+01 1.48622208e+01]\n",
            "   [5.85254860e+01 3.25254860e+01 9.52548695e+00]]\n",
            "\n",
            "  [[1.60714355e+02 1.82714355e+02 1.80714355e+02]\n",
            "   [1.61357178e+02 1.83357178e+02 1.81357178e+02]\n",
            "   [1.60923462e+02 1.82923462e+02 1.80923462e+02]\n",
            "   ...\n",
            "   [6.30000305e+01 3.80000305e+01 1.60000305e+01]\n",
            "   [6.39285583e+01 3.79285583e+01 1.49285583e+01]\n",
            "   [6.41275787e+01 3.81275749e+01 1.51275759e+01]]]\n",
            "\n",
            "\n",
            " [[[2.32025513e+02 1.80025513e+02 1.90255108e+01]\n",
            "   [2.12102036e+02 1.63627548e+02 6.60203934e+00]\n",
            "   [2.40153076e+02 1.94658173e+02 4.52193909e+01]\n",
            "   ...\n",
            "   [2.51494888e+02 2.50494888e+02 2.02923416e+02]\n",
            "   [2.48831650e+02 2.47831650e+02 1.99831650e+02]\n",
            "   [2.50158112e+02 2.49158112e+02 2.01158112e+02]]\n",
            "\n",
            "  [[2.45591843e+02 1.93591843e+02 3.16377583e+01]\n",
            "   [2.26357147e+02 1.76556122e+02 1.54897938e+01]\n",
            "   [2.35357132e+02 1.89826523e+02 3.22704086e+01]\n",
            "   ...\n",
            "   [2.51229568e+02 2.50229568e+02 2.04229568e+02]\n",
            "   [2.49071457e+02 2.48071457e+02 2.02071457e+02]\n",
            "   [2.51642822e+02 2.50642822e+02 2.03836639e+02]]\n",
            "\n",
            "  [[2.44581635e+02 1.93438782e+02 2.85816326e+01]\n",
            "   [2.39413269e+02 1.91357147e+02 2.31275501e+01]\n",
            "   [2.39096939e+02 1.92816330e+02 2.43418350e+01]\n",
            "   ...\n",
            "   [2.52571472e+02 2.51571472e+02 2.07234772e+02]\n",
            "   [2.52801025e+02 2.51586731e+02 2.08229599e+02]\n",
            "   [2.51142746e+02 2.49928467e+02 2.06571320e+02]]\n",
            "\n",
            "  ...\n",
            "\n",
            "  [[1.47561234e+02 5.67755051e+01 3.98976779e+00]\n",
            "   [1.42627502e+02 5.10560379e+01 5.71384430e-01]\n",
            "   [1.40908188e+02 5.06939087e+01 1.33676624e+00]\n",
            "   ...\n",
            "   [2.09596878e+02 1.23811150e+02 3.82618815e-01]\n",
            "   [2.13081406e+02 1.29810944e+02 8.76496696e+00]\n",
            "   [2.10387955e+02 1.28806305e+02 1.08063040e+01]]\n",
            "\n",
            "  [[1.43831650e+02 4.98316536e+01 0.00000000e+00]\n",
            "   [1.41005112e+02 4.90051193e+01 0.00000000e+00]\n",
            "   [1.43882629e+02 5.20969200e+01 3.52548909e+00]\n",
            "   ...\n",
            "   [2.17974365e+02 1.29989670e+02 3.94374371e+00]\n",
            "   [2.17862213e+02 1.32795883e+02 7.92855835e+00]\n",
            "   [2.10270386e+02 1.24933701e+02 1.60203898e+00]]\n",
            "\n",
            "  [[1.47071426e+02 5.30714302e+01 1.07142842e+00]\n",
            "   [1.41642822e+02 4.96428223e+01 0.00000000e+00]\n",
            "   [1.42653107e+02 5.08673973e+01 2.29596806e+00]\n",
            "   ...\n",
            "   [2.22765533e+02 1.35765533e+02 6.76553392e+00]\n",
            "   [2.22653076e+02 1.34653076e+02 8.65306950e+00]\n",
            "   [2.19025543e+02 1.31025543e+02 7.25515175e+00]]]\n",
            "\n",
            "\n",
            " [[[2.54000000e+02 2.54000000e+02 2.54000000e+02]\n",
            "   [2.54000000e+02 2.54000000e+02 2.54000000e+02]\n",
            "   [2.54000000e+02 2.54000000e+02 2.54000000e+02]\n",
            "   ...\n",
            "   [2.54000000e+02 2.54000000e+02 2.54000000e+02]\n",
            "   [2.54000000e+02 2.54000000e+02 2.54000000e+02]\n",
            "   [2.54000000e+02 2.54000000e+02 2.54000000e+02]]\n",
            "\n",
            "  [[2.54000000e+02 2.54000000e+02 2.54000000e+02]\n",
            "   [2.54000000e+02 2.54000000e+02 2.54000000e+02]\n",
            "   [2.54000000e+02 2.54000000e+02 2.54000000e+02]\n",
            "   ...\n",
            "   [2.54000000e+02 2.54000000e+02 2.54000000e+02]\n",
            "   [2.54000000e+02 2.54000000e+02 2.54000000e+02]\n",
            "   [2.54000000e+02 2.54000000e+02 2.54000000e+02]]\n",
            "\n",
            "  [[2.54000000e+02 2.54000000e+02 2.54000000e+02]\n",
            "   [2.54000000e+02 2.54000000e+02 2.54000000e+02]\n",
            "   [2.54000000e+02 2.54000000e+02 2.54000000e+02]\n",
            "   ...\n",
            "   [2.54000000e+02 2.54000000e+02 2.54000000e+02]\n",
            "   [2.54000000e+02 2.54000000e+02 2.54000000e+02]\n",
            "   [2.54000000e+02 2.54000000e+02 2.54000000e+02]]\n",
            "\n",
            "  ...\n",
            "\n",
            "  [[2.54000000e+02 2.54000000e+02 2.54000000e+02]\n",
            "   [2.54000000e+02 2.54000000e+02 2.54000000e+02]\n",
            "   [2.54000000e+02 2.54000000e+02 2.54000000e+02]\n",
            "   ...\n",
            "   [2.54000000e+02 2.54000000e+02 2.54000000e+02]\n",
            "   [2.54000000e+02 2.54000000e+02 2.54000000e+02]\n",
            "   [2.54000000e+02 2.54000000e+02 2.54000000e+02]]\n",
            "\n",
            "  [[2.54000000e+02 2.54000000e+02 2.54000000e+02]\n",
            "   [2.54000000e+02 2.54000000e+02 2.54000000e+02]\n",
            "   [2.54000000e+02 2.54000000e+02 2.54000000e+02]\n",
            "   ...\n",
            "   [2.54000000e+02 2.54000000e+02 2.54000000e+02]\n",
            "   [2.54000000e+02 2.54000000e+02 2.54000000e+02]\n",
            "   [2.54000000e+02 2.54000000e+02 2.54000000e+02]]\n",
            "\n",
            "  [[2.54000000e+02 2.54000000e+02 2.54000000e+02]\n",
            "   [2.54000000e+02 2.54000000e+02 2.54000000e+02]\n",
            "   [2.54000000e+02 2.54000000e+02 2.54000000e+02]\n",
            "   ...\n",
            "   [2.54000000e+02 2.54000000e+02 2.54000000e+02]\n",
            "   [2.54000000e+02 2.54000000e+02 2.54000000e+02]\n",
            "   [2.54000000e+02 2.54000000e+02 2.54000000e+02]]]], shape=(32, 224, 224, 3), dtype=float32) tf.Tensor(\n",
            "[[0. 0. 0. 1. 0. 0. 0. 0. 0. 0.]\n",
            " [0. 0. 0. 0. 0. 0. 1. 0. 0. 0.]\n",
            " [0. 0. 0. 0. 0. 1. 0. 0. 0. 0.]\n",
            " [0. 0. 0. 0. 0. 0. 0. 0. 0. 1.]\n",
            " [0. 0. 0. 0. 0. 0. 0. 0. 1. 0.]\n",
            " [0. 0. 0. 0. 0. 0. 0. 0. 0. 1.]\n",
            " [0. 0. 0. 0. 0. 0. 0. 0. 0. 1.]\n",
            " [0. 0. 0. 1. 0. 0. 0. 0. 0. 0.]\n",
            " [0. 0. 1. 0. 0. 0. 0. 0. 0. 0.]\n",
            " [0. 0. 0. 1. 0. 0. 0. 0. 0. 0.]\n",
            " [0. 0. 1. 0. 0. 0. 0. 0. 0. 0.]\n",
            " [0. 0. 0. 0. 0. 0. 0. 1. 0. 0.]\n",
            " [0. 0. 0. 0. 0. 0. 1. 0. 0. 0.]\n",
            " [0. 0. 0. 0. 0. 1. 0. 0. 0. 0.]\n",
            " [1. 0. 0. 0. 0. 0. 0. 0. 0. 0.]\n",
            " [0. 0. 0. 0. 0. 0. 0. 0. 1. 0.]\n",
            " [0. 0. 0. 1. 0. 0. 0. 0. 0. 0.]\n",
            " [0. 0. 0. 0. 1. 0. 0. 0. 0. 0.]\n",
            " [0. 0. 1. 0. 0. 0. 0. 0. 0. 0.]\n",
            " [0. 0. 0. 0. 0. 1. 0. 0. 0. 0.]\n",
            " [0. 0. 0. 0. 1. 0. 0. 0. 0. 0.]\n",
            " [0. 0. 1. 0. 0. 0. 0. 0. 0. 0.]\n",
            " [0. 0. 0. 0. 0. 1. 0. 0. 0. 0.]\n",
            " [0. 0. 1. 0. 0. 0. 0. 0. 0. 0.]\n",
            " [0. 0. 0. 0. 0. 0. 0. 1. 0. 0.]\n",
            " [0. 0. 0. 0. 0. 0. 0. 0. 1. 0.]\n",
            " [1. 0. 0. 0. 0. 0. 0. 0. 0. 0.]\n",
            " [0. 0. 0. 0. 0. 1. 0. 0. 0. 0.]\n",
            " [0. 0. 1. 0. 0. 0. 0. 0. 0. 0.]\n",
            " [0. 0. 0. 0. 0. 0. 0. 0. 0. 1.]\n",
            " [1. 0. 0. 0. 0. 0. 0. 0. 0. 0.]\n",
            " [0. 0. 0. 0. 0. 0. 0. 0. 1. 0.]], shape=(32, 10), dtype=float32)\n"
          ]
        }
      ]
    },
    {
      "cell_type": "markdown",
      "source": [
        "## Model 0: Building a transfer learning model using the keras functional API.\n",
        "\n",
        "The sequential API is straightforward, it runs the layers in sequential order.\n",
        "\n",
        "However, the functional API  gives more flexiability with models.\n",
        "link: https://www.tensorflow.org/guide/keras/functional?hl=en"
      ],
      "metadata": {
        "id": "aSuzT8aRBjOd"
      }
    },
    {
      "cell_type": "code",
      "source": [
        ""
      ],
      "metadata": {
        "id": "6j_9Fa5zJI18"
      },
      "execution_count": null,
      "outputs": []
    },
    {
      "cell_type": "code",
      "source": [
        ""
      ],
      "metadata": {
        "id": "SkP2G6Z2JIyb"
      },
      "execution_count": null,
      "outputs": []
    },
    {
      "cell_type": "code",
      "source": [
        ""
      ],
      "metadata": {
        "id": "9XtxhLhQJIvw"
      },
      "execution_count": null,
      "outputs": []
    }
  ]
}