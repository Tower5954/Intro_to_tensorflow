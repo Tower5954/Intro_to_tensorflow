{
  "nbformat": 4,
  "nbformat_minor": 0,
  "metadata": {
    "colab": {
      "name": "01_neural_network_regression_with_tensorflow.ipynb",
      "provenance": [],
      "toc_visible": true,
      "authorship_tag": "ABX9TyOraN+uBmPQnX9HRPyi7b7m",
      "include_colab_link": true
    },
    "kernelspec": {
      "name": "python3",
      "display_name": "Python 3"
    },
    "language_info": {
      "name": "python"
    }
  },
  "cells": [
    {
      "cell_type": "markdown",
      "metadata": {
        "id": "view-in-github",
        "colab_type": "text"
      },
      "source": [
        "<a href=\"https://colab.research.google.com/github/Tower5954/TensorFlow/blob/main/01_neural_network_regression_with_tensorflow.ipynb\" target=\"_parent\"><img src=\"https://colab.research.google.com/assets/colab-badge.svg\" alt=\"Open In Colab\"/></a>"
      ]
    },
    {
      "cell_type": "markdown",
      "metadata": {
        "id": "lDgyZPKcrJd0"
      },
      "source": [
        "# Introduction to Regression with Neural Networks in TensorFlow"
      ]
    },
    {
      "cell_type": "markdown",
      "metadata": {
        "id": "UtmQgcURvpqM"
      },
      "source": [
        "There are many definitions for a regression problem but in our case, we are going to simplify it:\n",
        "Predicting a numerical variable based on some other combination of variables, even shorter...predicting a number."
      ]
    },
    {
      "cell_type": "code",
      "metadata": {
        "colab": {
          "base_uri": "https://localhost:8080/"
        },
        "id": "f4vgCYqIw8rK",
        "outputId": "ae14eb34-bb63-4c8d-e449-4f879e49b6b0"
      },
      "source": [
        "# Import TensorFlow\n",
        "\n",
        "import tensorflow as tf\n",
        "print(tf.__version__)"
      ],
      "execution_count": 52,
      "outputs": [
        {
          "output_type": "stream",
          "name": "stdout",
          "text": [
            "2.6.0\n"
          ]
        }
      ]
    },
    {
      "cell_type": "markdown",
      "metadata": {
        "id": "taGBvHkhxVhu"
      },
      "source": [
        "## Creating data to view and fit"
      ]
    },
    {
      "cell_type": "code",
      "metadata": {
        "colab": {
          "base_uri": "https://localhost:8080/",
          "height": 269
        },
        "id": "G69Tc3i_xn1j",
        "outputId": "61c7a382-b40e-430b-f723-b2cadc9939ef"
      },
      "source": [
        "import numpy as np\n",
        "import matplotlib.pyplot as plt\n",
        "\n",
        "# Create features\n",
        "X = np.array([-7.0, -4.0, -1.0, 2.0, 5.0, 8.0, 11.0, 14.0 ])\n",
        "\n",
        "# Create labels\n",
        "y = np.array([3.0, 6.0, 9.0, 12.0, 15.0, 18.0, 21.0, 24.0])\n",
        "\n",
        "# Visualise it\n",
        "\n",
        "plt.scatter(X, y);"
      ],
      "execution_count": 53,
      "outputs": [
        {
          "output_type": "display_data",
          "data": {
            "image/png": "[encoded data removed]",
            "text/plain": [
              "<Figure size 432x288 with 1 Axes>"
            ]
          },
          "metadata": {
            "needs_background": "light"
          }
        }
      ]
    },
    {
      "cell_type": "code",
      "metadata": {
        "colab": {
          "base_uri": "https://localhost:8080/"
        },
        "id": "K1XGTPgmy2Mq",
        "outputId": "fec75b48-996c-46b0-e41d-c8b830dc14ea"
      },
      "source": [
        "y == X + 10"
      ],
      "execution_count": 54,
      "outputs": [
        {
          "output_type": "execute_result",
          "data": {
            "text/plain": [
              "array([ True,  True,  True,  True,  True,  True,  True,  True])"
            ]
          },
          "metadata": {},
          "execution_count": 54
        }
      ]
    },
    {
      "cell_type": "markdown",
      "metadata": {
        "id": "qDYFQtWV5YeQ"
      },
      "source": [
        "## Inputs and output shape"
      ]
    },
    {
      "cell_type": "code",
      "metadata": {
        "colab": {
          "base_uri": "https://localhost:8080/"
        },
        "id": "NDMHf_o85q3R",
        "outputId": "e8b26ce3-4871-4bef-c027-053b32a77769"
      },
      "source": [
        "# Create a demo tensor for a housing price prediction problem \n",
        "\n",
        "house_info = tf.constant([\"bedroom\", \"bathroom\", \"garage\"])\n",
        "house_price = tf.constant([939700])\n",
        "house_info, house_price"
      ],
      "execution_count": 55,
      "outputs": [
        {
          "output_type": "execute_result",
          "data": {
            "text/plain": [
              "(<tf.Tensor: shape=(3,), dtype=string, numpy=array([b'bedroom', b'bathroom', b'garage'], dtype=object)>,\n",
              " <tf.Tensor: shape=(1,), dtype=int32, numpy=array([939700], dtype=int32)>)"
            ]
          },
          "metadata": {},
          "execution_count": 55
        }
      ]
    },
    {
      "cell_type": "code",
      "metadata": {
        "colab": {
          "base_uri": "https://localhost:8080/"
        },
        "id": "7kzMh4a36G67",
        "outputId": "321d2e1c-6c63-4134-ebd9-beb82c4d3264"
      },
      "source": [
        "X[0], y[0]"
      ],
      "execution_count": 56,
      "outputs": [
        {
          "output_type": "execute_result",
          "data": {
            "text/plain": [
              "(-7.0, 3.0)"
            ]
          },
          "metadata": {},
          "execution_count": 56
        }
      ]
    },
    {
      "cell_type": "code",
      "metadata": {
        "colab": {
          "base_uri": "https://localhost:8080/"
        },
        "id": "X6p0kukN7tC4",
        "outputId": "d13b8ea4-f7ff-4810-ff40-96957d849e7c"
      },
      "source": [
        "X[1], y[1]"
      ],
      "execution_count": 57,
      "outputs": [
        {
          "output_type": "execute_result",
          "data": {
            "text/plain": [
              "(-4.0, 6.0)"
            ]
          },
          "metadata": {},
          "execution_count": 57
        }
      ]
    },
    {
      "cell_type": "code",
      "metadata": {
        "colab": {
          "base_uri": "https://localhost:8080/"
        },
        "id": "_Vz6LAvQ7wq_",
        "outputId": "bd3aeb65-970b-42da-8bc7-720c75bd4c00"
      },
      "source": [
        "input_shape = X[0].shape\n",
        "output_shape = y[0].shape\n",
        "\n",
        "input_shape, output_shape"
      ],
      "execution_count": 58,
      "outputs": [
        {
          "output_type": "execute_result",
          "data": {
            "text/plain": [
              "((), ())"
            ]
          },
          "metadata": {},
          "execution_count": 58
        }
      ]
    },
    {
      "cell_type": "code",
      "metadata": {
        "colab": {
          "base_uri": "https://localhost:8080/"
        },
        "id": "LHXn2fOc8ApC",
        "outputId": "ced16f38-ae9e-488a-f288-8a9a55e3f696"
      },
      "source": [
        "X[0].ndim"
      ],
      "execution_count": 59,
      "outputs": [
        {
          "output_type": "execute_result",
          "data": {
            "text/plain": [
              "0"
            ]
          },
          "metadata": {},
          "execution_count": 59
        }
      ]
    },
    {
      "cell_type": "code",
      "metadata": {
        "colab": {
          "base_uri": "https://localhost:8080/"
        },
        "id": "4LguMWS38Fpk",
        "outputId": "40d2ba43-7e3d-43c7-fe55-20b9bc73d8f4"
      },
      "source": [
        "# Turn our Numpy arrays into tensors\n",
        "\n",
        "X = tf.constant(X)\n",
        "y = tf.constant(y)\n",
        "\n",
        "X, y"
      ],
      "execution_count": 60,
      "outputs": [
        {
          "output_type": "execute_result",
          "data": {
            "text/plain": [
              "(<tf.Tensor: shape=(8,), dtype=float64, numpy=array([-7., -4., -1.,  2.,  5.,  8., 11., 14.])>,\n",
              " <tf.Tensor: shape=(8,), dtype=float64, numpy=array([ 3.,  6.,  9., 12., 15., 18., 21., 24.])>)"
            ]
          },
          "metadata": {},
          "execution_count": 60
        }
      ]
    },
    {
      "cell_type": "code",
      "metadata": {
        "colab": {
          "base_uri": "https://localhost:8080/"
        },
        "id": "8KpQuqWZ9oJc",
        "outputId": "c5e4dbb7-0d18-4561-ecbc-bf1040340f86"
      },
      "source": [
        "input_shape = X[0].shape\n",
        "output_shape = y[0].shape\n",
        "\n",
        "input_shape, output_shape"
      ],
      "execution_count": 61,
      "outputs": [
        {
          "output_type": "execute_result",
          "data": {
            "text/plain": [
              "(TensorShape([]), TensorShape([]))"
            ]
          },
          "metadata": {},
          "execution_count": 61
        }
      ]
    },
    {
      "cell_type": "code",
      "metadata": {
        "colab": {
          "base_uri": "https://localhost:8080/",
          "height": 286
        },
        "id": "H8kOwVR697mA",
        "outputId": "a1057346-a7a3-4f5e-bc3b-c83a5936a676"
      },
      "source": [
        "plt.scatter(X, y)"
      ],
      "execution_count": 62,
      "outputs": [
        {
          "output_type": "execute_result",
          "data": {
            "text/plain": [
              "<matplotlib.collections.PathCollection at 0x7f21a1ea6450>"
            ]
          },
          "metadata": {},
          "execution_count": 62
        },
        {
          "output_type": "display_data",
          "data": {
            "image/png": "[encoded data removed]",
            "text/plain": [
              "<Figure size 432x288 with 1 Axes>"
            ]
          },
          "metadata": {
            "needs_background": "light"
          }
        }
      ]
    },
    {
      "cell_type": "markdown",
      "metadata": {
        "id": "Vk5DzRzB-Ikx"
      },
      "source": [
        "## Steps in modelling with TensorFlow\n",
        "\n",
        "1. **Creating a model** - define the input and output layers, as well as the hidden layers of a deep learning model.\n",
        "2. **Compile a model** - define the loss function (In other words, the function which tell our model how wrong it is.) and the optimizer (tells our model how to improve the patterns it is learning) and evaluation metrics (what we can use to interpret the performance of our model).\n",
        "3. **Fitting a model** - Letting a model find patterns between X & y (features and labels)  "
      ]
    },
    {
      "cell_type": "code",
      "metadata": {
        "colab": {
          "base_uri": "https://localhost:8080/"
        },
        "id": "0YXC4XAT_3Wr",
        "outputId": "734bd468-4eef-4ca2-aa92-696238b6f72d"
      },
      "source": [
        "# Set random seed\n",
        "tf.random.set_seed(42)\n",
        "\n",
        "# 1. Create a model using the sequential API\n",
        "model = tf.keras.Sequential([\n",
        "    tf.keras.layers.Dense(1)\n",
        "]) \n",
        "\n",
        "# 2. Compile the model\n",
        "model.compile(loss=tf.keras.losses.mae, #mae is short for mean absolute error\n",
        "              optimizer=tf.keras.optimizers.SGD(), # SGD is short for stochastic gradient descent\n",
        "              metrics=[\"mae\"])\n",
        "\n",
        "# 3. Fit the model \n",
        "model.fit(X, y, epochs=5)\n"
      ],
      "execution_count": 117,
      "outputs": [
        {
          "output_type": "stream",
          "name": "stdout",
          "text": [
            "Epoch 1/5\n",
            "2/2 [==============================] - 0s 5ms/step - loss: 19.0311 - mae: 19.0311\n",
            "Epoch 2/5\n",
            "2/2 [==============================] - 0s 8ms/step - loss: 10.8111 - mae: 10.8111\n",
            "Epoch 3/5\n",
            "2/2 [==============================] - 0s 7ms/step - loss: 14.5005 - mae: 14.5005\n",
            "Epoch 4/5\n",
            "2/2 [==============================] - 0s 4ms/step - loss: 10.0958 - mae: 10.0958\n",
            "Epoch 5/5\n",
            "2/2 [==============================] - 0s 6ms/step - loss: 15.5388 - mae: 15.5388\n"
          ]
        },
        {
          "output_type": "execute_result",
          "data": {
            "text/plain": [
              "<keras.callbacks.History at 0x7f21f986ad10>"
            ]
          },
          "metadata": {},
          "execution_count": 117
        }
      ]
    },
    {
      "cell_type": "code",
      "metadata": {
        "colab": {
          "base_uri": "https://localhost:8080/"
        },
        "id": "3ueqi_ONFH9z",
        "outputId": "6ef2dd4f-5032-4e55-b982-e614f4002500"
      },
      "source": [
        "# Try and make a prediction using our model \n",
        "model.predict([17.0])"
      ],
      "execution_count": 118,
      "outputs": [
        {
          "output_type": "execute_result",
          "data": {
            "text/plain": [
              "array([[13.3044195]], dtype=float32)"
            ]
          },
          "metadata": {},
          "execution_count": 118
        }
      ]
    },
    {
      "cell_type": "code",
      "metadata": {
        "colab": {
          "base_uri": "https://localhost:8080/"
        },
        "id": "f7ntnS3ZGCNv",
        "outputId": "5cdc6954-5196-4a25-e5d2-144766004e46"
      },
      "source": [
        "y_pred = model.predict([17.0])\n",
        "y_pred"
      ],
      "execution_count": 119,
      "outputs": [
        {
          "output_type": "execute_result",
          "data": {
            "text/plain": [
              "array([[13.3044195]], dtype=float32)"
            ]
          },
          "metadata": {},
          "execution_count": 119
        }
      ]
    },
    {
      "cell_type": "code",
      "metadata": {
        "colab": {
          "base_uri": "https://localhost:8080/"
        },
        "id": "a_TH4gP4GjEq",
        "outputId": "0897bb1e-d496-446d-93b1-e89b00b03b9b"
      },
      "source": [
        "y_pred +11"
      ],
      "execution_count": 120,
      "outputs": [
        {
          "output_type": "execute_result",
          "data": {
            "text/plain": [
              "array([[24.30442]], dtype=float32)"
            ]
          },
          "metadata": {},
          "execution_count": 120
        }
      ]
    },
    {
      "cell_type": "markdown",
      "metadata": {
        "id": "Djys9_mdGpjS"
      },
      "source": [
        "## Improving our model\n",
        "\n",
        "We can improve our model, by altering the steps we took to create a model.\n",
        "\n",
        "1. **Creating a model** - Here we might add more layers,\n",
        "increase thenumber of hidden units (also called neurons)\n",
        "within each of the hidden layer, change the activation\n",
        "function of each layer.\n",
        "\n",
        "2. **Compiling a model** - Here we might change the optimization function or \n",
        "perhaps the **learning rate** of the optimization function.\n",
        "\n",
        "3. **Fitting a model** - Here we might fit a model for more **epochs**\n",
        "(leave it training for longer) or on more data (give the model more examples\n",
        "to learn from)"
      ]
    },
    {
      "cell_type": "markdown",
      "metadata": {
        "id": "3zaDTicUq4J2"
      },
      "source": [
        "**Rebuild our model**"
      ]
    },
    {
      "cell_type": "code",
      "metadata": {
        "colab": {
          "base_uri": "https://localhost:8080/"
        },
        "id": "CrzbQJq_r9OS",
        "outputId": "6ee92c14-a8da-4f00-d9dd-af1c751970d6"
      },
      "source": [
        "# 1. Create the model \n",
        "\n",
        "model = tf.keras.Sequential([\n",
        "                             tf.keras.layers.Dense(1)\n",
        "])\n",
        "\n",
        "# 2. Compile the model\n",
        "model.compile(loss=tf.keras.losses.mae,\n",
        "              optimizer=tf.keras.optimizers.SGD(),\n",
        "              metrics=[\"mae\"])\n",
        "\n",
        "# 3. Fit the model (this time we will train for longer)\n",
        "model.fit(X, y, epochs=100)"
      ],
      "execution_count": 126,
      "outputs": [
        {
          "output_type": "stream",
          "name": "stdout",
          "text": [
            "Epoch 1/100\n",
            "2/2 [==============================] - 0s 5ms/step - loss: 10.1153 - mae: 10.1153\n",
            "Epoch 2/100\n",
            "2/2 [==============================] - 0s 5ms/step - loss: 10.7573 - mae: 10.7573\n",
            "Epoch 3/100\n",
            "2/2 [==============================] - 0s 4ms/step - loss: 11.9824 - mae: 11.9824\n",
            "Epoch 4/100\n",
            "2/2 [==============================] - 0s 7ms/step - loss: 10.7467 - mae: 10.7467\n",
            "Epoch 5/100\n",
            "2/2 [==============================] - 0s 9ms/step - loss: 10.4779 - mae: 10.4779\n",
            "Epoch 6/100\n",
            "2/2 [==============================] - 0s 3ms/step - loss: 11.7897 - mae: 11.7897\n",
            "Epoch 7/100\n",
            "2/2 [==============================] - 0s 11ms/step - loss: 9.2810 - mae: 9.2810\n",
            "Epoch 8/100\n",
            "2/2 [==============================] - 0s 10ms/step - loss: 11.9451 - mae: 11.9451\n",
            "Epoch 9/100\n",
            "2/2 [==============================] - 0s 5ms/step - loss: 12.7311 - mae: 12.7311\n",
            "Epoch 10/100\n",
            "2/2 [==============================] - 0s 4ms/step - loss: 9.9811 - mae: 9.9811\n",
            "Epoch 11/100\n",
            "2/2 [==============================] - 0s 10ms/step - loss: 9.9530 - mae: 9.9530\n",
            "Epoch 12/100\n",
            "2/2 [==============================] - 0s 4ms/step - loss: 9.8942 - mae: 9.8942\n",
            "Epoch 13/100\n",
            "2/2 [==============================] - 0s 5ms/step - loss: 9.7324 - mae: 9.7324\n",
            "Epoch 14/100\n",
            "2/2 [==============================] - 0s 8ms/step - loss: 10.5330 - mae: 10.5330\n",
            "Epoch 15/100\n",
            "2/2 [==============================] - 0s 6ms/step - loss: 13.7505 - mae: 13.7505\n",
            "Epoch 16/100\n",
            "2/2 [==============================] - 0s 4ms/step - loss: 12.3507 - mae: 12.3507\n",
            "Epoch 17/100\n",
            "2/2 [==============================] - 0s 5ms/step - loss: 10.1569 - mae: 10.1569\n",
            "Epoch 18/100\n",
            "2/2 [==============================] - 0s 9ms/step - loss: 10.4698 - mae: 10.4698\n",
            "Epoch 19/100\n",
            "2/2 [==============================] - 0s 6ms/step - loss: 9.9599 - mae: 9.9599\n",
            "Epoch 20/100\n",
            "2/2 [==============================] - 0s 7ms/step - loss: 11.9578 - mae: 11.9578\n",
            "Epoch 21/100\n",
            "2/2 [==============================] - 0s 4ms/step - loss: 9.7874 - mae: 9.7874\n",
            "Epoch 22/100\n",
            "2/2 [==============================] - 0s 4ms/step - loss: 9.5426 - mae: 9.5426\n",
            "Epoch 23/100\n",
            "2/2 [==============================] - 0s 4ms/step - loss: 9.3487 - mae: 9.3487\n",
            "Epoch 24/100\n",
            "2/2 [==============================] - 0s 4ms/step - loss: 9.6817 - mae: 9.6817\n",
            "Epoch 25/100\n",
            "2/2 [==============================] - 0s 6ms/step - loss: 9.5782 - mae: 9.5782\n",
            "Epoch 26/100\n",
            "2/2 [==============================] - 0s 5ms/step - loss: 9.4565 - mae: 9.4565\n",
            "Epoch 27/100\n",
            "2/2 [==============================] - 0s 7ms/step - loss: 9.6898 - mae: 9.6898\n",
            "Epoch 28/100\n",
            "2/2 [==============================] - 0s 10ms/step - loss: 9.5640 - mae: 9.5640\n",
            "Epoch 29/100\n",
            "2/2 [==============================] - 0s 4ms/step - loss: 9.4504 - mae: 9.4504\n",
            "Epoch 30/100\n",
            "2/2 [==============================] - 0s 5ms/step - loss: 9.9853 - mae: 9.9853\n",
            "Epoch 31/100\n",
            "2/2 [==============================] - 0s 4ms/step - loss: 13.4238 - mae: 13.4238\n",
            "Epoch 32/100\n",
            "2/2 [==============================] - 0s 4ms/step - loss: 9.6103 - mae: 9.6103\n",
            "Epoch 33/100\n",
            "2/2 [==============================] - 0s 4ms/step - loss: 9.5434 - mae: 9.5434\n",
            "Epoch 34/100\n",
            "2/2 [==============================] - 0s 5ms/step - loss: 9.8690 - mae: 9.8690\n",
            "Epoch 35/100\n",
            "2/2 [==============================] - 0s 5ms/step - loss: 10.1181 - mae: 10.1181\n",
            "Epoch 36/100\n",
            "2/2 [==============================] - 0s 8ms/step - loss: 9.4838 - mae: 9.4838\n",
            "Epoch 37/100\n",
            "2/2 [==============================] - 0s 4ms/step - loss: 9.3775 - mae: 9.3775\n",
            "Epoch 38/100\n",
            "2/2 [==============================] - 0s 4ms/step - loss: 9.5979 - mae: 9.5979\n",
            "Epoch 39/100\n",
            "2/2 [==============================] - 0s 4ms/step - loss: 10.3527 - mae: 10.3527\n",
            "Epoch 40/100\n",
            "2/2 [==============================] - 0s 5ms/step - loss: 11.5263 - mae: 11.5263\n",
            "Epoch 41/100\n",
            "2/2 [==============================] - 0s 4ms/step - loss: 9.7037 - mae: 9.7037\n",
            "Epoch 42/100\n",
            "2/2 [==============================] - 0s 4ms/step - loss: 9.1454 - mae: 9.1454\n",
            "Epoch 43/100\n",
            "2/2 [==============================] - 0s 6ms/step - loss: 10.0438 - mae: 10.0438\n",
            "Epoch 44/100\n",
            "2/2 [==============================] - 0s 5ms/step - loss: 9.3594 - mae: 9.3594\n",
            "Epoch 45/100\n",
            "2/2 [==============================] - 0s 5ms/step - loss: 9.4929 - mae: 9.4929\n",
            "Epoch 46/100\n",
            "2/2 [==============================] - 0s 5ms/step - loss: 9.3491 - mae: 9.3491\n",
            "Epoch 47/100\n",
            "2/2 [==============================] - 0s 13ms/step - loss: 9.3444 - mae: 9.3444\n",
            "Epoch 48/100\n",
            "2/2 [==============================] - 0s 4ms/step - loss: 9.5883 - mae: 9.5883\n",
            "Epoch 49/100\n",
            "2/2 [==============================] - 0s 5ms/step - loss: 10.2430 - mae: 10.2430\n",
            "Epoch 50/100\n",
            "2/2 [==============================] - 0s 8ms/step - loss: 9.2646 - mae: 9.2646\n",
            "Epoch 51/100\n",
            "2/2 [==============================] - 0s 6ms/step - loss: 9.0360 - mae: 9.0360\n",
            "Epoch 52/100\n",
            "2/2 [==============================] - 0s 4ms/step - loss: 8.9745 - mae: 8.9745\n",
            "Epoch 53/100\n",
            "2/2 [==============================] - 0s 4ms/step - loss: 9.3085 - mae: 9.3085\n",
            "Epoch 54/100\n",
            "2/2 [==============================] - 0s 6ms/step - loss: 9.1855 - mae: 9.1855\n",
            "Epoch 55/100\n",
            "2/2 [==============================] - 0s 7ms/step - loss: 9.3416 - mae: 9.3416\n",
            "Epoch 56/100\n",
            "2/2 [==============================] - 0s 5ms/step - loss: 8.9635 - mae: 8.9635\n",
            "Epoch 57/100\n",
            "2/2 [==============================] - 0s 5ms/step - loss: 10.5310 - mae: 10.5310\n",
            "Epoch 58/100\n",
            "2/2 [==============================] - 0s 10ms/step - loss: 15.1958 - mae: 15.1958\n",
            "Epoch 59/100\n",
            "2/2 [==============================] - 0s 8ms/step - loss: 14.0209 - mae: 14.0209\n",
            "Epoch 60/100\n",
            "2/2 [==============================] - 0s 10ms/step - loss: 13.3240 - mae: 13.3240\n",
            "Epoch 61/100\n",
            "2/2 [==============================] - 0s 8ms/step - loss: 11.8255 - mae: 11.8255\n",
            "Epoch 62/100\n",
            "2/2 [==============================] - 0s 7ms/step - loss: 9.9626 - mae: 9.9626\n",
            "Epoch 63/100\n",
            "2/2 [==============================] - 0s 12ms/step - loss: 12.3156 - mae: 12.3156\n",
            "Epoch 64/100\n",
            "2/2 [==============================] - 0s 5ms/step - loss: 9.2092 - mae: 9.2092\n",
            "Epoch 65/100\n",
            "2/2 [==============================] - 0s 6ms/step - loss: 12.3207 - mae: 12.3207\n",
            "Epoch 66/100\n",
            "2/2 [==============================] - 0s 7ms/step - loss: 8.9480 - mae: 8.9480\n",
            "Epoch 67/100\n",
            "2/2 [==============================] - 0s 4ms/step - loss: 9.0790 - mae: 9.0790\n",
            "Epoch 68/100\n",
            "2/2 [==============================] - 0s 7ms/step - loss: 9.1908 - mae: 9.1908\n",
            "Epoch 69/100\n",
            "2/2 [==============================] - 0s 20ms/step - loss: 9.1861 - mae: 9.1861\n",
            "Epoch 70/100\n",
            "2/2 [==============================] - 0s 10ms/step - loss: 9.4460 - mae: 9.4460\n",
            "Epoch 71/100\n",
            "2/2 [==============================] - 0s 10ms/step - loss: 8.8913 - mae: 8.8913\n",
            "Epoch 72/100\n",
            "2/2 [==============================] - 0s 8ms/step - loss: 9.9541 - mae: 9.9541\n",
            "Epoch 73/100\n",
            "2/2 [==============================] - 0s 5ms/step - loss: 11.8670 - mae: 11.8670\n",
            "Epoch 74/100\n",
            "2/2 [==============================] - 0s 14ms/step - loss: 8.5430 - mae: 8.5430\n",
            "Epoch 75/100\n",
            "2/2 [==============================] - 0s 8ms/step - loss: 8.7546 - mae: 8.7546\n",
            "Epoch 76/100\n",
            "2/2 [==============================] - 0s 5ms/step - loss: 8.8002 - mae: 8.8002\n",
            "Epoch 77/100\n",
            "2/2 [==============================] - 0s 9ms/step - loss: 8.2524 - mae: 8.2524\n",
            "Epoch 78/100\n",
            "2/2 [==============================] - 0s 8ms/step - loss: 9.8973 - mae: 9.8973\n",
            "Epoch 79/100\n",
            "2/2 [==============================] - 0s 11ms/step - loss: 8.1643 - mae: 8.1643\n",
            "Epoch 80/100\n",
            "2/2 [==============================] - 0s 5ms/step - loss: 12.7562 - mae: 12.7562\n",
            "Epoch 81/100\n",
            "2/2 [==============================] - 0s 9ms/step - loss: 13.6047 - mae: 13.6047\n",
            "Epoch 82/100\n",
            "2/2 [==============================] - 0s 9ms/step - loss: 16.1142 - mae: 16.1142\n",
            "Epoch 83/100\n",
            "2/2 [==============================] - 0s 8ms/step - loss: 9.2508 - mae: 9.2508\n",
            "Epoch 84/100\n",
            "2/2 [==============================] - 0s 11ms/step - loss: 8.7843 - mae: 8.7843\n",
            "Epoch 85/100\n",
            "2/2 [==============================] - 0s 7ms/step - loss: 8.8177 - mae: 8.8177\n",
            "Epoch 86/100\n",
            "2/2 [==============================] - 0s 4ms/step - loss: 8.9785 - mae: 8.9785\n",
            "Epoch 87/100\n",
            "2/2 [==============================] - 0s 4ms/step - loss: 10.3696 - mae: 10.3696\n",
            "Epoch 88/100\n",
            "2/2 [==============================] - 0s 4ms/step - loss: 8.9106 - mae: 8.9106\n",
            "Epoch 89/100\n",
            "2/2 [==============================] - 0s 10ms/step - loss: 9.0237 - mae: 9.0237\n",
            "Epoch 90/100\n",
            "2/2 [==============================] - 0s 7ms/step - loss: 17.5326 - mae: 17.5326\n",
            "Epoch 91/100\n",
            "2/2 [==============================] - 0s 6ms/step - loss: 12.4505 - mae: 12.4505\n",
            "Epoch 92/100\n",
            "2/2 [==============================] - 0s 5ms/step - loss: 11.5213 - mae: 11.5213\n",
            "Epoch 93/100\n",
            "2/2 [==============================] - 0s 4ms/step - loss: 9.0979 - mae: 9.0979\n",
            "Epoch 94/100\n",
            "2/2 [==============================] - 0s 9ms/step - loss: 11.4120 - mae: 11.4120\n",
            "Epoch 95/100\n",
            "2/2 [==============================] - 0s 7ms/step - loss: 12.5101 - mae: 12.5101\n",
            "Epoch 96/100\n",
            "2/2 [==============================] - 0s 11ms/step - loss: 8.7414 - mae: 8.7414\n",
            "Epoch 97/100\n",
            "2/2 [==============================] - 0s 4ms/step - loss: 10.7142 - mae: 10.7142\n",
            "Epoch 98/100\n",
            "2/2 [==============================] - 0s 3ms/step - loss: 15.1007 - mae: 15.1007\n",
            "Epoch 99/100\n",
            "2/2 [==============================] - 0s 6ms/step - loss: 11.4961 - mae: 11.4961\n",
            "Epoch 100/100\n",
            "2/2 [==============================] - 0s 4ms/step - loss: 14.7070 - mae: 14.7070\n"
          ]
        },
        {
          "output_type": "execute_result",
          "data": {
            "text/plain": [
              "<keras.callbacks.History at 0x7f21a0c247d0>"
            ]
          },
          "metadata": {},
          "execution_count": 126
        }
      ]
    },
    {
      "cell_type": "markdown",
      "metadata": {
        "id": "WECjr6mktWPr"
      },
      "source": [
        "Remind ourselves of the data."
      ]
    },
    {
      "cell_type": "code",
      "metadata": {
        "colab": {
          "base_uri": "https://localhost:8080/"
        },
        "id": "6MoqIxDyt_q5",
        "outputId": "00234059-1177-4f1c-e04d-58dd4da565dd"
      },
      "source": [
        "X, y"
      ],
      "execution_count": 122,
      "outputs": [
        {
          "output_type": "execute_result",
          "data": {
            "text/plain": [
              "(<tf.Tensor: shape=(50,), dtype=int32, numpy=\n",
              " array([-100,  -96,  -92,  -88,  -84,  -80,  -76,  -72,  -68,  -64,  -60,\n",
              "         -56,  -52,  -48,  -44,  -40,  -36,  -32,  -28,  -24,  -20,  -16,\n",
              "         -12,   -8,   -4,    0,    4,    8,   12,   16,   20,   24,   28,\n",
              "          32,   36,   40,   44,   48,   52,   56,   60,   64,   68,   72,\n",
              "          76,   80,   84,   88,   92,   96], dtype=int32)>,\n",
              " <tf.Tensor: shape=(50,), dtype=int32, numpy=\n",
              " array([-90, -86, -82, -78, -74, -70, -66, -62, -58, -54, -50, -46, -42,\n",
              "        -38, -34, -30, -26, -22, -18, -14, -10,  -6,  -2,   2,   6,  10,\n",
              "         14,  18,  22,  26,  30,  34,  38,  42,  46,  50,  54,  58,  62,\n",
              "         66,  70,  74,  78,  82,  86,  90,  94,  98, 102, 106], dtype=int32)>)"
            ]
          },
          "metadata": {},
          "execution_count": 122
        }
      ]
    },
    {
      "cell_type": "markdown",
      "metadata": {
        "id": "Pxji6a72uBrw"
      },
      "source": [
        "See if our model's prediction has improved.\n",
        "\n"
      ]
    },
    {
      "cell_type": "code",
      "metadata": {
        "colab": {
          "base_uri": "https://localhost:8080/"
        },
        "id": "YuQdgCqwuPUN",
        "outputId": "5c8bcdf8-517a-43df-84ca-babe5088a87e"
      },
      "source": [
        "model.predict([17.0])"
      ],
      "execution_count": 127,
      "outputs": [
        {
          "output_type": "execute_result",
          "data": {
            "text/plain": [
              "array([[16.783604]], dtype=float32)"
            ]
          },
          "metadata": {},
          "execution_count": 127
        }
      ]
    },
    {
      "cell_type": "markdown",
      "metadata": {
        "id": "_5rvtQFsuV-G"
      },
      "source": [
        "See if we can improve our model.\n",
        "\n",
        "\n"
      ]
    },
    {
      "cell_type": "code",
      "metadata": {
        "colab": {
          "base_uri": "https://localhost:8080/"
        },
        "id": "1f5JJ_xlUakf",
        "outputId": "6fa99b91-5f14-49d1-dfa9-2597255d301a"
      },
      "source": [
        "# 1. Create the model (this time with an extra hidden layer with 100 hidden units)\n",
        "model = tf.keras.Sequential([\n",
        "  tf.keras.layers.Dense(100, activation='relu'),\n",
        "  tf.keras.layers.Dense(1)\n",
        "])\n",
        "\n",
        "# 2. Compile the model\n",
        "\n",
        "model.compile(loss=tf.keras.losses.mae,\n",
        "              optimizer=tf.keras.optimizers.SGD(),\n",
        "              metrics=['mae'])\n",
        "\n",
        "# 3. Fit the model\n",
        "\n",
        "model.fit(X, y, epochs=100)"
      ],
      "execution_count": 128,
      "outputs": [
        {
          "output_type": "stream",
          "name": "stdout",
          "text": [
            "Epoch 1/100\n",
            "2/2 [==============================] - 0s 6ms/step - loss: 40.4031 - mae: 40.4031\n",
            "Epoch 2/100\n",
            "2/2 [==============================] - 0s 4ms/step - loss: 14.6609 - mae: 14.6609\n",
            "Epoch 3/100\n",
            "2/2 [==============================] - 0s 9ms/step - loss: 19.6301 - mae: 19.6301\n",
            "Epoch 4/100\n",
            "2/2 [==============================] - 0s 7ms/step - loss: 12.8276 - mae: 12.8276\n",
            "Epoch 5/100\n",
            "2/2 [==============================] - 0s 7ms/step - loss: 12.6480 - mae: 12.6480\n",
            "Epoch 6/100\n",
            "2/2 [==============================] - 0s 6ms/step - loss: 14.5584 - mae: 14.5584\n",
            "Epoch 7/100\n",
            "2/2 [==============================] - 0s 6ms/step - loss: 10.3702 - mae: 10.3702\n",
            "Epoch 8/100\n",
            "2/2 [==============================] - 0s 6ms/step - loss: 15.0766 - mae: 15.0766\n",
            "Epoch 9/100\n",
            "2/2 [==============================] - 0s 7ms/step - loss: 15.2866 - mae: 15.2866\n",
            "Epoch 10/100\n",
            "2/2 [==============================] - 0s 7ms/step - loss: 8.2826 - mae: 8.2826\n",
            "Epoch 11/100\n",
            "2/2 [==============================] - 0s 6ms/step - loss: 15.7219 - mae: 15.7219\n",
            "Epoch 12/100\n",
            "2/2 [==============================] - 0s 11ms/step - loss: 14.7283 - mae: 14.7283\n",
            "Epoch 13/100\n",
            "2/2 [==============================] - 0s 8ms/step - loss: 14.9806 - mae: 14.9806\n",
            "Epoch 14/100\n",
            "2/2 [==============================] - 0s 7ms/step - loss: 18.8670 - mae: 18.8670\n",
            "Epoch 15/100\n",
            "2/2 [==============================] - 0s 7ms/step - loss: 13.6974 - mae: 13.6974\n",
            "Epoch 16/100\n",
            "2/2 [==============================] - 0s 4ms/step - loss: 11.2644 - mae: 11.2644\n",
            "Epoch 17/100\n",
            "2/2 [==============================] - 0s 4ms/step - loss: 11.8333 - mae: 11.8333\n",
            "Epoch 18/100\n",
            "2/2 [==============================] - 0s 8ms/step - loss: 8.3908 - mae: 8.3908\n",
            "Epoch 19/100\n",
            "2/2 [==============================] - 0s 8ms/step - loss: 13.1274 - mae: 13.1274\n",
            "Epoch 20/100\n",
            "2/2 [==============================] - 0s 8ms/step - loss: 12.1461 - mae: 12.1461\n",
            "Epoch 21/100\n",
            "2/2 [==============================] - 0s 6ms/step - loss: 19.7471 - mae: 19.7471\n",
            "Epoch 22/100\n",
            "2/2 [==============================] - 0s 5ms/step - loss: 12.4110 - mae: 12.4110\n",
            "Epoch 23/100\n",
            "2/2 [==============================] - 0s 9ms/step - loss: 14.4068 - mae: 14.4068\n",
            "Epoch 24/100\n",
            "2/2 [==============================] - 0s 5ms/step - loss: 11.1209 - mae: 11.1209\n",
            "Epoch 25/100\n",
            "2/2 [==============================] - 0s 8ms/step - loss: 12.6786 - mae: 12.6786\n",
            "Epoch 26/100\n",
            "2/2 [==============================] - 0s 8ms/step - loss: 12.3723 - mae: 12.3723\n",
            "Epoch 27/100\n",
            "2/2 [==============================] - 0s 11ms/step - loss: 13.0876 - mae: 13.0876\n",
            "Epoch 28/100\n",
            "2/2 [==============================] - 0s 5ms/step - loss: 9.8987 - mae: 9.8987\n",
            "Epoch 29/100\n",
            "2/2 [==============================] - 0s 9ms/step - loss: 15.7779 - mae: 15.7779\n",
            "Epoch 30/100\n",
            "2/2 [==============================] - 0s 5ms/step - loss: 12.6859 - mae: 12.6859\n",
            "Epoch 31/100\n",
            "2/2 [==============================] - 0s 10ms/step - loss: 13.2059 - mae: 13.2059\n",
            "Epoch 32/100\n",
            "2/2 [==============================] - 0s 5ms/step - loss: 14.3800 - mae: 14.3800\n",
            "Epoch 33/100\n",
            "2/2 [==============================] - 0s 4ms/step - loss: 9.3245 - mae: 9.3245\n",
            "Epoch 34/100\n",
            "2/2 [==============================] - 0s 4ms/step - loss: 8.6975 - mae: 8.6975\n",
            "Epoch 35/100\n",
            "2/2 [==============================] - 0s 7ms/step - loss: 12.9379 - mae: 12.9379\n",
            "Epoch 36/100\n",
            "2/2 [==============================] - 0s 10ms/step - loss: 12.1360 - mae: 12.1360\n",
            "Epoch 37/100\n",
            "2/2 [==============================] - 0s 7ms/step - loss: 12.9533 - mae: 12.9533\n",
            "Epoch 38/100\n",
            "2/2 [==============================] - 0s 8ms/step - loss: 9.5272 - mae: 9.5272\n",
            "Epoch 39/100\n",
            "2/2 [==============================] - 0s 9ms/step - loss: 9.4302 - mae: 9.4302\n",
            "Epoch 40/100\n",
            "2/2 [==============================] - 0s 6ms/step - loss: 9.6277 - mae: 9.6277\n",
            "Epoch 41/100\n",
            "2/2 [==============================] - 0s 6ms/step - loss: 16.8340 - mae: 16.8340\n",
            "Epoch 42/100\n",
            "2/2 [==============================] - 0s 5ms/step - loss: 11.2767 - mae: 11.2767\n",
            "Epoch 43/100\n",
            "2/2 [==============================] - 0s 6ms/step - loss: 10.1274 - mae: 10.1274\n",
            "Epoch 44/100\n",
            "2/2 [==============================] - 0s 4ms/step - loss: 11.6759 - mae: 11.6759\n",
            "Epoch 45/100\n",
            "2/2 [==============================] - 0s 6ms/step - loss: 12.1148 - mae: 12.1148\n",
            "Epoch 46/100\n",
            "2/2 [==============================] - 0s 8ms/step - loss: 10.4271 - mae: 10.4271\n",
            "Epoch 47/100\n",
            "2/2 [==============================] - 0s 10ms/step - loss: 13.1219 - mae: 13.1219\n",
            "Epoch 48/100\n",
            "2/2 [==============================] - 0s 6ms/step - loss: 11.9508 - mae: 11.9508\n",
            "Epoch 49/100\n",
            "2/2 [==============================] - 0s 10ms/step - loss: 11.0451 - mae: 11.0451\n",
            "Epoch 50/100\n",
            "2/2 [==============================] - 0s 9ms/step - loss: 19.1581 - mae: 19.1581\n",
            "Epoch 51/100\n",
            "2/2 [==============================] - 0s 5ms/step - loss: 12.7949 - mae: 12.7949\n",
            "Epoch 52/100\n",
            "2/2 [==============================] - 0s 18ms/step - loss: 15.8405 - mae: 15.8405\n",
            "Epoch 53/100\n",
            "2/2 [==============================] - 0s 7ms/step - loss: 10.8553 - mae: 10.8553\n",
            "Epoch 54/100\n",
            "2/2 [==============================] - 0s 8ms/step - loss: 13.5833 - mae: 13.5833\n",
            "Epoch 55/100\n",
            "2/2 [==============================] - 0s 5ms/step - loss: 14.1967 - mae: 14.1967\n",
            "Epoch 56/100\n",
            "2/2 [==============================] - 0s 8ms/step - loss: 14.9222 - mae: 14.9222\n",
            "Epoch 57/100\n",
            "2/2 [==============================] - 0s 6ms/step - loss: 11.2674 - mae: 11.2674\n",
            "Epoch 58/100\n",
            "2/2 [==============================] - 0s 4ms/step - loss: 13.9237 - mae: 13.9237\n",
            "Epoch 59/100\n",
            "2/2 [==============================] - 0s 5ms/step - loss: 13.0049 - mae: 13.0049\n",
            "Epoch 60/100\n",
            "2/2 [==============================] - 0s 4ms/step - loss: 12.8039 - mae: 12.8039\n",
            "Epoch 61/100\n",
            "2/2 [==============================] - 0s 4ms/step - loss: 13.1627 - mae: 13.1627\n",
            "Epoch 62/100\n",
            "2/2 [==============================] - 0s 5ms/step - loss: 9.8259 - mae: 9.8259\n",
            "Epoch 63/100\n",
            "2/2 [==============================] - 0s 11ms/step - loss: 10.1246 - mae: 10.1246\n",
            "Epoch 64/100\n",
            "2/2 [==============================] - 0s 16ms/step - loss: 10.9719 - mae: 10.9719\n",
            "Epoch 65/100\n",
            "2/2 [==============================] - 0s 11ms/step - loss: 15.1114 - mae: 15.1114\n",
            "Epoch 66/100\n",
            "2/2 [==============================] - 0s 8ms/step - loss: 13.5768 - mae: 13.5768\n",
            "Epoch 67/100\n",
            "2/2 [==============================] - 0s 6ms/step - loss: 8.5256 - mae: 8.5256\n",
            "Epoch 68/100\n",
            "2/2 [==============================] - 0s 4ms/step - loss: 10.2202 - mae: 10.2202\n",
            "Epoch 69/100\n",
            "2/2 [==============================] - 0s 4ms/step - loss: 13.6836 - mae: 13.6836\n",
            "Epoch 70/100\n",
            "2/2 [==============================] - 0s 6ms/step - loss: 15.8806 - mae: 15.8806\n",
            "Epoch 71/100\n",
            "2/2 [==============================] - 0s 5ms/step - loss: 14.2642 - mae: 14.2642\n",
            "Epoch 72/100\n",
            "2/2 [==============================] - 0s 7ms/step - loss: 13.4308 - mae: 13.4308\n",
            "Epoch 73/100\n",
            "2/2 [==============================] - 0s 4ms/step - loss: 9.5943 - mae: 9.5943\n",
            "Epoch 74/100\n",
            "2/2 [==============================] - 0s 5ms/step - loss: 4.6936 - mae: 4.6936\n",
            "Epoch 75/100\n",
            "2/2 [==============================] - 0s 5ms/step - loss: 16.8245 - mae: 16.8245\n",
            "Epoch 76/100\n",
            "2/2 [==============================] - 0s 4ms/step - loss: 11.1266 - mae: 11.1266\n",
            "Epoch 77/100\n",
            "2/2 [==============================] - 0s 4ms/step - loss: 8.2174 - mae: 8.2174\n",
            "Epoch 78/100\n",
            "2/2 [==============================] - 0s 4ms/step - loss: 15.7186 - mae: 15.7186\n",
            "Epoch 79/100\n",
            "2/2 [==============================] - 0s 5ms/step - loss: 10.2486 - mae: 10.2486\n",
            "Epoch 80/100\n",
            "2/2 [==============================] - 0s 5ms/step - loss: 11.8265 - mae: 11.8265\n",
            "Epoch 81/100\n",
            "2/2 [==============================] - 0s 3ms/step - loss: 9.0773 - mae: 9.0773\n",
            "Epoch 82/100\n",
            "2/2 [==============================] - 0s 4ms/step - loss: 14.0852 - mae: 14.0852\n",
            "Epoch 83/100\n",
            "2/2 [==============================] - 0s 4ms/step - loss: 10.9686 - mae: 10.9686\n",
            "Epoch 84/100\n",
            "2/2 [==============================] - 0s 3ms/step - loss: 6.4024 - mae: 6.4024\n",
            "Epoch 85/100\n",
            "2/2 [==============================] - 0s 4ms/step - loss: 12.1148 - mae: 12.1148\n",
            "Epoch 86/100\n",
            "2/2 [==============================] - 0s 5ms/step - loss: 13.9478 - mae: 13.9478\n",
            "Epoch 87/100\n",
            "2/2 [==============================] - 0s 4ms/step - loss: 11.5786 - mae: 11.5786\n",
            "Epoch 88/100\n",
            "2/2 [==============================] - 0s 8ms/step - loss: 15.6488 - mae: 15.6488\n",
            "Epoch 89/100\n",
            "2/2 [==============================] - 0s 5ms/step - loss: 11.3297 - mae: 11.3297\n",
            "Epoch 90/100\n",
            "2/2 [==============================] - 0s 6ms/step - loss: 14.1020 - mae: 14.1020\n",
            "Epoch 91/100\n",
            "2/2 [==============================] - 0s 4ms/step - loss: 11.8319 - mae: 11.8319\n",
            "Epoch 92/100\n",
            "2/2 [==============================] - 0s 4ms/step - loss: 12.2232 - mae: 12.2232\n",
            "Epoch 93/100\n",
            "2/2 [==============================] - 0s 4ms/step - loss: 12.7112 - mae: 12.7112\n",
            "Epoch 94/100\n",
            "2/2 [==============================] - 0s 5ms/step - loss: 11.4258 - mae: 11.4258\n",
            "Epoch 95/100\n",
            "2/2 [==============================] - 0s 4ms/step - loss: 10.5791 - mae: 10.5791\n",
            "Epoch 96/100\n",
            "2/2 [==============================] - 0s 4ms/step - loss: 12.6747 - mae: 12.6747\n",
            "Epoch 97/100\n",
            "2/2 [==============================] - 0s 11ms/step - loss: 12.2296 - mae: 12.2296\n",
            "Epoch 98/100\n",
            "2/2 [==============================] - 0s 4ms/step - loss: 13.6128 - mae: 13.6128\n",
            "Epoch 99/100\n",
            "2/2 [==============================] - 0s 4ms/step - loss: 12.7963 - mae: 12.7963\n",
            "Epoch 100/100\n",
            "2/2 [==============================] - 0s 4ms/step - loss: 15.1515 - mae: 15.1515\n"
          ]
        },
        {
          "output_type": "execute_result",
          "data": {
            "text/plain": [
              "<keras.callbacks.History at 0x7f21a0c2c9d0>"
            ]
          },
          "metadata": {},
          "execution_count": 128
        }
      ]
    },
    {
      "cell_type": "code",
      "metadata": {
        "colab": {
          "base_uri": "https://localhost:8080/"
        },
        "id": "HPcFf8zAWSzG",
        "outputId": "fdfce0fd-944b-4aae-881f-4db9a6414175"
      },
      "source": [
        "model.predict([17.0])"
      ],
      "execution_count": 129,
      "outputs": [
        {
          "output_type": "execute_result",
          "data": {
            "text/plain": [
              "array([[14.16788]], dtype=float32)"
            ]
          },
          "metadata": {},
          "execution_count": 129
        }
      ]
    },
    {
      "cell_type": "markdown",
      "metadata": {
        "id": "4gFKBoVcW2YF"
      },
      "source": [
        "**Common ways to improve a deep model:**\n",
        "\n",
        "* Adding layers # We added 1 to the previous model \n",
        "* Increase the number of hidden units # our layers above are 100\n",
        "* Change the activation functions # activation= relu \n",
        "* Change the optimizer function # SGD \n",
        "\n",
        " #-----Could be the most important one -------#\n",
        "* **Change the learning rate # (lr=...) or (learning_rate=...)**\n",
        "\n",
        "* Fitting on more data\n",
        "* Fitting for longer"
      ]
    },
    {
      "cell_type": "markdown",
      "metadata": {
        "id": "x-iFzLOEZ4u3"
      },
      "source": [
        "Adjusting:"
      ]
    },
    {
      "cell_type": "code",
      "metadata": {
        "colab": {
          "base_uri": "https://localhost:8080/"
        },
        "id": "FkSSX6x0dEzc",
        "outputId": "2983004c-03ef-4d74-c4e4-836ca00a46c7"
      },
      "source": [
        "# 1. Create the model (this time with an extra hidden layer with 100 hidden units)\n",
        "model = tf.keras.Sequential([\n",
        "  tf.keras.layers.Dense(50, activation=None),\n",
        "  tf.keras.layers.Dense(1)\n",
        "])\n",
        "\n",
        "# 2. Compile the model\n",
        "\n",
        "model.compile(loss='mae',\n",
        "              optimizer=tf.keras.optimizers.Adam(learning_rate=0.01),\n",
        "              metrics=['mae'])\n",
        "\n",
        "# 3. Fit the model\n",
        "\n",
        "model.fit(X, y, epochs=100)"
      ],
      "execution_count": 130,
      "outputs": [
        {
          "output_type": "stream",
          "name": "stdout",
          "text": [
            "Epoch 1/100\n",
            "2/2 [==============================] - 0s 9ms/step - loss: 24.5722 - mae: 24.5722\n",
            "Epoch 2/100\n",
            "2/2 [==============================] - 0s 10ms/step - loss: 11.7122 - mae: 11.7122\n",
            "Epoch 3/100\n",
            "2/2 [==============================] - 0s 13ms/step - loss: 10.4141 - mae: 10.4141\n",
            "Epoch 4/100\n",
            "2/2 [==============================] - 0s 8ms/step - loss: 13.2770 - mae: 13.2770\n",
            "Epoch 5/100\n",
            "2/2 [==============================] - 0s 5ms/step - loss: 9.9531 - mae: 9.9531\n",
            "Epoch 6/100\n",
            "2/2 [==============================] - 0s 5ms/step - loss: 9.1835 - mae: 9.1835\n",
            "Epoch 7/100\n",
            "2/2 [==============================] - 0s 5ms/step - loss: 9.1361 - mae: 9.1361\n",
            "Epoch 8/100\n",
            "2/2 [==============================] - 0s 5ms/step - loss: 9.9902 - mae: 9.9902\n",
            "Epoch 9/100\n",
            "2/2 [==============================] - 0s 4ms/step - loss: 8.6776 - mae: 8.6776\n",
            "Epoch 10/100\n",
            "2/2 [==============================] - 0s 8ms/step - loss: 8.0772 - mae: 8.0772\n",
            "Epoch 11/100\n",
            "2/2 [==============================] - 0s 7ms/step - loss: 8.0216 - mae: 8.0216\n",
            "Epoch 12/100\n",
            "2/2 [==============================] - 0s 9ms/step - loss: 8.6043 - mae: 8.6043\n",
            "Epoch 13/100\n",
            "2/2 [==============================] - 0s 6ms/step - loss: 7.9758 - mae: 7.9758\n",
            "Epoch 14/100\n",
            "2/2 [==============================] - 0s 11ms/step - loss: 7.2646 - mae: 7.2646\n",
            "Epoch 15/100\n",
            "2/2 [==============================] - 0s 7ms/step - loss: 6.9838 - mae: 6.9838\n",
            "Epoch 16/100\n",
            "2/2 [==============================] - 0s 9ms/step - loss: 7.0709 - mae: 7.0709\n",
            "Epoch 17/100\n",
            "2/2 [==============================] - 0s 6ms/step - loss: 7.3099 - mae: 7.3099\n",
            "Epoch 18/100\n",
            "2/2 [==============================] - 0s 6ms/step - loss: 6.4751 - mae: 6.4751\n",
            "Epoch 19/100\n",
            "2/2 [==============================] - 0s 5ms/step - loss: 6.3588 - mae: 6.3588\n",
            "Epoch 20/100\n",
            "2/2 [==============================] - 0s 5ms/step - loss: 6.2390 - mae: 6.2390\n",
            "Epoch 21/100\n",
            "2/2 [==============================] - 0s 10ms/step - loss: 5.9024 - mae: 5.9024\n",
            "Epoch 22/100\n",
            "2/2 [==============================] - 0s 6ms/step - loss: 5.5352 - mae: 5.5352\n",
            "Epoch 23/100\n",
            "2/2 [==============================] - 0s 5ms/step - loss: 5.2762 - mae: 5.2762\n",
            "Epoch 24/100\n",
            "2/2 [==============================] - 0s 5ms/step - loss: 4.9426 - mae: 4.9426\n",
            "Epoch 25/100\n",
            "2/2 [==============================] - 0s 5ms/step - loss: 4.6272 - mae: 4.6272\n",
            "Epoch 26/100\n",
            "2/2 [==============================] - 0s 8ms/step - loss: 4.3202 - mae: 4.3202\n",
            "Epoch 27/100\n",
            "2/2 [==============================] - 0s 5ms/step - loss: 3.9214 - mae: 3.9214\n",
            "Epoch 28/100\n",
            "2/2 [==============================] - 0s 5ms/step - loss: 3.5421 - mae: 3.5421\n",
            "Epoch 29/100\n",
            "2/2 [==============================] - 0s 5ms/step - loss: 3.1373 - mae: 3.1373\n",
            "Epoch 30/100\n",
            "2/2 [==============================] - 0s 5ms/step - loss: 2.8521 - mae: 2.8521\n",
            "Epoch 31/100\n",
            "2/2 [==============================] - 0s 13ms/step - loss: 2.7916 - mae: 2.7916\n",
            "Epoch 32/100\n",
            "2/2 [==============================] - 0s 7ms/step - loss: 2.4542 - mae: 2.4542\n",
            "Epoch 33/100\n",
            "2/2 [==============================] - 0s 5ms/step - loss: 1.6453 - mae: 1.6453\n",
            "Epoch 34/100\n",
            "2/2 [==============================] - 0s 5ms/step - loss: 1.3920 - mae: 1.3920\n",
            "Epoch 35/100\n",
            "2/2 [==============================] - 0s 8ms/step - loss: 0.8243 - mae: 0.8243\n",
            "Epoch 36/100\n",
            "2/2 [==============================] - 0s 9ms/step - loss: 0.3909 - mae: 0.3909\n",
            "Epoch 37/100\n",
            "2/2 [==============================] - 0s 7ms/step - loss: 1.2358 - mae: 1.2358\n",
            "Epoch 38/100\n",
            "2/2 [==============================] - 0s 3ms/step - loss: 1.9575 - mae: 1.9575\n",
            "Epoch 39/100\n",
            "2/2 [==============================] - 0s 4ms/step - loss: 0.7676 - mae: 0.7676\n",
            "Epoch 40/100\n",
            "2/2 [==============================] - 0s 4ms/step - loss: 0.6700 - mae: 0.6700\n",
            "Epoch 41/100\n",
            "2/2 [==============================] - 0s 5ms/step - loss: 1.1285 - mae: 1.1285\n",
            "Epoch 42/100\n",
            "2/2 [==============================] - 0s 4ms/step - loss: 0.8544 - mae: 0.8544\n",
            "Epoch 43/100\n",
            "2/2 [==============================] - 0s 4ms/step - loss: 1.0268 - mae: 1.0268\n",
            "Epoch 44/100\n",
            "2/2 [==============================] - 0s 9ms/step - loss: 1.5146 - mae: 1.5146\n",
            "Epoch 45/100\n",
            "2/2 [==============================] - 0s 4ms/step - loss: 3.0350 - mae: 3.0350\n",
            "Epoch 46/100\n",
            "2/2 [==============================] - 0s 5ms/step - loss: 1.9425 - mae: 1.9425\n",
            "Epoch 47/100\n",
            "2/2 [==============================] - 0s 6ms/step - loss: 3.9447 - mae: 3.9447\n",
            "Epoch 48/100\n",
            "2/2 [==============================] - 0s 9ms/step - loss: 4.1134 - mae: 4.1134\n",
            "Epoch 49/100\n",
            "2/2 [==============================] - 0s 5ms/step - loss: 1.8096 - mae: 1.8096\n",
            "Epoch 50/100\n",
            "2/2 [==============================] - 0s 4ms/step - loss: 4.5279 - mae: 4.5279\n",
            "Epoch 51/100\n",
            "2/2 [==============================] - 0s 4ms/step - loss: 1.6654 - mae: 1.6654\n",
            "Epoch 52/100\n",
            "2/2 [==============================] - 0s 5ms/step - loss: 1.5441 - mae: 1.5441\n",
            "Epoch 53/100\n",
            "2/2 [==============================] - 0s 4ms/step - loss: 1.0508 - mae: 1.0508\n",
            "Epoch 54/100\n",
            "2/2 [==============================] - 0s 4ms/step - loss: 0.5250 - mae: 0.5250\n",
            "Epoch 55/100\n",
            "2/2 [==============================] - 0s 4ms/step - loss: 0.7265 - mae: 0.7265\n",
            "Epoch 56/100\n",
            "2/2 [==============================] - 0s 18ms/step - loss: 0.8129 - mae: 0.8129\n",
            "Epoch 57/100\n",
            "2/2 [==============================] - 0s 8ms/step - loss: 0.6065 - mae: 0.6065\n",
            "Epoch 58/100\n",
            "2/2 [==============================] - 0s 9ms/step - loss: 0.8384 - mae: 0.8384\n",
            "Epoch 59/100\n",
            "2/2 [==============================] - 0s 4ms/step - loss: 0.5958 - mae: 0.5958\n",
            "Epoch 60/100\n",
            "2/2 [==============================] - 0s 5ms/step - loss: 0.7649 - mae: 0.7649\n",
            "Epoch 61/100\n",
            "2/2 [==============================] - 0s 5ms/step - loss: 0.4364 - mae: 0.4364\n",
            "Epoch 62/100\n",
            "2/2 [==============================] - 0s 6ms/step - loss: 0.7377 - mae: 0.7377\n",
            "Epoch 63/100\n",
            "2/2 [==============================] - 0s 4ms/step - loss: 0.8872 - mae: 0.8872\n",
            "Epoch 64/100\n",
            "2/2 [==============================] - 0s 9ms/step - loss: 0.8432 - mae: 0.8432\n",
            "Epoch 65/100\n",
            "2/2 [==============================] - 0s 4ms/step - loss: 1.1427 - mae: 1.1427\n",
            "Epoch 66/100\n",
            "2/2 [==============================] - 0s 11ms/step - loss: 0.8035 - mae: 0.8035\n",
            "Epoch 67/100\n",
            "2/2 [==============================] - 0s 5ms/step - loss: 2.6258 - mae: 2.6258\n",
            "Epoch 68/100\n",
            "2/2 [==============================] - 0s 8ms/step - loss: 1.1952 - mae: 1.1952\n",
            "Epoch 69/100\n",
            "2/2 [==============================] - 0s 7ms/step - loss: 2.8846 - mae: 2.8846\n",
            "Epoch 70/100\n",
            "2/2 [==============================] - 0s 8ms/step - loss: 1.3026 - mae: 1.3026\n",
            "Epoch 71/100\n",
            "2/2 [==============================] - 0s 6ms/step - loss: 3.2589 - mae: 3.2589\n",
            "Epoch 72/100\n",
            "2/2 [==============================] - 0s 4ms/step - loss: 1.3713 - mae: 1.3713\n",
            "Epoch 73/100\n",
            "2/2 [==============================] - 0s 4ms/step - loss: 1.8506 - mae: 1.8506\n",
            "Epoch 74/100\n",
            "2/2 [==============================] - 0s 8ms/step - loss: 0.9643 - mae: 0.9643\n",
            "Epoch 75/100\n",
            "2/2 [==============================] - 0s 5ms/step - loss: 0.5495 - mae: 0.5495\n",
            "Epoch 76/100\n",
            "2/2 [==============================] - 0s 3ms/step - loss: 0.3345 - mae: 0.3345\n",
            "Epoch 77/100\n",
            "2/2 [==============================] - 0s 7ms/step - loss: 0.5905 - mae: 0.5905\n",
            "Epoch 78/100\n",
            "2/2 [==============================] - 0s 13ms/step - loss: 1.1921 - mae: 1.1921\n",
            "Epoch 79/100\n",
            "2/2 [==============================] - 0s 6ms/step - loss: 1.8804 - mae: 1.8804\n",
            "Epoch 80/100\n",
            "2/2 [==============================] - 0s 8ms/step - loss: 1.1030 - mae: 1.1030\n",
            "Epoch 81/100\n",
            "2/2 [==============================] - 0s 8ms/step - loss: 1.5319 - mae: 1.5319\n",
            "Epoch 82/100\n",
            "2/2 [==============================] - 0s 6ms/step - loss: 0.8665 - mae: 0.8665\n",
            "Epoch 83/100\n",
            "2/2 [==============================] - 0s 8ms/step - loss: 2.6131 - mae: 2.6131\n",
            "Epoch 84/100\n",
            "2/2 [==============================] - 0s 8ms/step - loss: 1.1600 - mae: 1.1600\n",
            "Epoch 85/100\n",
            "2/2 [==============================] - 0s 9ms/step - loss: 1.9427 - mae: 1.9427\n",
            "Epoch 86/100\n",
            "2/2 [==============================] - 0s 7ms/step - loss: 0.9618 - mae: 0.9618\n",
            "Epoch 87/100\n",
            "2/2 [==============================] - 0s 9ms/step - loss: 3.0370 - mae: 3.0370\n",
            "Epoch 88/100\n",
            "2/2 [==============================] - 0s 7ms/step - loss: 1.2725 - mae: 1.2725\n",
            "Epoch 89/100\n",
            "2/2 [==============================] - 0s 7ms/step - loss: 1.3107 - mae: 1.3107\n",
            "Epoch 90/100\n",
            "2/2 [==============================] - 0s 7ms/step - loss: 0.3417 - mae: 0.3417\n",
            "Epoch 91/100\n",
            "2/2 [==============================] - 0s 5ms/step - loss: 0.2614 - mae: 0.2614\n",
            "Epoch 92/100\n",
            "2/2 [==============================] - 0s 5ms/step - loss: 0.3880 - mae: 0.3880\n",
            "Epoch 93/100\n",
            "2/2 [==============================] - 0s 5ms/step - loss: 0.6278 - mae: 0.6278\n",
            "Epoch 94/100\n",
            "2/2 [==============================] - 0s 8ms/step - loss: 0.5881 - mae: 0.5881\n",
            "Epoch 95/100\n",
            "2/2 [==============================] - 0s 4ms/step - loss: 0.5088 - mae: 0.5088\n",
            "Epoch 96/100\n",
            "2/2 [==============================] - 0s 4ms/step - loss: 0.6151 - mae: 0.6151\n",
            "Epoch 97/100\n",
            "2/2 [==============================] - 0s 5ms/step - loss: 0.4003 - mae: 0.4003\n",
            "Epoch 98/100\n",
            "2/2 [==============================] - 0s 4ms/step - loss: 0.6441 - mae: 0.6441\n",
            "Epoch 99/100\n",
            "2/2 [==============================] - 0s 4ms/step - loss: 0.5155 - mae: 0.5155\n",
            "Epoch 100/100\n",
            "2/2 [==============================] - 0s 4ms/step - loss: 0.3093 - mae: 0.3093\n"
          ]
        },
        {
          "output_type": "execute_result",
          "data": {
            "text/plain": [
              "<keras.callbacks.History at 0x7f21a0ac68d0>"
            ]
          },
          "metadata": {},
          "execution_count": 130
        }
      ]
    },
    {
      "cell_type": "code",
      "metadata": {
        "colab": {
          "base_uri": "https://localhost:8080/"
        },
        "id": "VBNHdOOLdb84",
        "outputId": "862f976b-c5aa-4b0a-c86e-300f82247689"
      },
      "source": [
        "X, y"
      ],
      "execution_count": 105,
      "outputs": [
        {
          "output_type": "execute_result",
          "data": {
            "text/plain": [
              "(<tf.Tensor: shape=(50,), dtype=int32, numpy=\n",
              " array([-100,  -96,  -92,  -88,  -84,  -80,  -76,  -72,  -68,  -64,  -60,\n",
              "         -56,  -52,  -48,  -44,  -40,  -36,  -32,  -28,  -24,  -20,  -16,\n",
              "         -12,   -8,   -4,    0,    4,    8,   12,   16,   20,   24,   28,\n",
              "          32,   36,   40,   44,   48,   52,   56,   60,   64,   68,   72,\n",
              "          76,   80,   84,   88,   92,   96], dtype=int32)>,\n",
              " <tf.Tensor: shape=(50,), dtype=int32, numpy=\n",
              " array([-90, -86, -82, -78, -74, -70, -66, -62, -58, -54, -50, -46, -42,\n",
              "        -38, -34, -30, -26, -22, -18, -14, -10,  -6,  -2,   2,   6,  10,\n",
              "         14,  18,  22,  26,  30,  34,  38,  42,  46,  50,  54,  58,  62,\n",
              "         66,  70,  74,  78,  82,  86,  90,  94,  98, 102, 106], dtype=int32)>)"
            ]
          },
          "metadata": {},
          "execution_count": 105
        }
      ]
    },
    {
      "cell_type": "code",
      "metadata": {
        "colab": {
          "base_uri": "https://localhost:8080/"
        },
        "id": "2572Lb10djId",
        "outputId": "168d9e74-f587-4368-9d59-cd645cf3ed39"
      },
      "source": [
        "model.predict([17.0])"
      ],
      "execution_count": 131,
      "outputs": [
        {
          "output_type": "execute_result",
          "data": {
            "text/plain": [
              "array([[26.80497]], dtype=float32)"
            ]
          },
          "metadata": {},
          "execution_count": 131
        }
      ]
    },
    {
      "cell_type": "markdown",
      "metadata": {
        "id": "nAc8fcvJdmLh"
      },
      "source": [
        "## Evaluating a model"
      ]
    },
    {
      "cell_type": "markdown",
      "metadata": {
        "id": "W9PtHSjCd_i7"
      },
      "source": [
        "In practice, a typical workflow you will go through when building neural networks is:   \n",
        "```\n",
        "Build a model -> fit it -> evaluate it -> tweak a model ->\n",
        "fit it -> evaluate it -> tweak it -> fit it -> evaluate it...\n",
        "```\n",
        "\n",
        "When it comes to evaluation...\n",
        "\n",
        "> \" Visualise, visualise, visualise\""
      ]
    },
    {
      "cell_type": "markdown",
      "metadata": {
        "id": "iE4xp9xff-Hv"
      },
      "source": [
        "It's a good idea to visualise:\n",
        "* The data - what data are we working with? What does it look like?\n",
        "* The model itself - what does the model look like?\n",
        "* The training of a model - how does a model perform while it learns?\n",
        "* The prediction of the model - how do the predictions of a model line up \n",
        "against the ground truth (the original labels)?"
      ]
    },
    {
      "cell_type": "code",
      "metadata": {
        "colab": {
          "base_uri": "https://localhost:8080/"
        },
        "id": "TpuXnXGyhEp5",
        "outputId": "645397e6-12e0-416e-ec2e-9e794bca779f"
      },
      "source": [
        "# Make a bigger dataset \n",
        "\n",
        "X = tf.range(-100, 100, 4)\n",
        "X"
      ],
      "execution_count": 75,
      "outputs": [
        {
          "output_type": "execute_result",
          "data": {
            "text/plain": [
              "<tf.Tensor: shape=(50,), dtype=int32, numpy=\n",
              "array([-100,  -96,  -92,  -88,  -84,  -80,  -76,  -72,  -68,  -64,  -60,\n",
              "        -56,  -52,  -48,  -44,  -40,  -36,  -32,  -28,  -24,  -20,  -16,\n",
              "        -12,   -8,   -4,    0,    4,    8,   12,   16,   20,   24,   28,\n",
              "         32,   36,   40,   44,   48,   52,   56,   60,   64,   68,   72,\n",
              "         76,   80,   84,   88,   92,   96], dtype=int32)>"
            ]
          },
          "metadata": {},
          "execution_count": 75
        }
      ]
    },
    {
      "cell_type": "code",
      "metadata": {
        "colab": {
          "base_uri": "https://localhost:8080/"
        },
        "id": "ttqn_sCahYSO",
        "outputId": "5c859194-8cc3-492c-9f2f-7c3987b77c75"
      },
      "source": [
        "# Make labels for the dataset\n",
        "\n",
        "y = X + 10\n",
        "y"
      ],
      "execution_count": 76,
      "outputs": [
        {
          "output_type": "execute_result",
          "data": {
            "text/plain": [
              "<tf.Tensor: shape=(50,), dtype=int32, numpy=\n",
              "array([-90, -86, -82, -78, -74, -70, -66, -62, -58, -54, -50, -46, -42,\n",
              "       -38, -34, -30, -26, -22, -18, -14, -10,  -6,  -2,   2,   6,  10,\n",
              "        14,  18,  22,  26,  30,  34,  38,  42,  46,  50,  54,  58,  62,\n",
              "        66,  70,  74,  78,  82,  86,  90,  94,  98, 102, 106], dtype=int32)>"
            ]
          },
          "metadata": {},
          "execution_count": 76
        }
      ]
    },
    {
      "cell_type": "code",
      "metadata": {
        "colab": {
          "base_uri": "https://localhost:8080/",
          "height": 265
        },
        "id": "Xvpy_opthuok",
        "outputId": "491f84c4-d27f-439e-e58e-16968f829353"
      },
      "source": [
        "# Visualise the data\n",
        "import matplotlib.pyplot as plt\n",
        "\n",
        "plt.scatter(X, y);"
      ],
      "execution_count": 77,
      "outputs": [
        {
          "output_type": "display_data",
          "data": {
            "image/png": "[encoded data removed]",
            "text/plain": [
              "<Figure size 432x288 with 1 Axes>"
            ]
          },
          "metadata": {
            "needs_background": "light"
          }
        }
      ]
    },
    {
      "cell_type": "markdown",
      "metadata": {
        "id": "H4hJ4scziAK-"
      },
      "source": [
        "### The 3 sets...\n",
        "\n",
        "* **Training set**   - the model learns from this data, which is typically 70-80 % of the total data you have available.\n",
        "* **Validation set** - the model gets tuned on this data, which is typically 10-15% \n",
        "of the data.\n",
        "* **Test set** - the model gets evaluated on this data to test what is has learned,\n",
        "this set is typically 10-15% of the total data availability."
      ]
    },
    {
      "cell_type": "code",
      "metadata": {
        "id": "U2fuj7JpiTQ_",
        "colab": {
          "base_uri": "https://localhost:8080/"
        },
        "outputId": "34f74ed3-7334-47d2-a5f2-8836c77871ef"
      },
      "source": [
        "# Check the length of samples we have\n",
        "len(X)"
      ],
      "execution_count": 96,
      "outputs": [
        {
          "output_type": "execute_result",
          "data": {
            "text/plain": [
              "50"
            ]
          },
          "metadata": {},
          "execution_count": 96
        }
      ]
    },
    {
      "cell_type": "code",
      "metadata": {
        "colab": {
          "base_uri": "https://localhost:8080/"
        },
        "id": "46JmVZnqyMZY",
        "outputId": "ee143486-e001-4dab-bf00-19404ea03a3d"
      },
      "source": [
        "# Split the data into train and test sets\n",
        "X_train = X[:40] # first 40 are training samples (80% of the data)\n",
        "y_train = y[:40]\n",
        "\n",
        "X_test = X[40:] # last 10 are the testing samples (20% of the data)\n",
        "y_test = y[40:]\n",
        "\n",
        "len(X_train), len(X_test)"
      ],
      "execution_count": 97,
      "outputs": [
        {
          "output_type": "execute_result",
          "data": {
            "text/plain": [
              "(40, 10)"
            ]
          },
          "metadata": {},
          "execution_count": 97
        }
      ]
    },
    {
      "cell_type": "code",
      "metadata": {
        "colab": {
          "base_uri": "https://localhost:8080/"
        },
        "id": "4HuKA26eziKA",
        "outputId": "e0d81ada-86e1-4734-92e4-6ad447eaa47a"
      },
      "source": [
        "len(y_train), len(y_test)"
      ],
      "execution_count": 98,
      "outputs": [
        {
          "output_type": "execute_result",
          "data": {
            "text/plain": [
              "(40, 10)"
            ]
          },
          "metadata": {},
          "execution_count": 98
        }
      ]
    },
    {
      "cell_type": "markdown",
      "metadata": {
        "id": "UMtSKNOEznMX"
      },
      "source": [
        "### Visualise the data\n",
        "\n",
        "Now that we have our data into training and test sets. Let us visualise it."
      ]
    },
    {
      "cell_type": "code",
      "metadata": {
        "colab": {
          "base_uri": "https://localhost:8080/",
          "height": 428
        },
        "id": "vl7SeuLr0Kb7",
        "outputId": "8e9cd594-2ebb-413e-f05c-84d83092f511"
      },
      "source": [
        "plt.figure(figsize=(10, 7))\n",
        "\n",
        "plt.scatter(X_train, y_train, c='g', label=\"Training data\")\n",
        "\n",
        "plt.scatter(X_test, y_test, c='b', label='Test data')\n",
        "\n",
        "plt.legend();"
      ],
      "execution_count": 99,
      "outputs": [
        {
          "output_type": "display_data",
          "data": {
            "image/png": "[encoded data removed]",
            "text/plain": [
              "<Figure size 720x504 with 1 Axes>"
            ]
          },
          "metadata": {
            "needs_background": "light"
          }
        }
      ]
    },
    {
      "cell_type": "code",
      "metadata": {
        "id": "gdGzWlww1D3a"
      },
      "source": [
        "# How to build a neural network for our data\n",
        "\n",
        "# 1. Create a m ode\n",
        "\n",
        "model = tf.keras.Sequential([\n",
        "    tf.keras.layers.Dense(1)\n",
        "])\n",
        "\n",
        "\n",
        "# 2. Compile the model\n",
        "\n",
        "model.compile(\n",
        "    loss=tf.keras.losses.mae,\n",
        "    optimizer=tf.keras.optimizers.SGD(),\n",
        "    metrics=['mae']\n",
        ")\n",
        "\n",
        "# 3. Fit the model\n",
        "\n",
        "# model.fit(X_train, y_train, epochs=100)\n",
        "\n"
      ],
      "execution_count": 82,
      "outputs": []
    },
    {
      "cell_type": "markdown",
      "metadata": {
        "id": "lgsdjVYf4mvM"
      },
      "source": [
        "### Visualising the model "
      ]
    },
    {
      "cell_type": "markdown",
      "metadata": {
        "id": "sSOLMJjF5I0D"
      },
      "source": [
        "The following code will error out:"
      ]
    },
    {
      "cell_type": "code",
      "metadata": {
        "id": "JHw-HMx44xcv"
      },
      "source": [
        "#-------------error out---------------#\n",
        "\n",
        "# model.summary()"
      ],
      "execution_count": 83,
      "outputs": []
    },
    {
      "cell_type": "code",
      "metadata": {
        "id": "dAB5i1BV5F_j"
      },
      "source": [
        "# Create a model which builds automatically by defining the input_shape argument in the first layer\n",
        "\n",
        "tf.random.set_seed(42)\n",
        "\n",
        "# 1. Create a model \n",
        "model = tf.keras.Sequential([\n",
        "    tf.keras.layers.Dense(10, input_shape=[1])\n",
        "])\n",
        "\n",
        "# 2. Compile the model\n",
        "model.compile(loss=tf.keras.losses.mae,\n",
        "              optimizer=tf.keras.optimizers.SGD(),\n",
        "              metrics=['mae'])\n",
        "\n"
      ],
      "execution_count": 111,
      "outputs": []
    },
    {
      "cell_type": "code",
      "metadata": {
        "colab": {
          "base_uri": "https://localhost:8080/"
        },
        "id": "bTLsX6mJ7DxR",
        "outputId": "717e9e6b-0191-4077-ab8f-835a39729a20"
      },
      "source": [
        "model.summary()"
      ],
      "execution_count": 85,
      "outputs": [
        {
          "output_type": "stream",
          "name": "stdout",
          "text": [
            "Model: \"sequential_12\"\n",
            "_________________________________________________________________\n",
            "Layer (type)                 Output Shape              Param #   \n",
            "=================================================================\n",
            "dense_16 (Dense)             (None, 10)                20        \n",
            "=================================================================\n",
            "Total params: 20\n",
            "Trainable params: 20\n",
            "Non-trainable params: 0\n",
            "_________________________________________________________________\n"
          ]
        }
      ]
    },
    {
      "cell_type": "markdown",
      "metadata": {
        "id": "Drv7S7xF7F-Y"
      },
      "source": [
        "* Total params - total number of params in the model.\n",
        "* Trainable params - these are the parameters (patterns)\n",
        "the model can update as it trains.\n",
        "* Non-trainable params - these parameters are not updated during training (this is typical when you bring in already learned patterns or parameters from other models during **transfer learning**)"
      ]
    },
    {
      "cell_type": "markdown",
      "metadata": {
        "id": "_ivyHNKG8y5K"
      },
      "source": [
        "📖 **Resource:** 📖\n",
        "\n",
        "For a more in-depth overview of the trainable parameters within a layer, check out MIT's Introduction to deep-learning video:\n",
        "\n",
        "http://introtodeeplearning.com/"
      ]
    },
    {
      "cell_type": "code",
      "metadata": {
        "colab": {
          "base_uri": "https://localhost:8080/"
        },
        "id": "5_B7193jARjH",
        "outputId": "378f38b4-f449-4f18-a798-daad00bf0d5a"
      },
      "source": [
        "# Fitting our model to the training data\n",
        "\n",
        "model.fit(X_train, y_train, epochs=100, verbose=0)"
      ],
      "execution_count": 112,
      "outputs": [
        {
          "output_type": "execute_result",
          "data": {
            "text/plain": [
              "<keras.callbacks.History at 0x7f21f981abd0>"
            ]
          },
          "metadata": {},
          "execution_count": 112
        }
      ]
    },
    {
      "cell_type": "code",
      "metadata": {
        "id": "HfNZtrFGBxeA",
        "colab": {
          "base_uri": "https://localhost:8080/"
        },
        "outputId": "c8681031-52aa-4097-e29c-e8b7ba2a8788"
      },
      "source": [
        "# Get a summary of the model \n",
        "\n",
        "model.summary()"
      ],
      "execution_count": 87,
      "outputs": [
        {
          "output_type": "stream",
          "name": "stdout",
          "text": [
            "Model: \"sequential_12\"\n",
            "_________________________________________________________________\n",
            "Layer (type)                 Output Shape              Param #   \n",
            "=================================================================\n",
            "dense_16 (Dense)             (None, 10)                20        \n",
            "=================================================================\n",
            "Total params: 20\n",
            "Trainable params: 20\n",
            "Non-trainable params: 0\n",
            "_________________________________________________________________\n"
          ]
        }
      ]
    },
    {
      "cell_type": "code",
      "metadata": {
        "id": "u1PKTw8Ivb6x"
      },
      "source": [
        "from tensorflow.keras.utils import plot_model\n",
        "\n"
      ],
      "execution_count": 88,
      "outputs": []
    },
    {
      "cell_type": "code",
      "metadata": {
        "colab": {
          "base_uri": "https://localhost:8080/",
          "height": 174
        },
        "id": "8BxnYT0vwYPb",
        "outputId": "1520d65b-70cc-4032-d7f9-d985c6fc4b09"
      },
      "source": [
        "plot_model(model=model)"
      ],
      "execution_count": 89,
      "outputs": [
        {
          "output_type": "execute_result",
          "data": {
            "image/png": "[encoded data removed]",
            "text/plain": [
              "<IPython.core.display.Image object>"
            ]
          },
          "metadata": {},
          "execution_count": 89
        }
      ]
    },
    {
      "cell_type": "code",
      "metadata": {
        "colab": {
          "base_uri": "https://localhost:8080/",
          "height": 201
        },
        "id": "0MMx61Qewjb5",
        "outputId": "12769181-8469-427c-ce3b-b1efe9985535"
      },
      "source": [
        "plot_model(model=model, show_shapes=True)"
      ],
      "execution_count": 90,
      "outputs": [
        {
          "output_type": "execute_result",
          "data": {
            "image/png": "[encoded data removed]",
            "text/plain": [
              "<IPython.core.display.Image object>"
            ]
          },
          "metadata": {},
          "execution_count": 90
        }
      ]
    },
    {
      "cell_type": "code",
      "metadata": {
        "id": "k2qf1jLwwzXd"
      },
      "source": [
        "tf.random.set_seed(42)\n",
        "\n",
        "# 1. Create a model \n",
        "model = tf.keras.Sequential([\n",
        "    tf.keras.layers.Dense(10, input_shape=[1], name='input_layer'),\n",
        "    tf.keras.layers.Dense(1, name='output_layer')\n",
        "], name='model_1')\n",
        "\n",
        "# 2. Compile the model\n",
        "model.compile(loss=tf.keras.losses.mae,\n",
        "              optimizer=tf.keras.optimizers.SGD(),\n",
        "              metrics=['mae'])"
      ],
      "execution_count": 100,
      "outputs": []
    },
    {
      "cell_type": "code",
      "metadata": {
        "colab": {
          "base_uri": "https://localhost:8080/"
        },
        "id": "iOcAYFKvyBZ5",
        "outputId": "c7329da6-d2a2-4c74-c8f4-c8556c4c1c58"
      },
      "source": [
        "model.summary()"
      ],
      "execution_count": 92,
      "outputs": [
        {
          "output_type": "stream",
          "name": "stdout",
          "text": [
            "Model: \"model_1\"\n",
            "_________________________________________________________________\n",
            "Layer (type)                 Output Shape              Param #   \n",
            "=================================================================\n",
            "input_layer (Dense)          (None, 10)                20        \n",
            "_________________________________________________________________\n",
            "output_layer (Dense)         (None, 1)                 11        \n",
            "=================================================================\n",
            "Total params: 31\n",
            "Trainable params: 31\n",
            "Non-trainable params: 0\n",
            "_________________________________________________________________\n"
          ]
        }
      ]
    },
    {
      "cell_type": "code",
      "metadata": {
        "colab": {
          "base_uri": "https://localhost:8080/",
          "height": 312
        },
        "id": "QsO3unIcxztn",
        "outputId": "0cb8bf77-4ca8-42c5-a1be-399ea0a3829e"
      },
      "source": [
        "plot_model(model=model, show_shapes=True)"
      ],
      "execution_count": 93,
      "outputs": [
        {
          "output_type": "execute_result",
          "data": {
            "image/png": "[encoded data removed]",
            "text/plain": [
              "<IPython.core.display.Image object>"
            ]
          },
          "metadata": {},
          "execution_count": 93
        }
      ]
    },
    {
      "cell_type": "markdown",
      "metadata": {
        "id": "tdRV78Ssx-Eg"
      },
      "source": [
        "### Visualising our model's predictions"
      ]
    },
    {
      "cell_type": "markdown",
      "metadata": {
        "id": "oomw9-v3zDa2"
      },
      "source": [
        "To visualise predictions, it's a good idea to plot them against the ground truth labels.\n",
        "\n",
        "Often we will see this in the form `y_test` or `y_true` vs. `y_pred`(ground truth versus your model's predictions)."
      ]
    },
    {
      "cell_type": "code",
      "metadata": {
        "colab": {
          "base_uri": "https://localhost:8080/"
        },
        "id": "olWgO8M1z_Og",
        "outputId": "dd1178af-9d98-4d5e-b111-b2c67e7e3833"
      },
      "source": [
        "# Make some predictions\n",
        "\n",
        "y_pred = model.predict(X_test)\n",
        "y_pred"
      ],
      "execution_count": 135,
      "outputs": [
        {
          "output_type": "execute_result",
          "data": {
            "text/plain": [
              "array([[ 69.4298  ],\n",
              "       [ 73.394905],\n",
              "       [ 77.36    ],\n",
              "       [ 81.3251  ],\n",
              "       [ 85.29021 ],\n",
              "       [ 89.2553  ],\n",
              "       [ 93.2204  ],\n",
              "       [ 97.1855  ],\n",
              "       [101.150604],\n",
              "       [105.1157  ]], dtype=float32)"
            ]
          },
          "metadata": {},
          "execution_count": 135
        }
      ]
    },
    {
      "cell_type": "code",
      "metadata": {
        "colab": {
          "base_uri": "https://localhost:8080/"
        },
        "id": "tv5cMp910YHn",
        "outputId": "0348b491-6624-4660-a18d-51da76dc886f"
      },
      "source": [
        "y_test"
      ],
      "execution_count": 136,
      "outputs": [
        {
          "output_type": "execute_result",
          "data": {
            "text/plain": [
              "<tf.Tensor: shape=(10,), dtype=int32, numpy=array([ 70,  74,  78,  82,  86,  90,  94,  98, 102, 106], dtype=int32)>"
            ]
          },
          "metadata": {},
          "execution_count": 136
        }
      ]
    },
    {
      "cell_type": "markdown",
      "metadata": {
        "id": "iuDrVIDI3KFq"
      },
      "source": [
        "🔑 **Note:** If you feel like you are going to reuse some kind of functunality in the future, it is a good idea to turn it into a function.🔑 "
      ]
    },
    {
      "cell_type": "code",
      "metadata": {
        "id": "G_rTnb-R1K4G"
      },
      "source": [
        "# Create a plotting function\n",
        "\n",
        "def plot_predictions(train_data=X_train,\n",
        "                     train_labels=y_train,\n",
        "                     test_data=X_test,\n",
        "                     test_labels=y_test,\n",
        "                     predictions=y_pred\n",
        "                     ):\n",
        "  \"\"\"\n",
        "  Plots training data, test data and compares predictions to ground truth labels.\n",
        "  \"\"\"\n",
        "\n",
        "  plt.figure(figsize=(10, 7))\n",
        "  # Plot training data in blue\n",
        "  plt.scatter(train_data, train_labels, c='b', label='Training data')\n",
        "  # Plot test data in green \n",
        "  plt.scatter(test_data, test_labels, c='g', label='Testing data')\n",
        "  # Plot predictions in red\n",
        "  plt.scatter(test_data, predictions, c='r', label='Predictions')\n",
        "\n",
        "  # Show the legend\n",
        "  plt.legend();\n"
      ],
      "execution_count": 137,
      "outputs": []
    },
    {
      "cell_type": "code",
      "metadata": {
        "colab": {
          "base_uri": "https://localhost:8080/",
          "height": 428
        },
        "id": "mbRTvwlD8NOE",
        "outputId": "d3835a8a-4b3a-42c4-a829-a32d3359656b"
      },
      "source": [
        "plot_predictions()"
      ],
      "execution_count": 138,
      "outputs": [
        {
          "output_type": "display_data",
          "data": {
            "image/png": "[encoded data removed]",
            "text/plain": [
              "<Figure size 720x504 with 1 Axes>"
            ]
          },
          "metadata": {
            "needs_background": "light"
          }
        }
      ]
    },
    {
      "cell_type": "code",
      "metadata": {
        "colab": {
          "base_uri": "https://localhost:8080/"
        },
        "id": "A67i1Msm8Yn8",
        "outputId": "e685c897-0ea3-432f-8b21-4ddd946b455e"
      },
      "source": [
        "model.predict([17.0])"
      ],
      "execution_count": 139,
      "outputs": [
        {
          "output_type": "execute_result",
          "data": {
            "text/plain": [
              "array([[26.80497]], dtype=float32)"
            ]
          },
          "metadata": {},
          "execution_count": 139
        }
      ]
    },
    {
      "cell_type": "code",
      "metadata": {
        "id": "LHVfJLVm-JCH"
      },
      "source": [
        ""
      ],
      "execution_count": null,
      "outputs": []
    }
  ]
}