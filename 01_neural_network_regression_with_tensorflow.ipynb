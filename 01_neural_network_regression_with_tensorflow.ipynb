{
  "nbformat": 4,
  "nbformat_minor": 0,
  "metadata": {
    "colab": {
      "name": "01_neural_network_regression_with_tensorflow.ipynb",
      "provenance": [],
      "toc_visible": true,
      "mount_file_id": "12C0xonfY4WMcpmCHH6tSJ-iibTIJDjFi",
      "authorship_tag": "ABX9TyP6jEUZGXHUzoNiOw6kUNff",
      "include_colab_link": true
    },
    "kernelspec": {
      "name": "python3",
      "display_name": "Python 3"
    },
    "language_info": {
      "name": "python"
    }
  },
  "cells": [
    {
      "cell_type": "markdown",
      "metadata": {
        "id": "view-in-github",
        "colab_type": "text"
      },
      "source": [
        "<a href=\"https://colab.research.google.com/github/Tower5954/TensorFlow/blob/main/01_neural_network_regression_with_tensorflow.ipynb\" target=\"_parent\"><img src=\"https://colab.research.google.com/assets/colab-badge.svg\" alt=\"Open In Colab\"/></a>"
      ]
    },
    {
      "cell_type": "markdown",
      "metadata": {
        "id": "lDgyZPKcrJd0"
      },
      "source": [
        "# Introduction to Regression with Neural Networks in TensorFlow"
      ]
    },
    {
      "cell_type": "markdown",
      "metadata": {
        "id": "UtmQgcURvpqM"
      },
      "source": [
        "There are many definitions for a regression problem but in our case, we are going to simplify it:\n",
        "Predicting a numerical variable based on some other combination of variables, even shorter...predicting a number."
      ]
    },
    {
      "cell_type": "code",
      "metadata": {
        "colab": {
          "base_uri": "https://localhost:8080/"
        },
        "id": "f4vgCYqIw8rK",
        "outputId": "111ba0c0-220b-4edf-f6f8-67a7a6df520c"
      },
      "source": [
        "# Import TensorFlow\n",
        "\n",
        "import tensorflow as tf\n",
        "print(tf.__version__)"
      ],
      "execution_count": 1,
      "outputs": [
        {
          "output_type": "stream",
          "name": "stdout",
          "text": [
            "2.7.0\n"
          ]
        }
      ]
    },
    {
      "cell_type": "markdown",
      "metadata": {
        "id": "taGBvHkhxVhu"
      },
      "source": [
        "## Creating data to view and fit"
      ]
    },
    {
      "cell_type": "code",
      "metadata": {
        "colab": {
          "base_uri": "https://localhost:8080/",
          "height": 269
        },
        "id": "G69Tc3i_xn1j",
        "outputId": "c29ade5b-0a37-4e92-bb9f-6425f3b49182"
      },
      "source": [
        "import numpy as np\n",
        "import matplotlib.pyplot as plt\n",
        "\n",
        "# Create features\n",
        "X = np.array([-7.0, -4.0, -1.0, 2.0, 5.0, 8.0, 11.0, 14.0 ])\n",
        "\n",
        "# Create labels\n",
        "y = np.array([3.0, 6.0, 9.0, 12.0, 15.0, 18.0, 21.0, 24.0])\n",
        "\n",
        "# Visualise it\n",
        "\n",
        "plt.scatter(X, y);"
      ],
      "execution_count": 2,
      "outputs": [
        {
          "output_type": "display_data",
          "data": {
            "image/png": "[encoded data removed]",
            "text/plain": [
              "<Figure size 432x288 with 1 Axes>"
            ]
          },
          "metadata": {
            "needs_background": "light"
          }
        }
      ]
    },
    {
      "cell_type": "code",
      "metadata": {
        "colab": {
          "base_uri": "https://localhost:8080/"
        },
        "id": "K1XGTPgmy2Mq",
        "outputId": "706c76c5-a8dd-4d3c-8e16-2fab28c60985"
      },
      "source": [
        "y == X + 10"
      ],
      "execution_count": 3,
      "outputs": [
        {
          "output_type": "execute_result",
          "data": {
            "text/plain": [
              "array([ True,  True,  True,  True,  True,  True,  True,  True])"
            ]
          },
          "metadata": {},
          "execution_count": 3
        }
      ]
    },
    {
      "cell_type": "markdown",
      "metadata": {
        "id": "qDYFQtWV5YeQ"
      },
      "source": [
        "## Inputs and output shape"
      ]
    },
    {
      "cell_type": "code",
      "metadata": {
        "colab": {
          "base_uri": "https://localhost:8080/"
        },
        "id": "NDMHf_o85q3R",
        "outputId": "3ea67801-8536-4cd8-ea80-6fc4df5c4293"
      },
      "source": [
        "# Create a demo tensor for a housing price prediction problem \n",
        "\n",
        "house_info = tf.constant([\"bedroom\", \"bathroom\", \"garage\"])\n",
        "house_price = tf.constant([939700])\n",
        "house_info, house_price"
      ],
      "execution_count": 4,
      "outputs": [
        {
          "output_type": "execute_result",
          "data": {
            "text/plain": [
              "(<tf.Tensor: shape=(3,), dtype=string, numpy=array([b'bedroom', b'bathroom', b'garage'], dtype=object)>,\n",
              " <tf.Tensor: shape=(1,), dtype=int32, numpy=array([939700], dtype=int32)>)"
            ]
          },
          "metadata": {},
          "execution_count": 4
        }
      ]
    },
    {
      "cell_type": "code",
      "metadata": {
        "colab": {
          "base_uri": "https://localhost:8080/"
        },
        "id": "7kzMh4a36G67",
        "outputId": "1577d17d-1899-4385-f9c4-bd013c3479c4"
      },
      "source": [
        "X[0], y[0]"
      ],
      "execution_count": 5,
      "outputs": [
        {
          "output_type": "execute_result",
          "data": {
            "text/plain": [
              "(-7.0, 3.0)"
            ]
          },
          "metadata": {},
          "execution_count": 5
        }
      ]
    },
    {
      "cell_type": "code",
      "metadata": {
        "colab": {
          "base_uri": "https://localhost:8080/"
        },
        "id": "X6p0kukN7tC4",
        "outputId": "8bab25a5-90f9-48e9-d121-2548d065cd2a"
      },
      "source": [
        "X[1], y[1]"
      ],
      "execution_count": 6,
      "outputs": [
        {
          "output_type": "execute_result",
          "data": {
            "text/plain": [
              "(-4.0, 6.0)"
            ]
          },
          "metadata": {},
          "execution_count": 6
        }
      ]
    },
    {
      "cell_type": "code",
      "metadata": {
        "colab": {
          "base_uri": "https://localhost:8080/"
        },
        "id": "_Vz6LAvQ7wq_",
        "outputId": "6f6e3f44-68de-4698-f1c9-41e8c5dceeb1"
      },
      "source": [
        "input_shape = X[0].shape\n",
        "output_shape = y[0].shape\n",
        "\n",
        "input_shape, output_shape"
      ],
      "execution_count": 7,
      "outputs": [
        {
          "output_type": "execute_result",
          "data": {
            "text/plain": [
              "((), ())"
            ]
          },
          "metadata": {},
          "execution_count": 7
        }
      ]
    },
    {
      "cell_type": "code",
      "metadata": {
        "colab": {
          "base_uri": "https://localhost:8080/"
        },
        "id": "LHXn2fOc8ApC",
        "outputId": "0845ad1c-e930-49e3-b2a4-455cb3282d11"
      },
      "source": [
        "X[0].ndim"
      ],
      "execution_count": 8,
      "outputs": [
        {
          "output_type": "execute_result",
          "data": {
            "text/plain": [
              "0"
            ]
          },
          "metadata": {},
          "execution_count": 8
        }
      ]
    },
    {
      "cell_type": "code",
      "metadata": {
        "colab": {
          "base_uri": "https://localhost:8080/"
        },
        "id": "4LguMWS38Fpk",
        "outputId": "429df504-1eb2-47f7-8d46-73d890115850"
      },
      "source": [
        "# Turn our Numpy arrays into tensors\n",
        "\n",
        "X = tf.constant(X)\n",
        "y = tf.constant(y)\n",
        "\n",
        "X, y"
      ],
      "execution_count": 14,
      "outputs": [
        {
          "output_type": "execute_result",
          "data": {
            "text/plain": [
              "(<tf.Tensor: shape=(8,), dtype=float64, numpy=array([-7., -4., -1.,  2.,  5.,  8., 11., 14.])>,\n",
              " <tf.Tensor: shape=(8,), dtype=float64, numpy=array([ 3.,  6.,  9., 12., 15., 18., 21., 24.])>)"
            ]
          },
          "metadata": {},
          "execution_count": 14
        }
      ]
    },
    {
      "cell_type": "code",
      "metadata": {
        "colab": {
          "base_uri": "https://localhost:8080/"
        },
        "id": "8KpQuqWZ9oJc",
        "outputId": "9653809a-783c-4e81-b83d-8f80b1124581"
      },
      "source": [
        "input_shape = X[0].shape\n",
        "output_shape = y[0].shape\n",
        "\n",
        "input_shape, output_shape"
      ],
      "execution_count": 15,
      "outputs": [
        {
          "output_type": "execute_result",
          "data": {
            "text/plain": [
              "(TensorShape([]), TensorShape([]))"
            ]
          },
          "metadata": {},
          "execution_count": 15
        }
      ]
    },
    {
      "cell_type": "code",
      "metadata": {
        "colab": {
          "base_uri": "https://localhost:8080/",
          "height": 287
        },
        "id": "H8kOwVR697mA",
        "outputId": "4eda2ee7-6993-4462-bc6f-c3167d676fc3"
      },
      "source": [
        "plt.scatter(X, y)"
      ],
      "execution_count": 16,
      "outputs": [
        {
          "output_type": "execute_result",
          "data": {
            "text/plain": [
              "<matplotlib.collections.PathCollection at 0x7ffa9e26bd50>"
            ]
          },
          "metadata": {},
          "execution_count": 16
        },
        {
          "output_type": "display_data",
          "data": {
            "image/png": "[encoded data removed]",
            "text/plain": [
              "<Figure size 432x288 with 1 Axes>"
            ]
          },
          "metadata": {
            "needs_background": "light"
          }
        }
      ]
    },
    {
      "cell_type": "code",
      "metadata": {
        "colab": {
          "base_uri": "https://localhost:8080/"
        },
        "id": "y1yXIHKVCf5w",
        "outputId": "8f4d7b96-a02d-427f-e756-745936ea0cfe"
      },
      "source": [
        "X.ndim"
      ],
      "execution_count": 17,
      "outputs": [
        {
          "output_type": "execute_result",
          "data": {
            "text/plain": [
              "1"
            ]
          },
          "metadata": {},
          "execution_count": 17
        }
      ]
    },
    {
      "cell_type": "markdown",
      "metadata": {
        "id": "Vk5DzRzB-Ikx"
      },
      "source": [
        "## Steps in modelling with TensorFlow\n",
        "\n",
        "1. **Creating a model** - define the input and output layers, as well as the hidden layers of a deep learning model.\n",
        "2. **Compile a model** - define the loss function (In other words, the function which tell our model how wrong it is.) and the optimizer (tells our model how to improve the patterns it is learning) and evaluation metrics (what we can use to interpret the performance of our model).\n",
        "3. **Fitting a model** - Letting a model find patterns between X & y (features and labels)  "
      ]
    },
    {
      "cell_type": "code",
      "metadata": {
        "colab": {
          "base_uri": "https://localhost:8080/",
          "height": 761
        },
        "id": "0YXC4XAT_3Wr",
        "outputId": "a4bd5b9a-cf97-4984-b7da-975ed582db1a"
      },
      "source": [
        "# Set random seed\n",
        "tf.random.set_seed(42)\n",
        "\n",
        "# 1. Create a model using the sequential API\n",
        "model = tf.keras.Sequential([\n",
        "    tf.keras.layers.Dense(1)\n",
        "]) \n",
        "\n",
        "# 2. Compile the model\n",
        "model.compile(loss=tf.keras.losses.mae, #mae is short for mean absolute error\n",
        "              optimizer=tf.keras.optimizers.SGD(), # SGD is short for stochastic gradient descent\n",
        "              metrics=[\"mae\"])\n",
        "\n",
        "# 3. Fit the model \n",
        "model.fit(X, y, epochs=5)\n"
      ],
      "execution_count": 13,
      "outputs": [
        {
          "output_type": "stream",
          "name": "stdout",
          "text": [
            "Epoch 1/5\n"
          ]
        },
        {
          "output_type": "error",
          "ename": "ValueError",
          "evalue": "ignored",
          "traceback": [
            "\u001b[0;31m---------------------------------------------------------------------------\u001b[0m",
            "\u001b[0;31mValueError\u001b[0m                                Traceback (most recent call last)",
            "\u001b[0;32m<ipython-input-13-f18330f4eb96>\u001b[0m in \u001b[0;36m<module>\u001b[0;34m()\u001b[0m\n\u001b[1;32m     13\u001b[0m \u001b[0;34m\u001b[0m\u001b[0m\n\u001b[1;32m     14\u001b[0m \u001b[0;31m# 3. Fit the model\u001b[0m\u001b[0;34m\u001b[0m\u001b[0;34m\u001b[0m\u001b[0;34m\u001b[0m\u001b[0m\n\u001b[0;32m---> 15\u001b[0;31m \u001b[0mmodel\u001b[0m\u001b[0;34m.\u001b[0m\u001b[0mfit\u001b[0m\u001b[0;34m(\u001b[0m\u001b[0mtf\u001b[0m\u001b[0;34m.\u001b[0m\u001b[0msqueeze\u001b[0m\u001b[0;34m(\u001b[0m\u001b[0mX\u001b[0m\u001b[0;34m)\u001b[0m\u001b[0;34m,\u001b[0m \u001b[0mtf\u001b[0m\u001b[0;34m.\u001b[0m\u001b[0msqueeze\u001b[0m\u001b[0;34m(\u001b[0m\u001b[0my\u001b[0m\u001b[0;34m)\u001b[0m\u001b[0;34m,\u001b[0m \u001b[0mepochs\u001b[0m\u001b[0;34m=\u001b[0m\u001b[0;36m5\u001b[0m\u001b[0;34m)\u001b[0m\u001b[0;34m\u001b[0m\u001b[0;34m\u001b[0m\u001b[0m\n\u001b[0m",
            "\u001b[0;32m/usr/local/lib/python3.7/dist-packages/keras/utils/traceback_utils.py\u001b[0m in \u001b[0;36merror_handler\u001b[0;34m(*args, **kwargs)\u001b[0m\n\u001b[1;32m     65\u001b[0m     \u001b[0;32mexcept\u001b[0m \u001b[0mException\u001b[0m \u001b[0;32mas\u001b[0m \u001b[0me\u001b[0m\u001b[0;34m:\u001b[0m  \u001b[0;31m# pylint: disable=broad-except\u001b[0m\u001b[0;34m\u001b[0m\u001b[0;34m\u001b[0m\u001b[0m\n\u001b[1;32m     66\u001b[0m       \u001b[0mfiltered_tb\u001b[0m \u001b[0;34m=\u001b[0m \u001b[0m_process_traceback_frames\u001b[0m\u001b[0;34m(\u001b[0m\u001b[0me\u001b[0m\u001b[0;34m.\u001b[0m\u001b[0m__traceback__\u001b[0m\u001b[0;34m)\u001b[0m\u001b[0;34m\u001b[0m\u001b[0;34m\u001b[0m\u001b[0m\n\u001b[0;32m---> 67\u001b[0;31m       \u001b[0;32mraise\u001b[0m \u001b[0me\u001b[0m\u001b[0;34m.\u001b[0m\u001b[0mwith_traceback\u001b[0m\u001b[0;34m(\u001b[0m\u001b[0mfiltered_tb\u001b[0m\u001b[0;34m)\u001b[0m \u001b[0;32mfrom\u001b[0m \u001b[0;32mNone\u001b[0m\u001b[0;34m\u001b[0m\u001b[0;34m\u001b[0m\u001b[0m\n\u001b[0m\u001b[1;32m     68\u001b[0m     \u001b[0;32mfinally\u001b[0m\u001b[0;34m:\u001b[0m\u001b[0;34m\u001b[0m\u001b[0;34m\u001b[0m\u001b[0m\n\u001b[1;32m     69\u001b[0m       \u001b[0;32mdel\u001b[0m \u001b[0mfiltered_tb\u001b[0m\u001b[0;34m\u001b[0m\u001b[0;34m\u001b[0m\u001b[0m\n",
            "\u001b[0;32m/usr/local/lib/python3.7/dist-packages/tensorflow/python/framework/func_graph.py\u001b[0m in \u001b[0;36mautograph_handler\u001b[0;34m(*args, **kwargs)\u001b[0m\n\u001b[1;32m   1127\u001b[0m           \u001b[0;32mexcept\u001b[0m \u001b[0mException\u001b[0m \u001b[0;32mas\u001b[0m \u001b[0me\u001b[0m\u001b[0;34m:\u001b[0m  \u001b[0;31m# pylint:disable=broad-except\u001b[0m\u001b[0;34m\u001b[0m\u001b[0;34m\u001b[0m\u001b[0m\n\u001b[1;32m   1128\u001b[0m             \u001b[0;32mif\u001b[0m \u001b[0mhasattr\u001b[0m\u001b[0;34m(\u001b[0m\u001b[0me\u001b[0m\u001b[0;34m,\u001b[0m \u001b[0;34m\"ag_error_metadata\"\u001b[0m\u001b[0;34m)\u001b[0m\u001b[0;34m:\u001b[0m\u001b[0;34m\u001b[0m\u001b[0;34m\u001b[0m\u001b[0m\n\u001b[0;32m-> 1129\u001b[0;31m               \u001b[0;32mraise\u001b[0m \u001b[0me\u001b[0m\u001b[0;34m.\u001b[0m\u001b[0mag_error_metadata\u001b[0m\u001b[0;34m.\u001b[0m\u001b[0mto_exception\u001b[0m\u001b[0;34m(\u001b[0m\u001b[0me\u001b[0m\u001b[0;34m)\u001b[0m\u001b[0;34m\u001b[0m\u001b[0;34m\u001b[0m\u001b[0m\n\u001b[0m\u001b[1;32m   1130\u001b[0m             \u001b[0;32melse\u001b[0m\u001b[0;34m:\u001b[0m\u001b[0;34m\u001b[0m\u001b[0;34m\u001b[0m\u001b[0m\n\u001b[1;32m   1131\u001b[0m               \u001b[0;32mraise\u001b[0m\u001b[0;34m\u001b[0m\u001b[0;34m\u001b[0m\u001b[0m\n",
            "\u001b[0;31mValueError\u001b[0m: in user code:\n\n    File \"/usr/local/lib/python3.7/dist-packages/keras/engine/training.py\", line 878, in train_function  *\n        return step_function(self, iterator)\n    File \"/usr/local/lib/python3.7/dist-packages/keras/engine/training.py\", line 867, in step_function  **\n        outputs = model.distribute_strategy.run(run_step, args=(data,))\n    File \"/usr/local/lib/python3.7/dist-packages/keras/engine/training.py\", line 860, in run_step  **\n        outputs = model.train_step(data)\n    File \"/usr/local/lib/python3.7/dist-packages/keras/engine/training.py\", line 808, in train_step\n        y_pred = self(x, training=True)\n    File \"/usr/local/lib/python3.7/dist-packages/keras/utils/traceback_utils.py\", line 67, in error_handler\n        raise e.with_traceback(filtered_tb) from None\n    File \"/usr/local/lib/python3.7/dist-packages/keras/engine/input_spec.py\", line 227, in assert_input_compatibility\n        raise ValueError(f'Input {input_index} of layer \"{layer_name}\" '\n\n    ValueError: Exception encountered when calling layer \"sequential_1\" (type Sequential).\n    \n    Input 0 of layer \"dense_1\" is incompatible with the layer: expected min_ndim=2, found ndim=1. Full shape received: (None,)\n    \n    Call arguments received:\n      • inputs=tf.Tensor(shape=(None,), dtype=float64)\n      • training=True\n      • mask=None\n"
          ]
        }
      ]
    },
    {
      "cell_type": "code",
      "metadata": {
        "id": "3ueqi_ONFH9z"
      },
      "source": [
        "# Try and make a prediction using our model \n",
        "model.predict([17.0])"
      ],
      "execution_count": null,
      "outputs": []
    },
    {
      "cell_type": "code",
      "metadata": {
        "id": "f7ntnS3ZGCNv"
      },
      "source": [
        "y_pred = model.predict([17.0])\n",
        "y_pred"
      ],
      "execution_count": null,
      "outputs": []
    },
    {
      "cell_type": "code",
      "metadata": {
        "id": "a_TH4gP4GjEq"
      },
      "source": [
        "y_pred +11"
      ],
      "execution_count": null,
      "outputs": []
    },
    {
      "cell_type": "markdown",
      "metadata": {
        "id": "Djys9_mdGpjS"
      },
      "source": [
        "## Improving our model\n",
        "\n",
        "We can improve our model, by altering the steps we took to create a model.\n",
        "\n",
        "1. **Creating a model** - Here we might add more layers,\n",
        "increase thenumber of hidden units (also called neurons)\n",
        "within each of the hidden layer, change the activation\n",
        "function of each layer.\n",
        "\n",
        "2. **Compiling a model** - Here we might change the optimization function or \n",
        "perhaps the **learning rate** of the optimization function.\n",
        "\n",
        "3. **Fitting a model** - Here we might fit a model for more **epochs**\n",
        "(leave it training for longer) or on more data (give the model more examples\n",
        "to learn from)"
      ]
    },
    {
      "cell_type": "markdown",
      "metadata": {
        "id": "3zaDTicUq4J2"
      },
      "source": [
        "**Rebuild our model**"
      ]
    },
    {
      "cell_type": "code",
      "metadata": {
        "id": "CrzbQJq_r9OS"
      },
      "source": [
        "# 1. Create the model \n",
        "\n",
        "model = tf.keras.Sequential([\n",
        "                             tf.keras.layers.Dense(1)\n",
        "])\n",
        "\n",
        "# 2. Compile the model\n",
        "model.compile(loss=tf.keras.losses.mae,\n",
        "              optimizer=tf.keras.optimizers.SGD(),\n",
        "              metrics=[\"mae\"])\n",
        "\n",
        "# 3. Fit the model (this time we will train for longer)\n",
        "model.fit(X, y, epochs=100)"
      ],
      "execution_count": null,
      "outputs": []
    },
    {
      "cell_type": "markdown",
      "metadata": {
        "id": "WECjr6mktWPr"
      },
      "source": [
        "Remind ourselves of the data."
      ]
    },
    {
      "cell_type": "code",
      "metadata": {
        "id": "6MoqIxDyt_q5"
      },
      "source": [
        "X, y"
      ],
      "execution_count": null,
      "outputs": []
    },
    {
      "cell_type": "markdown",
      "metadata": {
        "id": "Pxji6a72uBrw"
      },
      "source": [
        "See if our model's prediction has improved.\n",
        "\n"
      ]
    },
    {
      "cell_type": "code",
      "metadata": {
        "id": "YuQdgCqwuPUN"
      },
      "source": [
        "model.predict([17.0])"
      ],
      "execution_count": null,
      "outputs": []
    },
    {
      "cell_type": "markdown",
      "metadata": {
        "id": "_5rvtQFsuV-G"
      },
      "source": [
        "See if we can improve our model.\n",
        "\n",
        "\n"
      ]
    },
    {
      "cell_type": "code",
      "metadata": {
        "id": "1f5JJ_xlUakf"
      },
      "source": [
        "# 1. Create the model (this time with an extra hidden layer with 100 hidden units)\n",
        "model = tf.keras.Sequential([\n",
        "  tf.keras.layers.Dense(100, activation='relu'),\n",
        "  tf.keras.layers.Dense(1)\n",
        "])\n",
        "\n",
        "# 2. Compile the model\n",
        "\n",
        "model.compile(loss=tf.keras.losses.mae,\n",
        "              optimizer=tf.keras.optimizers.SGD(),\n",
        "              metrics=['mae'])\n",
        "\n",
        "# 3. Fit the model\n",
        "\n",
        "model.fit(X, y, epochs=100)"
      ],
      "execution_count": null,
      "outputs": []
    },
    {
      "cell_type": "code",
      "metadata": {
        "id": "HPcFf8zAWSzG"
      },
      "source": [
        "model.predict([17.0])"
      ],
      "execution_count": null,
      "outputs": []
    },
    {
      "cell_type": "markdown",
      "metadata": {
        "id": "4gFKBoVcW2YF"
      },
      "source": [
        "**Common ways to improve a deep model:**\n",
        "\n",
        "* Adding layers # We added 1 to the previous model \n",
        "* Increase the number of hidden units # our layers above are 100\n",
        "* Change the activation functions # activation= relu \n",
        "* Change the optimizer function # SGD \n",
        "\n",
        " #-----Could be the most important one -------#\n",
        "* **Change the learning rate # (lr=...) or (learning_rate=...)**\n",
        "\n",
        "* Fitting on more data\n",
        "* Fitting for longer"
      ]
    },
    {
      "cell_type": "markdown",
      "metadata": {
        "id": "x-iFzLOEZ4u3"
      },
      "source": [
        "Adjusting:"
      ]
    },
    {
      "cell_type": "code",
      "metadata": {
        "id": "FkSSX6x0dEzc"
      },
      "source": [
        "# 1. Create the model (this time with an extra hidden layer with 100 hidden units)\n",
        "model = tf.keras.Sequential([\n",
        "  tf.keras.layers.Dense(50, activation=None),\n",
        "  tf.keras.layers.Dense(1)\n",
        "])\n",
        "\n",
        "# 2. Compile the model\n",
        "\n",
        "model.compile(loss='mae',\n",
        "              optimizer=tf.keras.optimizers.Adam(learning_rate=0.01),\n",
        "              metrics=['mae'])\n",
        "\n",
        "# 3. Fit the model\n",
        "\n",
        "model.fit(X, y, epochs=100)"
      ],
      "execution_count": null,
      "outputs": []
    },
    {
      "cell_type": "code",
      "metadata": {
        "id": "VBNHdOOLdb84"
      },
      "source": [
        "X, y"
      ],
      "execution_count": null,
      "outputs": []
    },
    {
      "cell_type": "code",
      "metadata": {
        "id": "2572Lb10djId"
      },
      "source": [
        "model.predict([17.0])"
      ],
      "execution_count": null,
      "outputs": []
    },
    {
      "cell_type": "markdown",
      "metadata": {
        "id": "nAc8fcvJdmLh"
      },
      "source": [
        "## Evaluating a model"
      ]
    },
    {
      "cell_type": "markdown",
      "metadata": {
        "id": "W9PtHSjCd_i7"
      },
      "source": [
        "In practice, a typical workflow you will go through when building neural networks is:   \n",
        "```\n",
        "Build a model -> fit it -> evaluate it -> tweak a model ->\n",
        "fit it -> evaluate it -> tweak it -> fit it -> evaluate it...\n",
        "```\n",
        "\n",
        "When it comes to evaluation...\n",
        "\n",
        "> \" Visualise, visualise, visualise\""
      ]
    },
    {
      "cell_type": "markdown",
      "metadata": {
        "id": "iE4xp9xff-Hv"
      },
      "source": [
        "It's a good idea to visualise:\n",
        "* The data - what data are we working with? What does it look like?\n",
        "* The model itself - what does the model look like?\n",
        "* The training of a model - how does a model perform while it learns?\n",
        "* The prediction of the model - how do the predictions of a model line up \n",
        "against the ground truth (the original labels)?"
      ]
    },
    {
      "cell_type": "code",
      "metadata": {
        "id": "TpuXnXGyhEp5"
      },
      "source": [
        "# Make a bigger dataset \n",
        "\n",
        "X = tf.range(-100, 100, 4)\n",
        "X"
      ],
      "execution_count": null,
      "outputs": []
    },
    {
      "cell_type": "code",
      "metadata": {
        "id": "ttqn_sCahYSO"
      },
      "source": [
        "# Make labels for the dataset\n",
        "\n",
        "y = X + 10\n",
        "y"
      ],
      "execution_count": null,
      "outputs": []
    },
    {
      "cell_type": "code",
      "metadata": {
        "id": "Xvpy_opthuok"
      },
      "source": [
        "# Visualise the data\n",
        "import matplotlib.pyplot as plt\n",
        "\n",
        "plt.scatter(X, y);"
      ],
      "execution_count": null,
      "outputs": []
    },
    {
      "cell_type": "markdown",
      "metadata": {
        "id": "H4hJ4scziAK-"
      },
      "source": [
        "### The 3 sets...\n",
        "\n",
        "* **Training set**   - the model learns from this data, which is typically 70-80 % of the total data you have available.\n",
        "* **Validation set** - the model gets tuned on this data, which is typically 10-15% \n",
        "of the data.\n",
        "* **Test set** - the model gets evaluated on this data to test what is has learned,\n",
        "this set is typically 10-15% of the total data availability."
      ]
    },
    {
      "cell_type": "code",
      "metadata": {
        "id": "U2fuj7JpiTQ_"
      },
      "source": [
        "# Check the length of samples we have\n",
        "len(X)"
      ],
      "execution_count": null,
      "outputs": []
    },
    {
      "cell_type": "code",
      "metadata": {
        "id": "46JmVZnqyMZY"
      },
      "source": [
        "# Split the data into train and test sets\n",
        "X_train = X[:40] # first 40 are training samples (80% of the data)\n",
        "y_train = y[:40]\n",
        "\n",
        "X_test = X[40:] # last 10 are the testing samples (20% of the data)\n",
        "y_test = y[40:]\n",
        "\n",
        "len(X_train), len(X_test)"
      ],
      "execution_count": null,
      "outputs": []
    },
    {
      "cell_type": "code",
      "metadata": {
        "id": "4HuKA26eziKA"
      },
      "source": [
        "len(y_train), len(y_test)"
      ],
      "execution_count": null,
      "outputs": []
    },
    {
      "cell_type": "markdown",
      "metadata": {
        "id": "UMtSKNOEznMX"
      },
      "source": [
        "### Visualise the data\n",
        "\n",
        "Now that we have our data into training and test sets. Let us visualise it."
      ]
    },
    {
      "cell_type": "code",
      "metadata": {
        "id": "vl7SeuLr0Kb7"
      },
      "source": [
        "plt.figure(figsize=(10, 7))\n",
        "\n",
        "plt.scatter(X_train, y_train, c='g', label=\"Training data\")\n",
        "\n",
        "plt.scatter(X_test, y_test, c='b', label='Test data')\n",
        "\n",
        "plt.legend();"
      ],
      "execution_count": null,
      "outputs": []
    },
    {
      "cell_type": "code",
      "metadata": {
        "id": "gdGzWlww1D3a"
      },
      "source": [
        "# How to build a neural network for our data\n",
        "\n",
        "# 1. Create a m ode\n",
        "\n",
        "model = tf.keras.Sequential([\n",
        "    tf.keras.layers.Dense(1)\n",
        "])\n",
        "\n",
        "\n",
        "# 2. Compile the model\n",
        "\n",
        "model.compile(\n",
        "    loss=tf.keras.losses.mae,\n",
        "    optimizer=tf.keras.optimizers.SGD(),\n",
        "    metrics=['mae']\n",
        ")\n",
        "\n",
        "# 3. Fit the model\n",
        "\n",
        "# model.fit(X_train, y_train, epochs=100)\n",
        "\n"
      ],
      "execution_count": null,
      "outputs": []
    },
    {
      "cell_type": "markdown",
      "metadata": {
        "id": "lgsdjVYf4mvM"
      },
      "source": [
        "### Visualising the model "
      ]
    },
    {
      "cell_type": "markdown",
      "metadata": {
        "id": "sSOLMJjF5I0D"
      },
      "source": [
        "The following code will error out:"
      ]
    },
    {
      "cell_type": "code",
      "metadata": {
        "id": "JHw-HMx44xcv"
      },
      "source": [
        "#-------------error out---------------#\n",
        "\n",
        "# model.summary()"
      ],
      "execution_count": null,
      "outputs": []
    },
    {
      "cell_type": "code",
      "metadata": {
        "id": "dAB5i1BV5F_j"
      },
      "source": [
        "# Create a model which builds automatically by defining the input_shape argument in the first layer\n",
        "\n",
        "tf.random.set_seed(42)\n",
        "\n",
        "# 1. Create a model \n",
        "model = tf.keras.Sequential([\n",
        "    tf.keras.layers.Dense(10, input_shape=[1])\n",
        "])\n",
        "\n",
        "# 2. Compile the model\n",
        "model.compile(loss=tf.keras.losses.mae,\n",
        "              optimizer=tf.keras.optimizers.SGD(),\n",
        "              metrics=['mae'])\n",
        "\n"
      ],
      "execution_count": null,
      "outputs": []
    },
    {
      "cell_type": "code",
      "metadata": {
        "id": "bTLsX6mJ7DxR"
      },
      "source": [
        "model.summary()"
      ],
      "execution_count": null,
      "outputs": []
    },
    {
      "cell_type": "markdown",
      "metadata": {
        "id": "Drv7S7xF7F-Y"
      },
      "source": [
        "* Total params - total number of params in the model.\n",
        "* Trainable params - these are the parameters (patterns)\n",
        "the model can update as it trains.\n",
        "* Non-trainable params - these parameters are not updated during training (this is typical when you bring in already learned patterns or parameters from other models during **transfer learning**)"
      ]
    },
    {
      "cell_type": "markdown",
      "metadata": {
        "id": "_ivyHNKG8y5K"
      },
      "source": [
        "📖 **Resource:** 📖\n",
        "\n",
        "For a more in-depth overview of the trainable parameters within a layer, check out MIT's Introduction to deep-learning video:\n",
        "\n",
        "http://introtodeeplearning.com/"
      ]
    },
    {
      "cell_type": "code",
      "metadata": {
        "id": "5_B7193jARjH"
      },
      "source": [
        "# Fitting our model to the training data\n",
        "\n",
        "model.fit(X_train, y_train, epochs=100, verbose=0)"
      ],
      "execution_count": null,
      "outputs": []
    },
    {
      "cell_type": "code",
      "metadata": {
        "id": "HfNZtrFGBxeA"
      },
      "source": [
        "# Get a summary of the model \n",
        "\n",
        "model.summary()"
      ],
      "execution_count": null,
      "outputs": []
    },
    {
      "cell_type": "code",
      "metadata": {
        "id": "u1PKTw8Ivb6x"
      },
      "source": [
        "from tensorflow.keras.utils import plot_model\n",
        "\n"
      ],
      "execution_count": null,
      "outputs": []
    },
    {
      "cell_type": "code",
      "metadata": {
        "id": "8BxnYT0vwYPb"
      },
      "source": [
        "plot_model(model=model)"
      ],
      "execution_count": null,
      "outputs": []
    },
    {
      "cell_type": "code",
      "metadata": {
        "id": "0MMx61Qewjb5"
      },
      "source": [
        "plot_model(model=model, show_shapes=True)"
      ],
      "execution_count": null,
      "outputs": []
    },
    {
      "cell_type": "code",
      "metadata": {
        "id": "k2qf1jLwwzXd"
      },
      "source": [
        "tf.random.set_seed(42)\n",
        "\n",
        "# 1. Create a model \n",
        "model = tf.keras.Sequential([\n",
        "    tf.keras.layers.Dense(10, input_shape=[1], name='input_layer'),\n",
        "    tf.keras.layers.Dense(1, name='output_layer')\n",
        "], name='model_1')\n",
        "\n",
        "# 2. Compile the model\n",
        "model.compile(loss=tf.keras.losses.mae,\n",
        "              optimizer=tf.keras.optimizers.SGD(),\n",
        "              metrics=['mae'])"
      ],
      "execution_count": null,
      "outputs": []
    },
    {
      "cell_type": "code",
      "metadata": {
        "id": "iOcAYFKvyBZ5"
      },
      "source": [
        "model.summary()"
      ],
      "execution_count": null,
      "outputs": []
    },
    {
      "cell_type": "code",
      "metadata": {
        "id": "QsO3unIcxztn"
      },
      "source": [
        "plot_model(model=model, show_shapes=True)"
      ],
      "execution_count": null,
      "outputs": []
    },
    {
      "cell_type": "markdown",
      "metadata": {
        "id": "tdRV78Ssx-Eg"
      },
      "source": [
        "### Visualising our model's predictions"
      ]
    },
    {
      "cell_type": "markdown",
      "metadata": {
        "id": "oomw9-v3zDa2"
      },
      "source": [
        "To visualise predictions, it's a good idea to plot them against the ground truth labels.\n",
        "\n",
        "Often we will see this in the form `y_test` or `y_true` vs. `y_pred`(ground truth versus your model's predictions)."
      ]
    },
    {
      "cell_type": "code",
      "metadata": {
        "id": "olWgO8M1z_Og",
        "colab": {
          "base_uri": "https://localhost:8080/"
        },
        "outputId": "448fd964-1e18-44d2-e519-b77335a91c51"
      },
      "source": [
        "# Make some predictions\n",
        "\n",
        "y_pred = model.predict(X_test)\n",
        "y_pred"
      ],
      "execution_count": 41,
      "outputs": [
        {
          "output_type": "execute_result",
          "data": {
            "text/plain": [
              "array([[ 9.857784  ],\n",
              "       [ 4.9637904 ],\n",
              "       [15.475494  ],\n",
              "       [ 9.406462  ],\n",
              "       [-1.175958  ],\n",
              "       [ 1.7386456 ],\n",
              "       [ 0.8929988 ],\n",
              "       [12.46581   ],\n",
              "       [ 5.6774383 ],\n",
              "       [ 9.756723  ],\n",
              "       [ 5.06475   ],\n",
              "       [ 6.5093055 ],\n",
              "       [ 3.6058762 ],\n",
              "       [ 6.746248  ],\n",
              "       [11.533589  ],\n",
              "       [ 7.7626243 ],\n",
              "       [ 7.5251927 ],\n",
              "       [ 8.408972  ],\n",
              "       [ 9.731224  ],\n",
              "       [ 8.341005  ],\n",
              "       [ 3.388565  ],\n",
              "       [ 7.2338476 ],\n",
              "       [-0.6160002 ],\n",
              "       [-1.4752293 ],\n",
              "       [10.445504  ],\n",
              "       [11.014806  ],\n",
              "       [12.465215  ],\n",
              "       [ 2.1136413 ],\n",
              "       [10.213572  ],\n",
              "       [-0.5736726 ],\n",
              "       [ 7.379663  ],\n",
              "       [11.688278  ],\n",
              "       [-0.40930158],\n",
              "       [ 5.5065527 ],\n",
              "       [ 1.9509578 ],\n",
              "       [ 6.1191664 ],\n",
              "       [ 1.2895727 ],\n",
              "       [ 7.9687805 ],\n",
              "       [12.122374  ],\n",
              "       [ 4.7771106 ],\n",
              "       [ 0.50211143],\n",
              "       [-0.216277  ],\n",
              "       [11.045195  ],\n",
              "       [13.593981  ],\n",
              "       [ 3.443961  ],\n",
              "       [13.730167  ],\n",
              "       [-0.7564081 ],\n",
              "       [ 3.321404  ],\n",
              "       [ 7.1762395 ],\n",
              "       [ 2.1648138 ],\n",
              "       [13.534857  ],\n",
              "       [-0.30083352],\n",
              "       [ 3.8311868 ],\n",
              "       [ 0.05363941],\n",
              "       [11.361889  ],\n",
              "       [ 9.761629  ],\n",
              "       [ 4.2815447 ],\n",
              "       [ 2.6336422 ],\n",
              "       [12.240035  ],\n",
              "       [10.545593  ],\n",
              "       [14.234016  ],\n",
              "       [ 0.9702346 ],\n",
              "       [12.65204   ],\n",
              "       [ 8.341778  ],\n",
              "       [10.745333  ],\n",
              "       [ 3.2717247 ],\n",
              "       [ 1.8097534 ],\n",
              "       [12.120747  ],\n",
              "       [ 3.0293589 ],\n",
              "       [-1.663836  ],\n",
              "       [ 4.464731  ],\n",
              "       [ 8.579092  ],\n",
              "       [ 9.1134205 ],\n",
              "       [ 6.2569613 ],\n",
              "       [ 6.5584254 ],\n",
              "       [ 5.811146  ],\n",
              "       [ 1.937706  ],\n",
              "       [12.751181  ],\n",
              "       [ 2.5894988 ],\n",
              "       [ 9.798148  ],\n",
              "       [-0.61880046],\n",
              "       [15.159558  ],\n",
              "       [ 4.3523173 ],\n",
              "       [ 0.05943108],\n",
              "       [-3.9270527 ],\n",
              "       [ 9.917437  ],\n",
              "       [ 3.4721625 ],\n",
              "       [10.573442  ],\n",
              "       [ 7.3867707 ],\n",
              "       [ 9.820564  ],\n",
              "       [12.698566  ],\n",
              "       [17.184875  ],\n",
              "       [10.510475  ],\n",
              "       [ 4.320833  ],\n",
              "       [ 3.6329668 ],\n",
              "       [ 6.645231  ],\n",
              "       [ 4.842379  ],\n",
              "       [-0.32427198],\n",
              "       [ 4.95191   ],\n",
              "       [ 6.848832  ],\n",
              "       [ 3.3901443 ],\n",
              "       [-0.05570841],\n",
              "       [ 4.9415526 ],\n",
              "       [10.953351  ],\n",
              "       [15.223412  ],\n",
              "       [-1.6251075 ],\n",
              "       [ 8.330443  ],\n",
              "       [13.702932  ],\n",
              "       [ 1.1110144 ],\n",
              "       [13.570685  ],\n",
              "       [-1.2293    ],\n",
              "       [-1.4807961 ],\n",
              "       [12.5364275 ],\n",
              "       [ 4.7775617 ],\n",
              "       [ 9.8456335 ],\n",
              "       [-0.7689123 ],\n",
              "       [13.761562  ],\n",
              "       [ 9.080532  ],\n",
              "       [ 6.146863  ],\n",
              "       [ 1.0297819 ],\n",
              "       [ 4.1885133 ],\n",
              "       [ 5.6893    ],\n",
              "       [ 9.236454  ],\n",
              "       [ 0.16546458],\n",
              "       [ 3.8444004 ],\n",
              "       [ 6.1678176 ],\n",
              "       [ 6.9879565 ],\n",
              "       [ 9.841855  ],\n",
              "       [12.425768  ],\n",
              "       [-1.5485189 ],\n",
              "       [ 4.6770716 ],\n",
              "       [ 4.546192  ],\n",
              "       [ 4.3180184 ],\n",
              "       [ 6.684001  ],\n",
              "       [ 5.8531656 ],\n",
              "       [11.549544  ],\n",
              "       [ 3.0781121 ],\n",
              "       [ 7.575766  ],\n",
              "       [ 5.9401994 ],\n",
              "       [ 5.9577885 ],\n",
              "       [ 5.6759005 ],\n",
              "       [ 9.715065  ],\n",
              "       [ 0.9448859 ],\n",
              "       [ 8.890715  ],\n",
              "       [ 2.803943  ],\n",
              "       [11.149251  ],\n",
              "       [ 4.503515  ],\n",
              "       [ 3.9757128 ],\n",
              "       [ 8.907865  ],\n",
              "       [ 4.895022  ],\n",
              "       [ 9.766382  ],\n",
              "       [ 0.97878325],\n",
              "       [-3.072303  ],\n",
              "       [ 3.4900947 ],\n",
              "       [ 3.345923  ],\n",
              "       [ 3.5473237 ],\n",
              "       [13.642611  ],\n",
              "       [ 9.771126  ],\n",
              "       [-0.40205508],\n",
              "       [ 6.4022074 ],\n",
              "       [12.763836  ],\n",
              "       [ 0.25724518],\n",
              "       [15.958372  ],\n",
              "       [ 2.1191716 ],\n",
              "       [ 0.5143151 ],\n",
              "       [ 6.1767764 ],\n",
              "       [13.180782  ],\n",
              "       [12.126272  ],\n",
              "       [ 8.084844  ],\n",
              "       [ 1.6647096 ],\n",
              "       [11.960681  ],\n",
              "       [ 6.0192447 ],\n",
              "       [ 3.4333687 ],\n",
              "       [ 4.0713687 ],\n",
              "       [ 1.3723707 ],\n",
              "       [10.738005  ],\n",
              "       [ 0.2842412 ],\n",
              "       [12.7055435 ],\n",
              "       [ 6.8713536 ],\n",
              "       [13.651976  ],\n",
              "       [15.481497  ],\n",
              "       [ 3.5051064 ],\n",
              "       [10.952969  ],\n",
              "       [ 4.047978  ],\n",
              "       [ 4.9045634 ],\n",
              "       [ 0.1316706 ],\n",
              "       [ 3.090262  ],\n",
              "       [ 3.9539828 ],\n",
              "       [ 6.148111  ],\n",
              "       [11.738712  ],\n",
              "       [-0.485137  ],\n",
              "       [-0.41732216],\n",
              "       [ 2.3011103 ],\n",
              "       [ 2.603489  ],\n",
              "       [12.400862  ],\n",
              "       [ 9.957731  ],\n",
              "       [ 0.53777325],\n",
              "       [12.073839  ],\n",
              "       [ 0.23005009],\n",
              "       [11.225745  ],\n",
              "       [ 3.3358994 ],\n",
              "       [11.0711775 ],\n",
              "       [ 0.50080174],\n",
              "       [-0.20965374],\n",
              "       [ 1.4598377 ],\n",
              "       [ 4.2148056 ],\n",
              "       [10.320553  ],\n",
              "       [ 2.486545  ],\n",
              "       [ 7.3446994 ],\n",
              "       [ 3.9205523 ],\n",
              "       [16.037048  ],\n",
              "       [14.392832  ],\n",
              "       [ 4.9969635 ],\n",
              "       [ 3.1307867 ],\n",
              "       [ 8.270782  ],\n",
              "       [ 3.9400573 ],\n",
              "       [ 5.2646623 ],\n",
              "       [14.393656  ],\n",
              "       [15.189178  ],\n",
              "       [ 4.594877  ],\n",
              "       [-1.427018  ],\n",
              "       [ 5.304214  ],\n",
              "       [ 2.4521873 ],\n",
              "       [ 6.6035657 ],\n",
              "       [-0.4868449 ],\n",
              "       [ 2.7608364 ],\n",
              "       [ 1.8296218 ],\n",
              "       [-1.1607922 ],\n",
              "       [10.76059   ],\n",
              "       [ 7.995913  ],\n",
              "       [-1.078624  ],\n",
              "       [12.77882   ],\n",
              "       [ 4.514275  ],\n",
              "       [ 8.415231  ],\n",
              "       [13.05382   ],\n",
              "       [ 8.434029  ],\n",
              "       [ 1.3485047 ],\n",
              "       [ 6.3575172 ],\n",
              "       [ 5.9586844 ],\n",
              "       [-0.0392707 ],\n",
              "       [16.311672  ],\n",
              "       [ 2.105732  ],\n",
              "       [ 0.21246016],\n",
              "       [ 2.5117047 ],\n",
              "       [ 0.06921542],\n",
              "       [ 1.1094757 ],\n",
              "       [ 3.5158076 ],\n",
              "       [ 3.6486607 ],\n",
              "       [ 7.9137187 ],\n",
              "       [ 1.8171211 ],\n",
              "       [ 0.12502527],\n",
              "       [ 5.6992693 ],\n",
              "       [ 3.706089  ],\n",
              "       [14.407718  ],\n",
              "       [-1.1238164 ],\n",
              "       [ 1.6472542 ],\n",
              "       [13.653964  ],\n",
              "       [ 0.5600382 ],\n",
              "       [11.40551   ],\n",
              "       [ 3.990964  ],\n",
              "       [ 6.9186535 ],\n",
              "       [15.485664  ],\n",
              "       [ 2.995785  ],\n",
              "       [13.877076  ],\n",
              "       [13.08539   ],\n",
              "       [ 6.5147448 ],\n",
              "       [ 8.240542  ],\n",
              "       [ 9.709945  ]], dtype=float32)"
            ]
          },
          "metadata": {},
          "execution_count": 41
        }
      ]
    },
    {
      "cell_type": "code",
      "metadata": {
        "id": "tv5cMp910YHn",
        "colab": {
          "base_uri": "https://localhost:8080/"
        },
        "outputId": "02a4982b-6551-4be0-a7ae-200e04b0a505"
      },
      "source": [
        "y_test"
      ],
      "execution_count": 42,
      "outputs": [
        {
          "output_type": "execute_result",
          "data": {
            "text/plain": [
              "764      9095.06825\n",
              "887      5272.17580\n",
              "890     29330.98315\n",
              "1293     9301.89355\n",
              "259     33750.29180\n",
              "           ...     \n",
              "109     47055.53210\n",
              "575     12222.89830\n",
              "535      6067.12675\n",
              "543     63770.42801\n",
              "846      9872.70100\n",
              "Name: charges, Length: 268, dtype: float64"
            ]
          },
          "metadata": {},
          "execution_count": 42
        }
      ]
    },
    {
      "cell_type": "markdown",
      "metadata": {
        "id": "iuDrVIDI3KFq"
      },
      "source": [
        "🔑 **Note:** If you feel like you are going to reuse some kind of functunality in the future, it is a good idea to turn it into a function.🔑 "
      ]
    },
    {
      "cell_type": "code",
      "metadata": {
        "id": "G_rTnb-R1K4G"
      },
      "source": [
        "# Create a plotting function\n",
        "\n",
        "def plot_predictions(train_data=X_train,\n",
        "                     train_labels=y_train,\n",
        "                     test_data=X_test,\n",
        "                     test_labels=y_test,\n",
        "                     predictions=y_pred\n",
        "                     ):\n",
        "  \"\"\"\n",
        "  Plots training data, test data and compares predictions to ground truth labels.\n",
        "  \"\"\"\n",
        "\n",
        "  plt.figure(figsize=(10, 7))\n",
        "  # Plot training data in blue\n",
        "  plt.scatter(train_data, train_labels, c='b', label='Training data')\n",
        "  # Plot test data in green \n",
        "  plt.scatter(test_data, test_labels, c='g', label='Testing data')\n",
        "  # Plot predictions in red\n",
        "  plt.scatter(test_data, predictions, c='r', label='Predictions')\n",
        "\n",
        "  # Show the legend\n",
        "  plt.legend();\n"
      ],
      "execution_count": 43,
      "outputs": []
    },
    {
      "cell_type": "code",
      "metadata": {
        "id": "mbRTvwlD8NOE"
      },
      "source": [
        "plot_predictions()"
      ],
      "execution_count": null,
      "outputs": []
    },
    {
      "cell_type": "code",
      "metadata": {
        "id": "A67i1Msm8Yn8"
      },
      "source": [
        "model.predict([17.0])"
      ],
      "execution_count": null,
      "outputs": []
    },
    {
      "cell_type": "markdown",
      "metadata": {
        "id": "LHVfJLVm-JCH"
      },
      "source": [
        "### Evaluating our model's predictions with regression evaluation metrics\n",
        "\n",
        "Depending on the problem we are working on, there will be different evaluation metrics to evaluatethe model's performance.\n",
        "\n",
        "Since we are working on regression, two of the main metrics are:\n",
        "* MAE - Mean Absolute Error, \"On average, how wrong is each of my model's predictions\".\n",
        "* MSE - Mean Squared Error, \"Square the average error\"."
      ]
    },
    {
      "cell_type": "code",
      "metadata": {
        "id": "HkFN-pv6tz3y"
      },
      "source": [
        "# Evaluate the model on the test\n",
        "model.evaluate(X_test, y_test)"
      ],
      "execution_count": null,
      "outputs": []
    },
    {
      "cell_type": "code",
      "metadata": {
        "id": "lZ57-DvCvyxn"
      },
      "source": [
        "y_pred"
      ],
      "execution_count": null,
      "outputs": []
    },
    {
      "cell_type": "code",
      "metadata": {
        "id": "dNCKEXXSwBz0"
      },
      "source": [
        "y_test"
      ],
      "execution_count": null,
      "outputs": []
    },
    {
      "cell_type": "code",
      "metadata": {
        "id": "ZhFkl6Y0wDM6"
      },
      "source": [
        "# Calculate the mean absolute error\n",
        "\n",
        "mae = tf.metrics.mean_absolute_error(y_true=y_test,\n",
        "                                     y_pred=y_pred )\n",
        "mae"
      ],
      "execution_count": null,
      "outputs": []
    },
    {
      "cell_type": "code",
      "metadata": {
        "id": "-HFOyLNtyblP"
      },
      "source": [
        "tf.squeeze(y_pred)"
      ],
      "execution_count": null,
      "outputs": []
    },
    {
      "cell_type": "code",
      "metadata": {
        "id": "AxFaESKGzsa-"
      },
      "source": [
        "mae = tf.metrics.mean_absolute_error(y_true=y_test,\n",
        "                                     y_pred=tf.squeeze(y_pred))\n",
        "mae"
      ],
      "execution_count": null,
      "outputs": []
    },
    {
      "cell_type": "code",
      "metadata": {
        "id": "ROvC30XozwNu"
      },
      "source": [
        "# Calculate the mean square error\n",
        "\n",
        "mse = tf.metrics.mean_squared_error(y_true=y_test,\n",
        "                                    y_pred=tf.squeeze(y_pred))\n",
        "\n",
        "mse"
      ],
      "execution_count": null,
      "outputs": []
    },
    {
      "cell_type": "code",
      "metadata": {
        "id": "Rd7FA_cY0jG9"
      },
      "source": [
        "# Make some functions to reuse MAE and MSE\n",
        "\n",
        "def mae(y_true, y_pred):\n",
        "  return tf.metrics.mean_absolute_error(y_true=y_true,\n",
        "                                        y_pred=tf.squeeze(y_pred))\n",
        "  \n",
        "\n",
        "def mse(y_true, y_pred):\n",
        "  return tf.metrics.mean_squared_error(y_true=y_true,\n",
        "                                       y_pred=tf.squeeze(y_pred))"
      ],
      "execution_count": null,
      "outputs": []
    },
    {
      "cell_type": "markdown",
      "metadata": {
        "id": "OWjMR8vL2Erm"
      },
      "source": [
        "### Running experiments to improve our model\n",
        "\n",
        "```\n",
        "Build a model -> fit it -> evaluate it -> tweak it -> fit it -> evaluate it -> tweak it -> fit it -> evaluate it...\n",
        "```\n",
        "\n",
        "1. Get more data - get more examples for your model to train on (more opportunities to learn patterns or relationships between features and labels).\n",
        "2. Make the model larger (using a more complex model) - this might come in the form of more layers or more hidden units in each layer.\n",
        "3. Train for longer - give the model more of a chance to find patterns in the data.  \n",
        "\n"
      ]
    },
    {
      "cell_type": "code",
      "metadata": {
        "id": "ZeVphb4VMrRT"
      },
      "source": [
        "X_train, y_train"
      ],
      "execution_count": null,
      "outputs": []
    },
    {
      "cell_type": "markdown",
      "metadata": {
        "id": "L10g0C8DON7T"
      },
      "source": [
        "We will do 3 model experiments:\n",
        "\n",
        "1. `model_1` - same as the original model. 1 layer, trained with 100 epochs.\n",
        "2. `model_2` - 2 layers trained with 100 epochs.\n",
        "3. `model_3` - 2 layers trained with 500 epochs.\n",
        "\n",
        "**Build `model_1`**"
      ]
    },
    {
      "cell_type": "code",
      "metadata": {
        "id": "y3PkrKLTPfgV"
      },
      "source": [
        "# Set random seed \n",
        "tf.random.set_seed(42)\n",
        "\n",
        "# 1. Create the model\n",
        "model_1 = tf.keras.Sequential([\n",
        "    tf.keras.layers.Dense(1)\n",
        "])\n",
        "\n",
        "# 2. Compile the model\n",
        "\n",
        "model_1.compile(loss=tf.keras.losses.mae,\n",
        "                optimizer=tf.keras.optimizers.SGD(),\n",
        "                metrics=[\"mae\"])\n",
        "# 3. Fit the model\n",
        "\n",
        "model_1.fit(X_train, y_train, epochs=100)\n",
        "\n"
      ],
      "execution_count": null,
      "outputs": []
    },
    {
      "cell_type": "code",
      "metadata": {
        "id": "rDs1PUI-RCA_"
      },
      "source": [
        "# Make and plot predictions for model_1\n",
        "y_preds_1 = model_1.predict(X_test)\n",
        "plot_predictions(predictions=y_preds_1)"
      ],
      "execution_count": null,
      "outputs": []
    },
    {
      "cell_type": "code",
      "metadata": {
        "id": "99lgQjM-SIGz"
      },
      "source": [
        "# Calculate model_1 evaluation metrics\n",
        "\n",
        "mae_1 = mae(y_test, y_preds_1)\n",
        "mse_1 = mse(y_test, y_preds_1)\n",
        "\n",
        "mae_1, mse_1"
      ],
      "execution_count": null,
      "outputs": []
    },
    {
      "cell_type": "markdown",
      "metadata": {
        "id": "W0dDCbLSS6BE"
      },
      "source": [
        "**Build `model_2`**\n",
        "\n",
        "* 2 dense layers, trained with 100 epochs"
      ]
    },
    {
      "cell_type": "code",
      "metadata": {
        "id": "ngTMpoSZUq1w"
      },
      "source": [
        "# Set random seed \n",
        "tf.random.set_seed(42)\n",
        "\n",
        "# 1. Create the model\n",
        "model_2 = tf.keras.Sequential([\n",
        "    tf.keras.layers.Dense(1),\n",
        "    tf.keras.layers.Dense(1)\n",
        "])\n",
        "\n",
        "# 2. Compile the model\n",
        "\n",
        "model_2.compile(loss=tf.keras.losses.mae,\n",
        "                optimizer=tf.keras.optimizers.SGD(),\n",
        "                metrics=[\"mae\"])\n",
        "# 3. Fit the model\n",
        "\n",
        "model_2.fit(X_train, y_train, epochs=100)\n"
      ],
      "execution_count": null,
      "outputs": []
    },
    {
      "cell_type": "code",
      "metadata": {
        "id": "Cn2Zmx2oU-ZU"
      },
      "source": [
        "# Make and plot predictions for model_2\n",
        "y_preds_2 = model_2.predict(X_test)\n",
        "plot_predictions(predictions=y_preds_2)"
      ],
      "execution_count": null,
      "outputs": []
    },
    {
      "cell_type": "code",
      "metadata": {
        "id": "Osl2blWLVFjo"
      },
      "source": [
        "# Calculate model_1 evaluation metrics\n",
        "\n",
        "mae_2 = mae(y_test, y_preds_2)\n",
        "mse_2 = mse(y_test, y_preds_2)\n",
        "\n",
        "mae_1, mae_2, mse_1, mse_2"
      ],
      "execution_count": null,
      "outputs": []
    },
    {
      "cell_type": "code",
      "metadata": {
        "id": "-FhfXeKAVO50"
      },
      "source": [
        "# Set random seed \n",
        "tf.random.set_seed(42)\n",
        "\n",
        "# 1. Create the model\n",
        "model_2_1 = tf.keras.Sequential([\n",
        "    tf.keras.layers.Dense(10),\n",
        "    tf.keras.layers.Dense(1)\n",
        "])\n",
        "\n",
        "# 2. Compile the model\n",
        "\n",
        "model_2_1.compile(loss=tf.keras.losses.mae,\n",
        "                optimizer=tf.keras.optimizers.SGD(),\n",
        "                metrics=[\"mse\"])\n",
        "# 3. Fit the model\n",
        "\n",
        "model_2_1.fit(X_train, y_train, epochs=100)"
      ],
      "execution_count": null,
      "outputs": []
    },
    {
      "cell_type": "code",
      "metadata": {
        "id": "7_19uXlLWMPU"
      },
      "source": [
        "# Make and plot predictions for model_2_1\n",
        "y_preds_2_1 = model_2_1.predict(X_test)\n",
        "plot_predictions(predictions=y_preds_2_1)"
      ],
      "execution_count": null,
      "outputs": []
    },
    {
      "cell_type": "code",
      "metadata": {
        "id": "cEeXPnlcWaKA"
      },
      "source": [
        "mae_2_1 = mae(y_test, y_preds_2_1)\n",
        "mse_2_1 = mse(y_test, y_preds_2_1)\n",
        "\n",
        "mae_1, mae_2, mae_2_1, mse_1, mse_2, mse_2_1"
      ],
      "execution_count": null,
      "outputs": []
    },
    {
      "cell_type": "markdown",
      "metadata": {
        "id": "AMdr3MtiWqr5"
      },
      "source": [
        "**Build `model_3`** \\\n",
        " \n",
        "2 layers trained with 500 epochs."
      ]
    },
    {
      "cell_type": "code",
      "metadata": {
        "id": "67DHOZhSYHri"
      },
      "source": [
        "# Set random seed \n",
        "tf.random.set_seed(42)\n",
        "\n",
        "# 1. Create the model\n",
        "\n",
        "model_3 = tf.keras.Sequential([\n",
        "      tf.keras.layers.Dense(1),\n",
        "      tf.keras.layers.Dense(1)\n",
        "])\n",
        "\n",
        "# 2. Compile the model\n",
        "\n",
        "model_3.compile(loss=tf.keras.losses.mae,\n",
        "                optimizer=tf.keras.optimizers.SGD(),\n",
        "                metrics=['mae'])\n",
        "\n",
        "# 3. fit the model\n",
        "model_3.fit(X_train, y_train, epochs=500 )"
      ],
      "execution_count": null,
      "outputs": []
    },
    {
      "cell_type": "code",
      "metadata": {
        "id": "dwBmlK7YZ1Gx"
      },
      "source": [
        "# Make and plot predictions for model_3\n",
        "y_preds_3 = model_3.predict(X_test)\n",
        "plot_predictions(predictions=y_preds_3)"
      ],
      "execution_count": null,
      "outputs": []
    },
    {
      "cell_type": "code",
      "metadata": {
        "id": "4rVF9o_VaE8a"
      },
      "source": [
        "mae_3 = mae(y_test, y_preds_3)\n",
        "mse_3 = mse(y_test, y_preds_3)\n",
        "\n",
        "mae_1, mae_2, mae_2_1, mae_3, mse_1, mse_2, mse_2_1, mse_3"
      ],
      "execution_count": null,
      "outputs": []
    },
    {
      "cell_type": "markdown",
      "metadata": {
        "id": "j3MVTAuyaY4C"
      },
      "source": [
        "### Comparing the results of the experiments\n",
        "\n",
        "Now that we have ran a few experiments, we will compare the results."
      ]
    },
    {
      "cell_type": "markdown",
      "metadata": {
        "id": "x_KRf9sedmHD"
      },
      "source": [
        "🔑 **Note** You should start with small experiments (small models)  and make sure they work and then increase their scale when necessary. 🔑"
      ]
    },
    {
      "cell_type": "markdown",
      "metadata": {
        "id": "QqH5CWh_dVua"
      },
      "source": [
        "Let's compare our model's results using a Pandas dataframe"
      ]
    },
    {
      "cell_type": "code",
      "metadata": {
        "id": "rz9WiUDTeiS4"
      },
      "source": [
        "import pandas as pd\n",
        "\n",
        "model_results = [['model_1', mae_1, mse_1],\n",
        "                 ['model_2', mae_2, mse_2],\n",
        "                 ['model_2.1', mae_2_1, mse_2_1],\n",
        "                 ['model_3', mae_3, mse_3]]\n",
        "\n",
        "all_results = pd.DataFrame(model_results, columns=['Model', 'mae', 'mse'])"
      ],
      "execution_count": null,
      "outputs": []
    },
    {
      "cell_type": "code",
      "metadata": {
        "id": "hTdAfA7TfjYW"
      },
      "source": [
        "all_results"
      ],
      "execution_count": null,
      "outputs": []
    },
    {
      "cell_type": "code",
      "metadata": {
        "id": "bkjzX5jZfvRu"
      },
      "source": [
        "model_results = [['model_1', mae_1.numpy(), mse_1.numpy()],\n",
        "                 ['model_2', mae_2.numpy(), mse_2.numpy()],\n",
        "                 ['model_2.1', mae_2_1.numpy(), mse_2_1.numpy()],\n",
        "                 ['model_3', mae_3.numpy(), mse_3.numpy()]]\n",
        "\n",
        "all_results = pd.DataFrame(model_results, columns=['Model', 'mae', 'mse'])"
      ],
      "execution_count": null,
      "outputs": []
    },
    {
      "cell_type": "code",
      "metadata": {
        "id": "Iqco4mgbgIt7"
      },
      "source": [
        "all_results"
      ],
      "execution_count": null,
      "outputs": []
    },
    {
      "cell_type": "code",
      "metadata": {
        "id": "c0w4twBIgLYv"
      },
      "source": [
        "model_2.summary()"
      ],
      "execution_count": null,
      "outputs": []
    },
    {
      "cell_type": "markdown",
      "metadata": {
        "id": "yX-Yz3n1jAyM"
      },
      "source": [
        "🔑 **Note:** One of your main goals should be to minimise the time between your experiments. The more experiments you do, the more things you will figure out which do not work and in turn approach closer to working out what will work. When in doubt, remember the machine learning practioner's motto: \"Experiment, experiment, experiment\" 🔑"
      ]
    },
    {
      "cell_type": "markdown",
      "metadata": {
        "id": "Cf66dG9FkoGe"
      },
      "source": [
        "### Tracking experiments\n",
        "\n",
        "A good habit in machine learning modelling is to track the results from the experiments.\n",
        "\n",
        "When doing so, it can become tedious if running numerous experiments.\n",
        "\n",
        "Luckily, there are tools to help.\n",
        "\n",
        "📖 **Resource:** 📖\n",
        "* TensorBoard - a componentof the Tensorflow library to help track modelling experiments.\n",
        "* Weights & Biases - a tool for tracking all kinds of machine learning experiments (plugs straight into TensorBoard)"
      ]
    },
    {
      "cell_type": "markdown",
      "metadata": {
        "id": "VtC_YlfFoA5o"
      },
      "source": [
        "## Saving our models\n",
        "\n",
        "Saving our models allows us to use them outside of Google Colab (or wherever they were trained) and use them in a web application or a mobile app.\n",
        "\n",
        "There are two main formats we can save our models too:\n",
        "1. The SavedModel format.\n",
        "2. The HDF5 format."
      ]
    },
    {
      "cell_type": "markdown",
      "metadata": {
        "id": "W2SP4YoZo007"
      },
      "source": [
        "Save the model using the SavedModel format"
      ]
    },
    {
      "cell_type": "code",
      "metadata": {
        "id": "4fTAERfFqnZU"
      },
      "source": [
        "model_2.save(\"best_model_SavedModel_format\")"
      ],
      "execution_count": null,
      "outputs": []
    },
    {
      "cell_type": "markdown",
      "metadata": {
        "id": "wUY_e6yfq2Bu"
      },
      "source": [
        "Save the model using the HDF5 format"
      ]
    },
    {
      "cell_type": "code",
      "metadata": {
        "id": "ijmBZuEjrcG1"
      },
      "source": [
        "model_2.save(\"best_model_HDF5_format.h5\")"
      ],
      "execution_count": null,
      "outputs": []
    },
    {
      "cell_type": "markdown",
      "metadata": {
        "id": "wWlDkBdlr2gS"
      },
      "source": [
        "## Loading in a saved model "
      ]
    },
    {
      "cell_type": "markdown",
      "metadata": {
        "id": "xDHi8l7xsfgC"
      },
      "source": [
        "Load in the SavedModel format model"
      ]
    },
    {
      "cell_type": "code",
      "metadata": {
        "id": "lJXrYYwask-U"
      },
      "source": [
        "loaded_saved_model_format = tf.keras.models.load_model('best_model_SavedModel_format')\n",
        "loaded_saved_model_format.summary()"
      ],
      "execution_count": null,
      "outputs": []
    },
    {
      "cell_type": "code",
      "metadata": {
        "id": "epcj2BCxtGNd"
      },
      "source": [
        "model_2.summary()"
      ],
      "execution_count": null,
      "outputs": []
    },
    {
      "cell_type": "markdown",
      "metadata": {
        "id": "Xhk-NCjZtRMv"
      },
      "source": [
        "Compare model_2 predictions with loaded_saved_model_format predictions"
      ]
    },
    {
      "cell_type": "code",
      "metadata": {
        "id": "j5ZvOp31tkG0"
      },
      "source": [
        "model_2_preds = model_2.predict(X_test)\n",
        "loaded_saved_model_format_preds = loaded_saved_model_format.predict(X_test)"
      ],
      "execution_count": null,
      "outputs": []
    },
    {
      "cell_type": "code",
      "metadata": {
        "id": "ck76LHBwt9QP"
      },
      "source": [
        "model_2_preds == loaded_saved_model_format_preds"
      ],
      "execution_count": null,
      "outputs": []
    },
    {
      "cell_type": "code",
      "metadata": {
        "id": "zgdiWPdnuB7A"
      },
      "source": [
        "mae(y_true=y_test, y_pred=model_2_preds) == mae(y_true=y_test, y_pred=loaded_saved_model_format_preds)"
      ],
      "execution_count": null,
      "outputs": []
    },
    {
      "cell_type": "markdown",
      "metadata": {
        "id": "r7MxiXXIumga"
      },
      "source": [
        "Load in a model using the .h5 format"
      ]
    },
    {
      "cell_type": "code",
      "metadata": {
        "id": "UB5vvOf1vMq7"
      },
      "source": [
        "loaded_h5_model = tf.keras.models.load_model('best_model_HDF5_format.h5')"
      ],
      "execution_count": null,
      "outputs": []
    },
    {
      "cell_type": "code",
      "metadata": {
        "id": "2sHZgvy9vhjF"
      },
      "source": [
        "loaded_h5_model_pred = loaded_h5_model.predict(X_test)"
      ],
      "execution_count": null,
      "outputs": []
    },
    {
      "cell_type": "code",
      "metadata": {
        "id": "T9sSRHjFvuw7"
      },
      "source": [
        "loaded_saved_model_format_preds == loaded_h5_model_pred"
      ],
      "execution_count": null,
      "outputs": []
    },
    {
      "cell_type": "code",
      "metadata": {
        "id": "lhe4v7lsvybR"
      },
      "source": [
        "loaded_h5_model.summary()"
      ],
      "execution_count": null,
      "outputs": []
    },
    {
      "cell_type": "code",
      "metadata": {
        "id": "GSAfUMOdwABa"
      },
      "source": [
        "model_2.summary()"
      ],
      "execution_count": null,
      "outputs": []
    },
    {
      "cell_type": "markdown",
      "metadata": {
        "id": "FYZMYyZfwEL7"
      },
      "source": [
        "## Download a model (or any other file) from Google Colab\n",
        "\n",
        "If you want to download your files from Google Colab:\n",
        "1. Go to the \"files\" tab and right click on the file you are after and click download."
      ]
    },
    {
      "cell_type": "markdown",
      "metadata": {
        "id": "GeCG94ga-Xc9"
      },
      "source": [
        "## Larger example"
      ]
    },
    {
      "cell_type": "code",
      "metadata": {
        "id": "REvAiuzKEAAC"
      },
      "source": [
        "import tensorflow as tf\n",
        "import pandas as pd\n",
        "import matplotlib.pyplot as plt\n"
      ],
      "execution_count": 18,
      "outputs": []
    },
    {
      "cell_type": "code",
      "metadata": {
        "id": "JvoYnJOHEG3f"
      },
      "source": [
        "# Read in the data\n",
        "\n",
        "insurance = pd.read_csv(\"https://raw.githubusercontent.com/stedy/Machine-Learning-with-R-datasets/master/insurance.csv\")"
      ],
      "execution_count": 19,
      "outputs": []
    },
    {
      "cell_type": "code",
      "metadata": {
        "colab": {
          "base_uri": "https://localhost:8080/",
          "height": 418
        },
        "id": "c8AL84gYEWMt",
        "outputId": "9705d0ce-d632-42db-b50f-4bc8fa110999"
      },
      "source": [
        "insurance"
      ],
      "execution_count": 20,
      "outputs": [
        {
          "output_type": "execute_result",
          "data": {
            "text/html": [
              "<div>\n",
              "<style scoped>\n",
              "    .dataframe tbody tr th:only-of-type {\n",
              "        vertical-align: middle;\n",
              "    }\n",
              "\n",
              "    .dataframe tbody tr th {\n",
              "        vertical-align: top;\n",
              "    }\n",
              "\n",
              "    .dataframe thead th {\n",
              "        text-align: right;\n",
              "    }\n",
              "</style>\n",
              "<table border=\"1\" class=\"dataframe\">\n",
              "  <thead>\n",
              "    <tr style=\"text-align: right;\">\n",
              "      <th></th>\n",
              "      <th>age</th>\n",
              "      <th>sex</th>\n",
              "      <th>bmi</th>\n",
              "      <th>children</th>\n",
              "      <th>smoker</th>\n",
              "      <th>region</th>\n",
              "      <th>charges</th>\n",
              "    </tr>\n",
              "  </thead>\n",
              "  <tbody>\n",
              "    <tr>\n",
              "      <th>0</th>\n",
              "      <td>19</td>\n",
              "      <td>female</td>\n",
              "      <td>27.900</td>\n",
              "      <td>0</td>\n",
              "      <td>yes</td>\n",
              "      <td>southwest</td>\n",
              "      <td>16884.92400</td>\n",
              "    </tr>\n",
              "    <tr>\n",
              "      <th>1</th>\n",
              "      <td>18</td>\n",
              "      <td>male</td>\n",
              "      <td>33.770</td>\n",
              "      <td>1</td>\n",
              "      <td>no</td>\n",
              "      <td>southeast</td>\n",
              "      <td>1725.55230</td>\n",
              "    </tr>\n",
              "    <tr>\n",
              "      <th>2</th>\n",
              "      <td>28</td>\n",
              "      <td>male</td>\n",
              "      <td>33.000</td>\n",
              "      <td>3</td>\n",
              "      <td>no</td>\n",
              "      <td>southeast</td>\n",
              "      <td>4449.46200</td>\n",
              "    </tr>\n",
              "    <tr>\n",
              "      <th>3</th>\n",
              "      <td>33</td>\n",
              "      <td>male</td>\n",
              "      <td>22.705</td>\n",
              "      <td>0</td>\n",
              "      <td>no</td>\n",
              "      <td>northwest</td>\n",
              "      <td>21984.47061</td>\n",
              "    </tr>\n",
              "    <tr>\n",
              "      <th>4</th>\n",
              "      <td>32</td>\n",
              "      <td>male</td>\n",
              "      <td>28.880</td>\n",
              "      <td>0</td>\n",
              "      <td>no</td>\n",
              "      <td>northwest</td>\n",
              "      <td>3866.85520</td>\n",
              "    </tr>\n",
              "    <tr>\n",
              "      <th>...</th>\n",
              "      <td>...</td>\n",
              "      <td>...</td>\n",
              "      <td>...</td>\n",
              "      <td>...</td>\n",
              "      <td>...</td>\n",
              "      <td>...</td>\n",
              "      <td>...</td>\n",
              "    </tr>\n",
              "    <tr>\n",
              "      <th>1333</th>\n",
              "      <td>50</td>\n",
              "      <td>male</td>\n",
              "      <td>30.970</td>\n",
              "      <td>3</td>\n",
              "      <td>no</td>\n",
              "      <td>northwest</td>\n",
              "      <td>10600.54830</td>\n",
              "    </tr>\n",
              "    <tr>\n",
              "      <th>1334</th>\n",
              "      <td>18</td>\n",
              "      <td>female</td>\n",
              "      <td>31.920</td>\n",
              "      <td>0</td>\n",
              "      <td>no</td>\n",
              "      <td>northeast</td>\n",
              "      <td>2205.98080</td>\n",
              "    </tr>\n",
              "    <tr>\n",
              "      <th>1335</th>\n",
              "      <td>18</td>\n",
              "      <td>female</td>\n",
              "      <td>36.850</td>\n",
              "      <td>0</td>\n",
              "      <td>no</td>\n",
              "      <td>southeast</td>\n",
              "      <td>1629.83350</td>\n",
              "    </tr>\n",
              "    <tr>\n",
              "      <th>1336</th>\n",
              "      <td>21</td>\n",
              "      <td>female</td>\n",
              "      <td>25.800</td>\n",
              "      <td>0</td>\n",
              "      <td>no</td>\n",
              "      <td>southwest</td>\n",
              "      <td>2007.94500</td>\n",
              "    </tr>\n",
              "    <tr>\n",
              "      <th>1337</th>\n",
              "      <td>61</td>\n",
              "      <td>female</td>\n",
              "      <td>29.070</td>\n",
              "      <td>0</td>\n",
              "      <td>yes</td>\n",
              "      <td>northwest</td>\n",
              "      <td>29141.36030</td>\n",
              "    </tr>\n",
              "  </tbody>\n",
              "</table>\n",
              "<p>1338 rows × 7 columns</p>\n",
              "</div>"
            ],
            "text/plain": [
              "      age     sex     bmi  children smoker     region      charges\n",
              "0      19  female  27.900         0    yes  southwest  16884.92400\n",
              "1      18    male  33.770         1     no  southeast   1725.55230\n",
              "2      28    male  33.000         3     no  southeast   4449.46200\n",
              "3      33    male  22.705         0     no  northwest  21984.47061\n",
              "4      32    male  28.880         0     no  northwest   3866.85520\n",
              "...   ...     ...     ...       ...    ...        ...          ...\n",
              "1333   50    male  30.970         3     no  northwest  10600.54830\n",
              "1334   18  female  31.920         0     no  northeast   2205.98080\n",
              "1335   18  female  36.850         0     no  southeast   1629.83350\n",
              "1336   21  female  25.800         0     no  southwest   2007.94500\n",
              "1337   61  female  29.070         0    yes  northwest  29141.36030\n",
              "\n",
              "[1338 rows x 7 columns]"
            ]
          },
          "metadata": {},
          "execution_count": 20
        }
      ]
    },
    {
      "cell_type": "markdown",
      "metadata": {
        "id": "aDZCzJ0gEYqa"
      },
      "source": [
        "one-hot encode our Dataframe so it is all numbers"
      ]
    },
    {
      "cell_type": "code",
      "metadata": {
        "colab": {
          "base_uri": "https://localhost:8080/",
          "height": 418
        },
        "id": "jziiAyRkGMee",
        "outputId": "2c3aec20-7edf-4aed-f1d0-fd05dc1c4bd0"
      },
      "source": [
        "pd.get_dummies(insurance)"
      ],
      "execution_count": 21,
      "outputs": [
        {
          "output_type": "execute_result",
          "data": {
            "text/html": [
              "<div>\n",
              "<style scoped>\n",
              "    .dataframe tbody tr th:only-of-type {\n",
              "        vertical-align: middle;\n",
              "    }\n",
              "\n",
              "    .dataframe tbody tr th {\n",
              "        vertical-align: top;\n",
              "    }\n",
              "\n",
              "    .dataframe thead th {\n",
              "        text-align: right;\n",
              "    }\n",
              "</style>\n",
              "<table border=\"1\" class=\"dataframe\">\n",
              "  <thead>\n",
              "    <tr style=\"text-align: right;\">\n",
              "      <th></th>\n",
              "      <th>age</th>\n",
              "      <th>bmi</th>\n",
              "      <th>children</th>\n",
              "      <th>charges</th>\n",
              "      <th>sex_female</th>\n",
              "      <th>sex_male</th>\n",
              "      <th>smoker_no</th>\n",
              "      <th>smoker_yes</th>\n",
              "      <th>region_northeast</th>\n",
              "      <th>region_northwest</th>\n",
              "      <th>region_southeast</th>\n",
              "      <th>region_southwest</th>\n",
              "    </tr>\n",
              "  </thead>\n",
              "  <tbody>\n",
              "    <tr>\n",
              "      <th>0</th>\n",
              "      <td>19</td>\n",
              "      <td>27.900</td>\n",
              "      <td>0</td>\n",
              "      <td>16884.92400</td>\n",
              "      <td>1</td>\n",
              "      <td>0</td>\n",
              "      <td>0</td>\n",
              "      <td>1</td>\n",
              "      <td>0</td>\n",
              "      <td>0</td>\n",
              "      <td>0</td>\n",
              "      <td>1</td>\n",
              "    </tr>\n",
              "    <tr>\n",
              "      <th>1</th>\n",
              "      <td>18</td>\n",
              "      <td>33.770</td>\n",
              "      <td>1</td>\n",
              "      <td>1725.55230</td>\n",
              "      <td>0</td>\n",
              "      <td>1</td>\n",
              "      <td>1</td>\n",
              "      <td>0</td>\n",
              "      <td>0</td>\n",
              "      <td>0</td>\n",
              "      <td>1</td>\n",
              "      <td>0</td>\n",
              "    </tr>\n",
              "    <tr>\n",
              "      <th>2</th>\n",
              "      <td>28</td>\n",
              "      <td>33.000</td>\n",
              "      <td>3</td>\n",
              "      <td>4449.46200</td>\n",
              "      <td>0</td>\n",
              "      <td>1</td>\n",
              "      <td>1</td>\n",
              "      <td>0</td>\n",
              "      <td>0</td>\n",
              "      <td>0</td>\n",
              "      <td>1</td>\n",
              "      <td>0</td>\n",
              "    </tr>\n",
              "    <tr>\n",
              "      <th>3</th>\n",
              "      <td>33</td>\n",
              "      <td>22.705</td>\n",
              "      <td>0</td>\n",
              "      <td>21984.47061</td>\n",
              "      <td>0</td>\n",
              "      <td>1</td>\n",
              "      <td>1</td>\n",
              "      <td>0</td>\n",
              "      <td>0</td>\n",
              "      <td>1</td>\n",
              "      <td>0</td>\n",
              "      <td>0</td>\n",
              "    </tr>\n",
              "    <tr>\n",
              "      <th>4</th>\n",
              "      <td>32</td>\n",
              "      <td>28.880</td>\n",
              "      <td>0</td>\n",
              "      <td>3866.85520</td>\n",
              "      <td>0</td>\n",
              "      <td>1</td>\n",
              "      <td>1</td>\n",
              "      <td>0</td>\n",
              "      <td>0</td>\n",
              "      <td>1</td>\n",
              "      <td>0</td>\n",
              "      <td>0</td>\n",
              "    </tr>\n",
              "    <tr>\n",
              "      <th>...</th>\n",
              "      <td>...</td>\n",
              "      <td>...</td>\n",
              "      <td>...</td>\n",
              "      <td>...</td>\n",
              "      <td>...</td>\n",
              "      <td>...</td>\n",
              "      <td>...</td>\n",
              "      <td>...</td>\n",
              "      <td>...</td>\n",
              "      <td>...</td>\n",
              "      <td>...</td>\n",
              "      <td>...</td>\n",
              "    </tr>\n",
              "    <tr>\n",
              "      <th>1333</th>\n",
              "      <td>50</td>\n",
              "      <td>30.970</td>\n",
              "      <td>3</td>\n",
              "      <td>10600.54830</td>\n",
              "      <td>0</td>\n",
              "      <td>1</td>\n",
              "      <td>1</td>\n",
              "      <td>0</td>\n",
              "      <td>0</td>\n",
              "      <td>1</td>\n",
              "      <td>0</td>\n",
              "      <td>0</td>\n",
              "    </tr>\n",
              "    <tr>\n",
              "      <th>1334</th>\n",
              "      <td>18</td>\n",
              "      <td>31.920</td>\n",
              "      <td>0</td>\n",
              "      <td>2205.98080</td>\n",
              "      <td>1</td>\n",
              "      <td>0</td>\n",
              "      <td>1</td>\n",
              "      <td>0</td>\n",
              "      <td>1</td>\n",
              "      <td>0</td>\n",
              "      <td>0</td>\n",
              "      <td>0</td>\n",
              "    </tr>\n",
              "    <tr>\n",
              "      <th>1335</th>\n",
              "      <td>18</td>\n",
              "      <td>36.850</td>\n",
              "      <td>0</td>\n",
              "      <td>1629.83350</td>\n",
              "      <td>1</td>\n",
              "      <td>0</td>\n",
              "      <td>1</td>\n",
              "      <td>0</td>\n",
              "      <td>0</td>\n",
              "      <td>0</td>\n",
              "      <td>1</td>\n",
              "      <td>0</td>\n",
              "    </tr>\n",
              "    <tr>\n",
              "      <th>1336</th>\n",
              "      <td>21</td>\n",
              "      <td>25.800</td>\n",
              "      <td>0</td>\n",
              "      <td>2007.94500</td>\n",
              "      <td>1</td>\n",
              "      <td>0</td>\n",
              "      <td>1</td>\n",
              "      <td>0</td>\n",
              "      <td>0</td>\n",
              "      <td>0</td>\n",
              "      <td>0</td>\n",
              "      <td>1</td>\n",
              "    </tr>\n",
              "    <tr>\n",
              "      <th>1337</th>\n",
              "      <td>61</td>\n",
              "      <td>29.070</td>\n",
              "      <td>0</td>\n",
              "      <td>29141.36030</td>\n",
              "      <td>1</td>\n",
              "      <td>0</td>\n",
              "      <td>0</td>\n",
              "      <td>1</td>\n",
              "      <td>0</td>\n",
              "      <td>1</td>\n",
              "      <td>0</td>\n",
              "      <td>0</td>\n",
              "    </tr>\n",
              "  </tbody>\n",
              "</table>\n",
              "<p>1338 rows × 12 columns</p>\n",
              "</div>"
            ],
            "text/plain": [
              "      age     bmi  ...  region_southeast  region_southwest\n",
              "0      19  27.900  ...                 0                 1\n",
              "1      18  33.770  ...                 1                 0\n",
              "2      28  33.000  ...                 1                 0\n",
              "3      33  22.705  ...                 0                 0\n",
              "4      32  28.880  ...                 0                 0\n",
              "...   ...     ...  ...               ...               ...\n",
              "1333   50  30.970  ...                 0                 0\n",
              "1334   18  31.920  ...                 0                 0\n",
              "1335   18  36.850  ...                 1                 0\n",
              "1336   21  25.800  ...                 0                 1\n",
              "1337   61  29.070  ...                 0                 0\n",
              "\n",
              "[1338 rows x 12 columns]"
            ]
          },
          "metadata": {},
          "execution_count": 21
        }
      ]
    },
    {
      "cell_type": "code",
      "metadata": {
        "colab": {
          "base_uri": "https://localhost:8080/",
          "height": 204
        },
        "id": "9BhIffRwGUTP",
        "outputId": "640f7eeb-7161-4315-9d8f-79a46f5d5da6"
      },
      "source": [
        "insurance_one_hot = pd.get_dummies(insurance)\n",
        "insurance_one_hot.head()"
      ],
      "execution_count": 22,
      "outputs": [
        {
          "output_type": "execute_result",
          "data": {
            "text/html": [
              "<div>\n",
              "<style scoped>\n",
              "    .dataframe tbody tr th:only-of-type {\n",
              "        vertical-align: middle;\n",
              "    }\n",
              "\n",
              "    .dataframe tbody tr th {\n",
              "        vertical-align: top;\n",
              "    }\n",
              "\n",
              "    .dataframe thead th {\n",
              "        text-align: right;\n",
              "    }\n",
              "</style>\n",
              "<table border=\"1\" class=\"dataframe\">\n",
              "  <thead>\n",
              "    <tr style=\"text-align: right;\">\n",
              "      <th></th>\n",
              "      <th>age</th>\n",
              "      <th>bmi</th>\n",
              "      <th>children</th>\n",
              "      <th>charges</th>\n",
              "      <th>sex_female</th>\n",
              "      <th>sex_male</th>\n",
              "      <th>smoker_no</th>\n",
              "      <th>smoker_yes</th>\n",
              "      <th>region_northeast</th>\n",
              "      <th>region_northwest</th>\n",
              "      <th>region_southeast</th>\n",
              "      <th>region_southwest</th>\n",
              "    </tr>\n",
              "  </thead>\n",
              "  <tbody>\n",
              "    <tr>\n",
              "      <th>0</th>\n",
              "      <td>19</td>\n",
              "      <td>27.900</td>\n",
              "      <td>0</td>\n",
              "      <td>16884.92400</td>\n",
              "      <td>1</td>\n",
              "      <td>0</td>\n",
              "      <td>0</td>\n",
              "      <td>1</td>\n",
              "      <td>0</td>\n",
              "      <td>0</td>\n",
              "      <td>0</td>\n",
              "      <td>1</td>\n",
              "    </tr>\n",
              "    <tr>\n",
              "      <th>1</th>\n",
              "      <td>18</td>\n",
              "      <td>33.770</td>\n",
              "      <td>1</td>\n",
              "      <td>1725.55230</td>\n",
              "      <td>0</td>\n",
              "      <td>1</td>\n",
              "      <td>1</td>\n",
              "      <td>0</td>\n",
              "      <td>0</td>\n",
              "      <td>0</td>\n",
              "      <td>1</td>\n",
              "      <td>0</td>\n",
              "    </tr>\n",
              "    <tr>\n",
              "      <th>2</th>\n",
              "      <td>28</td>\n",
              "      <td>33.000</td>\n",
              "      <td>3</td>\n",
              "      <td>4449.46200</td>\n",
              "      <td>0</td>\n",
              "      <td>1</td>\n",
              "      <td>1</td>\n",
              "      <td>0</td>\n",
              "      <td>0</td>\n",
              "      <td>0</td>\n",
              "      <td>1</td>\n",
              "      <td>0</td>\n",
              "    </tr>\n",
              "    <tr>\n",
              "      <th>3</th>\n",
              "      <td>33</td>\n",
              "      <td>22.705</td>\n",
              "      <td>0</td>\n",
              "      <td>21984.47061</td>\n",
              "      <td>0</td>\n",
              "      <td>1</td>\n",
              "      <td>1</td>\n",
              "      <td>0</td>\n",
              "      <td>0</td>\n",
              "      <td>1</td>\n",
              "      <td>0</td>\n",
              "      <td>0</td>\n",
              "    </tr>\n",
              "    <tr>\n",
              "      <th>4</th>\n",
              "      <td>32</td>\n",
              "      <td>28.880</td>\n",
              "      <td>0</td>\n",
              "      <td>3866.85520</td>\n",
              "      <td>0</td>\n",
              "      <td>1</td>\n",
              "      <td>1</td>\n",
              "      <td>0</td>\n",
              "      <td>0</td>\n",
              "      <td>1</td>\n",
              "      <td>0</td>\n",
              "      <td>0</td>\n",
              "    </tr>\n",
              "  </tbody>\n",
              "</table>\n",
              "</div>"
            ],
            "text/plain": [
              "   age     bmi  children  ...  region_northwest  region_southeast  region_southwest\n",
              "0   19  27.900         0  ...                 0                 0                 1\n",
              "1   18  33.770         1  ...                 0                 1                 0\n",
              "2   28  33.000         3  ...                 0                 1                 0\n",
              "3   33  22.705         0  ...                 1                 0                 0\n",
              "4   32  28.880         0  ...                 1                 0                 0\n",
              "\n",
              "[5 rows x 12 columns]"
            ]
          },
          "metadata": {},
          "execution_count": 22
        }
      ]
    },
    {
      "cell_type": "code",
      "metadata": {
        "id": "8jxT-7zkGslK"
      },
      "source": [
        "# Create a X & y values (features and labels)\n",
        "\n",
        "X = insurance_one_hot.drop(\"charges\", axis=1)\n",
        "y = insurance_one_hot[\"charges\"]"
      ],
      "execution_count": 23,
      "outputs": []
    },
    {
      "cell_type": "code",
      "metadata": {
        "colab": {
          "base_uri": "https://localhost:8080/",
          "height": 204
        },
        "id": "wP4AShRdOPcw",
        "outputId": "7d2d2b95-ac18-4821-ce2d-637129a83a51"
      },
      "source": [
        "X.head()"
      ],
      "execution_count": 27,
      "outputs": [
        {
          "output_type": "execute_result",
          "data": {
            "text/html": [
              "<div>\n",
              "<style scoped>\n",
              "    .dataframe tbody tr th:only-of-type {\n",
              "        vertical-align: middle;\n",
              "    }\n",
              "\n",
              "    .dataframe tbody tr th {\n",
              "        vertical-align: top;\n",
              "    }\n",
              "\n",
              "    .dataframe thead th {\n",
              "        text-align: right;\n",
              "    }\n",
              "</style>\n",
              "<table border=\"1\" class=\"dataframe\">\n",
              "  <thead>\n",
              "    <tr style=\"text-align: right;\">\n",
              "      <th></th>\n",
              "      <th>age</th>\n",
              "      <th>bmi</th>\n",
              "      <th>children</th>\n",
              "      <th>sex_female</th>\n",
              "      <th>sex_male</th>\n",
              "      <th>smoker_no</th>\n",
              "      <th>smoker_yes</th>\n",
              "      <th>region_northeast</th>\n",
              "      <th>region_northwest</th>\n",
              "      <th>region_southeast</th>\n",
              "      <th>region_southwest</th>\n",
              "    </tr>\n",
              "  </thead>\n",
              "  <tbody>\n",
              "    <tr>\n",
              "      <th>0</th>\n",
              "      <td>19</td>\n",
              "      <td>27.900</td>\n",
              "      <td>0</td>\n",
              "      <td>1</td>\n",
              "      <td>0</td>\n",
              "      <td>0</td>\n",
              "      <td>1</td>\n",
              "      <td>0</td>\n",
              "      <td>0</td>\n",
              "      <td>0</td>\n",
              "      <td>1</td>\n",
              "    </tr>\n",
              "    <tr>\n",
              "      <th>1</th>\n",
              "      <td>18</td>\n",
              "      <td>33.770</td>\n",
              "      <td>1</td>\n",
              "      <td>0</td>\n",
              "      <td>1</td>\n",
              "      <td>1</td>\n",
              "      <td>0</td>\n",
              "      <td>0</td>\n",
              "      <td>0</td>\n",
              "      <td>1</td>\n",
              "      <td>0</td>\n",
              "    </tr>\n",
              "    <tr>\n",
              "      <th>2</th>\n",
              "      <td>28</td>\n",
              "      <td>33.000</td>\n",
              "      <td>3</td>\n",
              "      <td>0</td>\n",
              "      <td>1</td>\n",
              "      <td>1</td>\n",
              "      <td>0</td>\n",
              "      <td>0</td>\n",
              "      <td>0</td>\n",
              "      <td>1</td>\n",
              "      <td>0</td>\n",
              "    </tr>\n",
              "    <tr>\n",
              "      <th>3</th>\n",
              "      <td>33</td>\n",
              "      <td>22.705</td>\n",
              "      <td>0</td>\n",
              "      <td>0</td>\n",
              "      <td>1</td>\n",
              "      <td>1</td>\n",
              "      <td>0</td>\n",
              "      <td>0</td>\n",
              "      <td>1</td>\n",
              "      <td>0</td>\n",
              "      <td>0</td>\n",
              "    </tr>\n",
              "    <tr>\n",
              "      <th>4</th>\n",
              "      <td>32</td>\n",
              "      <td>28.880</td>\n",
              "      <td>0</td>\n",
              "      <td>0</td>\n",
              "      <td>1</td>\n",
              "      <td>1</td>\n",
              "      <td>0</td>\n",
              "      <td>0</td>\n",
              "      <td>1</td>\n",
              "      <td>0</td>\n",
              "      <td>0</td>\n",
              "    </tr>\n",
              "  </tbody>\n",
              "</table>\n",
              "</div>"
            ],
            "text/plain": [
              "   age     bmi  children  ...  region_northwest  region_southeast  region_southwest\n",
              "0   19  27.900         0  ...                 0                 0                 1\n",
              "1   18  33.770         1  ...                 0                 1                 0\n",
              "2   28  33.000         3  ...                 0                 1                 0\n",
              "3   33  22.705         0  ...                 1                 0                 0\n",
              "4   32  28.880         0  ...                 1                 0                 0\n",
              "\n",
              "[5 rows x 11 columns]"
            ]
          },
          "metadata": {},
          "execution_count": 27
        }
      ]
    },
    {
      "cell_type": "code",
      "metadata": {
        "colab": {
          "base_uri": "https://localhost:8080/"
        },
        "id": "sNquJwuNOQzF",
        "outputId": "239671a2-7388-448c-eaa8-3c1a73c2be86"
      },
      "source": [
        "y.head()"
      ],
      "execution_count": 26,
      "outputs": [
        {
          "output_type": "execute_result",
          "data": {
            "text/plain": [
              "0    16884.92400\n",
              "1     1725.55230\n",
              "2     4449.46200\n",
              "3    21984.47061\n",
              "4     3866.85520\n",
              "Name: charges, dtype: float64"
            ]
          },
          "metadata": {},
          "execution_count": 26
        }
      ]
    },
    {
      "cell_type": "code",
      "metadata": {
        "colab": {
          "base_uri": "https://localhost:8080/"
        },
        "id": "HGmYQGCUOSOA",
        "outputId": "1ee2a198-c0e3-40cb-8c8c-5bfc319e55ac"
      },
      "source": [
        "# Create training and test \n",
        "from sklearn.model_selection import train_test_split\n",
        "\n",
        "X_train, X_test, y_train, y_test = train_test_split(X, y, test_size=0.2, random_state=42)\n",
        "\n",
        "len(X), len(X_train), len(X_test)"
      ],
      "execution_count": 29,
      "outputs": [
        {
          "output_type": "execute_result",
          "data": {
            "text/plain": [
              "(1338, 1070, 268)"
            ]
          },
          "metadata": {},
          "execution_count": 29
        }
      ]
    },
    {
      "cell_type": "markdown",
      "metadata": {
        "id": "WPePTLzrVJBR"
      },
      "source": [
        "**Build a neural network**"
      ]
    },
    {
      "cell_type": "code",
      "metadata": {
        "colab": {
          "base_uri": "https://localhost:8080/"
        },
        "id": "v2lNbPNLVOGt",
        "outputId": "ae9339a3-0b53-495c-9238-4f5d4f4d9a5a"
      },
      "source": [
        "tf.random.set_seed(42)\n",
        "\n",
        "# 1. create a model\n",
        "insurance_model = tf.keras.Sequential([\n",
        "                                       tf.keras.layers.Dense(10),\n",
        "                                       tf.keras.layers.Dense(1)\n",
        "])\n",
        "\n",
        "# 2. compile model\n",
        "insurance_model.compile(loss=tf.keras.losses.mae,\n",
        "                        optimizer=tf.keras.optimizers.SGD(),\n",
        "                        metrics=['mae'])\n",
        "# 3. fit the model\n",
        "insurance_model.fit(X_train, y_train, epochs=100)"
      ],
      "execution_count": 45,
      "outputs": [
        {
          "output_type": "stream",
          "name": "stdout",
          "text": [
            "Epoch 1/100\n",
            "34/34 [==============================] - 0s 1ms/step - loss: 8637.1006 - mae: 8637.1006\n",
            "Epoch 2/100\n",
            "34/34 [==============================] - 0s 1ms/step - loss: 7886.7759 - mae: 7886.7759\n",
            "Epoch 3/100\n",
            "34/34 [==============================] - 0s 1ms/step - loss: 7558.1470 - mae: 7558.1470\n",
            "Epoch 4/100\n",
            "34/34 [==============================] - 0s 1ms/step - loss: 7792.0220 - mae: 7792.0220\n",
            "Epoch 5/100\n",
            "34/34 [==============================] - 0s 1ms/step - loss: 7748.3887 - mae: 7748.3887\n",
            "Epoch 6/100\n",
            "34/34 [==============================] - 0s 1ms/step - loss: 7595.3940 - mae: 7595.3940\n",
            "Epoch 7/100\n",
            "34/34 [==============================] - 0s 1ms/step - loss: 7589.9844 - mae: 7589.9844\n",
            "Epoch 8/100\n",
            "34/34 [==============================] - 0s 1ms/step - loss: 7698.5576 - mae: 7698.5576\n",
            "Epoch 9/100\n",
            "34/34 [==============================] - 0s 2ms/step - loss: 7496.7778 - mae: 7496.7778\n",
            "Epoch 10/100\n",
            "34/34 [==============================] - 0s 2ms/step - loss: 7493.1743 - mae: 7493.1743\n",
            "Epoch 11/100\n",
            "34/34 [==============================] - 0s 1ms/step - loss: 7769.7295 - mae: 7769.7295\n",
            "Epoch 12/100\n",
            "34/34 [==============================] - 0s 2ms/step - loss: 7706.9028 - mae: 7706.9028\n",
            "Epoch 13/100\n",
            "34/34 [==============================] - 0s 2ms/step - loss: 7687.7231 - mae: 7687.7231\n",
            "Epoch 14/100\n",
            "34/34 [==============================] - 0s 2ms/step - loss: 7689.9004 - mae: 7689.9004\n",
            "Epoch 15/100\n",
            "34/34 [==============================] - 0s 1ms/step - loss: 7393.5327 - mae: 7393.5327\n",
            "Epoch 16/100\n",
            "34/34 [==============================] - 0s 2ms/step - loss: 7780.6987 - mae: 7780.6987\n",
            "Epoch 17/100\n",
            "34/34 [==============================] - 0s 2ms/step - loss: 7578.5098 - mae: 7578.5098\n",
            "Epoch 18/100\n",
            "34/34 [==============================] - 0s 1ms/step - loss: 7750.8354 - mae: 7750.8354\n",
            "Epoch 19/100\n",
            "34/34 [==============================] - 0s 1ms/step - loss: 7739.2144 - mae: 7739.2144\n",
            "Epoch 20/100\n",
            "34/34 [==============================] - 0s 1ms/step - loss: 7875.0654 - mae: 7875.0654\n",
            "Epoch 21/100\n",
            "34/34 [==============================] - 0s 2ms/step - loss: 7466.6768 - mae: 7466.6768\n",
            "Epoch 22/100\n",
            "34/34 [==============================] - 0s 1ms/step - loss: 7941.2329 - mae: 7941.2329\n",
            "Epoch 23/100\n",
            "34/34 [==============================] - 0s 1ms/step - loss: 7640.2725 - mae: 7640.2725\n",
            "Epoch 24/100\n",
            "34/34 [==============================] - 0s 1ms/step - loss: 7539.2671 - mae: 7539.2671\n",
            "Epoch 25/100\n",
            "34/34 [==============================] - 0s 2ms/step - loss: 7619.9653 - mae: 7619.9653\n",
            "Epoch 26/100\n",
            "34/34 [==============================] - 0s 1ms/step - loss: 7644.1719 - mae: 7644.1719\n",
            "Epoch 27/100\n",
            "34/34 [==============================] - 0s 1ms/step - loss: 7709.0371 - mae: 7709.0371\n",
            "Epoch 28/100\n",
            "34/34 [==============================] - 0s 1ms/step - loss: 7366.8662 - mae: 7366.8662\n",
            "Epoch 29/100\n",
            "34/34 [==============================] - 0s 1ms/step - loss: 7444.3154 - mae: 7444.3154\n",
            "Epoch 30/100\n",
            "34/34 [==============================] - 0s 1ms/step - loss: 7616.4077 - mae: 7616.4077\n",
            "Epoch 31/100\n",
            "34/34 [==============================] - 0s 1ms/step - loss: 7686.3853 - mae: 7686.3853\n",
            "Epoch 32/100\n",
            "34/34 [==============================] - 0s 1ms/step - loss: 7548.0977 - mae: 7548.0977\n",
            "Epoch 33/100\n",
            "34/34 [==============================] - 0s 2ms/step - loss: 7501.5532 - mae: 7501.5532\n",
            "Epoch 34/100\n",
            "34/34 [==============================] - 0s 2ms/step - loss: 7363.4160 - mae: 7363.4160\n",
            "Epoch 35/100\n",
            "34/34 [==============================] - 0s 2ms/step - loss: 7295.4478 - mae: 7295.4478\n",
            "Epoch 36/100\n",
            "34/34 [==============================] - 0s 1ms/step - loss: 7569.8813 - mae: 7569.8813\n",
            "Epoch 37/100\n",
            "34/34 [==============================] - 0s 1ms/step - loss: 7548.1997 - mae: 7548.1997\n",
            "Epoch 38/100\n",
            "34/34 [==============================] - 0s 2ms/step - loss: 7424.3975 - mae: 7424.3975\n",
            "Epoch 39/100\n",
            "34/34 [==============================] - 0s 1ms/step - loss: 7529.7734 - mae: 7529.7734\n",
            "Epoch 40/100\n",
            "34/34 [==============================] - 0s 1ms/step - loss: 7467.3232 - mae: 7467.3232\n",
            "Epoch 41/100\n",
            "34/34 [==============================] - 0s 1ms/step - loss: 7635.9292 - mae: 7635.9292\n",
            "Epoch 42/100\n",
            "34/34 [==============================] - 0s 1ms/step - loss: 7536.8398 - mae: 7536.8398\n",
            "Epoch 43/100\n",
            "34/34 [==============================] - 0s 1ms/step - loss: 7616.5859 - mae: 7616.5859\n",
            "Epoch 44/100\n",
            "34/34 [==============================] - 0s 1ms/step - loss: 7439.4941 - mae: 7439.4941\n",
            "Epoch 45/100\n",
            "34/34 [==============================] - 0s 2ms/step - loss: 7538.0151 - mae: 7538.0151\n",
            "Epoch 46/100\n",
            "34/34 [==============================] - 0s 1ms/step - loss: 7415.1470 - mae: 7415.1470\n",
            "Epoch 47/100\n",
            "34/34 [==============================] - 0s 1ms/step - loss: 7420.6938 - mae: 7420.6938\n",
            "Epoch 48/100\n",
            "34/34 [==============================] - 0s 2ms/step - loss: 7509.9839 - mae: 7509.9839\n",
            "Epoch 49/100\n",
            "34/34 [==============================] - 0s 2ms/step - loss: 7541.1133 - mae: 7541.1133\n",
            "Epoch 50/100\n",
            "34/34 [==============================] - 0s 1ms/step - loss: 7467.8643 - mae: 7467.8643\n",
            "Epoch 51/100\n",
            "34/34 [==============================] - 0s 2ms/step - loss: 7389.3560 - mae: 7389.3560\n",
            "Epoch 52/100\n",
            "34/34 [==============================] - 0s 2ms/step - loss: 7499.7749 - mae: 7499.7749\n",
            "Epoch 53/100\n",
            "34/34 [==============================] - 0s 2ms/step - loss: 7523.9282 - mae: 7523.9282\n",
            "Epoch 54/100\n",
            "34/34 [==============================] - 0s 1ms/step - loss: 7243.3115 - mae: 7243.3115\n",
            "Epoch 55/100\n",
            "34/34 [==============================] - 0s 2ms/step - loss: 7429.5864 - mae: 7429.5864\n",
            "Epoch 56/100\n",
            "34/34 [==============================] - 0s 1ms/step - loss: 7313.3999 - mae: 7313.3999\n",
            "Epoch 57/100\n",
            "34/34 [==============================] - 0s 1ms/step - loss: 7526.3877 - mae: 7526.3877\n",
            "Epoch 58/100\n",
            "34/34 [==============================] - 0s 1ms/step - loss: 7542.2666 - mae: 7542.2666\n",
            "Epoch 59/100\n",
            "34/34 [==============================] - 0s 1ms/step - loss: 7576.9277 - mae: 7576.9277\n",
            "Epoch 60/100\n",
            "34/34 [==============================] - 0s 2ms/step - loss: 7546.4048 - mae: 7546.4048\n",
            "Epoch 61/100\n",
            "34/34 [==============================] - 0s 1ms/step - loss: 7351.2261 - mae: 7351.2261\n",
            "Epoch 62/100\n",
            "34/34 [==============================] - 0s 1ms/step - loss: 7302.1436 - mae: 7302.1436\n",
            "Epoch 63/100\n",
            "34/34 [==============================] - 0s 2ms/step - loss: 7393.0879 - mae: 7393.0879\n",
            "Epoch 64/100\n",
            "34/34 [==============================] - 0s 2ms/step - loss: 7442.2881 - mae: 7442.2881\n",
            "Epoch 65/100\n",
            "34/34 [==============================] - 0s 1ms/step - loss: 7492.6782 - mae: 7492.6782\n",
            "Epoch 66/100\n",
            "34/34 [==============================] - 0s 1ms/step - loss: 7561.9165 - mae: 7561.9165\n",
            "Epoch 67/100\n",
            "34/34 [==============================] - 0s 1ms/step - loss: 7340.5137 - mae: 7340.5137\n",
            "Epoch 68/100\n",
            "34/34 [==============================] - 0s 1ms/step - loss: 7496.0845 - mae: 7496.0845\n",
            "Epoch 69/100\n",
            "34/34 [==============================] - 0s 1ms/step - loss: 7617.0303 - mae: 7617.0303\n",
            "Epoch 70/100\n",
            "34/34 [==============================] - 0s 1ms/step - loss: 7641.1948 - mae: 7641.1948\n",
            "Epoch 71/100\n",
            "34/34 [==============================] - 0s 2ms/step - loss: 7084.2744 - mae: 7084.2744\n",
            "Epoch 72/100\n",
            "34/34 [==============================] - 0s 1ms/step - loss: 7240.4902 - mae: 7240.4902\n",
            "Epoch 73/100\n",
            "34/34 [==============================] - 0s 1ms/step - loss: 7283.4888 - mae: 7283.4888\n",
            "Epoch 74/100\n",
            "34/34 [==============================] - 0s 2ms/step - loss: 7335.5083 - mae: 7335.5083\n",
            "Epoch 75/100\n",
            "34/34 [==============================] - 0s 1ms/step - loss: 7275.6392 - mae: 7275.6392\n",
            "Epoch 76/100\n",
            "34/34 [==============================] - 0s 1ms/step - loss: 7313.1860 - mae: 7313.1860\n",
            "Epoch 77/100\n",
            "34/34 [==============================] - 0s 1ms/step - loss: 7485.7588 - mae: 7485.7588\n",
            "Epoch 78/100\n",
            "34/34 [==============================] - 0s 1ms/step - loss: 7352.2803 - mae: 7352.2803\n",
            "Epoch 79/100\n",
            "34/34 [==============================] - 0s 1ms/step - loss: 7520.5703 - mae: 7520.5703\n",
            "Epoch 80/100\n",
            "34/34 [==============================] - 0s 1ms/step - loss: 7279.3779 - mae: 7279.3779\n",
            "Epoch 81/100\n",
            "34/34 [==============================] - 0s 1ms/step - loss: 7273.8477 - mae: 7273.8477\n",
            "Epoch 82/100\n",
            "34/34 [==============================] - 0s 2ms/step - loss: 7176.5215 - mae: 7176.5215\n",
            "Epoch 83/100\n",
            "34/34 [==============================] - 0s 1ms/step - loss: 7425.6289 - mae: 7425.6289\n",
            "Epoch 84/100\n",
            "34/34 [==============================] - 0s 1ms/step - loss: 7403.1294 - mae: 7403.1294\n",
            "Epoch 85/100\n",
            "34/34 [==============================] - 0s 1ms/step - loss: 7356.0088 - mae: 7356.0088\n",
            "Epoch 86/100\n",
            "34/34 [==============================] - 0s 1ms/step - loss: 7484.7271 - mae: 7484.7271\n",
            "Epoch 87/100\n",
            "34/34 [==============================] - 0s 1ms/step - loss: 7217.6074 - mae: 7217.6074\n",
            "Epoch 88/100\n",
            "34/34 [==============================] - 0s 1ms/step - loss: 7261.0000 - mae: 7261.0000\n",
            "Epoch 89/100\n",
            "34/34 [==============================] - 0s 2ms/step - loss: 7134.1562 - mae: 7134.1562\n",
            "Epoch 90/100\n",
            "34/34 [==============================] - 0s 1ms/step - loss: 7083.4360 - mae: 7083.4360\n",
            "Epoch 91/100\n",
            "34/34 [==============================] - 0s 1ms/step - loss: 7254.1782 - mae: 7254.1782\n",
            "Epoch 92/100\n",
            "34/34 [==============================] - 0s 1ms/step - loss: 7268.7456 - mae: 7268.7456\n",
            "Epoch 93/100\n",
            "34/34 [==============================] - 0s 1ms/step - loss: 7470.5220 - mae: 7470.5220\n",
            "Epoch 94/100\n",
            "34/34 [==============================] - 0s 1ms/step - loss: 7210.9536 - mae: 7210.9536\n",
            "Epoch 95/100\n",
            "34/34 [==============================] - 0s 1ms/step - loss: 7395.6816 - mae: 7395.6816\n",
            "Epoch 96/100\n",
            "34/34 [==============================] - 0s 2ms/step - loss: 7328.0884 - mae: 7328.0884\n",
            "Epoch 97/100\n",
            "34/34 [==============================] - 0s 1ms/step - loss: 7230.4380 - mae: 7230.4380\n",
            "Epoch 98/100\n",
            "34/34 [==============================] - 0s 2ms/step - loss: 7261.3936 - mae: 7261.3936\n",
            "Epoch 99/100\n",
            "34/34 [==============================] - 0s 2ms/step - loss: 7342.5684 - mae: 7342.5684\n",
            "Epoch 100/100\n",
            "34/34 [==============================] - 0s 2ms/step - loss: 7106.1714 - mae: 7106.1714\n"
          ]
        },
        {
          "output_type": "execute_result",
          "data": {
            "text/plain": [
              "<keras.callbacks.History at 0x7ffa9727f450>"
            ]
          },
          "metadata": {},
          "execution_count": 45
        }
      ]
    },
    {
      "cell_type": "code",
      "metadata": {
        "colab": {
          "base_uri": "https://localhost:8080/"
        },
        "id": "aBEhRhLfWWpM",
        "outputId": "1daceb8f-b05f-4b3e-8e5b-85b7ae32d1a2"
      },
      "source": [
        "# Check the results of the insurance model on the test data\n",
        "\n",
        "insurance_model.evaluate(X_test, y_test)"
      ],
      "execution_count": 34,
      "outputs": [
        {
          "output_type": "stream",
          "name": "stdout",
          "text": [
            "9/9 [==============================] - 0s 2ms/step - loss: 7023.3291 - mae: 7023.3291\n"
          ]
        },
        {
          "output_type": "execute_result",
          "data": {
            "text/plain": [
              "[7023.3291015625, 7023.3291015625]"
            ]
          },
          "metadata": {},
          "execution_count": 34
        }
      ]
    },
    {
      "cell_type": "code",
      "metadata": {
        "colab": {
          "base_uri": "https://localhost:8080/"
        },
        "id": "2oV3O5XuXKRr",
        "outputId": "426d204b-209b-4684-a4c2-f9345070a2a3"
      },
      "source": [
        "y_train.median()"
      ],
      "execution_count": 35,
      "outputs": [
        {
          "output_type": "execute_result",
          "data": {
            "text/plain": [
              "9575.4421"
            ]
          },
          "metadata": {},
          "execution_count": 35
        }
      ]
    },
    {
      "cell_type": "code",
      "metadata": {
        "colab": {
          "base_uri": "https://localhost:8080/"
        },
        "id": "y6cytTxjXYEl",
        "outputId": "91c1967c-a998-4ec4-f0d0-28d972e55d1f"
      },
      "source": [
        "y_train.mean()"
      ],
      "execution_count": 36,
      "outputs": [
        {
          "output_type": "execute_result",
          "data": {
            "text/plain": [
              "13346.089736364489"
            ]
          },
          "metadata": {},
          "execution_count": 36
        }
      ]
    },
    {
      "cell_type": "markdown",
      "metadata": {
        "id": "hZaFPYauXd1w"
      },
      "source": [
        "### Experimenting\n",
        "\n",
        "This model is not performing too well, we should try and improve it."
      ]
    },
    {
      "cell_type": "markdown",
      "metadata": {
        "id": "DD2gR9yPfyzJ"
      },
      "source": [
        "**model_2**"
      ]
    },
    {
      "cell_type": "code",
      "metadata": {
        "colab": {
          "base_uri": "https://localhost:8080/"
        },
        "id": "UlhRNbezXyV0",
        "outputId": "e959b2bf-eef8-4fd3-8c2d-b7023ec829fd"
      },
      "source": [
        "tf.random.set_seed(42)\n",
        "\n",
        "# 1. Create model\n",
        "insurance_model_2 = tf.keras.Sequential([\n",
        "                                         tf.keras.layers.Dense(512, activation='relu'),\n",
        "                                         tf.keras.layers.Dense(10, activation='softmax'),\n",
        "                                       \n",
        "])\n",
        "\n",
        "# 2. Compile the model\n",
        "insurance_model_2.compile(loss=tf.keras.losses.mae,\n",
        "                          optimizer=tf.keras.optimizers.SGD(),\n",
        "                          metrics=['mae'])\n",
        "\n",
        "# 3. Fit the model\n",
        "\n",
        "insurance_model_2.fit(X_train, y_train, epochs=100)"
      ],
      "execution_count": 48,
      "outputs": [
        {
          "output_type": "stream",
          "name": "stdout",
          "text": [
            "Epoch 1/100\n",
            "34/34 [==============================] - 0s 2ms/step - loss: 13345.9893 - mae: 13345.9893\n",
            "Epoch 2/100\n",
            "34/34 [==============================] - 0s 2ms/step - loss: 13345.9902 - mae: 13345.9902\n",
            "Epoch 3/100\n",
            "34/34 [==============================] - 0s 2ms/step - loss: 13345.9893 - mae: 13345.9893\n",
            "Epoch 4/100\n",
            "34/34 [==============================] - 0s 2ms/step - loss: 13345.9893 - mae: 13345.9893\n",
            "Epoch 5/100\n",
            "34/34 [==============================] - 0s 2ms/step - loss: 13345.9893 - mae: 13345.9893\n",
            "Epoch 6/100\n",
            "34/34 [==============================] - 0s 2ms/step - loss: 13345.9893 - mae: 13345.9893\n",
            "Epoch 7/100\n",
            "34/34 [==============================] - 0s 2ms/step - loss: 13345.9883 - mae: 13345.9883\n",
            "Epoch 8/100\n",
            "34/34 [==============================] - 0s 2ms/step - loss: 13345.9893 - mae: 13345.9893\n",
            "Epoch 9/100\n",
            "34/34 [==============================] - 0s 2ms/step - loss: 13345.9893 - mae: 13345.9893\n",
            "Epoch 10/100\n",
            "34/34 [==============================] - 0s 2ms/step - loss: 13345.9893 - mae: 13345.9893\n",
            "Epoch 11/100\n",
            "34/34 [==============================] - 0s 2ms/step - loss: 13345.9893 - mae: 13345.9893\n",
            "Epoch 12/100\n",
            "34/34 [==============================] - 0s 2ms/step - loss: 13345.9902 - mae: 13345.9902\n",
            "Epoch 13/100\n",
            "34/34 [==============================] - 0s 2ms/step - loss: 13345.9893 - mae: 13345.9893\n",
            "Epoch 14/100\n",
            "34/34 [==============================] - 0s 2ms/step - loss: 13345.9893 - mae: 13345.9893\n",
            "Epoch 15/100\n",
            "34/34 [==============================] - 0s 2ms/step - loss: 13345.9893 - mae: 13345.9893\n",
            "Epoch 16/100\n",
            "34/34 [==============================] - 0s 2ms/step - loss: 13345.9873 - mae: 13345.9873\n",
            "Epoch 17/100\n",
            "34/34 [==============================] - 0s 2ms/step - loss: 13345.9902 - mae: 13345.9902\n",
            "Epoch 18/100\n",
            "34/34 [==============================] - 0s 2ms/step - loss: 13345.9883 - mae: 13345.9883\n",
            "Epoch 19/100\n",
            "34/34 [==============================] - 0s 2ms/step - loss: 13345.9902 - mae: 13345.9902\n",
            "Epoch 20/100\n",
            "34/34 [==============================] - 0s 2ms/step - loss: 13345.9883 - mae: 13345.9883\n",
            "Epoch 21/100\n",
            "34/34 [==============================] - 0s 2ms/step - loss: 13345.9902 - mae: 13345.9902\n",
            "Epoch 22/100\n",
            "34/34 [==============================] - 0s 2ms/step - loss: 13345.9902 - mae: 13345.9902\n",
            "Epoch 23/100\n",
            "34/34 [==============================] - 0s 2ms/step - loss: 13345.9883 - mae: 13345.9883\n",
            "Epoch 24/100\n",
            "34/34 [==============================] - 0s 2ms/step - loss: 13345.9912 - mae: 13345.9912\n",
            "Epoch 25/100\n",
            "34/34 [==============================] - 0s 2ms/step - loss: 13345.9893 - mae: 13345.9893\n",
            "Epoch 26/100\n",
            "34/34 [==============================] - 0s 2ms/step - loss: 13345.9883 - mae: 13345.9883\n",
            "Epoch 27/100\n",
            "34/34 [==============================] - 0s 2ms/step - loss: 13345.9893 - mae: 13345.9893\n",
            "Epoch 28/100\n",
            "34/34 [==============================] - 0s 2ms/step - loss: 13345.9893 - mae: 13345.9893\n",
            "Epoch 29/100\n",
            "34/34 [==============================] - 0s 2ms/step - loss: 13345.9902 - mae: 13345.9902\n",
            "Epoch 30/100\n",
            "34/34 [==============================] - 0s 2ms/step - loss: 13345.9893 - mae: 13345.9893\n",
            "Epoch 31/100\n",
            "34/34 [==============================] - 0s 2ms/step - loss: 13345.9893 - mae: 13345.9893\n",
            "Epoch 32/100\n",
            "34/34 [==============================] - 0s 2ms/step - loss: 13345.9893 - mae: 13345.9893\n",
            "Epoch 33/100\n",
            "34/34 [==============================] - 0s 2ms/step - loss: 13345.9902 - mae: 13345.9902\n",
            "Epoch 34/100\n",
            "34/34 [==============================] - 0s 2ms/step - loss: 13345.9893 - mae: 13345.9893\n",
            "Epoch 35/100\n",
            "34/34 [==============================] - 0s 2ms/step - loss: 13345.9883 - mae: 13345.9883\n",
            "Epoch 36/100\n",
            "34/34 [==============================] - 0s 1ms/step - loss: 13345.9893 - mae: 13345.9893\n",
            "Epoch 37/100\n",
            "34/34 [==============================] - 0s 2ms/step - loss: 13345.9902 - mae: 13345.9902\n",
            "Epoch 38/100\n",
            "34/34 [==============================] - 0s 2ms/step - loss: 13345.9893 - mae: 13345.9893\n",
            "Epoch 39/100\n",
            "34/34 [==============================] - 0s 2ms/step - loss: 13345.9902 - mae: 13345.9902\n",
            "Epoch 40/100\n",
            "34/34 [==============================] - 0s 2ms/step - loss: 13345.9893 - mae: 13345.9893\n",
            "Epoch 41/100\n",
            "34/34 [==============================] - 0s 2ms/step - loss: 13345.9893 - mae: 13345.9893\n",
            "Epoch 42/100\n",
            "34/34 [==============================] - 0s 2ms/step - loss: 13345.9883 - mae: 13345.9883\n",
            "Epoch 43/100\n",
            "34/34 [==============================] - 0s 2ms/step - loss: 13345.9893 - mae: 13345.9893\n",
            "Epoch 44/100\n",
            "34/34 [==============================] - 0s 2ms/step - loss: 13345.9902 - mae: 13345.9902\n",
            "Epoch 45/100\n",
            "34/34 [==============================] - 0s 2ms/step - loss: 13345.9893 - mae: 13345.9893\n",
            "Epoch 46/100\n",
            "34/34 [==============================] - 0s 2ms/step - loss: 13345.9902 - mae: 13345.9902\n",
            "Epoch 47/100\n",
            "34/34 [==============================] - 0s 2ms/step - loss: 13345.9902 - mae: 13345.9902\n",
            "Epoch 48/100\n",
            "34/34 [==============================] - 0s 1ms/step - loss: 13345.9912 - mae: 13345.9912\n",
            "Epoch 49/100\n",
            "34/34 [==============================] - 0s 2ms/step - loss: 13345.9893 - mae: 13345.9893\n",
            "Epoch 50/100\n",
            "34/34 [==============================] - 0s 2ms/step - loss: 13345.9893 - mae: 13345.9893\n",
            "Epoch 51/100\n",
            "34/34 [==============================] - 0s 2ms/step - loss: 13345.9893 - mae: 13345.9893\n",
            "Epoch 52/100\n",
            "34/34 [==============================] - 0s 2ms/step - loss: 13345.9893 - mae: 13345.9893\n",
            "Epoch 53/100\n",
            "34/34 [==============================] - 0s 2ms/step - loss: 13345.9912 - mae: 13345.9912\n",
            "Epoch 54/100\n",
            "34/34 [==============================] - 0s 1ms/step - loss: 13345.9893 - mae: 13345.9893\n",
            "Epoch 55/100\n",
            "34/34 [==============================] - 0s 2ms/step - loss: 13345.9902 - mae: 13345.9902\n",
            "Epoch 56/100\n",
            "34/34 [==============================] - 0s 2ms/step - loss: 13345.9893 - mae: 13345.9893\n",
            "Epoch 57/100\n",
            "34/34 [==============================] - 0s 2ms/step - loss: 13345.9893 - mae: 13345.9893\n",
            "Epoch 58/100\n",
            "34/34 [==============================] - 0s 2ms/step - loss: 13345.9893 - mae: 13345.9893\n",
            "Epoch 59/100\n",
            "34/34 [==============================] - 0s 2ms/step - loss: 13345.9912 - mae: 13345.9912\n",
            "Epoch 60/100\n",
            "34/34 [==============================] - 0s 2ms/step - loss: 13345.9902 - mae: 13345.9902\n",
            "Epoch 61/100\n",
            "34/34 [==============================] - 0s 2ms/step - loss: 13345.9902 - mae: 13345.9902\n",
            "Epoch 62/100\n",
            "34/34 [==============================] - 0s 2ms/step - loss: 13345.9893 - mae: 13345.9893\n",
            "Epoch 63/100\n",
            "34/34 [==============================] - 0s 2ms/step - loss: 13345.9912 - mae: 13345.9912\n",
            "Epoch 64/100\n",
            "34/34 [==============================] - 0s 2ms/step - loss: 13345.9912 - mae: 13345.9912\n",
            "Epoch 65/100\n",
            "34/34 [==============================] - 0s 1ms/step - loss: 13345.9902 - mae: 13345.9902\n",
            "Epoch 66/100\n",
            "34/34 [==============================] - 0s 2ms/step - loss: 13345.9883 - mae: 13345.9883\n",
            "Epoch 67/100\n",
            "34/34 [==============================] - 0s 2ms/step - loss: 13345.9893 - mae: 13345.9893\n",
            "Epoch 68/100\n",
            "34/34 [==============================] - 0s 2ms/step - loss: 13345.9893 - mae: 13345.9893\n",
            "Epoch 69/100\n",
            "34/34 [==============================] - 0s 1ms/step - loss: 13345.9902 - mae: 13345.9902\n",
            "Epoch 70/100\n",
            "34/34 [==============================] - 0s 2ms/step - loss: 13345.9902 - mae: 13345.9902\n",
            "Epoch 71/100\n",
            "34/34 [==============================] - 0s 2ms/step - loss: 13345.9893 - mae: 13345.9893\n",
            "Epoch 72/100\n",
            "34/34 [==============================] - 0s 2ms/step - loss: 13345.9912 - mae: 13345.9912\n",
            "Epoch 73/100\n",
            "34/34 [==============================] - 0s 2ms/step - loss: 13345.9893 - mae: 13345.9893\n",
            "Epoch 74/100\n",
            "34/34 [==============================] - 0s 2ms/step - loss: 13345.9893 - mae: 13345.9893\n",
            "Epoch 75/100\n",
            "34/34 [==============================] - 0s 2ms/step - loss: 13345.9893 - mae: 13345.9893\n",
            "Epoch 76/100\n",
            "34/34 [==============================] - 0s 2ms/step - loss: 13345.9893 - mae: 13345.9893\n",
            "Epoch 77/100\n",
            "34/34 [==============================] - 0s 2ms/step - loss: 13345.9912 - mae: 13345.9912\n",
            "Epoch 78/100\n",
            "34/34 [==============================] - 0s 2ms/step - loss: 13345.9893 - mae: 13345.9893\n",
            "Epoch 79/100\n",
            "34/34 [==============================] - 0s 2ms/step - loss: 13345.9902 - mae: 13345.9902\n",
            "Epoch 80/100\n",
            "34/34 [==============================] - 0s 2ms/step - loss: 13345.9893 - mae: 13345.9893\n",
            "Epoch 81/100\n",
            "34/34 [==============================] - 0s 2ms/step - loss: 13345.9902 - mae: 13345.9902\n",
            "Epoch 82/100\n",
            "34/34 [==============================] - 0s 2ms/step - loss: 13345.9893 - mae: 13345.9893\n",
            "Epoch 83/100\n",
            "34/34 [==============================] - 0s 2ms/step - loss: 13345.9893 - mae: 13345.9893\n",
            "Epoch 84/100\n",
            "34/34 [==============================] - 0s 2ms/step - loss: 13345.9893 - mae: 13345.9893\n",
            "Epoch 85/100\n",
            "34/34 [==============================] - 0s 2ms/step - loss: 13345.9922 - mae: 13345.9922\n",
            "Epoch 86/100\n",
            "34/34 [==============================] - 0s 2ms/step - loss: 13345.9893 - mae: 13345.9893\n",
            "Epoch 87/100\n",
            "34/34 [==============================] - 0s 2ms/step - loss: 13345.9893 - mae: 13345.9893\n",
            "Epoch 88/100\n",
            "34/34 [==============================] - 0s 1ms/step - loss: 13345.9893 - mae: 13345.9893\n",
            "Epoch 89/100\n",
            "34/34 [==============================] - 0s 2ms/step - loss: 13345.9893 - mae: 13345.9893\n",
            "Epoch 90/100\n",
            "34/34 [==============================] - 0s 2ms/step - loss: 13345.9922 - mae: 13345.9922\n",
            "Epoch 91/100\n",
            "34/34 [==============================] - 0s 2ms/step - loss: 13345.9902 - mae: 13345.9902\n",
            "Epoch 92/100\n",
            "34/34 [==============================] - 0s 2ms/step - loss: 13345.9883 - mae: 13345.9883\n",
            "Epoch 93/100\n",
            "34/34 [==============================] - 0s 2ms/step - loss: 13345.9893 - mae: 13345.9893\n",
            "Epoch 94/100\n",
            "34/34 [==============================] - 0s 2ms/step - loss: 13345.9893 - mae: 13345.9893\n",
            "Epoch 95/100\n",
            "34/34 [==============================] - 0s 2ms/step - loss: 13345.9902 - mae: 13345.9902\n",
            "Epoch 96/100\n",
            "34/34 [==============================] - 0s 2ms/step - loss: 13345.9893 - mae: 13345.9893\n",
            "Epoch 97/100\n",
            "34/34 [==============================] - 0s 2ms/step - loss: 13345.9893 - mae: 13345.9893\n",
            "Epoch 98/100\n",
            "34/34 [==============================] - 0s 2ms/step - loss: 13345.9893 - mae: 13345.9893\n",
            "Epoch 99/100\n",
            "34/34 [==============================] - 0s 2ms/step - loss: 13345.9902 - mae: 13345.9902\n",
            "Epoch 100/100\n",
            "34/34 [==============================] - 0s 1ms/step - loss: 13345.9902 - mae: 13345.9902\n"
          ]
        },
        {
          "output_type": "execute_result",
          "data": {
            "text/plain": [
              "<keras.callbacks.History at 0x7ffaa0b5a9d0>"
            ]
          },
          "metadata": {},
          "execution_count": 48
        }
      ]
    },
    {
      "cell_type": "code",
      "metadata": {
        "colab": {
          "base_uri": "https://localhost:8080/"
        },
        "id": "TqGb5R4Fg7Hy",
        "outputId": "c55b4c33-dd02-4f2b-d7ca-f1faaf9eb05b"
      },
      "source": [
        "insurance_model_2.evaluate(X_test, y_test)"
      ],
      "execution_count": 49,
      "outputs": [
        {
          "output_type": "stream",
          "name": "stdout",
          "text": [
            "9/9 [==============================] - 0s 2ms/step - loss: 12968.2168 - mae: 12968.2168\n"
          ]
        },
        {
          "output_type": "execute_result",
          "data": {
            "text/plain": [
              "[12968.216796875, 12968.216796875]"
            ]
          },
          "metadata": {},
          "execution_count": 49
        }
      ]
    },
    {
      "cell_type": "markdown",
      "metadata": {
        "id": "ksljUYh5iEjw"
      },
      "source": [
        "**model_3**"
      ]
    },
    {
      "cell_type": "code",
      "metadata": {
        "colab": {
          "base_uri": "https://localhost:8080/"
        },
        "id": "efZZY_KCj4vM",
        "outputId": "2bc0c324-3623-4b7a-ab63-b63fb221a7d4"
      },
      "source": [
        "tf.random.set_seed(42)\n",
        "\n",
        "# 1 Create model\n",
        "\n",
        "model_3 = tf.keras.Sequential([\n",
        "                               tf.keras.layers.Dense(100),\n",
        "                               tf.keras.layers.Dense(10),\n",
        "                               tf.keras.layers.Dense(1)\n",
        "])\n",
        "\n",
        "# 2. Compile the model\n",
        "\n",
        "model_3.compile(loss=tf.keras.losses.mae,\n",
        "                optimizer=tf.keras.optimizers.SGD(),\n",
        "                metrics=['mae'])\n",
        "\n",
        "# 3. Fit the model\n",
        "\n",
        "model_3.fit(X_train, y_train, epochs=100, verbose=0)"
      ],
      "execution_count": 50,
      "outputs": [
        {
          "output_type": "execute_result",
          "data": {
            "text/plain": [
              "<keras.callbacks.History at 0x7ffaa0b76d10>"
            ]
          },
          "metadata": {},
          "execution_count": 50
        }
      ]
    },
    {
      "cell_type": "code",
      "metadata": {
        "colab": {
          "base_uri": "https://localhost:8080/"
        },
        "id": "kqfKP1I0laPQ",
        "outputId": "f4b33088-a257-4f53-9a1b-27b4b96a7d2d"
      },
      "source": [
        "model_3.evaluate(X_test, y_test)"
      ],
      "execution_count": 51,
      "outputs": [
        {
          "output_type": "stream",
          "name": "stdout",
          "text": [
            "9/9 [==============================] - 0s 2ms/step - loss: nan - mae: nan\n"
          ]
        },
        {
          "output_type": "execute_result",
          "data": {
            "text/plain": [
              "[nan, nan]"
            ]
          },
          "metadata": {},
          "execution_count": 51
        }
      ]
    },
    {
      "cell_type": "markdown",
      "metadata": {
        "id": "zpCp7soGlo7E"
      },
      "source": [
        "**model_4** \n",
        "\n",
        "* Using the Adam optimizer"
      ]
    },
    {
      "cell_type": "code",
      "metadata": {
        "colab": {
          "base_uri": "https://localhost:8080/"
        },
        "id": "f5y4iY2_mRL0",
        "outputId": "845b1bf7-7b0d-4999-8ef7-def92ed3d8d0"
      },
      "source": [
        "tf.random.set_seed(42)\n",
        "\n",
        "# 1 Create model\n",
        "\n",
        "model_4 = tf.keras.Sequential([\n",
        "                               tf.keras.layers.Dense(100),\n",
        "                               tf.keras.layers.Dense(10),\n",
        "                               tf.keras.layers.Dense(1)\n",
        "])\n",
        "\n",
        "# 2. Compile the model\n",
        "\n",
        "model_4.compile(loss=tf.keras.losses.mae,\n",
        "                optimizer=tf.keras.optimizers.Adam(),\n",
        "                metrics=['mae'])\n",
        "\n",
        "# 3. Fit the model\n",
        "\n",
        "model_4.fit(X_train, y_train, epochs=100, verbose=0)"
      ],
      "execution_count": 52,
      "outputs": [
        {
          "output_type": "execute_result",
          "data": {
            "text/plain": [
              "<keras.callbacks.History at 0x7ffaa08f9b50>"
            ]
          },
          "metadata": {},
          "execution_count": 52
        }
      ]
    },
    {
      "cell_type": "code",
      "metadata": {
        "colab": {
          "base_uri": "https://localhost:8080/"
        },
        "id": "ZfHNEXwrmYiu",
        "outputId": "fd3fb700-6757-4589-f302-d656b8109ac0"
      },
      "source": [
        "model_4.evaluate(X_test, y_test)"
      ],
      "execution_count": 53,
      "outputs": [
        {
          "output_type": "stream",
          "name": "stdout",
          "text": [
            "9/9 [==============================] - 0s 3ms/step - loss: 4924.3477 - mae: 4924.3477\n"
          ]
        },
        {
          "output_type": "execute_result",
          "data": {
            "text/plain": [
              "[4924.34765625, 4924.34765625]"
            ]
          },
          "metadata": {},
          "execution_count": 53
        }
      ]
    },
    {
      "cell_type": "markdown",
      "metadata": {
        "id": "S8dzlOjumetW"
      },
      "source": [
        "**model_5**\n",
        "* `model_4` but training for longer (200 epochs)"
      ]
    },
    {
      "cell_type": "code",
      "metadata": {
        "id": "DxlWKp7enK8s"
      },
      "source": [
        "tf.random.set_seed(42)\n",
        "\n",
        "# 1 Create model\n",
        "\n",
        "model_5 = tf.keras.Sequential([\n",
        "                               tf.keras.layers.Dense(100),\n",
        "                               tf.keras.layers.Dense(10),\n",
        "                               tf.keras.layers.Dense(1)\n",
        "])\n",
        "\n",
        "# 2. Compile the model\n",
        "\n",
        "model_5.compile(loss=tf.keras.losses.mae,\n",
        "                optimizer=tf.keras.optimizers.Adam(),\n",
        "                metrics=['mae'])\n",
        "\n",
        "# 3. Fit the model\n",
        "\n",
        "history = model_5.fit(X_train, y_train, epochs=200, verbose=0)"
      ],
      "execution_count": 57,
      "outputs": []
    },
    {
      "cell_type": "code",
      "metadata": {
        "colab": {
          "base_uri": "https://localhost:8080/"
        },
        "id": "gypfrR2onpm-",
        "outputId": "16f082e7-e8a2-46a7-f1cc-20a312a7781b"
      },
      "source": [
        "model_5.evaluate(X_train, y_train)"
      ],
      "execution_count": 58,
      "outputs": [
        {
          "output_type": "stream",
          "name": "stdout",
          "text": [
            "34/34 [==============================] - 0s 1ms/step - loss: 3665.3799 - mae: 3665.3799\n"
          ]
        },
        {
          "output_type": "execute_result",
          "data": {
            "text/plain": [
              "[3665.3798828125, 3665.3798828125]"
            ]
          },
          "metadata": {},
          "execution_count": 58
        }
      ]
    },
    {
      "cell_type": "markdown",
      "metadata": {
        "id": "rwuiDSBnn9mi"
      },
      "source": [
        "### Plot history (also known as a training curve or loss curve)  "
      ]
    },
    {
      "cell_type": "code",
      "metadata": {
        "colab": {
          "base_uri": "https://localhost:8080/",
          "height": 297
        },
        "id": "TbUoLyI5pBRl",
        "outputId": "34b98b63-8815-4131-dfdf-1e6a0af230a0"
      },
      "source": [
        "pd.DataFrame(history.history).plot()\n",
        "plt.ylabel(\"loss\")\n",
        "plt.xlabel(\"epochs\")"
      ],
      "execution_count": 59,
      "outputs": [
        {
          "output_type": "execute_result",
          "data": {
            "text/plain": [
              "Text(0.5, 0, 'epochs')"
            ]
          },
          "metadata": {},
          "execution_count": 59
        },
        {
          "output_type": "display_data",
          "data": {
            "image/png": "[encoded data removed]",
            "text/plain": [
              "<Figure size 432x288 with 1 Axes>"
            ]
          },
          "metadata": {
            "needs_background": "light"
          }
        }
      ]
    },
    {
      "cell_type": "markdown",
      "metadata": {
        "id": "hODUEDvFpWmP"
      },
      "source": [
        "**model_6**\n",
        "* `model_5` but with more epochs (300) "
      ]
    },
    {
      "cell_type": "code",
      "metadata": {
        "id": "mSGxau7qqFye"
      },
      "source": [
        "tf.random.set_seed(42)\n",
        "\n",
        "# 1 Create model\n",
        "\n",
        "model_6 = tf.keras.Sequential([\n",
        "                               tf.keras.layers.Dense(100),\n",
        "                               tf.keras.layers.Dense(10),\n",
        "                               tf.keras.layers.Dense(1)\n",
        "])\n",
        "\n",
        "# 2. Compile the model\n",
        "\n",
        "model_6.compile(loss=tf.keras.losses.mae,\n",
        "                optimizer=tf.keras.optimizers.Adam(),\n",
        "                metrics=['mae'])\n",
        "\n",
        "# 3. Fit the model\n",
        "\n",
        "history = model_6.fit(X_train, y_train, epochs=300, verbose=0)"
      ],
      "execution_count": 60,
      "outputs": []
    },
    {
      "cell_type": "code",
      "metadata": {
        "colab": {
          "base_uri": "https://localhost:8080/"
        },
        "id": "RyC0frsMqLi0",
        "outputId": "29d8cff1-50a5-44c4-a1d8-bb6402c421a8"
      },
      "source": [
        "model_6.evaluate(X_test, y_test)"
      ],
      "execution_count": 61,
      "outputs": [
        {
          "output_type": "stream",
          "name": "stdout",
          "text": [
            "9/9 [==============================] - 0s 2ms/step - loss: 3215.8608 - mae: 3215.8608\n"
          ]
        },
        {
          "output_type": "execute_result",
          "data": {
            "text/plain": [
              "[3215.86083984375, 3215.86083984375]"
            ]
          },
          "metadata": {},
          "execution_count": 61
        }
      ]
    },
    {
      "cell_type": "code",
      "metadata": {
        "colab": {
          "base_uri": "https://localhost:8080/",
          "height": 297
        },
        "id": "JG_o___GqVyd",
        "outputId": "eae8fde2-04c3-4ae9-b8e8-c1081a60857c"
      },
      "source": [
        "pd.DataFrame(history.history).plot()\n",
        "plt.ylabel(\"loss\")\n",
        "plt.xlabel(\"epochs\")"
      ],
      "execution_count": 63,
      "outputs": [
        {
          "output_type": "execute_result",
          "data": {
            "text/plain": [
              "Text(0.5, 0, 'epochs')"
            ]
          },
          "metadata": {},
          "execution_count": 63
        },
        {
          "output_type": "display_data",
          "data": {
            "image/png": "[encoded data removed]",
            "text/plain": [
              "<Figure size 432x288 with 1 Axes>"
            ]
          },
          "metadata": {
            "needs_background": "light"
          }
        }
      ]
    },
    {
      "cell_type": "markdown",
      "metadata": {
        "id": "ypCU6Njfqmsh"
      },
      "source": [
        "🤔**Question:** How long should you train for? 🤔\n",
        "\n",
        "It depends. Really... it depends on the problem you are working on. \n",
        "However, many people have asked this question before... so TensorFlow\n",
        "has a solution. \n",
        "It is called the [EarlyStopping Callback](https://www.tensorflow.org/api_docs/python/tf/keras/callbacks/EarlyStopping), \n",
        "which is a TensorFlow component you may add to your model to stop training once it has stopped improving on a certain metric."
      ]
    },
    {
      "cell_type": "markdown",
      "metadata": {
        "id": "jAhknK5EtCue"
      },
      "source": [
        "**model_7**\n",
        "* `model_6` with a `EarlyStopping callback`"
      ]
    },
    {
      "cell_type": "code",
      "metadata": {
        "id": "D_8HCc-Qtqbz"
      },
      "source": [
        "# Set random seed\n",
        "tf.random.set_seed(42)\n",
        "\n",
        "callback = tf.keras.callbacks.EarlyStopping(monitor='loss', patience=10)\n",
        "# This callback will stop the training when there is no improvement in\n",
        "# the loss for ten consecutive epochs.\n",
        "\n",
        "# 1. Create the model\n",
        "model_7 = tf.keras.Sequential([\n",
        "                               tf.keras.layers.Dense(100),\n",
        "                               tf.keras.layers.Dense(10),\n",
        "                               tf.keras.layers.Dense(1)\n",
        "])\n",
        "\n",
        "# 2. Compile the model\n",
        "model_7.compile(loss=tf.keras.losses.mae,\n",
        "                optimizer=tf.keras.optimizers.Adam(),\n",
        "                metrics=['mae'])\n",
        "\n",
        "# 3. Fit the model \n",
        "history = model_7.fit(X_train, y_train, epochs=1000, callbacks=[callback], verbose=0)"
      ],
      "execution_count": 68,
      "outputs": []
    },
    {
      "cell_type": "code",
      "metadata": {
        "colab": {
          "base_uri": "https://localhost:8080/"
        },
        "id": "B-VDlCS_u9oX",
        "outputId": "3955c900-690c-4c25-83b9-da02fe7f82af"
      },
      "source": [
        "model_7.evaluate(X_test, y_test)"
      ],
      "execution_count": 69,
      "outputs": [
        {
          "output_type": "stream",
          "name": "stdout",
          "text": [
            "9/9 [==============================] - 0s 2ms/step - loss: 3169.6179 - mae: 3169.6179\n"
          ]
        },
        {
          "output_type": "execute_result",
          "data": {
            "text/plain": [
              "[3169.617919921875, 3169.617919921875]"
            ]
          },
          "metadata": {},
          "execution_count": 69
        }
      ]
    },
    {
      "cell_type": "code",
      "metadata": {
        "colab": {
          "base_uri": "https://localhost:8080/",
          "height": 297
        },
        "id": "AOFpnbpyvVls",
        "outputId": "240d0523-509e-46db-88a5-3b5f631b115e"
      },
      "source": [
        "pd.DataFrame(history.history).plot()\n",
        "plt.ylabel(\"loss\")\n",
        "plt.xlabel(\"epochs\")"
      ],
      "execution_count": 70,
      "outputs": [
        {
          "output_type": "execute_result",
          "data": {
            "text/plain": [
              "Text(0.5, 0, 'epochs')"
            ]
          },
          "metadata": {},
          "execution_count": 70
        },
        {
          "output_type": "display_data",
          "data": {
            "image/png": "[encoded data removed]",
            "text/plain": [
              "<Figure size 432x288 with 1 Axes>"
            ]
          },
          "metadata": {
            "needs_background": "light"
          }
        }
      ]
    },
    {
      "cell_type": "markdown",
      "metadata": {
        "id": "0J74kgbBviiQ"
      },
      "source": [
        "## Preprocessing data (normalisation and standardisation)"
      ]
    },
    {
      "cell_type": "markdown",
      "metadata": {
        "id": "mvbsTy7g3Ujt"
      },
      "source": [
        "### Steps in modelling with TensorFlow:\n",
        "\n",
        "1. Turn all data into numbers(neural networks can not handle strings).\n",
        "2. Make sure all the tensors are of the right shape.\n",
        "3. Scale features (normalise or standardise, neural networks tend to prefer normalised)\n",
        "\n",
        "**Normalisation:**\n",
        "\n",
        "Normalization is a technique often applied as part of data preparation for machine learning. The goal of normalization is **to change the values of numeric columns in the dataset to use a common scale**, without distorting differences in the ranges of values or losing information.\n"
      ]
    },
    {
      "cell_type": "markdown",
      "metadata": {
        "id": "yBuQNNR156Nw"
      },
      "source": [
        "Explore the current data"
      ]
    },
    {
      "cell_type": "code",
      "metadata": {
        "colab": {
          "base_uri": "https://localhost:8080/",
          "height": 204
        },
        "id": "-U-SH72_6JGK",
        "outputId": "7eec211d-4eee-4896-c4db-3fa6672d0ca2"
      },
      "source": [
        "X.head()"
      ],
      "execution_count": 72,
      "outputs": [
        {
          "output_type": "execute_result",
          "data": {
            "text/html": [
              "<div>\n",
              "<style scoped>\n",
              "    .dataframe tbody tr th:only-of-type {\n",
              "        vertical-align: middle;\n",
              "    }\n",
              "\n",
              "    .dataframe tbody tr th {\n",
              "        vertical-align: top;\n",
              "    }\n",
              "\n",
              "    .dataframe thead th {\n",
              "        text-align: right;\n",
              "    }\n",
              "</style>\n",
              "<table border=\"1\" class=\"dataframe\">\n",
              "  <thead>\n",
              "    <tr style=\"text-align: right;\">\n",
              "      <th></th>\n",
              "      <th>age</th>\n",
              "      <th>bmi</th>\n",
              "      <th>children</th>\n",
              "      <th>sex_female</th>\n",
              "      <th>sex_male</th>\n",
              "      <th>smoker_no</th>\n",
              "      <th>smoker_yes</th>\n",
              "      <th>region_northeast</th>\n",
              "      <th>region_northwest</th>\n",
              "      <th>region_southeast</th>\n",
              "      <th>region_southwest</th>\n",
              "    </tr>\n",
              "  </thead>\n",
              "  <tbody>\n",
              "    <tr>\n",
              "      <th>0</th>\n",
              "      <td>19</td>\n",
              "      <td>27.900</td>\n",
              "      <td>0</td>\n",
              "      <td>1</td>\n",
              "      <td>0</td>\n",
              "      <td>0</td>\n",
              "      <td>1</td>\n",
              "      <td>0</td>\n",
              "      <td>0</td>\n",
              "      <td>0</td>\n",
              "      <td>1</td>\n",
              "    </tr>\n",
              "    <tr>\n",
              "      <th>1</th>\n",
              "      <td>18</td>\n",
              "      <td>33.770</td>\n",
              "      <td>1</td>\n",
              "      <td>0</td>\n",
              "      <td>1</td>\n",
              "      <td>1</td>\n",
              "      <td>0</td>\n",
              "      <td>0</td>\n",
              "      <td>0</td>\n",
              "      <td>1</td>\n",
              "      <td>0</td>\n",
              "    </tr>\n",
              "    <tr>\n",
              "      <th>2</th>\n",
              "      <td>28</td>\n",
              "      <td>33.000</td>\n",
              "      <td>3</td>\n",
              "      <td>0</td>\n",
              "      <td>1</td>\n",
              "      <td>1</td>\n",
              "      <td>0</td>\n",
              "      <td>0</td>\n",
              "      <td>0</td>\n",
              "      <td>1</td>\n",
              "      <td>0</td>\n",
              "    </tr>\n",
              "    <tr>\n",
              "      <th>3</th>\n",
              "      <td>33</td>\n",
              "      <td>22.705</td>\n",
              "      <td>0</td>\n",
              "      <td>0</td>\n",
              "      <td>1</td>\n",
              "      <td>1</td>\n",
              "      <td>0</td>\n",
              "      <td>0</td>\n",
              "      <td>1</td>\n",
              "      <td>0</td>\n",
              "      <td>0</td>\n",
              "    </tr>\n",
              "    <tr>\n",
              "      <th>4</th>\n",
              "      <td>32</td>\n",
              "      <td>28.880</td>\n",
              "      <td>0</td>\n",
              "      <td>0</td>\n",
              "      <td>1</td>\n",
              "      <td>1</td>\n",
              "      <td>0</td>\n",
              "      <td>0</td>\n",
              "      <td>1</td>\n",
              "      <td>0</td>\n",
              "      <td>0</td>\n",
              "    </tr>\n",
              "  </tbody>\n",
              "</table>\n",
              "</div>"
            ],
            "text/plain": [
              "   age     bmi  children  ...  region_northwest  region_southeast  region_southwest\n",
              "0   19  27.900         0  ...                 0                 0                 1\n",
              "1   18  33.770         1  ...                 0                 1                 0\n",
              "2   28  33.000         3  ...                 0                 1                 0\n",
              "3   33  22.705         0  ...                 1                 0                 0\n",
              "4   32  28.880         0  ...                 1                 0                 0\n",
              "\n",
              "[5 rows x 11 columns]"
            ]
          },
          "metadata": {},
          "execution_count": 72
        }
      ]
    },
    {
      "cell_type": "code",
      "metadata": {
        "colab": {
          "base_uri": "https://localhost:8080/",
          "height": 283
        },
        "id": "jFvCgMFX5-zT",
        "outputId": "e23e2956-9913-40ff-8332-867febe35b04"
      },
      "source": [
        "X['age'].plot(kind='hist')"
      ],
      "execution_count": 71,
      "outputs": [
        {
          "output_type": "execute_result",
          "data": {
            "text/plain": [
              "<matplotlib.axes._subplots.AxesSubplot at 0x7ffa9fbb3190>"
            ]
          },
          "metadata": {},
          "execution_count": 71
        },
        {
          "output_type": "display_data",
          "data": {
            "image/png": "[encoded data removed]",
            "text/plain": [
              "<Figure size 432x288 with 1 Axes>"
            ]
          },
          "metadata": {
            "needs_background": "light"
          }
        }
      ]
    },
    {
      "cell_type": "code",
      "metadata": {
        "colab": {
          "base_uri": "https://localhost:8080/",
          "height": 283
        },
        "id": "BHVe3L_v6Fxk",
        "outputId": "b83674b1-f987-4c53-f080-fbf10df412f2"
      },
      "source": [
        "X['bmi'].plot(kind='hist')"
      ],
      "execution_count": 73,
      "outputs": [
        {
          "output_type": "execute_result",
          "data": {
            "text/plain": [
              "<matplotlib.axes._subplots.AxesSubplot at 0x7ffa9fae3f90>"
            ]
          },
          "metadata": {},
          "execution_count": 73
        },
        {
          "output_type": "display_data",
          "data": {
            "image/png": "[encoded data removed]",
            "text/plain": [
              "<Figure size 432x288 with 1 Axes>"
            ]
          },
          "metadata": {
            "needs_background": "light"
          }
        }
      ]
    },
    {
      "cell_type": "code",
      "metadata": {
        "colab": {
          "base_uri": "https://localhost:8080/"
        },
        "id": "f9rRUcF26VsI",
        "outputId": "b360f683-10b0-4d08-c0c0-b4e71a8f6572"
      },
      "source": [
        "X['children'].value_counts()"
      ],
      "execution_count": 74,
      "outputs": [
        {
          "output_type": "execute_result",
          "data": {
            "text/plain": [
              "0    574\n",
              "1    324\n",
              "2    240\n",
              "3    157\n",
              "4     25\n",
              "5     18\n",
              "Name: children, dtype: int64"
            ]
          },
          "metadata": {},
          "execution_count": 74
        }
      ]
    },
    {
      "cell_type": "markdown",
      "metadata": {
        "id": "Gqu-zEgL6tBA"
      },
      "source": [
        "### Starting fresh"
      ]
    },
    {
      "cell_type": "code",
      "metadata": {
        "id": "QoxsqGjCBsVi"
      },
      "source": [
        "import tensorflow as tf\n",
        "import pandas as pd\n",
        "import matplotlib.pyplot as plt"
      ],
      "execution_count": 75,
      "outputs": []
    },
    {
      "cell_type": "code",
      "metadata": {
        "id": "vAKU2jL3BwUQ"
      },
      "source": [
        "insurance = pd.read_csv(\"https://raw.githubusercontent.com/stedy/Machine-Learning-with-R-datasets/master/insurance.csv\")"
      ],
      "execution_count": 76,
      "outputs": []
    },
    {
      "cell_type": "markdown",
      "metadata": {
        "id": "ZAPe7WqwB0F4"
      },
      "source": [
        "To prepare our data, we can use some classes in Scikit-Learn\n",
        "\n",
        "---\n",
        "\n"
      ]
    },
    {
      "cell_type": "code",
      "metadata": {
        "id": "vRu7SwwaEAb3"
      },
      "source": [
        "from sklearn.compose import make_column_transformer\n",
        "from sklearn.preprocessing import MinMaxScaler, OneHotEncoder\n",
        "from sklearn.model_selection import train_test_split"
      ],
      "execution_count": 79,
      "outputs": []
    },
    {
      "cell_type": "code",
      "metadata": {
        "id": "z2Fg5IMTEzhw"
      },
      "source": [
        "# Create a column transformer\n",
        "ct = make_column_transformer(\n",
        "    (MinMaxScaler(), ['age', 'bmi', 'children']), # Turn all values in these columns between 0 and 1\n",
        "    (OneHotEncoder(handle_unknown='ignore'), ['sex', 'smoker', 'region'])\n",
        ")\n",
        "\n",
        "# Create X & y values\n",
        "\n",
        "X = insurance.drop(\"charges\", axis=1)\n",
        "y = insurance[\"charges\"]\n",
        "\n",
        "# Build the train and test split\n",
        "\n",
        "X_train, X_test, y_train, y_test = train_test_split(X, y, test_size=0.2, random_state=42)\n",
        "\n",
        "# Fit the column transformer to the training data\n",
        "ct.fit(X_train)\n",
        "\n",
        "# Transform training and test data with normalisation (MinMaxScaler) and OneHotEncoder\n",
        "X_train_normal = ct.transform(X_train)\n",
        "X_test_normal = ct.transform(X_test)"
      ],
      "execution_count": 81,
      "outputs": []
    },
    {
      "cell_type": "markdown",
      "metadata": {
        "id": "ADpOtaqHILFV"
      },
      "source": [
        "What does our data look like now?\n",
        "\n"
      ]
    },
    {
      "cell_type": "code",
      "metadata": {
        "colab": {
          "base_uri": "https://localhost:8080/"
        },
        "id": "sNEMUChDIig6",
        "outputId": "930bb3bd-7d11-49ba-8f84-d45b4832d041"
      },
      "source": [
        "# original\n",
        "X_train.loc[0]"
      ],
      "execution_count": 83,
      "outputs": [
        {
          "output_type": "execute_result",
          "data": {
            "text/plain": [
              "age                19\n",
              "sex            female\n",
              "bmi              27.9\n",
              "children            0\n",
              "smoker            yes\n",
              "region      southwest\n",
              "Name: 0, dtype: object"
            ]
          },
          "metadata": {},
          "execution_count": 83
        }
      ]
    },
    {
      "cell_type": "code",
      "metadata": {
        "colab": {
          "base_uri": "https://localhost:8080/"
        },
        "id": "p4cK6Ji_InkQ",
        "outputId": "bedb3a21-52e2-4299-a600-aa07129deb57"
      },
      "source": [
        "X_train_normal[0]"
      ],
      "execution_count": 84,
      "outputs": [
        {
          "output_type": "execute_result",
          "data": {
            "text/plain": [
              "array([0.60869565, 0.10734463, 0.4       , 1.        , 0.        ,\n",
              "       1.        , 0.        , 0.        , 1.        , 0.        ,\n",
              "       0.        ])"
            ]
          },
          "metadata": {},
          "execution_count": 84
        }
      ]
    },
    {
      "cell_type": "code",
      "metadata": {
        "colab": {
          "base_uri": "https://localhost:8080/"
        },
        "id": "nZcnNNpZIx4Y",
        "outputId": "ce26b29f-1773-4e41-bb49-49e52f1c4c42"
      },
      "source": [
        "X_train.shape, X_train_normal.shape"
      ],
      "execution_count": 85,
      "outputs": [
        {
          "output_type": "execute_result",
          "data": {
            "text/plain": [
              "((1070, 6), (1070, 11))"
            ]
          },
          "metadata": {},
          "execution_count": 85
        }
      ]
    },
    {
      "cell_type": "markdown",
      "metadata": {
        "id": "xC8HpIgvJKd9"
      },
      "source": [
        "Our data has now been **normalised** and **one hot encoded**. Now we will build a neural network model on it."
      ]
    },
    {
      "cell_type": "code",
      "metadata": {
        "id": "RCjSA2bVJ2kE"
      },
      "source": [
        "# Set random seed\n",
        "tf.random.set_seed(42)\n",
        "\n",
        "# 1. Create the model\n",
        "\n",
        "model_1 = tf.keras.Sequential([\n",
        "                               tf.keras.layers.Dense(100),\n",
        "                               tf.keras.layers.Dense(10),\n",
        "                               tf.keras.layers.Dense(1)\n",
        "])\n",
        "\n",
        "# 2. Compile the model\n",
        "model_1.compile(loss=tf.keras.losses.mae,\n",
        "                optimizer=tf.keras.optimizers.Adam(),\n",
        "                metrics=['mae'])\n",
        "\n",
        "# 3. Fit the model\n",
        "history = model_1.fit(X_train_normal, y_train, epochs=200, verbose=0)"
      ],
      "execution_count": 86,
      "outputs": []
    },
    {
      "cell_type": "code",
      "metadata": {
        "colab": {
          "base_uri": "https://localhost:8080/"
        },
        "id": "yFslVRruMdRy",
        "outputId": "2b9b5c41-411f-45ee-9f58-4f871d594a24"
      },
      "source": [
        "model_1.evaluate(X_test_normal, y_test)"
      ],
      "execution_count": 88,
      "outputs": [
        {
          "output_type": "stream",
          "name": "stdout",
          "text": [
            "9/9 [==============================] - 0s 2ms/step - loss: 3171.5774 - mae: 3171.5774\n"
          ]
        },
        {
          "output_type": "execute_result",
          "data": {
            "text/plain": [
              "[3171.577392578125, 3171.577392578125]"
            ]
          },
          "metadata": {},
          "execution_count": 88
        }
      ]
    },
    {
      "cell_type": "code",
      "metadata": {
        "colab": {
          "base_uri": "https://localhost:8080/",
          "height": 297
        },
        "id": "tdhWM6M4MrT9",
        "outputId": "41818ee8-c253-4a36-bd82-f479d32ce557"
      },
      "source": [
        "pd.DataFrame(history.history).plot()\n",
        "plt.ylabel('loss')\n",
        "plt.xlabel('epochs')\n"
      ],
      "execution_count": 89,
      "outputs": [
        {
          "output_type": "execute_result",
          "data": {
            "text/plain": [
              "Text(0.5, 0, 'epochs')"
            ]
          },
          "metadata": {},
          "execution_count": 89
        },
        {
          "output_type": "display_data",
          "data": {
            "image/png": "[encoded data removed]",
            "text/plain": [
              "<Figure size 432x288 with 1 Axes>"
            ]
          },
          "metadata": {
            "needs_background": "light"
          }
        }
      ]
    },
    {
      "cell_type": "markdown",
      "metadata": {
        "id": "URzwJh61R1kE"
      },
      "source": [
        "**model_8**"
      ]
    },
    {
      "cell_type": "code",
      "metadata": {
        "id": "oJO-XTsCSSqf"
      },
      "source": [
        "# Set random seed\n",
        "tf.random.set_seed(42)\n",
        "\n",
        "callback = tf.keras.callbacks.EarlyStopping(monitor='loss', patience=20)\n",
        "# This callback will stop the training when there is no improvement in\n",
        "# the loss for twenty consecutive epochs.\n",
        "\n",
        "\n",
        "# 1. Create the model\n",
        "\n",
        "model_8 = tf.keras.Sequential([\n",
        "                               tf.keras.layers.Dense(100),\n",
        "                               tf.keras.layers.Dense(10),\n",
        "                               tf.keras.layers.Dense(1)\n",
        "])\n",
        "\n",
        "# 2. Compile the model\n",
        "model_8.compile(loss=tf.keras.losses.mae,\n",
        "                optimizer=tf.keras.optimizers.Adam(),\n",
        "                metrics=['mae'])\n",
        "\n",
        "# 3. Fit the model\n",
        "history = model_8.fit(X_train_normal, y_train, epochs=1000, callbacks=[callback], verbose=0)"
      ],
      "execution_count": 92,
      "outputs": []
    },
    {
      "cell_type": "code",
      "metadata": {
        "colab": {
          "base_uri": "https://localhost:8080/"
        },
        "id": "14k7vZQ8SsNY",
        "outputId": "ca21f243-1397-4d53-9356-796ec208c87e"
      },
      "source": [
        "model_8.evaluate(X_test_normal, y_test)"
      ],
      "execution_count": 93,
      "outputs": [
        {
          "output_type": "stream",
          "name": "stdout",
          "text": [
            "9/9 [==============================] - 0s 2ms/step - loss: 3159.0962 - mae: 3159.0962\n"
          ]
        },
        {
          "output_type": "execute_result",
          "data": {
            "text/plain": [
              "[3159.09619140625, 3159.09619140625]"
            ]
          },
          "metadata": {},
          "execution_count": 93
        }
      ]
    },
    {
      "cell_type": "code",
      "metadata": {
        "colab": {
          "base_uri": "https://localhost:8080/",
          "height": 297
        },
        "id": "UJxTViH4S2iU",
        "outputId": "863b6551-c87b-41c6-dcbc-a671d572d3e1"
      },
      "source": [
        "pd.DataFrame(history.history).plot()\n",
        "plt.ylabel('loss')\n",
        "plt.xlabel('epochs')"
      ],
      "execution_count": 94,
      "outputs": [
        {
          "output_type": "execute_result",
          "data": {
            "text/plain": [
              "Text(0.5, 0, 'epochs')"
            ]
          },
          "metadata": {},
          "execution_count": 94
        },
        {
          "output_type": "display_data",
          "data": {
            "image/png": "[encoded data removed]",
            "text/plain": [
              "<Figure size 432x288 with 1 Axes>"
            ]
          },
          "metadata": {
            "needs_background": "light"
          }
        }
      ]
    },
    {
      "cell_type": "code",
      "metadata": {
        "id": "e8UyR01wTCgL"
      },
      "source": [
        ""
      ],
      "execution_count": null,
      "outputs": []
    }
  ]
}