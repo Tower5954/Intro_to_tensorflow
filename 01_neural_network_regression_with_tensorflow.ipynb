{
  "nbformat": 4,
  "nbformat_minor": 0,
  "metadata": {
    "colab": {
      "name": "01_neural_network_regression_with_tensorflow.ipynb",
      "provenance": [],
      "authorship_tag": "ABX9TyMZ6CXYuRDi+AzxZTx8WmTp",
      "include_colab_link": true
    },
    "kernelspec": {
      "name": "python3",
      "display_name": "Python 3"
    },
    "language_info": {
      "name": "python"
    }
  },
  "cells": [
    {
      "cell_type": "markdown",
      "metadata": {
        "id": "view-in-github",
        "colab_type": "text"
      },
      "source": [
        "<a href=\"https://colab.research.google.com/github/Tower5954/TensorFlow/blob/main/01_neural_network_regression_with_tensorflow.ipynb\" target=\"_parent\"><img src=\"https://colab.research.google.com/assets/colab-badge.svg\" alt=\"Open In Colab\"/></a>"
      ]
    },
    {
      "cell_type": "markdown",
      "metadata": {
        "id": "lDgyZPKcrJd0"
      },
      "source": [
        "# Introduction to Regression with Neural Networks in TensorFlow"
      ]
    },
    {
      "cell_type": "markdown",
      "metadata": {
        "id": "UtmQgcURvpqM"
      },
      "source": [
        "There are many definitions for a regression problem but in our case, we are going to simplify it:\n",
        "Predicting a numerical variable based on some other combination of variables, even shorter...predicting a number."
      ]
    },
    {
      "cell_type": "code",
      "metadata": {
        "colab": {
          "base_uri": "https://localhost:8080/"
        },
        "id": "f4vgCYqIw8rK",
        "outputId": "0d00f439-784a-40bc-9fe1-b27c7d1b1e1d"
      },
      "source": [
        "# Import TensorFlow\n",
        "\n",
        "import tensorflow as tf\n",
        "print(tf.__version__)"
      ],
      "execution_count": 1,
      "outputs": [
        {
          "output_type": "stream",
          "name": "stdout",
          "text": [
            "2.6.0\n"
          ]
        }
      ]
    },
    {
      "cell_type": "markdown",
      "metadata": {
        "id": "taGBvHkhxVhu"
      },
      "source": [
        "## Creating data to view and fit"
      ]
    },
    {
      "cell_type": "code",
      "metadata": {
        "colab": {
          "base_uri": "https://localhost:8080/",
          "height": 269
        },
        "id": "G69Tc3i_xn1j",
        "outputId": "49dbe7fb-31b0-4446-c74d-0f44c0e4c9e1"
      },
      "source": [
        "import numpy as np\n",
        "import matplotlib.pyplot as plt\n",
        "\n",
        "# Create features\n",
        "X = np.array([-7.0, -4.0, -1.0, 2.0, 5.0, 8.0, 11.0, 14.0 ])\n",
        "\n",
        "# Create labels\n",
        "y = np.array([3.0, 6.0, 9.0, 12.0, 15.0, 18.0, 21.0, 24.0])\n",
        "\n",
        "# Visualise it\n",
        "\n",
        "plt.scatter(X, y);"
      ],
      "execution_count": 2,
      "outputs": [
        {
          "output_type": "display_data",
          "data": {
            "image/png": "[encoded data removed]",
            "text/plain": [
              "<Figure size 432x288 with 1 Axes>"
            ]
          },
          "metadata": {
            "needs_background": "light"
          }
        }
      ]
    },
    {
      "cell_type": "code",
      "metadata": {
        "colab": {
          "base_uri": "https://localhost:8080/"
        },
        "id": "K1XGTPgmy2Mq",
        "outputId": "45516712-449e-489f-8b1c-af1b72c406d3"
      },
      "source": [
        "y == X + 10"
      ],
      "execution_count": 3,
      "outputs": [
        {
          "output_type": "execute_result",
          "data": {
            "text/plain": [
              "array([ True,  True,  True,  True,  True,  True,  True,  True])"
            ]
          },
          "metadata": {},
          "execution_count": 3
        }
      ]
    },
    {
      "cell_type": "markdown",
      "metadata": {
        "id": "qDYFQtWV5YeQ"
      },
      "source": [
        "## Inputs and output shape"
      ]
    },
    {
      "cell_type": "code",
      "metadata": {
        "colab": {
          "base_uri": "https://localhost:8080/"
        },
        "id": "NDMHf_o85q3R",
        "outputId": "b3c5d020-a97f-4c31-de4e-61ab4ed09a3a"
      },
      "source": [
        "# Create a demo tensor for a housing price prediction problem \n",
        "\n",
        "house_info = tf.constant([\"bedroom\", \"bathroom\", \"garage\"])\n",
        "house_price = tf.constant([939700])\n",
        "house_info, house_price"
      ],
      "execution_count": 4,
      "outputs": [
        {
          "output_type": "execute_result",
          "data": {
            "text/plain": [
              "(<tf.Tensor: shape=(3,), dtype=string, numpy=array([b'bedroom', b'bathroom', b'garage'], dtype=object)>,\n",
              " <tf.Tensor: shape=(1,), dtype=int32, numpy=array([939700], dtype=int32)>)"
            ]
          },
          "metadata": {},
          "execution_count": 4
        }
      ]
    },
    {
      "cell_type": "code",
      "metadata": {
        "colab": {
          "base_uri": "https://localhost:8080/"
        },
        "id": "7kzMh4a36G67",
        "outputId": "8c1a769f-2c1c-453b-ee00-b319ba757335"
      },
      "source": [
        "X[0], y[0]"
      ],
      "execution_count": 5,
      "outputs": [
        {
          "output_type": "execute_result",
          "data": {
            "text/plain": [
              "(-7.0, 3.0)"
            ]
          },
          "metadata": {},
          "execution_count": 5
        }
      ]
    },
    {
      "cell_type": "code",
      "metadata": {
        "colab": {
          "base_uri": "https://localhost:8080/"
        },
        "id": "X6p0kukN7tC4",
        "outputId": "970ebba2-a8aa-4d72-9807-30d59c6b3d9f"
      },
      "source": [
        "X[1], y[1]"
      ],
      "execution_count": 6,
      "outputs": [
        {
          "output_type": "execute_result",
          "data": {
            "text/plain": [
              "(-4.0, 6.0)"
            ]
          },
          "metadata": {},
          "execution_count": 6
        }
      ]
    },
    {
      "cell_type": "code",
      "metadata": {
        "colab": {
          "base_uri": "https://localhost:8080/"
        },
        "id": "_Vz6LAvQ7wq_",
        "outputId": "ec22bf5c-ccfc-41c6-a18a-0d79fe67cceb"
      },
      "source": [
        "input_shape = X[0].shape\n",
        "output_shape = y[0].shape\n",
        "\n",
        "input_shape, output_shape"
      ],
      "execution_count": 7,
      "outputs": [
        {
          "output_type": "execute_result",
          "data": {
            "text/plain": [
              "((), ())"
            ]
          },
          "metadata": {},
          "execution_count": 7
        }
      ]
    },
    {
      "cell_type": "code",
      "metadata": {
        "colab": {
          "base_uri": "https://localhost:8080/"
        },
        "id": "LHXn2fOc8ApC",
        "outputId": "a496e9f4-d766-4e2c-fcf3-989dada09196"
      },
      "source": [
        "X[0].ndim"
      ],
      "execution_count": 8,
      "outputs": [
        {
          "output_type": "execute_result",
          "data": {
            "text/plain": [
              "0"
            ]
          },
          "metadata": {},
          "execution_count": 8
        }
      ]
    },
    {
      "cell_type": "code",
      "metadata": {
        "colab": {
          "base_uri": "https://localhost:8080/"
        },
        "id": "4LguMWS38Fpk",
        "outputId": "59f4c36d-819c-4ff8-e73b-82681c939fe1"
      },
      "source": [
        "# Turn our Numpy arrays into tensors\n",
        "\n",
        "X = tf.constant(X)\n",
        "y = tf.constant(y)\n",
        "\n",
        "X, y"
      ],
      "execution_count": 9,
      "outputs": [
        {
          "output_type": "execute_result",
          "data": {
            "text/plain": [
              "(<tf.Tensor: shape=(8,), dtype=float64, numpy=array([-7., -4., -1.,  2.,  5.,  8., 11., 14.])>,\n",
              " <tf.Tensor: shape=(8,), dtype=float64, numpy=array([ 3.,  6.,  9., 12., 15., 18., 21., 24.])>)"
            ]
          },
          "metadata": {},
          "execution_count": 9
        }
      ]
    },
    {
      "cell_type": "code",
      "metadata": {
        "colab": {
          "base_uri": "https://localhost:8080/"
        },
        "id": "8KpQuqWZ9oJc",
        "outputId": "81b631aa-9419-42c4-d960-f56a4dc5907f"
      },
      "source": [
        "input_shape = X[0].shape\n",
        "output_shape = y[0].shape\n",
        "\n",
        "input_shape, output_shape"
      ],
      "execution_count": 10,
      "outputs": [
        {
          "output_type": "execute_result",
          "data": {
            "text/plain": [
              "(TensorShape([]), TensorShape([]))"
            ]
          },
          "metadata": {},
          "execution_count": 10
        }
      ]
    },
    {
      "cell_type": "code",
      "metadata": {
        "colab": {
          "base_uri": "https://localhost:8080/",
          "height": 286
        },
        "id": "H8kOwVR697mA",
        "outputId": "e4c293fb-101e-45b4-c540-634e296d622b"
      },
      "source": [
        "plt.scatter(X, y)"
      ],
      "execution_count": 11,
      "outputs": [
        {
          "output_type": "execute_result",
          "data": {
            "text/plain": [
              "<matplotlib.collections.PathCollection at 0x7f0272053150>"
            ]
          },
          "metadata": {},
          "execution_count": 11
        },
        {
          "output_type": "display_data",
          "data": {
            "image/png": "[encoded data removed]",
            "text/plain": [
              "<Figure size 432x288 with 1 Axes>"
            ]
          },
          "metadata": {
            "needs_background": "light"
          }
        }
      ]
    },
    {
      "cell_type": "markdown",
      "metadata": {
        "id": "Vk5DzRzB-Ikx"
      },
      "source": [
        "## Steps in modelling with TensorFlow\n",
        "\n",
        "1. **Creating a model** - define the input and output layers, as well as the hidden layers of a deep learning model.\n",
        "2. **Compile a model** - define the loss function (In other words, the function which tell our model how wrong it is.) and the optimizer (tells our model how to improve the patterns it is learning) and evaluation metrics (what we can use to interpret the performance of our model).\n",
        "3. **Fitting a model** - Letting a model find patterns between X & y (features and labels)  "
      ]
    },
    {
      "cell_type": "code",
      "metadata": {
        "colab": {
          "base_uri": "https://localhost:8080/"
        },
        "id": "0YXC4XAT_3Wr",
        "outputId": "1d858b80-7de5-461e-a483-1417cc82a7ad"
      },
      "source": [
        "# Set random seed\n",
        "tf.random.set_seed(42)\n",
        "\n",
        "# 1. Create a model using the sequential API\n",
        "model = tf.keras.Sequential([\n",
        "    tf.keras.layers.Dense(1)\n",
        "]) \n",
        "\n",
        "# 2. Compile the model\n",
        "model.compile(loss=tf.keras.losses.mae, #mae is short for mean absolute error\n",
        "              optimizer=tf.keras.optimizers.SGD(), # SGD is short for stochastic gradient descent\n",
        "              metrics=[\"mae\"])\n",
        "\n",
        "# 3. Fit the model \n",
        "model.fit(X, y, epochs=5)\n"
      ],
      "execution_count": 12,
      "outputs": [
        {
          "output_type": "stream",
          "name": "stdout",
          "text": [
            "Epoch 1/5\n",
            "1/1 [==============================] - 1s 538ms/step - loss: 11.5048 - mae: 11.5048\n",
            "Epoch 2/5\n",
            "1/1 [==============================] - 0s 10ms/step - loss: 11.3723 - mae: 11.3723\n",
            "Epoch 3/5\n",
            "1/1 [==============================] - 0s 15ms/step - loss: 11.2398 - mae: 11.2398\n",
            "Epoch 4/5\n",
            "1/1 [==============================] - 0s 10ms/step - loss: 11.1073 - mae: 11.1073\n",
            "Epoch 5/5\n",
            "1/1 [==============================] - 0s 3ms/step - loss: 10.9748 - mae: 10.9748\n"
          ]
        },
        {
          "output_type": "execute_result",
          "data": {
            "text/plain": [
              "<keras.callbacks.History at 0x7f026d914f10>"
            ]
          },
          "metadata": {},
          "execution_count": 12
        }
      ]
    },
    {
      "cell_type": "code",
      "metadata": {
        "colab": {
          "base_uri": "https://localhost:8080/"
        },
        "id": "3ueqi_ONFH9z",
        "outputId": "26b3635b-4cb5-4a6d-b915-d2540f05f9ec"
      },
      "source": [
        "# Try and make a prediction using our model \n",
        "model.predict([17.0])"
      ],
      "execution_count": 13,
      "outputs": [
        {
          "output_type": "execute_result",
          "data": {
            "text/plain": [
              "array([[12.716021]], dtype=float32)"
            ]
          },
          "metadata": {},
          "execution_count": 13
        }
      ]
    },
    {
      "cell_type": "code",
      "metadata": {
        "colab": {
          "base_uri": "https://localhost:8080/"
        },
        "id": "f7ntnS3ZGCNv",
        "outputId": "a2f89123-d425-4ece-f7a1-06a2ac97f362"
      },
      "source": [
        "y_pred = model.predict([17.0])\n",
        "y_pred"
      ],
      "execution_count": 14,
      "outputs": [
        {
          "output_type": "execute_result",
          "data": {
            "text/plain": [
              "array([[12.716021]], dtype=float32)"
            ]
          },
          "metadata": {},
          "execution_count": 14
        }
      ]
    },
    {
      "cell_type": "code",
      "metadata": {
        "colab": {
          "base_uri": "https://localhost:8080/"
        },
        "id": "a_TH4gP4GjEq",
        "outputId": "06b1d06e-e769-4379-a9c3-abdd877a3d40"
      },
      "source": [
        "y_pred +11"
      ],
      "execution_count": 15,
      "outputs": [
        {
          "output_type": "execute_result",
          "data": {
            "text/plain": [
              "array([[23.71602]], dtype=float32)"
            ]
          },
          "metadata": {},
          "execution_count": 15
        }
      ]
    },
    {
      "cell_type": "markdown",
      "metadata": {
        "id": "Djys9_mdGpjS"
      },
      "source": [
        "## Improving our model\n",
        "\n",
        "We can improve our model, by altering the steps we took to create a model.\n",
        "\n",
        "1. **Creating a model** - Here we might add more layers,\n",
        "increase thenumber of hidden units (also called neurons)\n",
        "within each of the hidden layer, change the activation\n",
        "function of each layer.\n",
        "\n",
        "2. **Compiling a model** - Here we might change the optimization function or \n",
        "perhaps the **learning rate** of the optimization function.\n",
        "\n",
        "3. **Fitting a model** - Here we might fit a model for more **epochs**\n",
        "(leave it training for longer) or on more data (give the model more examples\n",
        "to learn from)"
      ]
    },
    {
      "cell_type": "markdown",
      "metadata": {
        "id": "3zaDTicUq4J2"
      },
      "source": [
        "**Rebuild our model**"
      ]
    },
    {
      "cell_type": "code",
      "metadata": {
        "colab": {
          "base_uri": "https://localhost:8080/"
        },
        "id": "CrzbQJq_r9OS",
        "outputId": "1e2c29d9-4b5b-468e-f008-5cb80fa261df"
      },
      "source": [
        "# 1. Create the model \n",
        "\n",
        "model = tf.keras.Sequential([\n",
        "                             tf.keras.layers.Dense(1)\n",
        "])\n",
        "\n",
        "# 2. Compile the model\n",
        "model.compile(loss=tf.keras.losses.mae,\n",
        "              optimizer=tf.keras.optimizers.SGD(),\n",
        "              metrics=[\"mae\"])\n",
        "\n",
        "# 3. Fit the model (this time we will train for longer)\n",
        "model.fit(X, y, epochs=100)"
      ],
      "execution_count": 16,
      "outputs": [
        {
          "output_type": "stream",
          "name": "stdout",
          "text": [
            "Epoch 1/100\n",
            "1/1 [==============================] - 0s 293ms/step - loss: 11.2219 - mae: 11.2219\n",
            "Epoch 2/100\n",
            "1/1 [==============================] - 0s 5ms/step - loss: 11.0894 - mae: 11.0894\n",
            "Epoch 3/100\n",
            "1/1 [==============================] - 0s 6ms/step - loss: 10.9569 - mae: 10.9569\n",
            "Epoch 4/100\n",
            "1/1 [==============================] - 0s 4ms/step - loss: 10.8244 - mae: 10.8244\n",
            "Epoch 5/100\n",
            "1/1 [==============================] - 0s 4ms/step - loss: 10.6919 - mae: 10.6919\n",
            "Epoch 6/100\n",
            "1/1 [==============================] - 0s 4ms/step - loss: 10.5594 - mae: 10.5594\n",
            "Epoch 7/100\n",
            "1/1 [==============================] - 0s 7ms/step - loss: 10.4269 - mae: 10.4269\n",
            "Epoch 8/100\n",
            "1/1 [==============================] - 0s 11ms/step - loss: 10.2944 - mae: 10.2944\n",
            "Epoch 9/100\n",
            "1/1 [==============================] - 0s 4ms/step - loss: 10.1619 - mae: 10.1619\n",
            "Epoch 10/100\n",
            "1/1 [==============================] - 0s 4ms/step - loss: 10.0294 - mae: 10.0294\n",
            "Epoch 11/100\n",
            "1/1 [==============================] - 0s 4ms/step - loss: 9.8969 - mae: 9.8969\n",
            "Epoch 12/100\n",
            "1/1 [==============================] - 0s 6ms/step - loss: 9.7644 - mae: 9.7644\n",
            "Epoch 13/100\n",
            "1/1 [==============================] - 0s 5ms/step - loss: 9.6319 - mae: 9.6319\n",
            "Epoch 14/100\n",
            "1/1 [==============================] - 0s 6ms/step - loss: 9.4994 - mae: 9.4994\n",
            "Epoch 15/100\n",
            "1/1 [==============================] - 0s 5ms/step - loss: 9.3669 - mae: 9.3669\n",
            "Epoch 16/100\n",
            "1/1 [==============================] - 0s 6ms/step - loss: 9.2344 - mae: 9.2344\n",
            "Epoch 17/100\n",
            "1/1 [==============================] - 0s 5ms/step - loss: 9.1019 - mae: 9.1019\n",
            "Epoch 18/100\n",
            "1/1 [==============================] - 0s 4ms/step - loss: 8.9694 - mae: 8.9694\n",
            "Epoch 19/100\n",
            "1/1 [==============================] - 0s 21ms/step - loss: 8.8369 - mae: 8.8369\n",
            "Epoch 20/100\n",
            "1/1 [==============================] - 0s 4ms/step - loss: 8.7044 - mae: 8.7044\n",
            "Epoch 21/100\n",
            "1/1 [==============================] - 0s 4ms/step - loss: 8.5719 - mae: 8.5719\n",
            "Epoch 22/100\n",
            "1/1 [==============================] - 0s 9ms/step - loss: 8.4394 - mae: 8.4394\n",
            "Epoch 23/100\n",
            "1/1 [==============================] - 0s 6ms/step - loss: 8.3069 - mae: 8.3069\n",
            "Epoch 24/100\n",
            "1/1 [==============================] - 0s 4ms/step - loss: 8.1744 - mae: 8.1744\n",
            "Epoch 25/100\n",
            "1/1 [==============================] - 0s 6ms/step - loss: 8.0419 - mae: 8.0419\n",
            "Epoch 26/100\n",
            "1/1 [==============================] - 0s 6ms/step - loss: 7.9094 - mae: 7.9094\n",
            "Epoch 27/100\n",
            "1/1 [==============================] - 0s 5ms/step - loss: 7.7769 - mae: 7.7769\n",
            "Epoch 28/100\n",
            "1/1 [==============================] - 0s 6ms/step - loss: 7.6444 - mae: 7.6444\n",
            "Epoch 29/100\n",
            "1/1 [==============================] - 0s 7ms/step - loss: 7.5119 - mae: 7.5119\n",
            "Epoch 30/100\n",
            "1/1 [==============================] - 0s 6ms/step - loss: 7.3794 - mae: 7.3794\n",
            "Epoch 31/100\n",
            "1/1 [==============================] - 0s 7ms/step - loss: 7.2750 - mae: 7.2750\n",
            "Epoch 32/100\n",
            "1/1 [==============================] - 0s 5ms/step - loss: 7.2694 - mae: 7.2694\n",
            "Epoch 33/100\n",
            "1/1 [==============================] - 0s 6ms/step - loss: 7.2638 - mae: 7.2638\n",
            "Epoch 34/100\n",
            "1/1 [==============================] - 0s 7ms/step - loss: 7.2581 - mae: 7.2581\n",
            "Epoch 35/100\n",
            "1/1 [==============================] - 0s 9ms/step - loss: 7.2525 - mae: 7.2525\n",
            "Epoch 36/100\n",
            "1/1 [==============================] - 0s 6ms/step - loss: 7.2469 - mae: 7.2469\n",
            "Epoch 37/100\n",
            "1/1 [==============================] - 0s 9ms/step - loss: 7.2412 - mae: 7.2412\n",
            "Epoch 38/100\n",
            "1/1 [==============================] - 0s 10ms/step - loss: 7.2356 - mae: 7.2356\n",
            "Epoch 39/100\n",
            "1/1 [==============================] - 0s 5ms/step - loss: 7.2300 - mae: 7.2300\n",
            "Epoch 40/100\n",
            "1/1 [==============================] - 0s 4ms/step - loss: 7.2244 - mae: 7.2244\n",
            "Epoch 41/100\n",
            "1/1 [==============================] - 0s 5ms/step - loss: 7.2188 - mae: 7.2188\n",
            "Epoch 42/100\n",
            "1/1 [==============================] - 0s 4ms/step - loss: 7.2131 - mae: 7.2131\n",
            "Epoch 43/100\n",
            "1/1 [==============================] - 0s 6ms/step - loss: 7.2075 - mae: 7.2075\n",
            "Epoch 44/100\n",
            "1/1 [==============================] - 0s 7ms/step - loss: 7.2019 - mae: 7.2019\n",
            "Epoch 45/100\n",
            "1/1 [==============================] - 0s 6ms/step - loss: 7.1962 - mae: 7.1962\n",
            "Epoch 46/100\n",
            "1/1 [==============================] - 0s 5ms/step - loss: 7.1906 - mae: 7.1906\n",
            "Epoch 47/100\n",
            "1/1 [==============================] - 0s 7ms/step - loss: 7.1850 - mae: 7.1850\n",
            "Epoch 48/100\n",
            "1/1 [==============================] - 0s 8ms/step - loss: 7.1794 - mae: 7.1794\n",
            "Epoch 49/100\n",
            "1/1 [==============================] - 0s 6ms/step - loss: 7.1737 - mae: 7.1737\n",
            "Epoch 50/100\n",
            "1/1 [==============================] - 0s 6ms/step - loss: 7.1681 - mae: 7.1681\n",
            "Epoch 51/100\n",
            "1/1 [==============================] - 0s 7ms/step - loss: 7.1625 - mae: 7.1625\n",
            "Epoch 52/100\n",
            "1/1 [==============================] - 0s 16ms/step - loss: 7.1569 - mae: 7.1569\n",
            "Epoch 53/100\n",
            "1/1 [==============================] - 0s 9ms/step - loss: 7.1512 - mae: 7.1512\n",
            "Epoch 54/100\n",
            "1/1 [==============================] - 0s 5ms/step - loss: 7.1456 - mae: 7.1456\n",
            "Epoch 55/100\n",
            "1/1 [==============================] - 0s 4ms/step - loss: 7.1400 - mae: 7.1400\n",
            "Epoch 56/100\n",
            "1/1 [==============================] - 0s 5ms/step - loss: 7.1344 - mae: 7.1344\n",
            "Epoch 57/100\n",
            "1/1 [==============================] - 0s 4ms/step - loss: 7.1287 - mae: 7.1287\n",
            "Epoch 58/100\n",
            "1/1 [==============================] - 0s 4ms/step - loss: 7.1231 - mae: 7.1231\n",
            "Epoch 59/100\n",
            "1/1 [==============================] - 0s 6ms/step - loss: 7.1175 - mae: 7.1175\n",
            "Epoch 60/100\n",
            "1/1 [==============================] - 0s 7ms/step - loss: 7.1119 - mae: 7.1119\n",
            "Epoch 61/100\n",
            "1/1 [==============================] - 0s 6ms/step - loss: 7.1062 - mae: 7.1062\n",
            "Epoch 62/100\n",
            "1/1 [==============================] - 0s 4ms/step - loss: 7.1006 - mae: 7.1006\n",
            "Epoch 63/100\n",
            "1/1 [==============================] - 0s 4ms/step - loss: 7.0950 - mae: 7.0950\n",
            "Epoch 64/100\n",
            "1/1 [==============================] - 0s 4ms/step - loss: 7.0894 - mae: 7.0894\n",
            "Epoch 65/100\n",
            "1/1 [==============================] - 0s 5ms/step - loss: 7.0838 - mae: 7.0838\n",
            "Epoch 66/100\n",
            "1/1 [==============================] - 0s 6ms/step - loss: 7.0781 - mae: 7.0781\n",
            "Epoch 67/100\n",
            "1/1 [==============================] - 0s 4ms/step - loss: 7.0725 - mae: 7.0725\n",
            "Epoch 68/100\n",
            "1/1 [==============================] - 0s 4ms/step - loss: 7.0669 - mae: 7.0669\n",
            "Epoch 69/100\n",
            "1/1 [==============================] - 0s 7ms/step - loss: 7.0613 - mae: 7.0613\n",
            "Epoch 70/100\n",
            "1/1 [==============================] - 0s 7ms/step - loss: 7.0556 - mae: 7.0556\n",
            "Epoch 71/100\n",
            "1/1 [==============================] - 0s 5ms/step - loss: 7.0500 - mae: 7.0500\n",
            "Epoch 72/100\n",
            "1/1 [==============================] - 0s 7ms/step - loss: 7.0444 - mae: 7.0444\n",
            "Epoch 73/100\n",
            "1/1 [==============================] - 0s 6ms/step - loss: 7.0388 - mae: 7.0388\n",
            "Epoch 74/100\n",
            "1/1 [==============================] - 0s 14ms/step - loss: 7.0331 - mae: 7.0331\n",
            "Epoch 75/100\n",
            "1/1 [==============================] - 0s 10ms/step - loss: 7.0275 - mae: 7.0275\n",
            "Epoch 76/100\n",
            "1/1 [==============================] - 0s 5ms/step - loss: 7.0219 - mae: 7.0219\n",
            "Epoch 77/100\n",
            "1/1 [==============================] - 0s 4ms/step - loss: 7.0163 - mae: 7.0163\n",
            "Epoch 78/100\n",
            "1/1 [==============================] - 0s 4ms/step - loss: 7.0106 - mae: 7.0106\n",
            "Epoch 79/100\n",
            "1/1 [==============================] - 0s 6ms/step - loss: 7.0050 - mae: 7.0050\n",
            "Epoch 80/100\n",
            "1/1 [==============================] - 0s 8ms/step - loss: 6.9994 - mae: 6.9994\n",
            "Epoch 81/100\n",
            "1/1 [==============================] - 0s 14ms/step - loss: 6.9938 - mae: 6.9938\n",
            "Epoch 82/100\n",
            "1/1 [==============================] - 0s 4ms/step - loss: 6.9881 - mae: 6.9881\n",
            "Epoch 83/100\n",
            "1/1 [==============================] - 0s 5ms/step - loss: 6.9825 - mae: 6.9825\n",
            "Epoch 84/100\n",
            "1/1 [==============================] - 0s 4ms/step - loss: 6.9769 - mae: 6.9769\n",
            "Epoch 85/100\n",
            "1/1 [==============================] - 0s 5ms/step - loss: 6.9713 - mae: 6.9713\n",
            "Epoch 86/100\n",
            "1/1 [==============================] - 0s 7ms/step - loss: 6.9656 - mae: 6.9656\n",
            "Epoch 87/100\n",
            "1/1 [==============================] - 0s 4ms/step - loss: 6.9600 - mae: 6.9600\n",
            "Epoch 88/100\n",
            "1/1 [==============================] - 0s 6ms/step - loss: 6.9544 - mae: 6.9544\n",
            "Epoch 89/100\n",
            "1/1 [==============================] - 0s 8ms/step - loss: 6.9488 - mae: 6.9488\n",
            "Epoch 90/100\n",
            "1/1 [==============================] - 0s 6ms/step - loss: 6.9431 - mae: 6.9431\n",
            "Epoch 91/100\n",
            "1/1 [==============================] - 0s 4ms/step - loss: 6.9375 - mae: 6.9375\n",
            "Epoch 92/100\n",
            "1/1 [==============================] - 0s 6ms/step - loss: 6.9319 - mae: 6.9319\n",
            "Epoch 93/100\n",
            "1/1 [==============================] - 0s 11ms/step - loss: 6.9263 - mae: 6.9263\n",
            "Epoch 94/100\n",
            "1/1 [==============================] - 0s 18ms/step - loss: 6.9206 - mae: 6.9206\n",
            "Epoch 95/100\n",
            "1/1 [==============================] - 0s 11ms/step - loss: 6.9150 - mae: 6.9150\n",
            "Epoch 96/100\n",
            "1/1 [==============================] - 0s 8ms/step - loss: 6.9094 - mae: 6.9094\n",
            "Epoch 97/100\n",
            "1/1 [==============================] - 0s 7ms/step - loss: 6.9038 - mae: 6.9038\n",
            "Epoch 98/100\n",
            "1/1 [==============================] - 0s 6ms/step - loss: 6.8981 - mae: 6.8981\n",
            "Epoch 99/100\n",
            "1/1 [==============================] - 0s 6ms/step - loss: 6.8925 - mae: 6.8925\n",
            "Epoch 100/100\n",
            "1/1 [==============================] - 0s 5ms/step - loss: 6.8869 - mae: 6.8869\n"
          ]
        },
        {
          "output_type": "execute_result",
          "data": {
            "text/plain": [
              "<keras.callbacks.History at 0x7f026d867990>"
            ]
          },
          "metadata": {},
          "execution_count": 16
        }
      ]
    },
    {
      "cell_type": "markdown",
      "metadata": {
        "id": "WECjr6mktWPr"
      },
      "source": [
        "Remind ourselves of the data."
      ]
    },
    {
      "cell_type": "code",
      "metadata": {
        "colab": {
          "base_uri": "https://localhost:8080/"
        },
        "id": "6MoqIxDyt_q5",
        "outputId": "8d591c4b-9a20-4a8f-bc43-30bcef01a374"
      },
      "source": [
        "X, y"
      ],
      "execution_count": 17,
      "outputs": [
        {
          "output_type": "execute_result",
          "data": {
            "text/plain": [
              "(<tf.Tensor: shape=(8,), dtype=float64, numpy=array([-7., -4., -1.,  2.,  5.,  8., 11., 14.])>,\n",
              " <tf.Tensor: shape=(8,), dtype=float64, numpy=array([ 3.,  6.,  9., 12., 15., 18., 21., 24.])>)"
            ]
          },
          "metadata": {},
          "execution_count": 17
        }
      ]
    },
    {
      "cell_type": "markdown",
      "metadata": {
        "id": "Pxji6a72uBrw"
      },
      "source": [
        "See if our model's prediction has improved.\n",
        "\n"
      ]
    },
    {
      "cell_type": "code",
      "metadata": {
        "colab": {
          "base_uri": "https://localhost:8080/"
        },
        "id": "YuQdgCqwuPUN",
        "outputId": "75aec571-b0b0-44e1-e89d-122540c1eb8f"
      },
      "source": [
        "model.predict([17.0])"
      ],
      "execution_count": 18,
      "outputs": [
        {
          "output_type": "execute_result",
          "data": {
            "text/plain": [
              "array([[29.739855]], dtype=float32)"
            ]
          },
          "metadata": {},
          "execution_count": 18
        }
      ]
    },
    {
      "cell_type": "markdown",
      "metadata": {
        "id": "_5rvtQFsuV-G"
      },
      "source": [
        "See if we can improve our model.\n",
        "\n",
        "\n"
      ]
    },
    {
      "cell_type": "code",
      "metadata": {
        "colab": {
          "base_uri": "https://localhost:8080/"
        },
        "id": "1f5JJ_xlUakf",
        "outputId": "07b3f4af-770f-4c54-f642-5ea5575ba3bd"
      },
      "source": [
        "# 1. Create the model (this time with an extra hidden layer with 100 hidden units)\n",
        "model = tf.keras.Sequential([\n",
        "  tf.keras.layers.Dense(100, activation='relu'),\n",
        "  tf.keras.layers.Dense(1)\n",
        "])\n",
        "\n",
        "# 2. Compile the model\n",
        "\n",
        "model.compile(loss=tf.keras.losses.mae,\n",
        "              optimizer=tf.keras.optimizers.SGD(),\n",
        "              metrics=['mae'])\n",
        "\n",
        "# 3. Fit the model\n",
        "\n",
        "model.fit(X, y, epochs=100)"
      ],
      "execution_count": 53,
      "outputs": [
        {
          "output_type": "stream",
          "name": "stdout",
          "text": [
            "Epoch 1/100\n",
            "2/2 [==============================] - 0s 7ms/step - loss: 38.7487 - mae: 38.7487\n",
            "Epoch 2/100\n",
            "2/2 [==============================] - 0s 9ms/step - loss: 13.9573 - mae: 13.9573\n",
            "Epoch 3/100\n",
            "2/2 [==============================] - 0s 3ms/step - loss: 14.5024 - mae: 14.5024\n",
            "Epoch 4/100\n",
            "2/2 [==============================] - 0s 4ms/step - loss: 13.6927 - mae: 13.6927\n",
            "Epoch 5/100\n",
            "2/2 [==============================] - 0s 6ms/step - loss: 12.6516 - mae: 12.6516\n",
            "Epoch 6/100\n",
            "2/2 [==============================] - 0s 5ms/step - loss: 16.4626 - mae: 16.4626\n",
            "Epoch 7/100\n",
            "2/2 [==============================] - 0s 12ms/step - loss: 9.7822 - mae: 9.7822\n",
            "Epoch 8/100\n",
            "2/2 [==============================] - 0s 5ms/step - loss: 14.6549 - mae: 14.6549\n",
            "Epoch 9/100\n",
            "2/2 [==============================] - 0s 4ms/step - loss: 15.1638 - mae: 15.1638\n",
            "Epoch 10/100\n",
            "2/2 [==============================] - 0s 3ms/step - loss: 8.7395 - mae: 8.7395\n",
            "Epoch 11/100\n",
            "2/2 [==============================] - 0s 3ms/step - loss: 12.6063 - mae: 12.6063\n",
            "Epoch 12/100\n",
            "2/2 [==============================] - 0s 4ms/step - loss: 13.3400 - mae: 13.3400\n",
            "Epoch 13/100\n",
            "2/2 [==============================] - 0s 4ms/step - loss: 12.0577 - mae: 12.0577\n",
            "Epoch 14/100\n",
            "2/2 [==============================] - 0s 4ms/step - loss: 15.2351 - mae: 15.2351\n",
            "Epoch 15/100\n",
            "2/2 [==============================] - 0s 4ms/step - loss: 9.5508 - mae: 9.5508\n",
            "Epoch 16/100\n",
            "2/2 [==============================] - 0s 4ms/step - loss: 14.2036 - mae: 14.2036\n",
            "Epoch 17/100\n",
            "2/2 [==============================] - 0s 3ms/step - loss: 11.1099 - mae: 11.1099\n",
            "Epoch 18/100\n",
            "2/2 [==============================] - 0s 5ms/step - loss: 8.8819 - mae: 8.8819\n",
            "Epoch 19/100\n",
            "2/2 [==============================] - 0s 4ms/step - loss: 11.9391 - mae: 11.9391\n",
            "Epoch 20/100\n",
            "2/2 [==============================] - 0s 3ms/step - loss: 11.8127 - mae: 11.8127\n",
            "Epoch 21/100\n",
            "2/2 [==============================] - 0s 4ms/step - loss: 12.7941 - mae: 12.7941\n",
            "Epoch 22/100\n",
            "2/2 [==============================] - 0s 3ms/step - loss: 14.0665 - mae: 14.0665\n",
            "Epoch 23/100\n",
            "2/2 [==============================] - 0s 3ms/step - loss: 11.0500 - mae: 11.0500\n",
            "Epoch 24/100\n",
            "2/2 [==============================] - 0s 7ms/step - loss: 11.0598 - mae: 11.0598\n",
            "Epoch 25/100\n",
            "2/2 [==============================] - 0s 4ms/step - loss: 11.8368 - mae: 11.8368\n",
            "Epoch 26/100\n",
            "2/2 [==============================] - 0s 4ms/step - loss: 8.6369 - mae: 8.6369\n",
            "Epoch 27/100\n",
            "2/2 [==============================] - 0s 7ms/step - loss: 14.5826 - mae: 14.5826\n",
            "Epoch 28/100\n",
            "2/2 [==============================] - 0s 5ms/step - loss: 8.5555 - mae: 8.5555\n",
            "Epoch 29/100\n",
            "2/2 [==============================] - 0s 4ms/step - loss: 17.2788 - mae: 17.2788\n",
            "Epoch 30/100\n",
            "2/2 [==============================] - 0s 8ms/step - loss: 13.1987 - mae: 13.1987\n",
            "Epoch 31/100\n",
            "2/2 [==============================] - 0s 7ms/step - loss: 16.0998 - mae: 16.0998\n",
            "Epoch 32/100\n",
            "2/2 [==============================] - 0s 9ms/step - loss: 15.5821 - mae: 15.5821\n",
            "Epoch 33/100\n",
            "2/2 [==============================] - 0s 9ms/step - loss: 11.8183 - mae: 11.8183\n",
            "Epoch 34/100\n",
            "2/2 [==============================] - 0s 8ms/step - loss: 8.2235 - mae: 8.2235\n",
            "Epoch 35/100\n",
            "2/2 [==============================] - 0s 5ms/step - loss: 14.7914 - mae: 14.7914\n",
            "Epoch 36/100\n",
            "2/2 [==============================] - 0s 5ms/step - loss: 10.4410 - mae: 10.4410\n",
            "Epoch 37/100\n",
            "2/2 [==============================] - 0s 6ms/step - loss: 10.6914 - mae: 10.6914\n",
            "Epoch 38/100\n",
            "2/2 [==============================] - 0s 3ms/step - loss: 9.8100 - mae: 9.8100\n",
            "Epoch 39/100\n",
            "2/2 [==============================] - 0s 5ms/step - loss: 10.0860 - mae: 10.0860\n",
            "Epoch 40/100\n",
            "2/2 [==============================] - 0s 5ms/step - loss: 16.1947 - mae: 16.1947\n",
            "Epoch 41/100\n",
            "2/2 [==============================] - 0s 5ms/step - loss: 12.3981 - mae: 12.3981\n",
            "Epoch 42/100\n",
            "2/2 [==============================] - 0s 3ms/step - loss: 18.2091 - mae: 18.2091\n",
            "Epoch 43/100\n",
            "2/2 [==============================] - 0s 5ms/step - loss: 13.0716 - mae: 13.0716\n",
            "Epoch 44/100\n",
            "2/2 [==============================] - 0s 7ms/step - loss: 10.7955 - mae: 10.7955\n",
            "Epoch 45/100\n",
            "2/2 [==============================] - 0s 6ms/step - loss: 12.1901 - mae: 12.1901\n",
            "Epoch 46/100\n",
            "2/2 [==============================] - 0s 3ms/step - loss: 13.5159 - mae: 13.5159\n",
            "Epoch 47/100\n",
            "2/2 [==============================] - 0s 9ms/step - loss: 11.4421 - mae: 11.4421\n",
            "Epoch 48/100\n",
            "2/2 [==============================] - 0s 4ms/step - loss: 9.4806 - mae: 9.4806\n",
            "Epoch 49/100\n",
            "2/2 [==============================] - 0s 4ms/step - loss: 13.1574 - mae: 13.1574\n",
            "Epoch 50/100\n",
            "2/2 [==============================] - 0s 6ms/step - loss: 20.3156 - mae: 20.3156\n",
            "Epoch 51/100\n",
            "2/2 [==============================] - 0s 3ms/step - loss: 13.8575 - mae: 13.8575\n",
            "Epoch 52/100\n",
            "2/2 [==============================] - 0s 5ms/step - loss: 14.9447 - mae: 14.9447\n",
            "Epoch 53/100\n",
            "2/2 [==============================] - 0s 8ms/step - loss: 7.5970 - mae: 7.5970\n",
            "Epoch 54/100\n",
            "2/2 [==============================] - 0s 4ms/step - loss: 11.9506 - mae: 11.9506\n",
            "Epoch 55/100\n",
            "2/2 [==============================] - 0s 11ms/step - loss: 9.4787 - mae: 9.4787\n",
            "Epoch 56/100\n",
            "2/2 [==============================] - 0s 7ms/step - loss: 7.3027 - mae: 7.3027\n",
            "Epoch 57/100\n",
            "2/2 [==============================] - 0s 5ms/step - loss: 12.5247 - mae: 12.5247\n",
            "Epoch 58/100\n",
            "2/2 [==============================] - 0s 4ms/step - loss: 10.3788 - mae: 10.3788\n",
            "Epoch 59/100\n",
            "2/2 [==============================] - 0s 4ms/step - loss: 11.9490 - mae: 11.9490\n",
            "Epoch 60/100\n",
            "2/2 [==============================] - 0s 7ms/step - loss: 8.2322 - mae: 8.2322\n",
            "Epoch 61/100\n",
            "2/2 [==============================] - 0s 4ms/step - loss: 14.3575 - mae: 14.3575\n",
            "Epoch 62/100\n",
            "2/2 [==============================] - 0s 3ms/step - loss: 11.2362 - mae: 11.2362\n",
            "Epoch 63/100\n",
            "2/2 [==============================] - 0s 4ms/step - loss: 12.6876 - mae: 12.6876\n",
            "Epoch 64/100\n",
            "2/2 [==============================] - 0s 3ms/step - loss: 11.8366 - mae: 11.8366\n",
            "Epoch 65/100\n",
            "2/2 [==============================] - 0s 7ms/step - loss: 16.8561 - mae: 16.8561\n",
            "Epoch 66/100\n",
            "2/2 [==============================] - 0s 5ms/step - loss: 10.5384 - mae: 10.5384\n",
            "Epoch 67/100\n",
            "2/2 [==============================] - 0s 6ms/step - loss: 12.8915 - mae: 12.8915\n",
            "Epoch 68/100\n",
            "2/2 [==============================] - 0s 7ms/step - loss: 7.2265 - mae: 7.2265\n",
            "Epoch 69/100\n",
            "2/2 [==============================] - 0s 19ms/step - loss: 16.6261 - mae: 16.6261\n",
            "Epoch 70/100\n",
            "2/2 [==============================] - 0s 9ms/step - loss: 12.4236 - mae: 12.4236\n",
            "Epoch 71/100\n",
            "2/2 [==============================] - 0s 6ms/step - loss: 14.7543 - mae: 14.7543\n",
            "Epoch 72/100\n",
            "2/2 [==============================] - 0s 6ms/step - loss: 13.5766 - mae: 13.5766\n",
            "Epoch 73/100\n",
            "2/2 [==============================] - 0s 7ms/step - loss: 11.0179 - mae: 11.0179\n",
            "Epoch 74/100\n",
            "2/2 [==============================] - 0s 6ms/step - loss: 10.8546 - mae: 10.8546\n",
            "Epoch 75/100\n",
            "2/2 [==============================] - 0s 4ms/step - loss: 15.2785 - mae: 15.2785\n",
            "Epoch 76/100\n",
            "2/2 [==============================] - 0s 5ms/step - loss: 17.5712 - mae: 17.5712\n",
            "Epoch 77/100\n",
            "2/2 [==============================] - 0s 4ms/step - loss: 11.1647 - mae: 11.1647\n",
            "Epoch 78/100\n",
            "2/2 [==============================] - 0s 3ms/step - loss: 14.3045 - mae: 14.3045\n",
            "Epoch 79/100\n",
            "2/2 [==============================] - 0s 8ms/step - loss: 8.7753 - mae: 8.7753\n",
            "Epoch 80/100\n",
            "2/2 [==============================] - 0s 4ms/step - loss: 12.7032 - mae: 12.7032\n",
            "Epoch 81/100\n",
            "2/2 [==============================] - 0s 5ms/step - loss: 14.0177 - mae: 14.0177\n",
            "Epoch 82/100\n",
            "2/2 [==============================] - 0s 6ms/step - loss: 12.6871 - mae: 12.6871\n",
            "Epoch 83/100\n",
            "2/2 [==============================] - 0s 9ms/step - loss: 9.6697 - mae: 9.6697\n",
            "Epoch 84/100\n",
            "2/2 [==============================] - 0s 8ms/step - loss: 7.9603 - mae: 7.9603\n",
            "Epoch 85/100\n",
            "2/2 [==============================] - 0s 4ms/step - loss: 11.1218 - mae: 11.1218\n",
            "Epoch 86/100\n",
            "2/2 [==============================] - 0s 6ms/step - loss: 11.9643 - mae: 11.9643\n",
            "Epoch 87/100\n",
            "2/2 [==============================] - 0s 5ms/step - loss: 13.2473 - mae: 13.2473\n",
            "Epoch 88/100\n",
            "2/2 [==============================] - 0s 5ms/step - loss: 10.9204 - mae: 10.9204\n",
            "Epoch 89/100\n",
            "2/2 [==============================] - 0s 6ms/step - loss: 9.4122 - mae: 9.4122\n",
            "Epoch 90/100\n",
            "2/2 [==============================] - 0s 9ms/step - loss: 16.6343 - mae: 16.6343\n",
            "Epoch 91/100\n",
            "2/2 [==============================] - 0s 6ms/step - loss: 12.8079 - mae: 12.8079\n",
            "Epoch 92/100\n",
            "2/2 [==============================] - 0s 4ms/step - loss: 12.2530 - mae: 12.2530\n",
            "Epoch 93/100\n",
            "2/2 [==============================] - 0s 4ms/step - loss: 12.0070 - mae: 12.0070\n",
            "Epoch 94/100\n",
            "2/2 [==============================] - 0s 4ms/step - loss: 13.6343 - mae: 13.6343\n",
            "Epoch 95/100\n",
            "2/2 [==============================] - 0s 4ms/step - loss: 12.1694 - mae: 12.1694\n",
            "Epoch 96/100\n",
            "2/2 [==============================] - 0s 7ms/step - loss: 9.5165 - mae: 9.5165\n",
            "Epoch 97/100\n",
            "2/2 [==============================] - 0s 10ms/step - loss: 10.1317 - mae: 10.1317\n",
            "Epoch 98/100\n",
            "2/2 [==============================] - 0s 6ms/step - loss: 13.6890 - mae: 13.6890\n",
            "Epoch 99/100\n",
            "2/2 [==============================] - 0s 5ms/step - loss: 13.7837 - mae: 13.7837\n",
            "Epoch 100/100\n",
            "2/2 [==============================] - 0s 3ms/step - loss: 14.7681 - mae: 14.7681\n"
          ]
        },
        {
          "output_type": "execute_result",
          "data": {
            "text/plain": [
              "<keras.callbacks.History at 0x7f02c4827c10>"
            ]
          },
          "metadata": {},
          "execution_count": 53
        }
      ]
    },
    {
      "cell_type": "code",
      "metadata": {
        "colab": {
          "base_uri": "https://localhost:8080/"
        },
        "id": "HPcFf8zAWSzG",
        "outputId": "0375c7b6-54b6-4c39-c305-5a565ad6d832"
      },
      "source": [
        "model.predict([17.0])"
      ],
      "execution_count": 54,
      "outputs": [
        {
          "output_type": "execute_result",
          "data": {
            "text/plain": [
              "array([[13.438432]], dtype=float32)"
            ]
          },
          "metadata": {},
          "execution_count": 54
        }
      ]
    },
    {
      "cell_type": "markdown",
      "metadata": {
        "id": "4gFKBoVcW2YF"
      },
      "source": [
        "**Common ways to improve a deep model:**\n",
        "\n",
        "* Adding layers # We added 1 to the previous model \n",
        "* Increase the number of hidden units # our layers above are 100\n",
        "* Change the activation functions # activation= relu \n",
        "* Change the optimizer function # SGD \n",
        "\n",
        " #-----Could be the most important one -------#\n",
        "* **Change the learning rate # (lr=...) or (learning_rate=...)**\n",
        "\n",
        "* Fitting on more data\n",
        "* Fitting for longer"
      ]
    },
    {
      "cell_type": "markdown",
      "metadata": {
        "id": "x-iFzLOEZ4u3"
      },
      "source": [
        "Adjusting:"
      ]
    },
    {
      "cell_type": "code",
      "metadata": {
        "colab": {
          "base_uri": "https://localhost:8080/"
        },
        "id": "FkSSX6x0dEzc",
        "outputId": "940b1726-1e3e-48ba-baa3-98a7bbfc0931"
      },
      "source": [
        "# 1. Create the model (this time with an extra hidden layer with 100 hidden units)\n",
        "model = tf.keras.Sequential([\n",
        "  tf.keras.layers.Dense(50, activation=None),\n",
        "  tf.keras.layers.Dense(1)\n",
        "])\n",
        "\n",
        "# 2. Compile the model\n",
        "\n",
        "model.compile(loss='mae',\n",
        "              optimizer=tf.keras.optimizers.Adam(learning_rate=0.01),\n",
        "              metrics=['mae'])\n",
        "\n",
        "# 3. Fit the model\n",
        "\n",
        "model.fit(X, y, epochs=100)"
      ],
      "execution_count": 55,
      "outputs": [
        {
          "output_type": "stream",
          "name": "stdout",
          "text": [
            "Epoch 1/100\n",
            "2/2 [==============================] - 0s 5ms/step - loss: 34.1014 - mae: 34.1014\n",
            "Epoch 2/100\n",
            "2/2 [==============================] - 0s 4ms/step - loss: 16.8555 - mae: 16.8555\n",
            "Epoch 3/100\n",
            "2/2 [==============================] - 0s 4ms/step - loss: 10.1695 - mae: 10.1695\n",
            "Epoch 4/100\n",
            "2/2 [==============================] - 0s 3ms/step - loss: 14.2754 - mae: 14.2754\n",
            "Epoch 5/100\n",
            "2/2 [==============================] - 0s 5ms/step - loss: 15.6003 - mae: 15.6003\n",
            "Epoch 6/100\n",
            "2/2 [==============================] - 0s 7ms/step - loss: 11.9211 - mae: 11.9211\n",
            "Epoch 7/100\n",
            "2/2 [==============================] - 0s 4ms/step - loss: 9.5218 - mae: 9.5218\n",
            "Epoch 8/100\n",
            "2/2 [==============================] - 0s 7ms/step - loss: 9.1432 - mae: 9.1432\n",
            "Epoch 9/100\n",
            "2/2 [==============================] - 0s 12ms/step - loss: 9.7750 - mae: 9.7750\n",
            "Epoch 10/100\n",
            "2/2 [==============================] - 0s 10ms/step - loss: 9.2826 - mae: 9.2826\n",
            "Epoch 11/100\n",
            "2/2 [==============================] - 0s 7ms/step - loss: 8.2277 - mae: 8.2277\n",
            "Epoch 12/100\n",
            "2/2 [==============================] - 0s 8ms/step - loss: 8.1803 - mae: 8.1803\n",
            "Epoch 13/100\n",
            "2/2 [==============================] - 0s 7ms/step - loss: 8.1652 - mae: 8.1652\n",
            "Epoch 14/100\n",
            "2/2 [==============================] - 0s 7ms/step - loss: 8.1982 - mae: 8.1982\n",
            "Epoch 15/100\n",
            "2/2 [==============================] - 0s 4ms/step - loss: 7.8944 - mae: 7.8944\n",
            "Epoch 16/100\n",
            "2/2 [==============================] - 0s 8ms/step - loss: 7.7217 - mae: 7.7217\n",
            "Epoch 17/100\n",
            "2/2 [==============================] - 0s 9ms/step - loss: 7.4135 - mae: 7.4135\n",
            "Epoch 18/100\n",
            "2/2 [==============================] - 0s 8ms/step - loss: 7.1627 - mae: 7.1627\n",
            "Epoch 19/100\n",
            "2/2 [==============================] - 0s 8ms/step - loss: 6.8883 - mae: 6.8883\n",
            "Epoch 20/100\n",
            "2/2 [==============================] - 0s 9ms/step - loss: 6.5920 - mae: 6.5920\n",
            "Epoch 21/100\n",
            "2/2 [==============================] - 0s 7ms/step - loss: 6.6431 - mae: 6.6431\n",
            "Epoch 22/100\n",
            "2/2 [==============================] - 0s 4ms/step - loss: 6.3091 - mae: 6.3091\n",
            "Epoch 23/100\n",
            "2/2 [==============================] - 0s 5ms/step - loss: 5.8754 - mae: 5.8754\n",
            "Epoch 24/100\n",
            "2/2 [==============================] - 0s 7ms/step - loss: 5.6537 - mae: 5.6537\n",
            "Epoch 25/100\n",
            "2/2 [==============================] - 0s 7ms/step - loss: 5.4714 - mae: 5.4714\n",
            "Epoch 26/100\n",
            "2/2 [==============================] - 0s 5ms/step - loss: 5.1910 - mae: 5.1910\n",
            "Epoch 27/100\n",
            "2/2 [==============================] - 0s 5ms/step - loss: 4.9147 - mae: 4.9147\n",
            "Epoch 28/100\n",
            "2/2 [==============================] - 0s 7ms/step - loss: 4.6105 - mae: 4.6105\n",
            "Epoch 29/100\n",
            "2/2 [==============================] - 0s 5ms/step - loss: 4.2803 - mae: 4.2803\n",
            "Epoch 30/100\n",
            "2/2 [==============================] - 0s 4ms/step - loss: 3.9524 - mae: 3.9524\n",
            "Epoch 31/100\n",
            "2/2 [==============================] - 0s 6ms/step - loss: 3.6279 - mae: 3.6279\n",
            "Epoch 32/100\n",
            "2/2 [==============================] - 0s 6ms/step - loss: 3.1432 - mae: 3.1432\n",
            "Epoch 33/100\n",
            "2/2 [==============================] - 0s 5ms/step - loss: 2.8147 - mae: 2.8147\n",
            "Epoch 34/100\n",
            "2/2 [==============================] - 0s 8ms/step - loss: 2.4451 - mae: 2.4451\n",
            "Epoch 35/100\n",
            "2/2 [==============================] - 0s 5ms/step - loss: 1.9067 - mae: 1.9067\n",
            "Epoch 36/100\n",
            "2/2 [==============================] - 0s 8ms/step - loss: 1.3980 - mae: 1.3980\n",
            "Epoch 37/100\n",
            "2/2 [==============================] - 0s 5ms/step - loss: 0.9894 - mae: 0.9894\n",
            "Epoch 38/100\n",
            "2/2 [==============================] - 0s 7ms/step - loss: 1.2196 - mae: 1.2196\n",
            "Epoch 39/100\n",
            "2/2 [==============================] - 0s 5ms/step - loss: 0.8439 - mae: 0.8439\n",
            "Epoch 40/100\n",
            "2/2 [==============================] - 0s 8ms/step - loss: 1.3333 - mae: 1.3333\n",
            "Epoch 41/100\n",
            "2/2 [==============================] - 0s 7ms/step - loss: 1.2109 - mae: 1.2109\n",
            "Epoch 42/100\n",
            "2/2 [==============================] - 0s 8ms/step - loss: 1.6720 - mae: 1.6720\n",
            "Epoch 43/100\n",
            "2/2 [==============================] - 0s 4ms/step - loss: 1.2987 - mae: 1.2987\n",
            "Epoch 44/100\n",
            "2/2 [==============================] - 0s 11ms/step - loss: 1.4642 - mae: 1.4642\n",
            "Epoch 45/100\n",
            "2/2 [==============================] - 0s 6ms/step - loss: 1.2411 - mae: 1.2411\n",
            "Epoch 46/100\n",
            "2/2 [==============================] - 0s 4ms/step - loss: 1.1990 - mae: 1.1990\n",
            "Epoch 47/100\n",
            "2/2 [==============================] - 0s 6ms/step - loss: 1.2329 - mae: 1.2329\n",
            "Epoch 48/100\n",
            "2/2 [==============================] - 0s 7ms/step - loss: 1.5066 - mae: 1.5066\n",
            "Epoch 49/100\n",
            "2/2 [==============================] - 0s 6ms/step - loss: 1.3855 - mae: 1.3855\n",
            "Epoch 50/100\n",
            "2/2 [==============================] - 0s 7ms/step - loss: 0.9279 - mae: 0.9279\n",
            "Epoch 51/100\n",
            "2/2 [==============================] - 0s 6ms/step - loss: 3.2324 - mae: 3.2324\n",
            "Epoch 52/100\n",
            "2/2 [==============================] - 0s 7ms/step - loss: 1.3238 - mae: 1.3238\n",
            "Epoch 53/100\n",
            "2/2 [==============================] - 0s 4ms/step - loss: 5.3155 - mae: 5.3155\n",
            "Epoch 54/100\n",
            "2/2 [==============================] - 0s 4ms/step - loss: 2.8740 - mae: 2.8740\n",
            "Epoch 55/100\n",
            "2/2 [==============================] - 0s 5ms/step - loss: 4.0095 - mae: 4.0095\n",
            "Epoch 56/100\n",
            "2/2 [==============================] - 0s 5ms/step - loss: 5.1612 - mae: 5.1612\n",
            "Epoch 57/100\n",
            "2/2 [==============================] - 0s 3ms/step - loss: 1.7047 - mae: 1.7047\n",
            "Epoch 58/100\n",
            "2/2 [==============================] - 0s 7ms/step - loss: 3.8297 - mae: 3.8297\n",
            "Epoch 59/100\n",
            "2/2 [==============================] - 0s 15ms/step - loss: 2.1398 - mae: 2.1398\n",
            "Epoch 60/100\n",
            "2/2 [==============================] - 0s 4ms/step - loss: 2.8525 - mae: 2.8525\n",
            "Epoch 61/100\n",
            "2/2 [==============================] - 0s 4ms/step - loss: 2.6786 - mae: 2.6786\n",
            "Epoch 62/100\n",
            "2/2 [==============================] - 0s 5ms/step - loss: 1.7522 - mae: 1.7522\n",
            "Epoch 63/100\n",
            "2/2 [==============================] - 0s 4ms/step - loss: 1.9065 - mae: 1.9065\n",
            "Epoch 64/100\n",
            "2/2 [==============================] - 0s 6ms/step - loss: 1.8334 - mae: 1.8334\n",
            "Epoch 65/100\n",
            "2/2 [==============================] - 0s 5ms/step - loss: 1.3553 - mae: 1.3553\n",
            "Epoch 66/100\n",
            "2/2 [==============================] - 0s 8ms/step - loss: 2.1979 - mae: 2.1979\n",
            "Epoch 67/100\n",
            "2/2 [==============================] - 0s 5ms/step - loss: 1.2879 - mae: 1.2879\n",
            "Epoch 68/100\n",
            "2/2 [==============================] - 0s 7ms/step - loss: 1.6182 - mae: 1.6182\n",
            "Epoch 69/100\n",
            "2/2 [==============================] - 0s 5ms/step - loss: 0.6219 - mae: 0.6219\n",
            "Epoch 70/100\n",
            "2/2 [==============================] - 0s 4ms/step - loss: 1.3373 - mae: 1.3373\n",
            "Epoch 71/100\n",
            "2/2 [==============================] - 0s 5ms/step - loss: 1.9308 - mae: 1.9308\n",
            "Epoch 72/100\n",
            "2/2 [==============================] - 0s 11ms/step - loss: 1.0566 - mae: 1.0566\n",
            "Epoch 73/100\n",
            "2/2 [==============================] - 0s 7ms/step - loss: 0.5886 - mae: 0.5886\n",
            "Epoch 74/100\n",
            "2/2 [==============================] - 0s 8ms/step - loss: 0.3746 - mae: 0.3746\n",
            "Epoch 75/100\n",
            "2/2 [==============================] - 0s 6ms/step - loss: 0.1777 - mae: 0.1777\n",
            "Epoch 76/100\n",
            "2/2 [==============================] - 0s 4ms/step - loss: 0.7090 - mae: 0.7090\n",
            "Epoch 77/100\n",
            "2/2 [==============================] - 0s 4ms/step - loss: 1.0163 - mae: 1.0163\n",
            "Epoch 78/100\n",
            "2/2 [==============================] - 0s 3ms/step - loss: 0.3739 - mae: 0.3739\n",
            "Epoch 79/100\n",
            "2/2 [==============================] - 0s 3ms/step - loss: 0.6680 - mae: 0.6680\n",
            "Epoch 80/100\n",
            "2/2 [==============================] - 0s 7ms/step - loss: 0.5485 - mae: 0.5485\n",
            "Epoch 81/100\n",
            "2/2 [==============================] - 0s 6ms/step - loss: 0.6794 - mae: 0.6794\n",
            "Epoch 82/100\n",
            "2/2 [==============================] - 0s 3ms/step - loss: 0.4882 - mae: 0.4882\n",
            "Epoch 83/100\n",
            "2/2 [==============================] - 0s 4ms/step - loss: 1.2413 - mae: 1.2413\n",
            "Epoch 84/100\n",
            "2/2 [==============================] - 0s 9ms/step - loss: 1.4838 - mae: 1.4838\n",
            "Epoch 85/100\n",
            "2/2 [==============================] - 0s 5ms/step - loss: 0.9323 - mae: 0.9323\n",
            "Epoch 86/100\n",
            "2/2 [==============================] - 0s 5ms/step - loss: 0.5261 - mae: 0.5261\n",
            "Epoch 87/100\n",
            "2/2 [==============================] - 0s 3ms/step - loss: 0.3375 - mae: 0.3375\n",
            "Epoch 88/100\n",
            "2/2 [==============================] - 0s 6ms/step - loss: 0.6471 - mae: 0.6471\n",
            "Epoch 89/100\n",
            "2/2 [==============================] - 0s 9ms/step - loss: 0.5118 - mae: 0.5118\n",
            "Epoch 90/100\n",
            "2/2 [==============================] - 0s 4ms/step - loss: 0.2007 - mae: 0.2007\n",
            "Epoch 91/100\n",
            "2/2 [==============================] - 0s 5ms/step - loss: 0.2353 - mae: 0.2353\n",
            "Epoch 92/100\n",
            "2/2 [==============================] - 0s 5ms/step - loss: 0.2660 - mae: 0.2660\n",
            "Epoch 93/100\n",
            "2/2 [==============================] - 0s 7ms/step - loss: 0.1750 - mae: 0.1750\n",
            "Epoch 94/100\n",
            "2/2 [==============================] - 0s 6ms/step - loss: 0.2615 - mae: 0.2615\n",
            "Epoch 95/100\n",
            "2/2 [==============================] - 0s 4ms/step - loss: 0.4011 - mae: 0.4011\n",
            "Epoch 96/100\n",
            "2/2 [==============================] - 0s 19ms/step - loss: 0.5875 - mae: 0.5875\n",
            "Epoch 97/100\n",
            "2/2 [==============================] - 0s 9ms/step - loss: 0.5759 - mae: 0.5759\n",
            "Epoch 98/100\n",
            "2/2 [==============================] - 0s 4ms/step - loss: 0.5090 - mae: 0.5090\n",
            "Epoch 99/100\n",
            "2/2 [==============================] - 0s 5ms/step - loss: 0.6018 - mae: 0.6018\n",
            "Epoch 100/100\n",
            "2/2 [==============================] - 0s 5ms/step - loss: 0.1080 - mae: 0.1080\n"
          ]
        },
        {
          "output_type": "execute_result",
          "data": {
            "text/plain": [
              "<keras.callbacks.History at 0x7f02c47b4890>"
            ]
          },
          "metadata": {},
          "execution_count": 55
        }
      ]
    },
    {
      "cell_type": "code",
      "metadata": {
        "colab": {
          "base_uri": "https://localhost:8080/"
        },
        "id": "VBNHdOOLdb84",
        "outputId": "d6f2db3f-be67-4fa3-9dd6-af7026654b46"
      },
      "source": [
        "X, y"
      ],
      "execution_count": 56,
      "outputs": [
        {
          "output_type": "execute_result",
          "data": {
            "text/plain": [
              "(<tf.Tensor: shape=(50,), dtype=int32, numpy=\n",
              " array([-100,  -96,  -92,  -88,  -84,  -80,  -76,  -72,  -68,  -64,  -60,\n",
              "         -56,  -52,  -48,  -44,  -40,  -36,  -32,  -28,  -24,  -20,  -16,\n",
              "         -12,   -8,   -4,    0,    4,    8,   12,   16,   20,   24,   28,\n",
              "          32,   36,   40,   44,   48,   52,   56,   60,   64,   68,   72,\n",
              "          76,   80,   84,   88,   92,   96], dtype=int32)>,\n",
              " <tf.Tensor: shape=(50,), dtype=int32, numpy=\n",
              " array([-90, -86, -82, -78, -74, -70, -66, -62, -58, -54, -50, -46, -42,\n",
              "        -38, -34, -30, -26, -22, -18, -14, -10,  -6,  -2,   2,   6,  10,\n",
              "         14,  18,  22,  26,  30,  34,  38,  42,  46,  50,  54,  58,  62,\n",
              "         66,  70,  74,  78,  82,  86,  90,  94,  98, 102, 106], dtype=int32)>)"
            ]
          },
          "metadata": {},
          "execution_count": 56
        }
      ]
    },
    {
      "cell_type": "code",
      "metadata": {
        "colab": {
          "base_uri": "https://localhost:8080/"
        },
        "id": "2572Lb10djId",
        "outputId": "f14e26fe-e72e-407f-efd1-28e4f6eb3c6f"
      },
      "source": [
        "model.predict([17.0])"
      ],
      "execution_count": 57,
      "outputs": [
        {
          "output_type": "execute_result",
          "data": {
            "text/plain": [
              "array([[27.238905]], dtype=float32)"
            ]
          },
          "metadata": {},
          "execution_count": 57
        }
      ]
    },
    {
      "cell_type": "markdown",
      "metadata": {
        "id": "nAc8fcvJdmLh"
      },
      "source": [
        "## Evaluating a model"
      ]
    },
    {
      "cell_type": "markdown",
      "metadata": {
        "id": "W9PtHSjCd_i7"
      },
      "source": [
        "In practice, a typical workflow you will go through when building neural networks is:   \n",
        "```\n",
        "Build a model -> fit it -> evaluate it -> tweak a model ->\n",
        "fit it -> evaluate it -> tweak it -> fit it -> evaluate it...\n",
        "```\n",
        "\n",
        "When it comes to evaluation...\n",
        "\n",
        "> \" Visualise, visualise, visualise\""
      ]
    },
    {
      "cell_type": "markdown",
      "metadata": {
        "id": "iE4xp9xff-Hv"
      },
      "source": [
        "It's a good idea to visualise:\n",
        "* The data - what data are we working with? What does it look like?\n",
        "* The model itself - what does the model look like?\n",
        "* The training of a model - how does a model perform while it learns?\n",
        "* The prediction of the model - how do the predictions of a model line up \n",
        "against the ground truth (the original labels)?"
      ]
    },
    {
      "cell_type": "code",
      "metadata": {
        "colab": {
          "base_uri": "https://localhost:8080/"
        },
        "id": "TpuXnXGyhEp5",
        "outputId": "7bfd74ab-7b6d-43be-86a4-6cbb3c32890c"
      },
      "source": [
        "# Make a bigger dataset \n",
        "\n",
        "X = tf.range(-100, 100, 4)\n",
        "X"
      ],
      "execution_count": 24,
      "outputs": [
        {
          "output_type": "execute_result",
          "data": {
            "text/plain": [
              "<tf.Tensor: shape=(50,), dtype=int32, numpy=\n",
              "array([-100,  -96,  -92,  -88,  -84,  -80,  -76,  -72,  -68,  -64,  -60,\n",
              "        -56,  -52,  -48,  -44,  -40,  -36,  -32,  -28,  -24,  -20,  -16,\n",
              "        -12,   -8,   -4,    0,    4,    8,   12,   16,   20,   24,   28,\n",
              "         32,   36,   40,   44,   48,   52,   56,   60,   64,   68,   72,\n",
              "         76,   80,   84,   88,   92,   96], dtype=int32)>"
            ]
          },
          "metadata": {},
          "execution_count": 24
        }
      ]
    },
    {
      "cell_type": "code",
      "metadata": {
        "colab": {
          "base_uri": "https://localhost:8080/"
        },
        "id": "ttqn_sCahYSO",
        "outputId": "b42e6940-b1e0-4140-b5f3-52ec0e4f079b"
      },
      "source": [
        "# Make labels for the dataset\n",
        "\n",
        "y = X + 10\n",
        "y"
      ],
      "execution_count": 25,
      "outputs": [
        {
          "output_type": "execute_result",
          "data": {
            "text/plain": [
              "<tf.Tensor: shape=(50,), dtype=int32, numpy=\n",
              "array([-90, -86, -82, -78, -74, -70, -66, -62, -58, -54, -50, -46, -42,\n",
              "       -38, -34, -30, -26, -22, -18, -14, -10,  -6,  -2,   2,   6,  10,\n",
              "        14,  18,  22,  26,  30,  34,  38,  42,  46,  50,  54,  58,  62,\n",
              "        66,  70,  74,  78,  82,  86,  90,  94,  98, 102, 106], dtype=int32)>"
            ]
          },
          "metadata": {},
          "execution_count": 25
        }
      ]
    },
    {
      "cell_type": "code",
      "metadata": {
        "colab": {
          "base_uri": "https://localhost:8080/",
          "height": 265
        },
        "id": "Xvpy_opthuok",
        "outputId": "e5bb6430-c869-4b13-9580-c967c71bb991"
      },
      "source": [
        "# Visualise the data\n",
        "import matplotlib.pyplot as plt\n",
        "\n",
        "plt.scatter(X, y);"
      ],
      "execution_count": 26,
      "outputs": [
        {
          "output_type": "display_data",
          "data": {
            "image/png": "[encoded data removed]",
            "text/plain": [
              "<Figure size 432x288 with 1 Axes>"
            ]
          },
          "metadata": {
            "needs_background": "light"
          }
        }
      ]
    },
    {
      "cell_type": "markdown",
      "metadata": {
        "id": "H4hJ4scziAK-"
      },
      "source": [
        "### The 3 sets...\n",
        "\n",
        "* **Training set**   - the model learns from this data, which is typically 70-80 % of the total data you have available.\n",
        "* **Validation set** - the model gets tuned on this data, which is typically 10-15% \n",
        "of the data.\n",
        "* **Test set** - the model gets evaluated on this data to test what is has learned,\n",
        "this set is typically 10-15% of the total data availability."
      ]
    },
    {
      "cell_type": "code",
      "metadata": {
        "id": "U2fuj7JpiTQ_",
        "colab": {
          "base_uri": "https://localhost:8080/"
        },
        "outputId": "282f2025-b862-4451-c367-608c2f3720b7"
      },
      "source": [
        "# Check the length of samples we have\n",
        "len(X)"
      ],
      "execution_count": 27,
      "outputs": [
        {
          "output_type": "execute_result",
          "data": {
            "text/plain": [
              "50"
            ]
          },
          "metadata": {},
          "execution_count": 27
        }
      ]
    },
    {
      "cell_type": "code",
      "metadata": {
        "colab": {
          "base_uri": "https://localhost:8080/"
        },
        "id": "46JmVZnqyMZY",
        "outputId": "b1152da3-56c6-427d-f9e6-29bbb3751d41"
      },
      "source": [
        "# Split the data into train and test sets\n",
        "X_train = X[:40] # first 40 are training samples (80% of the data)\n",
        "y_train = y[:40]\n",
        "\n",
        "X_test = X[40:] # last 10 are the testing samples (20% of the data)\n",
        "y_test = y[40:]\n",
        "\n",
        "len(X_train), len(X_test)"
      ],
      "execution_count": 28,
      "outputs": [
        {
          "output_type": "execute_result",
          "data": {
            "text/plain": [
              "(40, 10)"
            ]
          },
          "metadata": {},
          "execution_count": 28
        }
      ]
    },
    {
      "cell_type": "code",
      "metadata": {
        "colab": {
          "base_uri": "https://localhost:8080/"
        },
        "id": "4HuKA26eziKA",
        "outputId": "0e7e19b6-c7e4-45d7-8465-64bc1eb58ba8"
      },
      "source": [
        "len(y_train), len(y_test)"
      ],
      "execution_count": 29,
      "outputs": [
        {
          "output_type": "execute_result",
          "data": {
            "text/plain": [
              "(40, 10)"
            ]
          },
          "metadata": {},
          "execution_count": 29
        }
      ]
    },
    {
      "cell_type": "markdown",
      "metadata": {
        "id": "UMtSKNOEznMX"
      },
      "source": [
        "### Visualise the data\n",
        "\n",
        "Now that we have our data into training and test sets. Let us visualise it."
      ]
    },
    {
      "cell_type": "code",
      "metadata": {
        "colab": {
          "base_uri": "https://localhost:8080/",
          "height": 428
        },
        "id": "vl7SeuLr0Kb7",
        "outputId": "50abc785-de20-489e-dacb-bfc4a99161ff"
      },
      "source": [
        "plt.figure(figsize=(10, 7))\n",
        "\n",
        "plt.scatter(X_train, y_train, c='g', label=\"Training data\")\n",
        "\n",
        "plt.scatter(X_test, y_test, c='b', label='Test data')\n",
        "\n",
        "plt.legend();"
      ],
      "execution_count": 30,
      "outputs": [
        {
          "output_type": "display_data",
          "data": {
            "image/png": "[encoded data removed]",
            "text/plain": [
              "<Figure size 720x504 with 1 Axes>"
            ]
          },
          "metadata": {
            "needs_background": "light"
          }
        }
      ]
    },
    {
      "cell_type": "code",
      "metadata": {
        "id": "gdGzWlww1D3a"
      },
      "source": [
        "# How to build a neural network for our data\n",
        "\n",
        "# 1. Create a m ode\n",
        "\n",
        "model = tf.keras.Sequential([\n",
        "    tf.keras.layers.Dense(1)\n",
        "])\n",
        "\n",
        "\n",
        "# 2. Compile the model\n",
        "\n",
        "model.compile(\n",
        "    loss=tf.keras.losses.mae,\n",
        "    optimizer=tf.keras.optimizers.SGD(),\n",
        "    metrics=['mae']\n",
        ")\n",
        "\n",
        "# 3. Fit the model\n",
        "\n",
        "# model.fit(X_train, y_train, epochs=100)\n",
        "\n"
      ],
      "execution_count": 31,
      "outputs": []
    },
    {
      "cell_type": "markdown",
      "metadata": {
        "id": "lgsdjVYf4mvM"
      },
      "source": [
        "### Visualising the model "
      ]
    },
    {
      "cell_type": "markdown",
      "metadata": {
        "id": "sSOLMJjF5I0D"
      },
      "source": [
        "The following code will error out:"
      ]
    },
    {
      "cell_type": "code",
      "metadata": {
        "id": "JHw-HMx44xcv"
      },
      "source": [
        "#-------------error out---------------#\n",
        "\n",
        "# model.summary()"
      ],
      "execution_count": 32,
      "outputs": []
    },
    {
      "cell_type": "code",
      "metadata": {
        "id": "dAB5i1BV5F_j"
      },
      "source": [
        "# Create a model which builds automatically by defining the input_shape argument in the first layer\n",
        "\n",
        "tf.random.set_seed(42)\n",
        "\n",
        "# 1. Create a model \n",
        "model = tf.keras.Sequential([\n",
        "    tf.keras.layers.Dense(10, input_shape=[1])\n",
        "])\n",
        "\n",
        "# 2. Compile the model\n",
        "model.compile(loss=tf.keras.losses.mae,\n",
        "              optimizer=tf.keras.optimizers.SGD(),\n",
        "              metrics=['mae'])\n",
        "\n"
      ],
      "execution_count": 33,
      "outputs": []
    },
    {
      "cell_type": "code",
      "metadata": {
        "colab": {
          "base_uri": "https://localhost:8080/"
        },
        "id": "bTLsX6mJ7DxR",
        "outputId": "e11f6b98-484d-4edb-e69d-2ee227f06f6a"
      },
      "source": [
        "model.summary()"
      ],
      "execution_count": 58,
      "outputs": [
        {
          "output_type": "stream",
          "name": "stdout",
          "text": [
            "Model: \"sequential_8\"\n",
            "_________________________________________________________________\n",
            "Layer (type)                 Output Shape              Param #   \n",
            "=================================================================\n",
            "dense_12 (Dense)             (None, 50)                100       \n",
            "_________________________________________________________________\n",
            "dense_13 (Dense)             (None, 1)                 51        \n",
            "=================================================================\n",
            "Total params: 151\n",
            "Trainable params: 151\n",
            "Non-trainable params: 0\n",
            "_________________________________________________________________\n"
          ]
        }
      ]
    },
    {
      "cell_type": "markdown",
      "metadata": {
        "id": "Drv7S7xF7F-Y"
      },
      "source": [
        "* Total params - total number of params in the model.\n",
        "* Trainable params - these are the parameters (patterns)\n",
        "the model can update as it trains.\n",
        "* Non-trainable params - these parameters are not updated during training (this is typical when you bring in already learned patterns or parameters from other models during **transfer learning**)"
      ]
    },
    {
      "cell_type": "markdown",
      "metadata": {
        "id": "_ivyHNKG8y5K"
      },
      "source": [
        "📖 **Resource:** 📖\n",
        "\n",
        "For a more in-depth overview of the trainable parameters within a layer, check out MIT's Introduction to deep-learning video:\n",
        "\n",
        "http://introtodeeplearning.com/"
      ]
    },
    {
      "cell_type": "code",
      "metadata": {
        "colab": {
          "base_uri": "https://localhost:8080/"
        },
        "id": "5_B7193jARjH",
        "outputId": "34cc53f4-3e66-49d2-d8be-98da928ff4e6"
      },
      "source": [
        "# Fitting our model to the training data\n",
        "\n",
        "model.fit(X_train, y_train, epochs=100, verbose=0)"
      ],
      "execution_count": 59,
      "outputs": [
        {
          "output_type": "execute_result",
          "data": {
            "text/plain": [
              "<keras.callbacks.History at 0x7f02c4724610>"
            ]
          },
          "metadata": {},
          "execution_count": 59
        }
      ]
    },
    {
      "cell_type": "code",
      "metadata": {
        "id": "HfNZtrFGBxeA",
        "colab": {
          "base_uri": "https://localhost:8080/"
        },
        "outputId": "69d3873d-5a30-4780-9192-c9084c791d55"
      },
      "source": [
        "# Get a summary of the model \n",
        "\n",
        "model.summary()"
      ],
      "execution_count": 60,
      "outputs": [
        {
          "output_type": "stream",
          "name": "stdout",
          "text": [
            "Model: \"sequential_8\"\n",
            "_________________________________________________________________\n",
            "Layer (type)                 Output Shape              Param #   \n",
            "=================================================================\n",
            "dense_12 (Dense)             (None, 50)                100       \n",
            "_________________________________________________________________\n",
            "dense_13 (Dense)             (None, 1)                 51        \n",
            "=================================================================\n",
            "Total params: 151\n",
            "Trainable params: 151\n",
            "Non-trainable params: 0\n",
            "_________________________________________________________________\n"
          ]
        }
      ]
    },
    {
      "cell_type": "code",
      "metadata": {
        "id": "u1PKTw8Ivb6x"
      },
      "source": [
        "from tensorflow.keras.utils import plot_model\n",
        "\n"
      ],
      "execution_count": 37,
      "outputs": []
    },
    {
      "cell_type": "code",
      "metadata": {
        "colab": {
          "base_uri": "https://localhost:8080/",
          "height": 174
        },
        "id": "8BxnYT0vwYPb",
        "outputId": "050cf841-2701-4d1b-c22e-724eac2e425e"
      },
      "source": [
        "plot_model(model=model)"
      ],
      "execution_count": 38,
      "outputs": [
        {
          "output_type": "execute_result",
          "data": {
            "image/png": "[encoded data removed]",
            "text/plain": [
              "<IPython.core.display.Image object>"
            ]
          },
          "metadata": {},
          "execution_count": 38
        }
      ]
    },
    {
      "cell_type": "code",
      "metadata": {
        "colab": {
          "base_uri": "https://localhost:8080/",
          "height": 201
        },
        "id": "0MMx61Qewjb5",
        "outputId": "37c36c9b-9009-4184-addd-18b2836a0f53"
      },
      "source": [
        "plot_model(model=model, show_shapes=True)"
      ],
      "execution_count": 39,
      "outputs": [
        {
          "output_type": "execute_result",
          "data": {
            "image/png": "[encoded data removed]",
            "text/plain": [
              "<IPython.core.display.Image object>"
            ]
          },
          "metadata": {},
          "execution_count": 39
        }
      ]
    },
    {
      "cell_type": "code",
      "metadata": {
        "id": "k2qf1jLwwzXd"
      },
      "source": [
        "tf.random.set_seed(42)\n",
        "\n",
        "# 1. Create a model \n",
        "model = tf.keras.Sequential([\n",
        "    tf.keras.layers.Dense(10, input_shape=[1], name='input_layer'),\n",
        "    tf.keras.layers.Dense(1, name='output_layer')\n",
        "], name='model_1')\n",
        "\n",
        "# 2. Compile the model\n",
        "model.compile(loss=tf.keras.losses.mae,\n",
        "              optimizer=tf.keras.optimizers.SGD(),\n",
        "              metrics=['mae'])"
      ],
      "execution_count": 40,
      "outputs": []
    },
    {
      "cell_type": "code",
      "metadata": {
        "colab": {
          "base_uri": "https://localhost:8080/"
        },
        "id": "iOcAYFKvyBZ5",
        "outputId": "7732df63-2fb9-4f84-881f-f5c796ca7e36"
      },
      "source": [
        "model.summary()"
      ],
      "execution_count": 41,
      "outputs": [
        {
          "output_type": "stream",
          "name": "stdout",
          "text": [
            "Model: \"model_1\"\n",
            "_________________________________________________________________\n",
            "Layer (type)                 Output Shape              Param #   \n",
            "=================================================================\n",
            "input_layer (Dense)          (None, 10)                20        \n",
            "_________________________________________________________________\n",
            "output_layer (Dense)         (None, 1)                 11        \n",
            "=================================================================\n",
            "Total params: 31\n",
            "Trainable params: 31\n",
            "Non-trainable params: 0\n",
            "_________________________________________________________________\n"
          ]
        }
      ]
    },
    {
      "cell_type": "code",
      "metadata": {
        "colab": {
          "base_uri": "https://localhost:8080/",
          "height": 312
        },
        "id": "QsO3unIcxztn",
        "outputId": "a5b2298c-3336-4a16-80c9-85378f61f859"
      },
      "source": [
        "plot_model(model=model, show_shapes=True)"
      ],
      "execution_count": 42,
      "outputs": [
        {
          "output_type": "execute_result",
          "data": {
            "image/png": "[encoded data removed]",
            "text/plain": [
              "<IPython.core.display.Image object>"
            ]
          },
          "metadata": {},
          "execution_count": 42
        }
      ]
    },
    {
      "cell_type": "markdown",
      "metadata": {
        "id": "tdRV78Ssx-Eg"
      },
      "source": [
        "### Visualising our model's predictions"
      ]
    },
    {
      "cell_type": "markdown",
      "metadata": {
        "id": "oomw9-v3zDa2"
      },
      "source": [
        "To visualise predictions, it's a good idea to plot them against the ground truth labels.\n",
        "\n",
        "Often we will see this in the form `y_test` or `y_true` vs. `y_pred`(ground truth versus your model's predictions)."
      ]
    },
    {
      "cell_type": "code",
      "metadata": {
        "colab": {
          "base_uri": "https://localhost:8080/"
        },
        "id": "olWgO8M1z_Og",
        "outputId": "ec6b7466-e06c-4c62-e24f-a34370bd1608"
      },
      "source": [
        "# Make some predictions\n",
        "\n",
        "y_pred = model.predict(X_test)\n",
        "y_pred"
      ],
      "execution_count": 64,
      "outputs": [
        {
          "output_type": "execute_result",
          "data": {
            "text/plain": [
              "array([[ 71.00374 ],\n",
              "       [ 75.07956 ],\n",
              "       [ 79.155365],\n",
              "       [ 83.23118 ],\n",
              "       [ 87.307   ],\n",
              "       [ 91.382805],\n",
              "       [ 95.458626],\n",
              "       [ 99.534424],\n",
              "       [103.610245],\n",
              "       [107.686066]], dtype=float32)"
            ]
          },
          "metadata": {},
          "execution_count": 64
        }
      ]
    },
    {
      "cell_type": "code",
      "metadata": {
        "colab": {
          "base_uri": "https://localhost:8080/"
        },
        "id": "tv5cMp910YHn",
        "outputId": "dcba5842-22a6-49ea-f49c-1a6f96e22b08"
      },
      "source": [
        "y_test"
      ],
      "execution_count": 65,
      "outputs": [
        {
          "output_type": "execute_result",
          "data": {
            "text/plain": [
              "<tf.Tensor: shape=(10,), dtype=int32, numpy=array([ 70,  74,  78,  82,  86,  90,  94,  98, 102, 106], dtype=int32)>"
            ]
          },
          "metadata": {},
          "execution_count": 65
        }
      ]
    },
    {
      "cell_type": "markdown",
      "metadata": {
        "id": "iuDrVIDI3KFq"
      },
      "source": [
        "🔑 **Note:** If you feel like you are going to reuse some kind of functunality in the future, it is a good idea to turn it into a function.🔑 "
      ]
    },
    {
      "cell_type": "code",
      "metadata": {
        "id": "G_rTnb-R1K4G"
      },
      "source": [
        "# Create a plotting function\n",
        "\n",
        "def plot_predictions(train_data=X_train,\n",
        "                     train_labels=y_train,\n",
        "                     test_data=X_test,\n",
        "                     test_labels=y_test,\n",
        "                     predictions=y_pred\n",
        "                     ):\n",
        "  \"\"\"\n",
        "  Plots training data, test data and compares predictions to ground truth labels.\n",
        "  \"\"\"\n",
        "\n",
        "  plt.figure(figsize=(10, 7))\n",
        "  # Plot training data in blue\n",
        "  plt.scatter(train_data, train_labels, c='b', label='Training data')\n",
        "  # Plot test data in green \n",
        "  plt.scatter(test_data, test_labels, c='g', label='Testing data')\n",
        "  # Plot predictions in red\n",
        "  plt.scatter(test_data, predictions, c='r', label='Predictions')\n",
        "\n",
        "  # Show the legend\n",
        "  plt.legend();\n"
      ],
      "execution_count": 66,
      "outputs": []
    },
    {
      "cell_type": "code",
      "metadata": {
        "colab": {
          "base_uri": "https://localhost:8080/",
          "height": 428
        },
        "id": "mbRTvwlD8NOE",
        "outputId": "e052c34e-fffd-41f2-aebb-56e280334895"
      },
      "source": [
        "plot_predictions()"
      ],
      "execution_count": 67,
      "outputs": [
        {
          "output_type": "display_data",
          "data": {
            "image/png": "[encoded data removed]",
            "text/plain": [
              "<Figure size 720x504 with 1 Axes>"
            ]
          },
          "metadata": {
            "needs_background": "light"
          }
        }
      ]
    },
    {
      "cell_type": "code",
      "metadata": {
        "colab": {
          "base_uri": "https://localhost:8080/"
        },
        "id": "A67i1Msm8Yn8",
        "outputId": "08df43bb-370b-4f92-9b8e-b2d48d637cd0"
      },
      "source": [
        "model.predict([17.0])"
      ],
      "execution_count": 63,
      "outputs": [
        {
          "output_type": "execute_result",
          "data": {
            "text/plain": [
              "array([[27.188744]], dtype=float32)"
            ]
          },
          "metadata": {},
          "execution_count": 63
        }
      ]
    },
    {
      "cell_type": "markdown",
      "metadata": {
        "id": "LHVfJLVm-JCH"
      },
      "source": [
        "### Evaluating our model's predictions with regression evaluation metrics\n",
        "\n",
        "Depending on the problem we are working on, there will be different evaluation metrics to evaluatethe model's performance.\n",
        "\n",
        "Since we are working on regression, two of the main metrics are:\n",
        "* MAE - Mean Absolute Error, \"On average, how wrong is each of my model's predictions\".\n",
        "* MSE - Mean Squared Error, \"Square the average error\"."
      ]
    },
    {
      "cell_type": "code",
      "metadata": {
        "colab": {
          "base_uri": "https://localhost:8080/"
        },
        "id": "HkFN-pv6tz3y",
        "outputId": "57df11c1-8774-4e45-838b-c2d40aad0134"
      },
      "source": [
        "# Evaluate the model on the test\n",
        "model.evaluate(X_test, y_test)"
      ],
      "execution_count": 68,
      "outputs": [
        {
          "output_type": "stream",
          "name": "stdout",
          "text": [
            "1/1 [==============================] - 0s 121ms/step - loss: 1.3449 - mae: 1.3449\n"
          ]
        },
        {
          "output_type": "execute_result",
          "data": {
            "text/plain": [
              "[1.344896674156189, 1.344896674156189]"
            ]
          },
          "metadata": {},
          "execution_count": 68
        }
      ]
    },
    {
      "cell_type": "code",
      "metadata": {
        "colab": {
          "base_uri": "https://localhost:8080/"
        },
        "id": "lZ57-DvCvyxn",
        "outputId": "321ce819-bde7-4f84-dafd-cb0a288a0159"
      },
      "source": [
        "y_pred"
      ],
      "execution_count": 69,
      "outputs": [
        {
          "output_type": "execute_result",
          "data": {
            "text/plain": [
              "array([[ 71.00374 ],\n",
              "       [ 75.07956 ],\n",
              "       [ 79.155365],\n",
              "       [ 83.23118 ],\n",
              "       [ 87.307   ],\n",
              "       [ 91.382805],\n",
              "       [ 95.458626],\n",
              "       [ 99.534424],\n",
              "       [103.610245],\n",
              "       [107.686066]], dtype=float32)"
            ]
          },
          "metadata": {},
          "execution_count": 69
        }
      ]
    },
    {
      "cell_type": "code",
      "metadata": {
        "colab": {
          "base_uri": "https://localhost:8080/"
        },
        "id": "dNCKEXXSwBz0",
        "outputId": "63f64963-6895-4d9a-d44f-a99a85671f1a"
      },
      "source": [
        "y_test"
      ],
      "execution_count": 70,
      "outputs": [
        {
          "output_type": "execute_result",
          "data": {
            "text/plain": [
              "<tf.Tensor: shape=(10,), dtype=int32, numpy=array([ 70,  74,  78,  82,  86,  90,  94,  98, 102, 106], dtype=int32)>"
            ]
          },
          "metadata": {},
          "execution_count": 70
        }
      ]
    },
    {
      "cell_type": "code",
      "metadata": {
        "colab": {
          "base_uri": "https://localhost:8080/"
        },
        "id": "ZhFkl6Y0wDM6",
        "outputId": "244de524-1715-4198-82e4-0fcf38deaa47"
      },
      "source": [
        "# Calculate the mean absolute error\n",
        "\n",
        "mae = tf.metrics.mean_absolute_error(y_true=y_test,\n",
        "                                     y_pred=y_pred )\n",
        "mae"
      ],
      "execution_count": 72,
      "outputs": [
        {
          "output_type": "execute_result",
          "data": {
            "text/plain": [
              "<tf.Tensor: shape=(10,), dtype=float32, numpy=\n",
              "array([17.19701  , 14.152265 , 11.937854 , 10.553764 , 10.       ,\n",
              "       10.276561 , 11.3834505, 13.320654 , 16.088196 , 19.686066 ],\n",
              "      dtype=float32)>"
            ]
          },
          "metadata": {},
          "execution_count": 72
        }
      ]
    },
    {
      "cell_type": "code",
      "metadata": {
        "colab": {
          "base_uri": "https://localhost:8080/"
        },
        "id": "-HFOyLNtyblP",
        "outputId": "c2bad831-fb5a-4750-ae24-a91ddcebe24f"
      },
      "source": [
        "tf.squeeze(y_pred)"
      ],
      "execution_count": 73,
      "outputs": [
        {
          "output_type": "execute_result",
          "data": {
            "text/plain": [
              "<tf.Tensor: shape=(10,), dtype=float32, numpy=\n",
              "array([ 71.00374 ,  75.07956 ,  79.155365,  83.23118 ,  87.307   ,\n",
              "        91.382805,  95.458626,  99.534424, 103.610245, 107.686066],\n",
              "      dtype=float32)>"
            ]
          },
          "metadata": {},
          "execution_count": 73
        }
      ]
    },
    {
      "cell_type": "code",
      "metadata": {
        "colab": {
          "base_uri": "https://localhost:8080/"
        },
        "id": "AxFaESKGzsa-",
        "outputId": "24389956-b07b-43b6-bab9-ac7e88879bcc"
      },
      "source": [
        "mae = tf.metrics.mean_absolute_error(y_true=y_test,\n",
        "                                     y_pred=tf.squeeze(y_pred))\n",
        "mae"
      ],
      "execution_count": 75,
      "outputs": [
        {
          "output_type": "execute_result",
          "data": {
            "text/plain": [
              "<tf.Tensor: shape=(), dtype=float32, numpy=1.3449005>"
            ]
          },
          "metadata": {},
          "execution_count": 75
        }
      ]
    },
    {
      "cell_type": "code",
      "metadata": {
        "colab": {
          "base_uri": "https://localhost:8080/"
        },
        "id": "ROvC30XozwNu",
        "outputId": "27489ab4-2981-475b-c876-9f888ac64033"
      },
      "source": [
        "# Calculate the mean square error\n",
        "\n",
        "mse = tf.metrics.mean_squared_error(y_true=y_test,\n",
        "                                    y_pred=tf.squeeze(y_pred))\n",
        "\n",
        "mse"
      ],
      "execution_count": 76,
      "outputs": [
        {
          "output_type": "execute_result",
          "data": {
            "text/plain": [
              "<tf.Tensor: shape=(), dtype=float32, numpy=1.8561754>"
            ]
          },
          "metadata": {},
          "execution_count": 76
        }
      ]
    },
    {
      "cell_type": "code",
      "metadata": {
        "id": "Rd7FA_cY0jG9"
      },
      "source": [
        "# Make some functions to reuse MAE and MSE\n",
        "\n",
        "def mae(y_true, y_pred):\n",
        "  return tf.metrics.mean_absolute_error(y_true=y_true,\n",
        "                                        y_pred=tf.squeeze(y_pred))\n",
        "  \n",
        "\n",
        "def mse(y_true, y_pred):\n",
        "  return tf.metrics.mean_squared_error(y_true=y_true,\n",
        "                                       y_pred=tf.squeeze(y_pred))"
      ],
      "execution_count": 85,
      "outputs": []
    },
    {
      "cell_type": "markdown",
      "metadata": {
        "id": "OWjMR8vL2Erm"
      },
      "source": [
        "### Running experiments to improve our model\n",
        "\n",
        "```\n",
        "Build a model -> fit it -> evaluate it -> tweak it -> fit it -> evaluate it -> tweak it -> fit it -> evaluate it...\n",
        "```\n",
        "\n",
        "1. Get more data - get more examples for your model to train on (more opportunities to learn patterns or relationships between features and labels).\n",
        "2. Make the model larger (using a more complex model) - this might come in the form of more layers or more hidden units in each layer.\n",
        "3. Train for longer - give the model more of a chance to find patterns in the data.  \n",
        "\n"
      ]
    },
    {
      "cell_type": "code",
      "metadata": {
        "colab": {
          "base_uri": "https://localhost:8080/"
        },
        "id": "ZeVphb4VMrRT",
        "outputId": "15f917dc-b409-4d28-d0b9-84050370971c"
      },
      "source": [
        "X_train, y_train"
      ],
      "execution_count": 78,
      "outputs": [
        {
          "output_type": "execute_result",
          "data": {
            "text/plain": [
              "(<tf.Tensor: shape=(40,), dtype=int32, numpy=\n",
              " array([-100,  -96,  -92,  -88,  -84,  -80,  -76,  -72,  -68,  -64,  -60,\n",
              "         -56,  -52,  -48,  -44,  -40,  -36,  -32,  -28,  -24,  -20,  -16,\n",
              "         -12,   -8,   -4,    0,    4,    8,   12,   16,   20,   24,   28,\n",
              "          32,   36,   40,   44,   48,   52,   56], dtype=int32)>,\n",
              " <tf.Tensor: shape=(40,), dtype=int32, numpy=\n",
              " array([-90, -86, -82, -78, -74, -70, -66, -62, -58, -54, -50, -46, -42,\n",
              "        -38, -34, -30, -26, -22, -18, -14, -10,  -6,  -2,   2,   6,  10,\n",
              "         14,  18,  22,  26,  30,  34,  38,  42,  46,  50,  54,  58,  62,\n",
              "         66], dtype=int32)>)"
            ]
          },
          "metadata": {},
          "execution_count": 78
        }
      ]
    },
    {
      "cell_type": "markdown",
      "metadata": {
        "id": "L10g0C8DON7T"
      },
      "source": [
        "We will do 3 model experiments:\n",
        "\n",
        "1. `model_1` - same as the original model. 1 layer, trained with 100 epochs.\n",
        "2. `model_2` - 2 layers trained with 100 epochs.\n",
        "3. `model_3` - 2 layers trained with 500 epochs.\n",
        "\n",
        "**Build `model_1`**"
      ]
    },
    {
      "cell_type": "code",
      "metadata": {
        "colab": {
          "base_uri": "https://localhost:8080/"
        },
        "id": "y3PkrKLTPfgV",
        "outputId": "67d86686-21aa-4bf1-f24e-a69cbbb363be"
      },
      "source": [
        "# Set random seed \n",
        "tf.random.set_seed(42)\n",
        "\n",
        "# 1. Create the model\n",
        "model_1 = tf.keras.Sequential([\n",
        "    tf.keras.layers.Dense(1)\n",
        "])\n",
        "\n",
        "# 2. Compile the model\n",
        "\n",
        "model_1.compile(loss=tf.keras.losses.mae,\n",
        "                optimizer=tf.keras.optimizers.SGD(),\n",
        "                metrics=[\"mae\"])\n",
        "# 3. Fit the model\n",
        "\n",
        "model_1.fit(X_train, y_train, epochs=100)\n",
        "\n"
      ],
      "execution_count": 80,
      "outputs": [
        {
          "output_type": "stream",
          "name": "stdout",
          "text": [
            "Epoch 1/100\n",
            "2/2 [==============================] - 0s 7ms/step - loss: 15.9024 - mae: 15.9024\n",
            "Epoch 2/100\n",
            "2/2 [==============================] - 0s 7ms/step - loss: 11.2837 - mae: 11.2837\n",
            "Epoch 3/100\n",
            "2/2 [==============================] - 0s 6ms/step - loss: 11.1074 - mae: 11.1074\n",
            "Epoch 4/100\n",
            "2/2 [==============================] - 0s 7ms/step - loss: 9.2991 - mae: 9.2991\n",
            "Epoch 5/100\n",
            "2/2 [==============================] - 0s 5ms/step - loss: 10.1677 - mae: 10.1677\n",
            "Epoch 6/100\n",
            "2/2 [==============================] - 0s 7ms/step - loss: 9.4303 - mae: 9.4303\n",
            "Epoch 7/100\n",
            "2/2 [==============================] - 0s 7ms/step - loss: 8.5704 - mae: 8.5704\n",
            "Epoch 8/100\n",
            "2/2 [==============================] - 0s 6ms/step - loss: 9.0442 - mae: 9.0442\n",
            "Epoch 9/100\n",
            "2/2 [==============================] - 0s 4ms/step - loss: 18.7517 - mae: 18.7517\n",
            "Epoch 10/100\n",
            "2/2 [==============================] - 0s 5ms/step - loss: 10.1142 - mae: 10.1142\n",
            "Epoch 11/100\n",
            "2/2 [==============================] - 0s 4ms/step - loss: 8.3980 - mae: 8.3980\n",
            "Epoch 12/100\n",
            "2/2 [==============================] - 0s 4ms/step - loss: 10.6639 - mae: 10.6639\n",
            "Epoch 13/100\n",
            "2/2 [==============================] - 0s 3ms/step - loss: 9.7977 - mae: 9.7977\n",
            "Epoch 14/100\n",
            "2/2 [==============================] - 0s 3ms/step - loss: 16.0103 - mae: 16.0103\n",
            "Epoch 15/100\n",
            "2/2 [==============================] - 0s 3ms/step - loss: 11.4068 - mae: 11.4068\n",
            "Epoch 16/100\n",
            "2/2 [==============================] - 0s 4ms/step - loss: 8.5393 - mae: 8.5393\n",
            "Epoch 17/100\n",
            "2/2 [==============================] - 0s 3ms/step - loss: 13.6348 - mae: 13.6348\n",
            "Epoch 18/100\n",
            "2/2 [==============================] - 0s 4ms/step - loss: 11.4629 - mae: 11.4629\n",
            "Epoch 19/100\n",
            "2/2 [==============================] - 0s 5ms/step - loss: 17.9148 - mae: 17.9148\n",
            "Epoch 20/100\n",
            "2/2 [==============================] - 0s 4ms/step - loss: 15.0494 - mae: 15.0494\n",
            "Epoch 21/100\n",
            "2/2 [==============================] - 0s 3ms/step - loss: 11.0216 - mae: 11.0216\n",
            "Epoch 22/100\n",
            "2/2 [==============================] - 0s 4ms/step - loss: 8.1558 - mae: 8.1558\n",
            "Epoch 23/100\n",
            "2/2 [==============================] - 0s 5ms/step - loss: 9.5138 - mae: 9.5138\n",
            "Epoch 24/100\n",
            "2/2 [==============================] - 0s 3ms/step - loss: 7.6617 - mae: 7.6617\n",
            "Epoch 25/100\n",
            "2/2 [==============================] - 0s 5ms/step - loss: 13.1859 - mae: 13.1859\n",
            "Epoch 26/100\n",
            "2/2 [==============================] - 0s 3ms/step - loss: 16.4211 - mae: 16.4211\n",
            "Epoch 27/100\n",
            "2/2 [==============================] - 0s 3ms/step - loss: 13.1660 - mae: 13.1660\n",
            "Epoch 28/100\n",
            "2/2 [==============================] - 0s 5ms/step - loss: 14.2559 - mae: 14.2559\n",
            "Epoch 29/100\n",
            "2/2 [==============================] - 0s 6ms/step - loss: 10.0670 - mae: 10.0670\n",
            "Epoch 30/100\n",
            "2/2 [==============================] - 0s 9ms/step - loss: 16.3409 - mae: 16.3409\n",
            "Epoch 31/100\n",
            "2/2 [==============================] - 0s 6ms/step - loss: 23.6444 - mae: 23.6444\n",
            "Epoch 32/100\n",
            "2/2 [==============================] - 0s 5ms/step - loss: 7.6215 - mae: 7.6215\n",
            "Epoch 33/100\n",
            "2/2 [==============================] - 0s 6ms/step - loss: 9.3221 - mae: 9.3221\n",
            "Epoch 34/100\n",
            "2/2 [==============================] - 0s 5ms/step - loss: 13.7313 - mae: 13.7313\n",
            "Epoch 35/100\n",
            "2/2 [==============================] - 0s 7ms/step - loss: 11.1276 - mae: 11.1276\n",
            "Epoch 36/100\n",
            "2/2 [==============================] - 0s 5ms/step - loss: 13.3222 - mae: 13.3222\n",
            "Epoch 37/100\n",
            "2/2 [==============================] - 0s 9ms/step - loss: 9.4763 - mae: 9.4763\n",
            "Epoch 38/100\n",
            "2/2 [==============================] - 0s 15ms/step - loss: 10.1381 - mae: 10.1381\n",
            "Epoch 39/100\n",
            "2/2 [==============================] - 0s 4ms/step - loss: 10.1793 - mae: 10.1793\n",
            "Epoch 40/100\n",
            "2/2 [==============================] - 0s 8ms/step - loss: 10.9137 - mae: 10.9137\n",
            "Epoch 41/100\n",
            "2/2 [==============================] - 0s 6ms/step - loss: 7.9063 - mae: 7.9063\n",
            "Epoch 42/100\n",
            "2/2 [==============================] - 0s 4ms/step - loss: 10.0914 - mae: 10.0914\n",
            "Epoch 43/100\n",
            "2/2 [==============================] - 0s 7ms/step - loss: 8.7006 - mae: 8.7006\n",
            "Epoch 44/100\n",
            "2/2 [==============================] - 0s 7ms/step - loss: 12.2047 - mae: 12.2047\n",
            "Epoch 45/100\n",
            "2/2 [==============================] - 0s 16ms/step - loss: 13.7970 - mae: 13.7970\n",
            "Epoch 46/100\n",
            "2/2 [==============================] - 0s 3ms/step - loss: 8.4687 - mae: 8.4687\n",
            "Epoch 47/100\n",
            "2/2 [==============================] - 0s 5ms/step - loss: 9.1330 - mae: 9.1330\n",
            "Epoch 48/100\n",
            "2/2 [==============================] - 0s 10ms/step - loss: 10.6190 - mae: 10.6190\n",
            "Epoch 49/100\n",
            "2/2 [==============================] - 0s 10ms/step - loss: 7.7503 - mae: 7.7503\n",
            "Epoch 50/100\n",
            "2/2 [==============================] - 0s 6ms/step - loss: 9.5407 - mae: 9.5407\n",
            "Epoch 51/100\n",
            "2/2 [==============================] - 0s 7ms/step - loss: 9.1584 - mae: 9.1584\n",
            "Epoch 52/100\n",
            "2/2 [==============================] - 0s 18ms/step - loss: 16.3630 - mae: 16.3630\n",
            "Epoch 53/100\n",
            "2/2 [==============================] - 0s 6ms/step - loss: 14.1299 - mae: 14.1299\n",
            "Epoch 54/100\n",
            "2/2 [==============================] - 0s 7ms/step - loss: 21.1247 - mae: 21.1247\n",
            "Epoch 55/100\n",
            "2/2 [==============================] - 0s 7ms/step - loss: 16.3961 - mae: 16.3961\n",
            "Epoch 56/100\n",
            "2/2 [==============================] - 0s 10ms/step - loss: 9.9806 - mae: 9.9806\n",
            "Epoch 57/100\n",
            "2/2 [==============================] - 0s 5ms/step - loss: 9.9606 - mae: 9.9606\n",
            "Epoch 58/100\n",
            "2/2 [==============================] - 0s 6ms/step - loss: 9.2209 - mae: 9.2209\n",
            "Epoch 59/100\n",
            "2/2 [==============================] - 0s 4ms/step - loss: 8.4239 - mae: 8.4239\n",
            "Epoch 60/100\n",
            "2/2 [==============================] - 0s 3ms/step - loss: 9.4869 - mae: 9.4869\n",
            "Epoch 61/100\n",
            "2/2 [==============================] - 0s 3ms/step - loss: 11.4355 - mae: 11.4355\n",
            "Epoch 62/100\n",
            "2/2 [==============================] - 0s 3ms/step - loss: 11.6887 - mae: 11.6887\n",
            "Epoch 63/100\n",
            "2/2 [==============================] - 0s 3ms/step - loss: 7.0838 - mae: 7.0838\n",
            "Epoch 64/100\n",
            "2/2 [==============================] - 0s 3ms/step - loss: 16.9675 - mae: 16.9675\n",
            "Epoch 65/100\n",
            "2/2 [==============================] - 0s 6ms/step - loss: 12.4599 - mae: 12.4599\n",
            "Epoch 66/100\n",
            "2/2 [==============================] - 0s 3ms/step - loss: 13.0184 - mae: 13.0184\n",
            "Epoch 67/100\n",
            "2/2 [==============================] - 0s 3ms/step - loss: 8.0600 - mae: 8.0600\n",
            "Epoch 68/100\n",
            "2/2 [==============================] - 0s 3ms/step - loss: 10.1888 - mae: 10.1888\n",
            "Epoch 69/100\n",
            "2/2 [==============================] - 0s 3ms/step - loss: 12.3633 - mae: 12.3633\n",
            "Epoch 70/100\n",
            "2/2 [==============================] - 0s 3ms/step - loss: 9.0516 - mae: 9.0516\n",
            "Epoch 71/100\n",
            "2/2 [==============================] - 0s 5ms/step - loss: 10.0378 - mae: 10.0378\n",
            "Epoch 72/100\n",
            "2/2 [==============================] - 0s 3ms/step - loss: 10.0516 - mae: 10.0516\n",
            "Epoch 73/100\n",
            "2/2 [==============================] - 0s 4ms/step - loss: 12.6151 - mae: 12.6151\n",
            "Epoch 74/100\n",
            "2/2 [==============================] - 0s 4ms/step - loss: 10.3819 - mae: 10.3819\n",
            "Epoch 75/100\n",
            "2/2 [==============================] - 0s 3ms/step - loss: 9.7229 - mae: 9.7229\n",
            "Epoch 76/100\n",
            "2/2 [==============================] - 0s 3ms/step - loss: 11.2252 - mae: 11.2252\n",
            "Epoch 77/100\n",
            "2/2 [==============================] - 0s 3ms/step - loss: 8.3642 - mae: 8.3642\n",
            "Epoch 78/100\n",
            "2/2 [==============================] - 0s 10ms/step - loss: 9.1274 - mae: 9.1274\n",
            "Epoch 79/100\n",
            "2/2 [==============================] - 0s 4ms/step - loss: 19.5039 - mae: 19.5039\n",
            "Epoch 80/100\n",
            "2/2 [==============================] - 0s 4ms/step - loss: 14.8945 - mae: 14.8945\n",
            "Epoch 81/100\n",
            "2/2 [==============================] - 0s 5ms/step - loss: 9.0034 - mae: 9.0034\n",
            "Epoch 82/100\n",
            "2/2 [==============================] - 0s 14ms/step - loss: 13.0206 - mae: 13.0206\n",
            "Epoch 83/100\n",
            "2/2 [==============================] - 0s 5ms/step - loss: 7.9299 - mae: 7.9299\n",
            "Epoch 84/100\n",
            "2/2 [==============================] - 0s 6ms/step - loss: 7.6872 - mae: 7.6872\n",
            "Epoch 85/100\n",
            "2/2 [==============================] - 0s 7ms/step - loss: 10.0328 - mae: 10.0328\n",
            "Epoch 86/100\n",
            "2/2 [==============================] - 0s 7ms/step - loss: 9.2433 - mae: 9.2433\n",
            "Epoch 87/100\n",
            "2/2 [==============================] - 0s 4ms/step - loss: 12.0209 - mae: 12.0209\n",
            "Epoch 88/100\n",
            "2/2 [==============================] - 0s 4ms/step - loss: 10.6389 - mae: 10.6389\n",
            "Epoch 89/100\n",
            "2/2 [==============================] - 0s 8ms/step - loss: 7.2667 - mae: 7.2667\n",
            "Epoch 90/100\n",
            "2/2 [==============================] - 0s 4ms/step - loss: 12.7786 - mae: 12.7786\n",
            "Epoch 91/100\n",
            "2/2 [==============================] - 0s 5ms/step - loss: 7.3481 - mae: 7.3481\n",
            "Epoch 92/100\n",
            "2/2 [==============================] - 0s 9ms/step - loss: 7.7175 - mae: 7.7175\n",
            "Epoch 93/100\n",
            "2/2 [==============================] - 0s 5ms/step - loss: 7.1263 - mae: 7.1263\n",
            "Epoch 94/100\n",
            "2/2 [==============================] - 0s 6ms/step - loss: 12.6190 - mae: 12.6190\n",
            "Epoch 95/100\n",
            "2/2 [==============================] - 0s 3ms/step - loss: 10.0912 - mae: 10.0912\n",
            "Epoch 96/100\n",
            "2/2 [==============================] - 0s 3ms/step - loss: 9.3558 - mae: 9.3558\n",
            "Epoch 97/100\n",
            "2/2 [==============================] - 0s 3ms/step - loss: 12.6834 - mae: 12.6834\n",
            "Epoch 98/100\n",
            "2/2 [==============================] - 0s 5ms/step - loss: 8.6762 - mae: 8.6762\n",
            "Epoch 99/100\n",
            "2/2 [==============================] - 0s 6ms/step - loss: 9.4693 - mae: 9.4693\n",
            "Epoch 100/100\n",
            "2/2 [==============================] - 0s 3ms/step - loss: 8.7067 - mae: 8.7067\n"
          ]
        },
        {
          "output_type": "execute_result",
          "data": {
            "text/plain": [
              "<keras.callbacks.History at 0x7f026d2408d0>"
            ]
          },
          "metadata": {},
          "execution_count": 80
        }
      ]
    },
    {
      "cell_type": "code",
      "metadata": {
        "colab": {
          "base_uri": "https://localhost:8080/",
          "height": 428
        },
        "id": "rDs1PUI-RCA_",
        "outputId": "517ea0a7-d7a4-45dc-9b99-9a0e8b9d0a8b"
      },
      "source": [
        "# Make and plot predictions for model_1\n",
        "y_preds_1 = model_1.predict(X_test)\n",
        "plot_predictions(predictions=y_preds_1)"
      ],
      "execution_count": 81,
      "outputs": [
        {
          "output_type": "display_data",
          "data": {
            "image/png": "[encoded data removed]",
            "text/plain": [
              "<Figure size 720x504 with 1 Axes>"
            ]
          },
          "metadata": {
            "needs_background": "light"
          }
        }
      ]
    },
    {
      "cell_type": "code",
      "metadata": {
        "colab": {
          "base_uri": "https://localhost:8080/"
        },
        "id": "99lgQjM-SIGz",
        "outputId": "7fed4ef0-f0ee-4643-dd40-1bd945aa364c"
      },
      "source": [
        "# Calculate model_1 evaluation metrics\n",
        "\n",
        "mae_1 = mae(y_test, y_preds_1)\n",
        "mse_1 = mse(y_test, y_preds_1)\n",
        "\n",
        "mae_1, mse_1"
      ],
      "execution_count": 86,
      "outputs": [
        {
          "output_type": "execute_result",
          "data": {
            "text/plain": [
              "(<tf.Tensor: shape=(), dtype=float32, numpy=18.745327>,\n",
              " <tf.Tensor: shape=(), dtype=float32, numpy=353.57336>)"
            ]
          },
          "metadata": {},
          "execution_count": 86
        }
      ]
    },
    {
      "cell_type": "markdown",
      "metadata": {
        "id": "W0dDCbLSS6BE"
      },
      "source": [
        "**Build `model_2`**\n",
        "\n",
        "* 2 dense layers, trained with 100 epochs"
      ]
    },
    {
      "cell_type": "code",
      "metadata": {
        "colab": {
          "base_uri": "https://localhost:8080/"
        },
        "id": "ngTMpoSZUq1w",
        "outputId": "155636a7-e3e2-4e33-bc4b-816b97a324b1"
      },
      "source": [
        "# Set random seed \n",
        "tf.random.set_seed(42)\n",
        "\n",
        "# 1. Create the model\n",
        "model_2 = tf.keras.Sequential([\n",
        "    tf.keras.layers.Dense(1),\n",
        "    tf.keras.layers.Dense(1)\n",
        "])\n",
        "\n",
        "# 2. Compile the model\n",
        "\n",
        "model_2.compile(loss=tf.keras.losses.mae,\n",
        "                optimizer=tf.keras.optimizers.SGD(),\n",
        "                metrics=[\"mae\"])\n",
        "# 3. Fit the model\n",
        "\n",
        "model_2.fit(X_train, y_train, epochs=100)\n"
      ],
      "execution_count": 91,
      "outputs": [
        {
          "output_type": "stream",
          "name": "stdout",
          "text": [
            "Epoch 1/100\n",
            "2/2 [==============================] - 0s 4ms/step - loss: 22.6625 - mae: 22.6625\n",
            "Epoch 2/100\n",
            "2/2 [==============================] - 0s 4ms/step - loss: 16.9439 - mae: 16.9439\n",
            "Epoch 3/100\n",
            "2/2 [==============================] - 0s 6ms/step - loss: 13.8059 - mae: 13.8059\n",
            "Epoch 4/100\n",
            "2/2 [==============================] - 0s 5ms/step - loss: 17.4504 - mae: 17.4504\n",
            "Epoch 5/100\n",
            "2/2 [==============================] - 0s 9ms/step - loss: 12.0637 - mae: 12.0637\n",
            "Epoch 6/100\n",
            "2/2 [==============================] - 0s 10ms/step - loss: 9.8335 - mae: 9.8335\n",
            "Epoch 7/100\n",
            "2/2 [==============================] - 0s 5ms/step - loss: 10.7023 - mae: 10.7023\n",
            "Epoch 8/100\n",
            "2/2 [==============================] - 0s 3ms/step - loss: 10.8713 - mae: 10.8713\n",
            "Epoch 9/100\n",
            "2/2 [==============================] - 0s 3ms/step - loss: 38.0435 - mae: 38.0435\n",
            "Epoch 10/100\n",
            "2/2 [==============================] - 0s 4ms/step - loss: 25.6226 - mae: 25.6226\n",
            "Epoch 11/100\n",
            "2/2 [==============================] - 0s 5ms/step - loss: 10.2375 - mae: 10.2375\n",
            "Epoch 12/100\n",
            "2/2 [==============================] - 0s 4ms/step - loss: 25.1960 - mae: 25.1960\n",
            "Epoch 13/100\n",
            "2/2 [==============================] - 0s 6ms/step - loss: 17.0177 - mae: 17.0177\n",
            "Epoch 14/100\n",
            "2/2 [==============================] - 0s 6ms/step - loss: 25.9747 - mae: 25.9747\n",
            "Epoch 15/100\n",
            "2/2 [==============================] - 0s 5ms/step - loss: 18.0366 - mae: 18.0366\n",
            "Epoch 16/100\n",
            "2/2 [==============================] - 0s 3ms/step - loss: 7.3513 - mae: 7.3513\n",
            "Epoch 17/100\n",
            "2/2 [==============================] - 0s 6ms/step - loss: 10.8516 - mae: 10.8516\n",
            "Epoch 18/100\n",
            "2/2 [==============================] - 0s 6ms/step - loss: 19.5119 - mae: 19.5119\n",
            "Epoch 19/100\n",
            "2/2 [==============================] - 0s 12ms/step - loss: 10.3378 - mae: 10.3378\n",
            "Epoch 20/100\n",
            "2/2 [==============================] - 0s 5ms/step - loss: 17.6840 - mae: 17.6840\n",
            "Epoch 21/100\n",
            "2/2 [==============================] - 0s 5ms/step - loss: 15.8826 - mae: 15.8826\n",
            "Epoch 22/100\n",
            "2/2 [==============================] - 0s 9ms/step - loss: 14.1778 - mae: 14.1778\n",
            "Epoch 23/100\n",
            "2/2 [==============================] - 0s 10ms/step - loss: 8.7814 - mae: 8.7814\n",
            "Epoch 24/100\n",
            "2/2 [==============================] - 0s 6ms/step - loss: 11.0673 - mae: 11.0673\n",
            "Epoch 25/100\n",
            "2/2 [==============================] - 0s 4ms/step - loss: 12.6998 - mae: 12.6998\n",
            "Epoch 26/100\n",
            "2/2 [==============================] - 0s 5ms/step - loss: 26.2395 - mae: 26.2395\n",
            "Epoch 27/100\n",
            "2/2 [==============================] - 0s 5ms/step - loss: 11.7524 - mae: 11.7524\n",
            "Epoch 28/100\n",
            "2/2 [==============================] - 0s 7ms/step - loss: 22.9252 - mae: 22.9252\n",
            "Epoch 29/100\n",
            "2/2 [==============================] - 0s 6ms/step - loss: 9.2439 - mae: 9.2439\n",
            "Epoch 30/100\n",
            "2/2 [==============================] - 0s 5ms/step - loss: 29.3121 - mae: 29.3121\n",
            "Epoch 31/100\n",
            "2/2 [==============================] - 0s 4ms/step - loss: 53.1141 - mae: 53.1141\n",
            "Epoch 32/100\n",
            "2/2 [==============================] - 0s 14ms/step - loss: 12.3708 - mae: 12.3708\n",
            "Epoch 33/100\n",
            "2/2 [==============================] - 0s 4ms/step - loss: 12.1831 - mae: 12.1831\n",
            "Epoch 34/100\n",
            "2/2 [==============================] - 0s 7ms/step - loss: 23.9483 - mae: 23.9483\n",
            "Epoch 35/100\n",
            "2/2 [==============================] - 0s 8ms/step - loss: 12.6223 - mae: 12.6223\n",
            "Epoch 36/100\n",
            "2/2 [==============================] - 0s 3ms/step - loss: 21.5243 - mae: 21.5243\n",
            "Epoch 37/100\n",
            "2/2 [==============================] - 0s 4ms/step - loss: 11.3913 - mae: 11.3913\n",
            "Epoch 38/100\n",
            "2/2 [==============================] - 0s 4ms/step - loss: 13.4744 - mae: 13.4744\n",
            "Epoch 39/100\n",
            "2/2 [==============================] - 0s 5ms/step - loss: 10.7992 - mae: 10.7992\n",
            "Epoch 40/100\n",
            "2/2 [==============================] - 0s 8ms/step - loss: 16.6026 - mae: 16.6026\n",
            "Epoch 41/100\n",
            "2/2 [==============================] - 0s 10ms/step - loss: 10.9797 - mae: 10.9797\n",
            "Epoch 42/100\n",
            "2/2 [==============================] - 0s 8ms/step - loss: 9.3049 - mae: 9.3049\n",
            "Epoch 43/100\n",
            "2/2 [==============================] - 0s 7ms/step - loss: 9.5985 - mae: 9.5985\n",
            "Epoch 44/100\n",
            "2/2 [==============================] - 0s 4ms/step - loss: 27.9750 - mae: 27.9750\n",
            "Epoch 45/100\n",
            "2/2 [==============================] - 0s 4ms/step - loss: 11.2865 - mae: 11.2865\n",
            "Epoch 46/100\n",
            "2/2 [==============================] - 0s 5ms/step - loss: 14.0574 - mae: 14.0574\n",
            "Epoch 47/100\n",
            "2/2 [==============================] - 0s 3ms/step - loss: 13.5113 - mae: 13.5113\n",
            "Epoch 48/100\n",
            "2/2 [==============================] - 0s 3ms/step - loss: 17.3531 - mae: 17.3531\n",
            "Epoch 49/100\n",
            "2/2 [==============================] - 0s 3ms/step - loss: 9.5141 - mae: 9.5141\n",
            "Epoch 50/100\n",
            "2/2 [==============================] - 0s 3ms/step - loss: 13.6965 - mae: 13.6965\n",
            "Epoch 51/100\n",
            "2/2 [==============================] - 0s 5ms/step - loss: 11.5602 - mae: 11.5602\n",
            "Epoch 52/100\n",
            "2/2 [==============================] - 0s 3ms/step - loss: 30.1688 - mae: 30.1688\n",
            "Epoch 53/100\n",
            "2/2 [==============================] - 0s 3ms/step - loss: 13.7142 - mae: 13.7142\n",
            "Epoch 54/100\n",
            "2/2 [==============================] - 0s 3ms/step - loss: 26.3987 - mae: 26.3987\n",
            "Epoch 55/100\n",
            "2/2 [==============================] - 0s 4ms/step - loss: 25.9838 - mae: 25.9838\n",
            "Epoch 56/100\n",
            "2/2 [==============================] - 0s 4ms/step - loss: 11.2307 - mae: 11.2307\n",
            "Epoch 57/100\n",
            "2/2 [==============================] - 0s 7ms/step - loss: 13.2025 - mae: 13.2025\n",
            "Epoch 58/100\n",
            "2/2 [==============================] - 0s 3ms/step - loss: 9.8624 - mae: 9.8624\n",
            "Epoch 59/100\n",
            "2/2 [==============================] - 0s 7ms/step - loss: 13.3870 - mae: 13.3870\n",
            "Epoch 60/100\n",
            "2/2 [==============================] - 0s 4ms/step - loss: 10.9240 - mae: 10.9240\n",
            "Epoch 61/100\n",
            "2/2 [==============================] - 0s 5ms/step - loss: 13.5375 - mae: 13.5375\n",
            "Epoch 62/100\n",
            "2/2 [==============================] - 0s 5ms/step - loss: 17.6004 - mae: 17.6004\n",
            "Epoch 63/100\n",
            "2/2 [==============================] - 0s 4ms/step - loss: 9.1937 - mae: 9.1937\n",
            "Epoch 64/100\n",
            "2/2 [==============================] - 0s 7ms/step - loss: 18.4644 - mae: 18.4644\n",
            "Epoch 65/100\n",
            "2/2 [==============================] - 0s 8ms/step - loss: 10.1481 - mae: 10.1481\n",
            "Epoch 66/100\n",
            "2/2 [==============================] - 0s 17ms/step - loss: 24.3358 - mae: 24.3358\n",
            "Epoch 67/100\n",
            "2/2 [==============================] - 0s 8ms/step - loss: 10.9262 - mae: 10.9262\n",
            "Epoch 68/100\n",
            "2/2 [==============================] - 0s 7ms/step - loss: 10.8005 - mae: 10.8005\n",
            "Epoch 69/100\n",
            "2/2 [==============================] - 0s 4ms/step - loss: 23.3093 - mae: 23.3093\n",
            "Epoch 70/100\n",
            "2/2 [==============================] - 0s 9ms/step - loss: 8.8134 - mae: 8.8134\n",
            "Epoch 71/100\n",
            "2/2 [==============================] - 0s 8ms/step - loss: 15.9715 - mae: 15.9715\n",
            "Epoch 72/100\n",
            "2/2 [==============================] - 0s 7ms/step - loss: 8.1469 - mae: 8.1469\n",
            "Epoch 73/100\n",
            "2/2 [==============================] - 0s 7ms/step - loss: 9.4683 - mae: 9.4683\n",
            "Epoch 74/100\n",
            "2/2 [==============================] - 0s 15ms/step - loss: 28.1492 - mae: 28.1492\n",
            "Epoch 75/100\n",
            "2/2 [==============================] - 0s 3ms/step - loss: 10.2183 - mae: 10.2183\n",
            "Epoch 76/100\n",
            "2/2 [==============================] - 0s 4ms/step - loss: 13.1686 - mae: 13.1686\n",
            "Epoch 77/100\n",
            "2/2 [==============================] - 0s 4ms/step - loss: 18.4013 - mae: 18.4013\n",
            "Epoch 78/100\n",
            "2/2 [==============================] - 0s 3ms/step - loss: 9.0304 - mae: 9.0304\n",
            "Epoch 79/100\n",
            "2/2 [==============================] - 0s 4ms/step - loss: 23.4407 - mae: 23.4407\n",
            "Epoch 80/100\n",
            "2/2 [==============================] - 0s 3ms/step - loss: 26.1121 - mae: 26.1121\n",
            "Epoch 81/100\n",
            "2/2 [==============================] - 0s 3ms/step - loss: 11.4009 - mae: 11.4009\n",
            "Epoch 82/100\n",
            "2/2 [==============================] - 0s 3ms/step - loss: 12.5022 - mae: 12.5022\n",
            "Epoch 83/100\n",
            "2/2 [==============================] - 0s 5ms/step - loss: 17.1948 - mae: 17.1948\n",
            "Epoch 84/100\n",
            "2/2 [==============================] - 0s 3ms/step - loss: 6.6097 - mae: 6.6097\n",
            "Epoch 85/100\n",
            "2/2 [==============================] - 0s 5ms/step - loss: 20.2735 - mae: 20.2735\n",
            "Epoch 86/100\n",
            "2/2 [==============================] - 0s 3ms/step - loss: 10.1761 - mae: 10.1761\n",
            "Epoch 87/100\n",
            "2/2 [==============================] - 0s 4ms/step - loss: 24.3047 - mae: 24.3047\n",
            "Epoch 88/100\n",
            "2/2 [==============================] - 0s 4ms/step - loss: 18.9693 - mae: 18.9693\n",
            "Epoch 89/100\n",
            "2/2 [==============================] - 0s 4ms/step - loss: 7.1749 - mae: 7.1749\n",
            "Epoch 90/100\n",
            "2/2 [==============================] - 0s 5ms/step - loss: 18.2784 - mae: 18.2784\n",
            "Epoch 91/100\n",
            "2/2 [==============================] - 0s 6ms/step - loss: 13.3343 - mae: 13.3343\n",
            "Epoch 92/100\n",
            "2/2 [==============================] - 0s 3ms/step - loss: 8.7404 - mae: 8.7404\n",
            "Epoch 93/100\n",
            "2/2 [==============================] - 0s 4ms/step - loss: 14.1947 - mae: 14.1947\n",
            "Epoch 94/100\n",
            "2/2 [==============================] - 0s 6ms/step - loss: 17.1954 - mae: 17.1954\n",
            "Epoch 95/100\n",
            "2/2 [==============================] - 0s 6ms/step - loss: 16.7777 - mae: 16.7777\n",
            "Epoch 96/100\n",
            "2/2 [==============================] - 0s 3ms/step - loss: 11.1365 - mae: 11.1365\n",
            "Epoch 97/100\n",
            "2/2 [==============================] - 0s 3ms/step - loss: 21.1982 - mae: 21.1982\n",
            "Epoch 98/100\n",
            "2/2 [==============================] - 0s 3ms/step - loss: 10.4874 - mae: 10.4874\n",
            "Epoch 99/100\n",
            "2/2 [==============================] - 0s 3ms/step - loss: 14.5632 - mae: 14.5632\n",
            "Epoch 100/100\n",
            "2/2 [==============================] - 0s 5ms/step - loss: 17.7188 - mae: 17.7188\n"
          ]
        },
        {
          "output_type": "execute_result",
          "data": {
            "text/plain": [
              "<keras.callbacks.History at 0x7f026d7be490>"
            ]
          },
          "metadata": {},
          "execution_count": 91
        }
      ]
    },
    {
      "cell_type": "code",
      "metadata": {
        "colab": {
          "base_uri": "https://localhost:8080/",
          "height": 428
        },
        "id": "Cn2Zmx2oU-ZU",
        "outputId": "9d9a5216-8de6-4b93-8faf-2eb0e2014506"
      },
      "source": [
        "# Make and plot predictions for model_2\n",
        "y_preds_2 = model_2.predict(X_test)\n",
        "plot_predictions(predictions=y_preds_2)"
      ],
      "execution_count": 92,
      "outputs": [
        {
          "output_type": "display_data",
          "data": {
            "image/png": "[encoded data removed]",
            "text/plain": [
              "<Figure size 720x504 with 1 Axes>"
            ]
          },
          "metadata": {
            "needs_background": "light"
          }
        }
      ]
    },
    {
      "cell_type": "code",
      "metadata": {
        "colab": {
          "base_uri": "https://localhost:8080/"
        },
        "id": "Osl2blWLVFjo",
        "outputId": "0be712f2-96ef-492f-b805-8adcf611c920"
      },
      "source": [
        "# Calculate model_1 evaluation metrics\n",
        "\n",
        "mae_2 = mae(y_test, y_preds_2)\n",
        "mse_2 = mse(y_test, y_preds_2)\n",
        "\n",
        "mae_1, mae_2, mse_1, mse_2"
      ],
      "execution_count": 93,
      "outputs": [
        {
          "output_type": "execute_result",
          "data": {
            "text/plain": [
              "(<tf.Tensor: shape=(), dtype=float32, numpy=18.745327>,\n",
              " <tf.Tensor: shape=(), dtype=float32, numpy=1.9098114>,\n",
              " <tf.Tensor: shape=(), dtype=float32, numpy=353.57336>,\n",
              " <tf.Tensor: shape=(), dtype=float32, numpy=5.459232>)"
            ]
          },
          "metadata": {},
          "execution_count": 93
        }
      ]
    },
    {
      "cell_type": "code",
      "metadata": {
        "colab": {
          "base_uri": "https://localhost:8080/"
        },
        "id": "-FhfXeKAVO50",
        "outputId": "1d94e06f-a2f4-4a6f-a666-ed9f94c16107"
      },
      "source": [
        "# Set random seed \n",
        "tf.random.set_seed(42)\n",
        "\n",
        "# 1. Create the model\n",
        "model_2_1 = tf.keras.Sequential([\n",
        "    tf.keras.layers.Dense(10),\n",
        "    tf.keras.layers.Dense(1)\n",
        "])\n",
        "\n",
        "# 2. Compile the model\n",
        "\n",
        "model_2_1.compile(loss=tf.keras.losses.mae,\n",
        "                optimizer=tf.keras.optimizers.SGD(),\n",
        "                metrics=[\"mse\"])\n",
        "# 3. Fit the model\n",
        "\n",
        "model_2_1.fit(X_train, y_train, epochs=100)"
      ],
      "execution_count": 97,
      "outputs": [
        {
          "output_type": "stream",
          "name": "stdout",
          "text": [
            "Epoch 1/100\n",
            "2/2 [==============================] - 0s 7ms/step - loss: 27.4058 - mse: 1084.1482\n",
            "Epoch 2/100\n",
            "2/2 [==============================] - 0s 4ms/step - loss: 24.6339 - mse: 777.9203\n",
            "Epoch 3/100\n",
            "2/2 [==============================] - 0s 4ms/step - loss: 29.8935 - mse: 1334.8956\n",
            "Epoch 4/100\n",
            "2/2 [==============================] - 0s 7ms/step - loss: 27.4055 - mse: 1106.8035\n",
            "Epoch 5/100\n",
            "2/2 [==============================] - 0s 5ms/step - loss: 14.9463 - mse: 281.1077\n",
            "Epoch 6/100\n",
            "2/2 [==============================] - 0s 4ms/step - loss: 11.8819 - mse: 168.6621\n",
            "Epoch 7/100\n",
            "2/2 [==============================] - 0s 3ms/step - loss: 11.1988 - mse: 151.3509\n",
            "Epoch 8/100\n",
            "2/2 [==============================] - 0s 4ms/step - loss: 11.0910 - mse: 160.3745\n",
            "Epoch 9/100\n",
            "2/2 [==============================] - 0s 3ms/step - loss: 40.4763 - mse: 2586.0090\n",
            "Epoch 10/100\n",
            "2/2 [==============================] - 0s 4ms/step - loss: 27.8688 - mse: 1094.4382\n",
            "Epoch 11/100\n",
            "2/2 [==============================] - 0s 4ms/step - loss: 10.2473 - mse: 147.9359\n",
            "Epoch 12/100\n",
            "2/2 [==============================] - 0s 12ms/step - loss: 25.2803 - mse: 890.3866\n",
            "Epoch 13/100\n",
            "2/2 [==============================] - 0s 7ms/step - loss: 16.9897 - mse: 399.9678\n",
            "Epoch 14/100\n",
            "2/2 [==============================] - 0s 4ms/step - loss: 25.9217 - mse: 1049.5515\n",
            "Epoch 15/100\n",
            "2/2 [==============================] - 0s 4ms/step - loss: 17.9948 - mse: 450.2580\n",
            "Epoch 16/100\n",
            "2/2 [==============================] - 0s 4ms/step - loss: 7.3510 - mse: 80.6206\n",
            "Epoch 17/100\n",
            "2/2 [==============================] - 0s 5ms/step - loss: 10.8636 - mse: 174.7868\n",
            "Epoch 18/100\n",
            "2/2 [==============================] - 0s 5ms/step - loss: 19.5304 - mse: 565.8053\n",
            "Epoch 19/100\n",
            "2/2 [==============================] - 0s 6ms/step - loss: 10.3469 - mse: 167.7749\n",
            "Epoch 20/100\n",
            "2/2 [==============================] - 0s 6ms/step - loss: 17.6985 - mse: 455.7096\n",
            "Epoch 21/100\n",
            "2/2 [==============================] - 0s 6ms/step - loss: 15.8984 - mse: 347.1929\n",
            "Epoch 22/100\n",
            "2/2 [==============================] - 0s 6ms/step - loss: 14.1991 - mse: 285.1767\n",
            "Epoch 23/100\n",
            "2/2 [==============================] - 0s 8ms/step - loss: 8.7720 - mse: 91.7852\n",
            "Epoch 24/100\n",
            "2/2 [==============================] - 0s 4ms/step - loss: 11.0570 - mse: 153.7430\n",
            "Epoch 25/100\n",
            "2/2 [==============================] - 0s 5ms/step - loss: 12.6838 - mse: 233.2949\n",
            "Epoch 26/100\n",
            "2/2 [==============================] - 0s 7ms/step - loss: 26.1877 - mse: 1024.6091\n",
            "Epoch 27/100\n",
            "2/2 [==============================] - 0s 4ms/step - loss: 11.7432 - mse: 194.8454\n",
            "Epoch 28/100\n",
            "2/2 [==============================] - 0s 4ms/step - loss: 22.8730 - mse: 835.6074\n",
            "Epoch 29/100\n",
            "2/2 [==============================] - 0s 3ms/step - loss: 9.2459 - mse: 96.7786\n",
            "Epoch 30/100\n",
            "2/2 [==============================] - 0s 5ms/step - loss: 29.2641 - mse: 1535.1349\n",
            "Epoch 31/100\n",
            "2/2 [==============================] - 0s 2ms/step - loss: 53.0225 - mse: 5030.2988\n",
            "Epoch 32/100\n",
            "2/2 [==============================] - 0s 6ms/step - loss: 11.9951 - mse: 211.7025\n",
            "Epoch 33/100\n",
            "2/2 [==============================] - 0s 4ms/step - loss: 15.6357 - mse: 337.3666\n",
            "Epoch 34/100\n",
            "2/2 [==============================] - 0s 9ms/step - loss: 12.6925 - mse: 214.4824\n",
            "Epoch 35/100\n",
            "2/2 [==============================] - 0s 8ms/step - loss: 9.2398 - mse: 92.9126\n",
            "Epoch 36/100\n",
            "2/2 [==============================] - 0s 5ms/step - loss: 16.6497 - mse: 403.6573\n",
            "Epoch 37/100\n",
            "2/2 [==============================] - 0s 3ms/step - loss: 11.0382 - mse: 192.3919\n",
            "Epoch 38/100\n",
            "2/2 [==============================] - 0s 4ms/step - loss: 18.1634 - mse: 433.6717\n",
            "Epoch 39/100\n",
            "2/2 [==============================] - 0s 4ms/step - loss: 19.1013 - mse: 529.6439\n",
            "Epoch 40/100\n",
            "2/2 [==============================] - 0s 4ms/step - loss: 20.4324 - mse: 610.1324\n",
            "Epoch 41/100\n",
            "2/2 [==============================] - 0s 3ms/step - loss: 14.9102 - mse: 279.6183\n",
            "Epoch 42/100\n",
            "2/2 [==============================] - 0s 7ms/step - loss: 12.2809 - mse: 186.6180\n",
            "Epoch 43/100\n",
            "2/2 [==============================] - 0s 5ms/step - loss: 10.7333 - mse: 167.0952\n",
            "Epoch 44/100\n",
            "2/2 [==============================] - 0s 3ms/step - loss: 23.0260 - mse: 830.4244\n",
            "Epoch 45/100\n",
            "2/2 [==============================] - 0s 6ms/step - loss: 10.3897 - mse: 128.9549\n",
            "Epoch 46/100\n",
            "2/2 [==============================] - 0s 5ms/step - loss: 11.7904 - mse: 181.9212\n",
            "Epoch 47/100\n",
            "2/2 [==============================] - 0s 7ms/step - loss: 9.6438 - mse: 153.8708\n",
            "Epoch 48/100\n",
            "2/2 [==============================] - 0s 7ms/step - loss: 17.2335 - mse: 402.8494\n",
            "Epoch 49/100\n",
            "2/2 [==============================] - 0s 6ms/step - loss: 9.5729 - mse: 99.8337\n",
            "Epoch 50/100\n",
            "2/2 [==============================] - 0s 2ms/step - loss: 13.8185 - mse: 260.3670\n",
            "Epoch 51/100\n",
            "2/2 [==============================] - 0s 3ms/step - loss: 11.5958 - mse: 154.7956\n",
            "Epoch 52/100\n",
            "2/2 [==============================] - 0s 11ms/step - loss: 30.5538 - mse: 1613.0886\n",
            "Epoch 53/100\n",
            "2/2 [==============================] - 0s 10ms/step - loss: 14.3541 - mse: 302.5293\n",
            "Epoch 54/100\n",
            "2/2 [==============================] - 0s 12ms/step - loss: 23.9713 - mse: 859.3983\n",
            "Epoch 55/100\n",
            "2/2 [==============================] - 0s 4ms/step - loss: 23.1938 - mse: 805.5452\n",
            "Epoch 56/100\n",
            "2/2 [==============================] - 0s 5ms/step - loss: 10.8837 - mse: 170.9834\n",
            "Epoch 57/100\n",
            "2/2 [==============================] - 0s 4ms/step - loss: 12.7445 - mse: 198.7015\n",
            "Epoch 58/100\n",
            "2/2 [==============================] - 0s 4ms/step - loss: 9.5995 - mse: 102.5890\n",
            "Epoch 59/100\n",
            "2/2 [==============================] - 0s 10ms/step - loss: 12.5172 - mse: 216.3367\n",
            "Epoch 60/100\n",
            "2/2 [==============================] - 0s 5ms/step - loss: 12.3200 - mse: 208.6371\n",
            "Epoch 61/100\n",
            "2/2 [==============================] - 0s 9ms/step - loss: 17.4604 - mse: 428.6393\n",
            "Epoch 62/100\n",
            "2/2 [==============================] - 0s 6ms/step - loss: 10.6052 - mse: 136.9777\n",
            "Epoch 63/100\n",
            "2/2 [==============================] - 0s 3ms/step - loss: 10.4893 - mse: 152.4555\n",
            "Epoch 64/100\n",
            "2/2 [==============================] - 0s 12ms/step - loss: 24.8450 - mse: 911.7512\n",
            "Epoch 65/100\n",
            "2/2 [==============================] - 0s 6ms/step - loss: 10.6761 - mse: 142.7374\n",
            "Epoch 66/100\n",
            "2/2 [==============================] - 0s 5ms/step - loss: 21.7809 - mse: 704.4492\n",
            "Epoch 67/100\n",
            "2/2 [==============================] - 0s 5ms/step - loss: 10.7136 - mse: 136.0194\n",
            "Epoch 68/100\n",
            "2/2 [==============================] - 0s 4ms/step - loss: 10.6397 - mse: 149.2300\n",
            "Epoch 69/100\n",
            "2/2 [==============================] - 0s 8ms/step - loss: 22.6914 - mse: 742.1761\n",
            "Epoch 70/100\n",
            "2/2 [==============================] - 0s 3ms/step - loss: 9.3316 - mse: 166.1628\n",
            "Epoch 71/100\n",
            "2/2 [==============================] - 0s 4ms/step - loss: 15.4355 - mse: 323.0843\n",
            "Epoch 72/100\n",
            "2/2 [==============================] - 0s 8ms/step - loss: 6.7437 - mse: 67.0210\n",
            "Epoch 73/100\n",
            "2/2 [==============================] - 0s 10ms/step - loss: 11.6891 - mse: 183.7296\n",
            "Epoch 74/100\n",
            "2/2 [==============================] - 0s 8ms/step - loss: 24.0400 - mse: 908.8992\n",
            "Epoch 75/100\n",
            "2/2 [==============================] - 0s 7ms/step - loss: 9.5896 - mse: 149.3948\n",
            "Epoch 76/100\n",
            "2/2 [==============================] - 0s 4ms/step - loss: 12.4371 - mse: 188.3310\n",
            "Epoch 77/100\n",
            "2/2 [==============================] - 0s 3ms/step - loss: 16.6489 - mse: 429.2708\n",
            "Epoch 78/100\n",
            "2/2 [==============================] - 0s 5ms/step - loss: 9.0614 - mse: 95.4870\n",
            "Epoch 79/100\n",
            "2/2 [==============================] - 0s 4ms/step - loss: 23.9675 - mse: 864.0864\n",
            "Epoch 80/100\n",
            "2/2 [==============================] - 0s 4ms/step - loss: 26.7463 - mse: 1104.4032\n",
            "Epoch 81/100\n",
            "2/2 [==============================] - 0s 6ms/step - loss: 11.6714 - mse: 170.7055\n",
            "Epoch 82/100\n",
            "2/2 [==============================] - 0s 5ms/step - loss: 12.0228 - mse: 211.9191\n",
            "Epoch 83/100\n",
            "2/2 [==============================] - 0s 5ms/step - loss: 17.4218 - mse: 395.5589\n",
            "Epoch 84/100\n",
            "2/2 [==============================] - 0s 5ms/step - loss: 7.2629 - mse: 73.0935\n",
            "Epoch 85/100\n",
            "2/2 [==============================] - 0s 3ms/step - loss: 14.9650 - mse: 312.8361\n",
            "Epoch 86/100\n",
            "2/2 [==============================] - 0s 4ms/step - loss: 15.2862 - mse: 315.3605\n",
            "Epoch 87/100\n",
            "2/2 [==============================] - 0s 5ms/step - loss: 19.1086 - mse: 521.2534\n",
            "Epoch 88/100\n",
            "2/2 [==============================] - 0s 3ms/step - loss: 29.8229 - mse: 1287.1907\n",
            "Epoch 89/100\n",
            "2/2 [==============================] - 0s 7ms/step - loss: 10.1742 - mse: 124.1342\n",
            "Epoch 90/100\n",
            "2/2 [==============================] - 0s 10ms/step - loss: 21.5240 - mse: 663.8611\n",
            "Epoch 91/100\n",
            "2/2 [==============================] - 0s 5ms/step - loss: 10.5716 - mse: 161.7467\n",
            "Epoch 92/100\n",
            "2/2 [==============================] - 0s 5ms/step - loss: 18.3977 - mse: 464.1326\n",
            "Epoch 93/100\n",
            "2/2 [==============================] - 0s 5ms/step - loss: 7.4138 - mse: 81.9820\n",
            "Epoch 94/100\n",
            "2/2 [==============================] - 0s 9ms/step - loss: 17.7380 - mse: 445.7379\n",
            "Epoch 95/100\n",
            "2/2 [==============================] - 0s 5ms/step - loss: 11.1144 - mse: 164.0820\n",
            "Epoch 96/100\n",
            "2/2 [==============================] - 0s 3ms/step - loss: 19.4346 - mse: 510.5842\n",
            "Epoch 97/100\n",
            "2/2 [==============================] - 0s 5ms/step - loss: 12.1593 - mse: 209.9755\n",
            "Epoch 98/100\n",
            "2/2 [==============================] - 0s 7ms/step - loss: 11.5653 - mse: 169.4052\n",
            "Epoch 99/100\n",
            "2/2 [==============================] - 0s 5ms/step - loss: 13.8827 - mse: 265.4630\n",
            "Epoch 100/100\n",
            "2/2 [==============================] - 0s 5ms/step - loss: 20.2277 - mse: 608.8218\n"
          ]
        },
        {
          "output_type": "execute_result",
          "data": {
            "text/plain": [
              "<keras.callbacks.History at 0x7f0268d75910>"
            ]
          },
          "metadata": {},
          "execution_count": 97
        }
      ]
    },
    {
      "cell_type": "code",
      "metadata": {
        "colab": {
          "base_uri": "https://localhost:8080/",
          "height": 428
        },
        "id": "7_19uXlLWMPU",
        "outputId": "b5b5fe82-8500-46fe-d766-619a489e3306"
      },
      "source": [
        "# Make and plot predictions for model_2_1\n",
        "y_preds_2_1 = model_2_1.predict(X_test)\n",
        "plot_predictions(predictions=y_preds_2_1)"
      ],
      "execution_count": 98,
      "outputs": [
        {
          "output_type": "display_data",
          "data": {
            "image/png": "[encoded data removed]",
            "text/plain": [
              "<Figure size 720x504 with 1 Axes>"
            ]
          },
          "metadata": {
            "needs_background": "light"
          }
        }
      ]
    },
    {
      "cell_type": "code",
      "metadata": {
        "colab": {
          "base_uri": "https://localhost:8080/"
        },
        "id": "cEeXPnlcWaKA",
        "outputId": "459a6825-197c-4c17-fbb9-0bff75e81350"
      },
      "source": [
        "mae_2_1 = mae(y_test, y_preds_2_1)\n",
        "mse_2_1 = mse(y_test, y_preds_2_1)\n",
        "\n",
        "mae_1, mae_2, mae_2_1, mse_1, mse_2, mse_2_1"
      ],
      "execution_count": 99,
      "outputs": [
        {
          "output_type": "execute_result",
          "data": {
            "text/plain": [
              "(<tf.Tensor: shape=(), dtype=float32, numpy=18.745327>,\n",
              " <tf.Tensor: shape=(), dtype=float32, numpy=1.9098114>,\n",
              " <tf.Tensor: shape=(), dtype=float32, numpy=3.1969407>,\n",
              " <tf.Tensor: shape=(), dtype=float32, numpy=353.57336>,\n",
              " <tf.Tensor: shape=(), dtype=float32, numpy=5.459232>,\n",
              " <tf.Tensor: shape=(), dtype=float32, numpy=13.070143>)"
            ]
          },
          "metadata": {},
          "execution_count": 99
        }
      ]
    },
    {
      "cell_type": "markdown",
      "metadata": {
        "id": "AMdr3MtiWqr5"
      },
      "source": [
        "**Build `model_3`** \\\n",
        " \n",
        "2 layers trained with 500 epochs."
      ]
    },
    {
      "cell_type": "code",
      "metadata": {
        "colab": {
          "base_uri": "https://localhost:8080/"
        },
        "id": "67DHOZhSYHri",
        "outputId": "961bb3ac-9262-4d01-9eb4-47492e0a6ad3"
      },
      "source": [
        "# Set random seed \n",
        "tf.random.set_seed(42)\n",
        "\n",
        "# 1. Create the model\n",
        "\n",
        "model_3 = tf.keras.Sequential([\n",
        "      tf.keras.layers.Dense(1),\n",
        "      tf.keras.layers.Dense(1)\n",
        "])\n",
        "\n",
        "# 2. Compile the model\n",
        "\n",
        "model_3.compile(loss=tf.keras.losses.mae,\n",
        "                optimizer=tf.keras.optimizers.SGD(),\n",
        "                metrics=['mae'])\n",
        "\n",
        "# 3. fit the model\n",
        "model_3.fit(X_train, y_train, epochs=500 )"
      ],
      "execution_count": 102,
      "outputs": [
        {
          "output_type": "stream",
          "name": "stdout",
          "text": [
            "Epoch 1/500\n",
            "2/2 [==============================] - 0s 5ms/step - loss: 22.6625 - mae: 22.6625\n",
            "Epoch 2/500\n",
            "2/2 [==============================] - 0s 4ms/step - loss: 16.9439 - mae: 16.9439\n",
            "Epoch 3/500\n",
            "2/2 [==============================] - 0s 7ms/step - loss: 13.8059 - mae: 13.8059\n",
            "Epoch 4/500\n",
            "2/2 [==============================] - 0s 3ms/step - loss: 17.4504 - mae: 17.4504\n",
            "Epoch 5/500\n",
            "2/2 [==============================] - 0s 4ms/step - loss: 12.0637 - mae: 12.0637\n",
            "Epoch 6/500\n",
            "2/2 [==============================] - 0s 7ms/step - loss: 9.8335 - mae: 9.8335\n",
            "Epoch 7/500\n",
            "2/2 [==============================] - 0s 4ms/step - loss: 10.7023 - mae: 10.7023\n",
            "Epoch 8/500\n",
            "2/2 [==============================] - 0s 4ms/step - loss: 10.8713 - mae: 10.8713\n",
            "Epoch 9/500\n",
            "2/2 [==============================] - 0s 6ms/step - loss: 38.0435 - mae: 38.0435\n",
            "Epoch 10/500\n",
            "2/2 [==============================] - 0s 6ms/step - loss: 25.6226 - mae: 25.6226\n",
            "Epoch 11/500\n",
            "2/2 [==============================] - 0s 4ms/step - loss: 10.2375 - mae: 10.2375\n",
            "Epoch 12/500\n",
            "2/2 [==============================] - 0s 4ms/step - loss: 25.1960 - mae: 25.1960\n",
            "Epoch 13/500\n",
            "2/2 [==============================] - 0s 6ms/step - loss: 17.0177 - mae: 17.0177\n",
            "Epoch 14/500\n",
            "2/2 [==============================] - 0s 3ms/step - loss: 25.9747 - mae: 25.9747\n",
            "Epoch 15/500\n",
            "2/2 [==============================] - 0s 5ms/step - loss: 18.0366 - mae: 18.0366\n",
            "Epoch 16/500\n",
            "2/2 [==============================] - 0s 5ms/step - loss: 7.3513 - mae: 7.3513\n",
            "Epoch 17/500\n",
            "2/2 [==============================] - 0s 7ms/step - loss: 10.8516 - mae: 10.8516\n",
            "Epoch 18/500\n",
            "2/2 [==============================] - 0s 7ms/step - loss: 19.5119 - mae: 19.5119\n",
            "Epoch 19/500\n",
            "2/2 [==============================] - 0s 5ms/step - loss: 10.3378 - mae: 10.3378\n",
            "Epoch 20/500\n",
            "2/2 [==============================] - 0s 6ms/step - loss: 17.6840 - mae: 17.6840\n",
            "Epoch 21/500\n",
            "2/2 [==============================] - 0s 5ms/step - loss: 15.8826 - mae: 15.8826\n",
            "Epoch 22/500\n",
            "2/2 [==============================] - 0s 7ms/step - loss: 14.1778 - mae: 14.1778\n",
            "Epoch 23/500\n",
            "2/2 [==============================] - 0s 3ms/step - loss: 8.7814 - mae: 8.7814\n",
            "Epoch 24/500\n",
            "2/2 [==============================] - 0s 4ms/step - loss: 11.0673 - mae: 11.0673\n",
            "Epoch 25/500\n",
            "2/2 [==============================] - 0s 3ms/step - loss: 12.6998 - mae: 12.6998\n",
            "Epoch 26/500\n",
            "2/2 [==============================] - 0s 4ms/step - loss: 26.2395 - mae: 26.2395\n",
            "Epoch 27/500\n",
            "2/2 [==============================] - 0s 4ms/step - loss: 11.7524 - mae: 11.7524\n",
            "Epoch 28/500\n",
            "2/2 [==============================] - 0s 4ms/step - loss: 22.9252 - mae: 22.9252\n",
            "Epoch 29/500\n",
            "2/2 [==============================] - 0s 4ms/step - loss: 9.2439 - mae: 9.2439\n",
            "Epoch 30/500\n",
            "2/2 [==============================] - 0s 4ms/step - loss: 29.3121 - mae: 29.3121\n",
            "Epoch 31/500\n",
            "2/2 [==============================] - 0s 3ms/step - loss: 53.1141 - mae: 53.1141\n",
            "Epoch 32/500\n",
            "2/2 [==============================] - 0s 3ms/step - loss: 12.3708 - mae: 12.3708\n",
            "Epoch 33/500\n",
            "2/2 [==============================] - 0s 5ms/step - loss: 12.1831 - mae: 12.1831\n",
            "Epoch 34/500\n",
            "2/2 [==============================] - 0s 4ms/step - loss: 23.9483 - mae: 23.9483\n",
            "Epoch 35/500\n",
            "2/2 [==============================] - 0s 4ms/step - loss: 12.6223 - mae: 12.6223\n",
            "Epoch 36/500\n",
            "2/2 [==============================] - 0s 4ms/step - loss: 21.5243 - mae: 21.5243\n",
            "Epoch 37/500\n",
            "2/2 [==============================] - 0s 6ms/step - loss: 11.3913 - mae: 11.3913\n",
            "Epoch 38/500\n",
            "2/2 [==============================] - 0s 4ms/step - loss: 13.4744 - mae: 13.4744\n",
            "Epoch 39/500\n",
            "2/2 [==============================] - 0s 9ms/step - loss: 10.7992 - mae: 10.7992\n",
            "Epoch 40/500\n",
            "2/2 [==============================] - 0s 5ms/step - loss: 16.6026 - mae: 16.6026\n",
            "Epoch 41/500\n",
            "2/2 [==============================] - 0s 7ms/step - loss: 10.9797 - mae: 10.9797\n",
            "Epoch 42/500\n",
            "2/2 [==============================] - 0s 8ms/step - loss: 9.3049 - mae: 9.3049\n",
            "Epoch 43/500\n",
            "2/2 [==============================] - 0s 5ms/step - loss: 9.5985 - mae: 9.5985\n",
            "Epoch 44/500\n",
            "2/2 [==============================] - 0s 5ms/step - loss: 27.9750 - mae: 27.9750\n",
            "Epoch 45/500\n",
            "2/2 [==============================] - 0s 4ms/step - loss: 11.2865 - mae: 11.2865\n",
            "Epoch 46/500\n",
            "2/2 [==============================] - 0s 4ms/step - loss: 14.0574 - mae: 14.0574\n",
            "Epoch 47/500\n",
            "2/2 [==============================] - 0s 4ms/step - loss: 13.5113 - mae: 13.5113\n",
            "Epoch 48/500\n",
            "2/2 [==============================] - 0s 5ms/step - loss: 17.3531 - mae: 17.3531\n",
            "Epoch 49/500\n",
            "2/2 [==============================] - 0s 5ms/step - loss: 9.5141 - mae: 9.5141\n",
            "Epoch 50/500\n",
            "2/2 [==============================] - 0s 3ms/step - loss: 13.6965 - mae: 13.6965\n",
            "Epoch 51/500\n",
            "2/2 [==============================] - 0s 6ms/step - loss: 11.5602 - mae: 11.5602\n",
            "Epoch 52/500\n",
            "2/2 [==============================] - 0s 4ms/step - loss: 30.1688 - mae: 30.1688\n",
            "Epoch 53/500\n",
            "2/2 [==============================] - 0s 3ms/step - loss: 13.7142 - mae: 13.7142\n",
            "Epoch 54/500\n",
            "2/2 [==============================] - 0s 5ms/step - loss: 26.3987 - mae: 26.3987\n",
            "Epoch 55/500\n",
            "2/2 [==============================] - 0s 4ms/step - loss: 25.9838 - mae: 25.9838\n",
            "Epoch 56/500\n",
            "2/2 [==============================] - 0s 4ms/step - loss: 11.2307 - mae: 11.2307\n",
            "Epoch 57/500\n",
            "2/2 [==============================] - 0s 5ms/step - loss: 13.2025 - mae: 13.2025\n",
            "Epoch 58/500\n",
            "2/2 [==============================] - 0s 4ms/step - loss: 9.8624 - mae: 9.8624\n",
            "Epoch 59/500\n",
            "2/2 [==============================] - 0s 4ms/step - loss: 13.3870 - mae: 13.3870\n",
            "Epoch 60/500\n",
            "2/2 [==============================] - 0s 7ms/step - loss: 10.9240 - mae: 10.9240\n",
            "Epoch 61/500\n",
            "2/2 [==============================] - 0s 12ms/step - loss: 13.5375 - mae: 13.5375\n",
            "Epoch 62/500\n",
            "2/2 [==============================] - 0s 8ms/step - loss: 17.6004 - mae: 17.6004\n",
            "Epoch 63/500\n",
            "2/2 [==============================] - 0s 11ms/step - loss: 9.1937 - mae: 9.1937\n",
            "Epoch 64/500\n",
            "2/2 [==============================] - 0s 6ms/step - loss: 18.4644 - mae: 18.4644\n",
            "Epoch 65/500\n",
            "2/2 [==============================] - 0s 5ms/step - loss: 10.1481 - mae: 10.1481\n",
            "Epoch 66/500\n",
            "2/2 [==============================] - 0s 5ms/step - loss: 24.3358 - mae: 24.3358\n",
            "Epoch 67/500\n",
            "2/2 [==============================] - 0s 10ms/step - loss: 10.9262 - mae: 10.9262\n",
            "Epoch 68/500\n",
            "2/2 [==============================] - 0s 3ms/step - loss: 10.8005 - mae: 10.8005\n",
            "Epoch 69/500\n",
            "2/2 [==============================] - 0s 3ms/step - loss: 23.3093 - mae: 23.3093\n",
            "Epoch 70/500\n",
            "2/2 [==============================] - 0s 5ms/step - loss: 8.8134 - mae: 8.8134\n",
            "Epoch 71/500\n",
            "2/2 [==============================] - 0s 5ms/step - loss: 15.9715 - mae: 15.9715\n",
            "Epoch 72/500\n",
            "2/2 [==============================] - 0s 4ms/step - loss: 8.1469 - mae: 8.1469\n",
            "Epoch 73/500\n",
            "2/2 [==============================] - 0s 6ms/step - loss: 9.4683 - mae: 9.4683\n",
            "Epoch 74/500\n",
            "2/2 [==============================] - 0s 7ms/step - loss: 28.1492 - mae: 28.1492\n",
            "Epoch 75/500\n",
            "2/2 [==============================] - 0s 3ms/step - loss: 10.2183 - mae: 10.2183\n",
            "Epoch 76/500\n",
            "2/2 [==============================] - 0s 7ms/step - loss: 13.1686 - mae: 13.1686\n",
            "Epoch 77/500\n",
            "2/2 [==============================] - 0s 4ms/step - loss: 18.4013 - mae: 18.4013\n",
            "Epoch 78/500\n",
            "2/2 [==============================] - 0s 8ms/step - loss: 9.0304 - mae: 9.0304\n",
            "Epoch 79/500\n",
            "2/2 [==============================] - 0s 4ms/step - loss: 23.4407 - mae: 23.4407\n",
            "Epoch 80/500\n",
            "2/2 [==============================] - 0s 8ms/step - loss: 26.1121 - mae: 26.1121\n",
            "Epoch 81/500\n",
            "2/2 [==============================] - 0s 3ms/step - loss: 11.4009 - mae: 11.4009\n",
            "Epoch 82/500\n",
            "2/2 [==============================] - 0s 3ms/step - loss: 12.5022 - mae: 12.5022\n",
            "Epoch 83/500\n",
            "2/2 [==============================] - 0s 5ms/step - loss: 17.1948 - mae: 17.1948\n",
            "Epoch 84/500\n",
            "2/2 [==============================] - 0s 4ms/step - loss: 6.6097 - mae: 6.6097\n",
            "Epoch 85/500\n",
            "2/2 [==============================] - 0s 4ms/step - loss: 20.2735 - mae: 20.2735\n",
            "Epoch 86/500\n",
            "2/2 [==============================] - 0s 3ms/step - loss: 10.1761 - mae: 10.1761\n",
            "Epoch 87/500\n",
            "2/2 [==============================] - 0s 4ms/step - loss: 24.3047 - mae: 24.3047\n",
            "Epoch 88/500\n",
            "2/2 [==============================] - 0s 5ms/step - loss: 18.9693 - mae: 18.9693\n",
            "Epoch 89/500\n",
            "2/2 [==============================] - 0s 4ms/step - loss: 7.1749 - mae: 7.1749\n",
            "Epoch 90/500\n",
            "2/2 [==============================] - 0s 8ms/step - loss: 18.2784 - mae: 18.2784\n",
            "Epoch 91/500\n",
            "2/2 [==============================] - 0s 6ms/step - loss: 13.3343 - mae: 13.3343\n",
            "Epoch 92/500\n",
            "2/2 [==============================] - 0s 6ms/step - loss: 8.7404 - mae: 8.7404\n",
            "Epoch 93/500\n",
            "2/2 [==============================] - 0s 12ms/step - loss: 14.1947 - mae: 14.1947\n",
            "Epoch 94/500\n",
            "2/2 [==============================] - 0s 4ms/step - loss: 17.1954 - mae: 17.1954\n",
            "Epoch 95/500\n",
            "2/2 [==============================] - 0s 3ms/step - loss: 16.7777 - mae: 16.7777\n",
            "Epoch 96/500\n",
            "2/2 [==============================] - 0s 3ms/step - loss: 11.1365 - mae: 11.1365\n",
            "Epoch 97/500\n",
            "2/2 [==============================] - 0s 3ms/step - loss: 21.1982 - mae: 21.1982\n",
            "Epoch 98/500\n",
            "2/2 [==============================] - 0s 3ms/step - loss: 10.4874 - mae: 10.4874\n",
            "Epoch 99/500\n",
            "2/2 [==============================] - 0s 3ms/step - loss: 14.5632 - mae: 14.5632\n",
            "Epoch 100/500\n",
            "2/2 [==============================] - 0s 4ms/step - loss: 17.7188 - mae: 17.7188\n",
            "Epoch 101/500\n",
            "2/2 [==============================] - 0s 3ms/step - loss: 11.2612 - mae: 11.2612\n",
            "Epoch 102/500\n",
            "2/2 [==============================] - 0s 3ms/step - loss: 16.9771 - mae: 16.9771\n",
            "Epoch 103/500\n",
            "2/2 [==============================] - 0s 4ms/step - loss: 7.7652 - mae: 7.7652\n",
            "Epoch 104/500\n",
            "2/2 [==============================] - 0s 3ms/step - loss: 22.3546 - mae: 22.3546\n",
            "Epoch 105/500\n",
            "2/2 [==============================] - 0s 3ms/step - loss: 20.1003 - mae: 20.1003\n",
            "Epoch 106/500\n",
            "2/2 [==============================] - 0s 3ms/step - loss: 10.1066 - mae: 10.1066\n",
            "Epoch 107/500\n",
            "2/2 [==============================] - 0s 3ms/step - loss: 24.8571 - mae: 24.8571\n",
            "Epoch 108/500\n",
            "2/2 [==============================] - 0s 4ms/step - loss: 14.7660 - mae: 14.7660\n",
            "Epoch 109/500\n",
            "2/2 [==============================] - 0s 3ms/step - loss: 8.9636 - mae: 8.9636\n",
            "Epoch 110/500\n",
            "2/2 [==============================] - 0s 5ms/step - loss: 9.2212 - mae: 9.2212\n",
            "Epoch 111/500\n",
            "2/2 [==============================] - 0s 4ms/step - loss: 12.8236 - mae: 12.8236\n",
            "Epoch 112/500\n",
            "2/2 [==============================] - 0s 4ms/step - loss: 15.6233 - mae: 15.6233\n",
            "Epoch 113/500\n",
            "2/2 [==============================] - 0s 3ms/step - loss: 11.1865 - mae: 11.1865\n",
            "Epoch 114/500\n",
            "2/2 [==============================] - 0s 6ms/step - loss: 24.8269 - mae: 24.8269\n",
            "Epoch 115/500\n",
            "2/2 [==============================] - 0s 4ms/step - loss: 13.4715 - mae: 13.4715\n",
            "Epoch 116/500\n",
            "2/2 [==============================] - 0s 8ms/step - loss: 14.3496 - mae: 14.3496\n",
            "Epoch 117/500\n",
            "2/2 [==============================] - 0s 5ms/step - loss: 9.9493 - mae: 9.9493\n",
            "Epoch 118/500\n",
            "2/2 [==============================] - 0s 6ms/step - loss: 11.0617 - mae: 11.0617\n",
            "Epoch 119/500\n",
            "2/2 [==============================] - 0s 6ms/step - loss: 8.1352 - mae: 8.1352\n",
            "Epoch 120/500\n",
            "2/2 [==============================] - 0s 5ms/step - loss: 30.7021 - mae: 30.7021\n",
            "Epoch 121/500\n",
            "2/2 [==============================] - 0s 3ms/step - loss: 8.1569 - mae: 8.1569\n",
            "Epoch 122/500\n",
            "2/2 [==============================] - 0s 4ms/step - loss: 29.1132 - mae: 29.1132\n",
            "Epoch 123/500\n",
            "2/2 [==============================] - 0s 8ms/step - loss: 33.8910 - mae: 33.8910\n",
            "Epoch 124/500\n",
            "2/2 [==============================] - 0s 5ms/step - loss: 20.3869 - mae: 20.3869\n",
            "Epoch 125/500\n",
            "2/2 [==============================] - 0s 4ms/step - loss: 9.0836 - mae: 9.0836\n",
            "Epoch 126/500\n",
            "2/2 [==============================] - 0s 4ms/step - loss: 9.2367 - mae: 9.2367\n",
            "Epoch 127/500\n",
            "2/2 [==============================] - 0s 3ms/step - loss: 11.2743 - mae: 11.2743\n",
            "Epoch 128/500\n",
            "2/2 [==============================] - 0s 5ms/step - loss: 17.0387 - mae: 17.0387\n",
            "Epoch 129/500\n",
            "2/2 [==============================] - 0s 3ms/step - loss: 8.9837 - mae: 8.9837\n",
            "Epoch 130/500\n",
            "2/2 [==============================] - 0s 5ms/step - loss: 23.7027 - mae: 23.7027\n",
            "Epoch 131/500\n",
            "2/2 [==============================] - 0s 3ms/step - loss: 9.7015 - mae: 9.7015\n",
            "Epoch 132/500\n",
            "2/2 [==============================] - 0s 8ms/step - loss: 17.9953 - mae: 17.9953\n",
            "Epoch 133/500\n",
            "2/2 [==============================] - 0s 5ms/step - loss: 6.7527 - mae: 6.7527\n",
            "Epoch 134/500\n",
            "2/2 [==============================] - 0s 5ms/step - loss: 20.1873 - mae: 20.1873\n",
            "Epoch 135/500\n",
            "2/2 [==============================] - 0s 3ms/step - loss: 10.5004 - mae: 10.5004\n",
            "Epoch 136/500\n",
            "2/2 [==============================] - 0s 3ms/step - loss: 18.1094 - mae: 18.1094\n",
            "Epoch 137/500\n",
            "2/2 [==============================] - 0s 4ms/step - loss: 22.9300 - mae: 22.9300\n",
            "Epoch 138/500\n",
            "2/2 [==============================] - 0s 5ms/step - loss: 9.0650 - mae: 9.0650\n",
            "Epoch 139/500\n",
            "2/2 [==============================] - 0s 8ms/step - loss: 8.8799 - mae: 8.8799\n",
            "Epoch 140/500\n",
            "2/2 [==============================] - 0s 5ms/step - loss: 16.2794 - mae: 16.2794\n",
            "Epoch 141/500\n",
            "2/2 [==============================] - 0s 3ms/step - loss: 8.4378 - mae: 8.4378\n",
            "Epoch 142/500\n",
            "2/2 [==============================] - 0s 3ms/step - loss: 36.5281 - mae: 36.5281\n",
            "Epoch 143/500\n",
            "2/2 [==============================] - 0s 5ms/step - loss: 25.2531 - mae: 25.2531\n",
            "Epoch 144/500\n",
            "2/2 [==============================] - 0s 16ms/step - loss: 10.4689 - mae: 10.4689\n",
            "Epoch 145/500\n",
            "2/2 [==============================] - 0s 13ms/step - loss: 25.8080 - mae: 25.8080\n",
            "Epoch 146/500\n",
            "2/2 [==============================] - 0s 6ms/step - loss: 9.9834 - mae: 9.9834\n",
            "Epoch 147/500\n",
            "2/2 [==============================] - 0s 12ms/step - loss: 14.7007 - mae: 14.7007\n",
            "Epoch 148/500\n",
            "2/2 [==============================] - 0s 6ms/step - loss: 17.8050 - mae: 17.8050\n",
            "Epoch 149/500\n",
            "2/2 [==============================] - 0s 7ms/step - loss: 8.4769 - mae: 8.4769\n",
            "Epoch 150/500\n",
            "2/2 [==============================] - 0s 11ms/step - loss: 7.6249 - mae: 7.6249\n",
            "Epoch 151/500\n",
            "2/2 [==============================] - 0s 3ms/step - loss: 18.9286 - mae: 18.9286\n",
            "Epoch 152/500\n",
            "2/2 [==============================] - 0s 3ms/step - loss: 10.4785 - mae: 10.4785\n",
            "Epoch 153/500\n",
            "2/2 [==============================] - 0s 5ms/step - loss: 30.5114 - mae: 30.5114\n",
            "Epoch 154/500\n",
            "2/2 [==============================] - 0s 5ms/step - loss: 9.9628 - mae: 9.9628\n",
            "Epoch 155/500\n",
            "2/2 [==============================] - 0s 3ms/step - loss: 15.7147 - mae: 15.7147\n",
            "Epoch 156/500\n",
            "2/2 [==============================] - 0s 6ms/step - loss: 17.5991 - mae: 17.5991\n",
            "Epoch 157/500\n",
            "2/2 [==============================] - 0s 7ms/step - loss: 31.2962 - mae: 31.2962\n",
            "Epoch 158/500\n",
            "2/2 [==============================] - 0s 4ms/step - loss: 10.2597 - mae: 10.2597\n",
            "Epoch 159/500\n",
            "2/2 [==============================] - 0s 7ms/step - loss: 8.7076 - mae: 8.7076\n",
            "Epoch 160/500\n",
            "2/2 [==============================] - 0s 5ms/step - loss: 20.8764 - mae: 20.8764\n",
            "Epoch 161/500\n",
            "2/2 [==============================] - 0s 5ms/step - loss: 11.8638 - mae: 11.8638\n",
            "Epoch 162/500\n",
            "2/2 [==============================] - 0s 7ms/step - loss: 21.8614 - mae: 21.8614\n",
            "Epoch 163/500\n",
            "2/2 [==============================] - 0s 6ms/step - loss: 19.5262 - mae: 19.5262\n",
            "Epoch 164/500\n",
            "2/2 [==============================] - 0s 9ms/step - loss: 11.4217 - mae: 11.4217\n",
            "Epoch 165/500\n",
            "2/2 [==============================] - 0s 3ms/step - loss: 11.6115 - mae: 11.6115\n",
            "Epoch 166/500\n",
            "2/2 [==============================] - 0s 5ms/step - loss: 21.3573 - mae: 21.3573\n",
            "Epoch 167/500\n",
            "2/2 [==============================] - 0s 5ms/step - loss: 26.8833 - mae: 26.8833\n",
            "Epoch 168/500\n",
            "2/2 [==============================] - 0s 3ms/step - loss: 10.0079 - mae: 10.0079\n",
            "Epoch 169/500\n",
            "2/2 [==============================] - 0s 6ms/step - loss: 23.1243 - mae: 23.1243\n",
            "Epoch 170/500\n",
            "2/2 [==============================] - 0s 9ms/step - loss: 9.5960 - mae: 9.5960\n",
            "Epoch 171/500\n",
            "2/2 [==============================] - 0s 3ms/step - loss: 15.8613 - mae: 15.8613\n",
            "Epoch 172/500\n",
            "2/2 [==============================] - 0s 5ms/step - loss: 13.8936 - mae: 13.8936\n",
            "Epoch 173/500\n",
            "2/2 [==============================] - 0s 3ms/step - loss: 22.5890 - mae: 22.5890\n",
            "Epoch 174/500\n",
            "2/2 [==============================] - 0s 4ms/step - loss: 11.3498 - mae: 11.3498\n",
            "Epoch 175/500\n",
            "2/2 [==============================] - 0s 4ms/step - loss: 20.0652 - mae: 20.0652\n",
            "Epoch 176/500\n",
            "2/2 [==============================] - 0s 13ms/step - loss: 7.4087 - mae: 7.4087\n",
            "Epoch 177/500\n",
            "2/2 [==============================] - 0s 9ms/step - loss: 8.5979 - mae: 8.5979\n",
            "Epoch 178/500\n",
            "2/2 [==============================] - 0s 3ms/step - loss: 15.4691 - mae: 15.4691\n",
            "Epoch 179/500\n",
            "2/2 [==============================] - 0s 7ms/step - loss: 9.3098 - mae: 9.3098\n",
            "Epoch 180/500\n",
            "2/2 [==============================] - 0s 4ms/step - loss: 8.1326 - mae: 8.1326\n",
            "Epoch 181/500\n",
            "2/2 [==============================] - 0s 6ms/step - loss: 18.6995 - mae: 18.6995\n",
            "Epoch 182/500\n",
            "2/2 [==============================] - 0s 5ms/step - loss: 10.7752 - mae: 10.7752\n",
            "Epoch 183/500\n",
            "2/2 [==============================] - 0s 10ms/step - loss: 10.9010 - mae: 10.9010\n",
            "Epoch 184/500\n",
            "2/2 [==============================] - 0s 5ms/step - loss: 33.6795 - mae: 33.6795\n",
            "Epoch 185/500\n",
            "2/2 [==============================] - 0s 5ms/step - loss: 7.6256 - mae: 7.6256\n",
            "Epoch 186/500\n",
            "2/2 [==============================] - 0s 4ms/step - loss: 16.7550 - mae: 16.7550\n",
            "Epoch 187/500\n",
            "2/2 [==============================] - 0s 6ms/step - loss: 10.1933 - mae: 10.1933\n",
            "Epoch 188/500\n",
            "2/2 [==============================] - 0s 4ms/step - loss: 23.0484 - mae: 23.0484\n",
            "Epoch 189/500\n",
            "2/2 [==============================] - 0s 5ms/step - loss: 9.8744 - mae: 9.8744\n",
            "Epoch 190/500\n",
            "2/2 [==============================] - 0s 4ms/step - loss: 15.2768 - mae: 15.2768\n",
            "Epoch 191/500\n",
            "2/2 [==============================] - 0s 6ms/step - loss: 9.9642 - mae: 9.9642\n",
            "Epoch 192/500\n",
            "2/2 [==============================] - 0s 5ms/step - loss: 14.9958 - mae: 14.9958\n",
            "Epoch 193/500\n",
            "2/2 [==============================] - 0s 7ms/step - loss: 29.6780 - mae: 29.6780\n",
            "Epoch 194/500\n",
            "2/2 [==============================] - 0s 8ms/step - loss: 8.3824 - mae: 8.3824\n",
            "Epoch 195/500\n",
            "2/2 [==============================] - 0s 3ms/step - loss: 12.9099 - mae: 12.9099\n",
            "Epoch 196/500\n",
            "2/2 [==============================] - 0s 4ms/step - loss: 23.9535 - mae: 23.9535\n",
            "Epoch 197/500\n",
            "2/2 [==============================] - 0s 5ms/step - loss: 16.7607 - mae: 16.7607\n",
            "Epoch 198/500\n",
            "2/2 [==============================] - 0s 4ms/step - loss: 11.4553 - mae: 11.4553\n",
            "Epoch 199/500\n",
            "2/2 [==============================] - 0s 3ms/step - loss: 19.5603 - mae: 19.5603\n",
            "Epoch 200/500\n",
            "2/2 [==============================] - 0s 5ms/step - loss: 15.7255 - mae: 15.7255\n",
            "Epoch 201/500\n",
            "2/2 [==============================] - 0s 6ms/step - loss: 10.5874 - mae: 10.5874\n",
            "Epoch 202/500\n",
            "2/2 [==============================] - 0s 3ms/step - loss: 22.4504 - mae: 22.4504\n",
            "Epoch 203/500\n",
            "2/2 [==============================] - 0s 7ms/step - loss: 21.6605 - mae: 21.6605\n",
            "Epoch 204/500\n",
            "2/2 [==============================] - 0s 4ms/step - loss: 17.2725 - mae: 17.2725\n",
            "Epoch 205/500\n",
            "2/2 [==============================] - 0s 7ms/step - loss: 9.4795 - mae: 9.4795\n",
            "Epoch 206/500\n",
            "2/2 [==============================] - 0s 7ms/step - loss: 11.1134 - mae: 11.1134\n",
            "Epoch 207/500\n",
            "2/2 [==============================] - 0s 6ms/step - loss: 17.6008 - mae: 17.6008\n",
            "Epoch 208/500\n",
            "2/2 [==============================] - 0s 6ms/step - loss: 14.3340 - mae: 14.3340\n",
            "Epoch 209/500\n",
            "2/2 [==============================] - 0s 8ms/step - loss: 16.6363 - mae: 16.6363\n",
            "Epoch 210/500\n",
            "2/2 [==============================] - 0s 3ms/step - loss: 18.1361 - mae: 18.1361\n",
            "Epoch 211/500\n",
            "2/2 [==============================] - 0s 7ms/step - loss: 9.9325 - mae: 9.9325\n",
            "Epoch 212/500\n",
            "2/2 [==============================] - 0s 21ms/step - loss: 18.5932 - mae: 18.5932\n",
            "Epoch 213/500\n",
            "2/2 [==============================] - 0s 4ms/step - loss: 14.9830 - mae: 14.9830\n",
            "Epoch 214/500\n",
            "2/2 [==============================] - 0s 11ms/step - loss: 14.5550 - mae: 14.5550\n",
            "Epoch 215/500\n",
            "2/2 [==============================] - 0s 7ms/step - loss: 23.2258 - mae: 23.2258\n",
            "Epoch 216/500\n",
            "2/2 [==============================] - 0s 5ms/step - loss: 13.5046 - mae: 13.5046\n",
            "Epoch 217/500\n",
            "2/2 [==============================] - 0s 6ms/step - loss: 9.9874 - mae: 9.9874\n",
            "Epoch 218/500\n",
            "2/2 [==============================] - 0s 3ms/step - loss: 12.4790 - mae: 12.4790\n",
            "Epoch 219/500\n",
            "2/2 [==============================] - 0s 5ms/step - loss: 5.3193 - mae: 5.3193\n",
            "Epoch 220/500\n",
            "2/2 [==============================] - 0s 6ms/step - loss: 12.4031 - mae: 12.4031\n",
            "Epoch 221/500\n",
            "2/2 [==============================] - 0s 6ms/step - loss: 22.3804 - mae: 22.3804\n",
            "Epoch 222/500\n",
            "2/2 [==============================] - 0s 4ms/step - loss: 21.4821 - mae: 21.4821\n",
            "Epoch 223/500\n",
            "2/2 [==============================] - 0s 4ms/step - loss: 11.6657 - mae: 11.6657\n",
            "Epoch 224/500\n",
            "2/2 [==============================] - 0s 6ms/step - loss: 13.5729 - mae: 13.5729\n",
            "Epoch 225/500\n",
            "2/2 [==============================] - 0s 7ms/step - loss: 15.7083 - mae: 15.7083\n",
            "Epoch 226/500\n",
            "2/2 [==============================] - 0s 7ms/step - loss: 14.9526 - mae: 14.9526\n",
            "Epoch 227/500\n",
            "2/2 [==============================] - 0s 5ms/step - loss: 15.2855 - mae: 15.2855\n",
            "Epoch 228/500\n",
            "2/2 [==============================] - 0s 7ms/step - loss: 17.4495 - mae: 17.4495\n",
            "Epoch 229/500\n",
            "2/2 [==============================] - 0s 4ms/step - loss: 7.2128 - mae: 7.2128\n",
            "Epoch 230/500\n",
            "2/2 [==============================] - 0s 4ms/step - loss: 7.4579 - mae: 7.4579\n",
            "Epoch 231/500\n",
            "2/2 [==============================] - 0s 4ms/step - loss: 24.7665 - mae: 24.7665\n",
            "Epoch 232/500\n",
            "2/2 [==============================] - 0s 7ms/step - loss: 8.7807 - mae: 8.7807\n",
            "Epoch 233/500\n",
            "2/2 [==============================] - 0s 4ms/step - loss: 24.7248 - mae: 24.7248\n",
            "Epoch 234/500\n",
            "2/2 [==============================] - 0s 4ms/step - loss: 8.1448 - mae: 8.1448\n",
            "Epoch 235/500\n",
            "2/2 [==============================] - 0s 4ms/step - loss: 12.7116 - mae: 12.7116\n",
            "Epoch 236/500\n",
            "2/2 [==============================] - 0s 5ms/step - loss: 7.7151 - mae: 7.7151\n",
            "Epoch 237/500\n",
            "2/2 [==============================] - 0s 4ms/step - loss: 10.0243 - mae: 10.0243\n",
            "Epoch 238/500\n",
            "2/2 [==============================] - 0s 5ms/step - loss: 8.5508 - mae: 8.5508\n",
            "Epoch 239/500\n",
            "2/2 [==============================] - 0s 5ms/step - loss: 18.8639 - mae: 18.8639\n",
            "Epoch 240/500\n",
            "2/2 [==============================] - 0s 4ms/step - loss: 8.9871 - mae: 8.9871\n",
            "Epoch 241/500\n",
            "2/2 [==============================] - 0s 4ms/step - loss: 13.3864 - mae: 13.3864\n",
            "Epoch 242/500\n",
            "2/2 [==============================] - 0s 4ms/step - loss: 8.8832 - mae: 8.8832\n",
            "Epoch 243/500\n",
            "2/2 [==============================] - 0s 4ms/step - loss: 19.2384 - mae: 19.2384\n",
            "Epoch 244/500\n",
            "2/2 [==============================] - 0s 9ms/step - loss: 13.9083 - mae: 13.9083\n",
            "Epoch 245/500\n",
            "2/2 [==============================] - 0s 12ms/step - loss: 14.5554 - mae: 14.5554\n",
            "Epoch 246/500\n",
            "2/2 [==============================] - 0s 8ms/step - loss: 15.6931 - mae: 15.6931\n",
            "Epoch 247/500\n",
            "2/2 [==============================] - 0s 4ms/step - loss: 17.5340 - mae: 17.5340\n",
            "Epoch 248/500\n",
            "2/2 [==============================] - 0s 11ms/step - loss: 13.0999 - mae: 13.0999\n",
            "Epoch 249/500\n",
            "2/2 [==============================] - 0s 8ms/step - loss: 14.4328 - mae: 14.4328\n",
            "Epoch 250/500\n",
            "2/2 [==============================] - 0s 10ms/step - loss: 27.8382 - mae: 27.8382\n",
            "Epoch 251/500\n",
            "2/2 [==============================] - 0s 6ms/step - loss: 7.5069 - mae: 7.5069\n",
            "Epoch 252/500\n",
            "2/2 [==============================] - 0s 9ms/step - loss: 38.1139 - mae: 38.1139\n",
            "Epoch 253/500\n",
            "2/2 [==============================] - 0s 4ms/step - loss: 22.9281 - mae: 22.9281\n",
            "Epoch 254/500\n",
            "2/2 [==============================] - 0s 5ms/step - loss: 7.4438 - mae: 7.4438\n",
            "Epoch 255/500\n",
            "2/2 [==============================] - 0s 5ms/step - loss: 25.8148 - mae: 25.8148\n",
            "Epoch 256/500\n",
            "2/2 [==============================] - 0s 9ms/step - loss: 13.7325 - mae: 13.7325\n",
            "Epoch 257/500\n",
            "2/2 [==============================] - 0s 8ms/step - loss: 8.3459 - mae: 8.3459\n",
            "Epoch 258/500\n",
            "2/2 [==============================] - 0s 9ms/step - loss: 13.2279 - mae: 13.2279\n",
            "Epoch 259/500\n",
            "2/2 [==============================] - 0s 5ms/step - loss: 10.2463 - mae: 10.2463\n",
            "Epoch 260/500\n",
            "2/2 [==============================] - 0s 3ms/step - loss: 33.6563 - mae: 33.6563\n",
            "Epoch 261/500\n",
            "2/2 [==============================] - 0s 3ms/step - loss: 12.4289 - mae: 12.4289\n",
            "Epoch 262/500\n",
            "2/2 [==============================] - 0s 5ms/step - loss: 8.9121 - mae: 8.9121\n",
            "Epoch 263/500\n",
            "2/2 [==============================] - 0s 4ms/step - loss: 8.2714 - mae: 8.2714\n",
            "Epoch 264/500\n",
            "2/2 [==============================] - 0s 6ms/step - loss: 18.8088 - mae: 18.8088\n",
            "Epoch 265/500\n",
            "2/2 [==============================] - 0s 5ms/step - loss: 11.7215 - mae: 11.7215\n",
            "Epoch 266/500\n",
            "2/2 [==============================] - 0s 5ms/step - loss: 13.5943 - mae: 13.5943\n",
            "Epoch 267/500\n",
            "2/2 [==============================] - 0s 5ms/step - loss: 11.2338 - mae: 11.2338\n",
            "Epoch 268/500\n",
            "2/2 [==============================] - 0s 6ms/step - loss: 19.5453 - mae: 19.5453\n",
            "Epoch 269/500\n",
            "2/2 [==============================] - 0s 5ms/step - loss: 39.5157 - mae: 39.5157\n",
            "Epoch 270/500\n",
            "2/2 [==============================] - 0s 9ms/step - loss: 12.1134 - mae: 12.1134\n",
            "Epoch 271/500\n",
            "2/2 [==============================] - 0s 5ms/step - loss: 14.3649 - mae: 14.3649\n",
            "Epoch 272/500\n",
            "2/2 [==============================] - 0s 7ms/step - loss: 27.7528 - mae: 27.7528\n",
            "Epoch 273/500\n",
            "2/2 [==============================] - 0s 8ms/step - loss: 8.2436 - mae: 8.2436\n",
            "Epoch 274/500\n",
            "2/2 [==============================] - 0s 10ms/step - loss: 6.4461 - mae: 6.4461\n",
            "Epoch 275/500\n",
            "2/2 [==============================] - 0s 8ms/step - loss: 34.9599 - mae: 34.9599\n",
            "Epoch 276/500\n",
            "2/2 [==============================] - 0s 3ms/step - loss: 8.0558 - mae: 8.0558\n",
            "Epoch 277/500\n",
            "2/2 [==============================] - 0s 5ms/step - loss: 26.1170 - mae: 26.1170\n",
            "Epoch 278/500\n",
            "2/2 [==============================] - 0s 10ms/step - loss: 11.3321 - mae: 11.3321\n",
            "Epoch 279/500\n",
            "2/2 [==============================] - 0s 3ms/step - loss: 16.1102 - mae: 16.1102\n",
            "Epoch 280/500\n",
            "2/2 [==============================] - 0s 5ms/step - loss: 21.2435 - mae: 21.2435\n",
            "Epoch 281/500\n",
            "2/2 [==============================] - 0s 4ms/step - loss: 23.7810 - mae: 23.7810\n",
            "Epoch 282/500\n",
            "2/2 [==============================] - 0s 4ms/step - loss: 8.2441 - mae: 8.2441\n",
            "Epoch 283/500\n",
            "2/2 [==============================] - 0s 5ms/step - loss: 8.4285 - mae: 8.4285\n",
            "Epoch 284/500\n",
            "2/2 [==============================] - 0s 9ms/step - loss: 26.6308 - mae: 26.6308\n",
            "Epoch 285/500\n",
            "2/2 [==============================] - 0s 11ms/step - loss: 14.2314 - mae: 14.2314\n",
            "Epoch 286/500\n",
            "2/2 [==============================] - 0s 4ms/step - loss: 5.2458 - mae: 5.2458\n",
            "Epoch 287/500\n",
            "2/2 [==============================] - 0s 7ms/step - loss: 20.8119 - mae: 20.8119\n",
            "Epoch 288/500\n",
            "2/2 [==============================] - 0s 4ms/step - loss: 27.6881 - mae: 27.6881\n",
            "Epoch 289/500\n",
            "2/2 [==============================] - 0s 4ms/step - loss: 11.0046 - mae: 11.0046\n",
            "Epoch 290/500\n",
            "2/2 [==============================] - 0s 3ms/step - loss: 16.1976 - mae: 16.1976\n",
            "Epoch 291/500\n",
            "2/2 [==============================] - 0s 7ms/step - loss: 16.3652 - mae: 16.3652\n",
            "Epoch 292/500\n",
            "2/2 [==============================] - 0s 5ms/step - loss: 14.6295 - mae: 14.6295\n",
            "Epoch 293/500\n",
            "2/2 [==============================] - 0s 13ms/step - loss: 15.9419 - mae: 15.9419\n",
            "Epoch 294/500\n",
            "2/2 [==============================] - 0s 7ms/step - loss: 24.0848 - mae: 24.0848\n",
            "Epoch 295/500\n",
            "2/2 [==============================] - 0s 6ms/step - loss: 14.7127 - mae: 14.7127\n",
            "Epoch 296/500\n",
            "2/2 [==============================] - 0s 7ms/step - loss: 4.5065 - mae: 4.5065\n",
            "Epoch 297/500\n",
            "2/2 [==============================] - 0s 5ms/step - loss: 9.6685 - mae: 9.6685\n",
            "Epoch 298/500\n",
            "2/2 [==============================] - 0s 9ms/step - loss: 23.7733 - mae: 23.7733\n",
            "Epoch 299/500\n",
            "2/2 [==============================] - 0s 7ms/step - loss: 19.0267 - mae: 19.0267\n",
            "Epoch 300/500\n",
            "2/2 [==============================] - 0s 6ms/step - loss: 8.8169 - mae: 8.8169\n",
            "Epoch 301/500\n",
            "2/2 [==============================] - 0s 4ms/step - loss: 15.8882 - mae: 15.8882\n",
            "Epoch 302/500\n",
            "2/2 [==============================] - 0s 5ms/step - loss: 5.7412 - mae: 5.7412\n",
            "Epoch 303/500\n",
            "2/2 [==============================] - 0s 5ms/step - loss: 22.9852 - mae: 22.9852\n",
            "Epoch 304/500\n",
            "2/2 [==============================] - 0s 8ms/step - loss: 26.0575 - mae: 26.0575\n",
            "Epoch 305/500\n",
            "2/2 [==============================] - 0s 3ms/step - loss: 9.5871 - mae: 9.5871\n",
            "Epoch 306/500\n",
            "2/2 [==============================] - 0s 4ms/step - loss: 17.8152 - mae: 17.8152\n",
            "Epoch 307/500\n",
            "2/2 [==============================] - 0s 9ms/step - loss: 9.7940 - mae: 9.7940\n",
            "Epoch 308/500\n",
            "2/2 [==============================] - 0s 3ms/step - loss: 20.5450 - mae: 20.5450\n",
            "Epoch 309/500\n",
            "2/2 [==============================] - 0s 5ms/step - loss: 13.6686 - mae: 13.6686\n",
            "Epoch 310/500\n",
            "2/2 [==============================] - 0s 6ms/step - loss: 6.6468 - mae: 6.6468\n",
            "Epoch 311/500\n",
            "2/2 [==============================] - 0s 3ms/step - loss: 13.3861 - mae: 13.3861\n",
            "Epoch 312/500\n",
            "2/2 [==============================] - 0s 4ms/step - loss: 30.1870 - mae: 30.1870\n",
            "Epoch 313/500\n",
            "2/2 [==============================] - 0s 4ms/step - loss: 7.2613 - mae: 7.2613\n",
            "Epoch 314/500\n",
            "2/2 [==============================] - 0s 5ms/step - loss: 10.5500 - mae: 10.5500\n",
            "Epoch 315/500\n",
            "2/2 [==============================] - 0s 4ms/step - loss: 23.5548 - mae: 23.5548\n",
            "Epoch 316/500\n",
            "2/2 [==============================] - 0s 7ms/step - loss: 14.4469 - mae: 14.4469\n",
            "Epoch 317/500\n",
            "2/2 [==============================] - 0s 3ms/step - loss: 20.0025 - mae: 20.0025\n",
            "Epoch 318/500\n",
            "2/2 [==============================] - 0s 3ms/step - loss: 8.0088 - mae: 8.0088\n",
            "Epoch 319/500\n",
            "2/2 [==============================] - 0s 8ms/step - loss: 18.1318 - mae: 18.1318\n",
            "Epoch 320/500\n",
            "2/2 [==============================] - 0s 3ms/step - loss: 10.6560 - mae: 10.6560\n",
            "Epoch 321/500\n",
            "2/2 [==============================] - 0s 7ms/step - loss: 7.0358 - mae: 7.0358\n",
            "Epoch 322/500\n",
            "2/2 [==============================] - 0s 4ms/step - loss: 8.6712 - mae: 8.6712\n",
            "Epoch 323/500\n",
            "2/2 [==============================] - 0s 5ms/step - loss: 18.3342 - mae: 18.3342\n",
            "Epoch 324/500\n",
            "2/2 [==============================] - 0s 3ms/step - loss: 6.3114 - mae: 6.3114\n",
            "Epoch 325/500\n",
            "2/2 [==============================] - 0s 5ms/step - loss: 14.6204 - mae: 14.6204\n",
            "Epoch 326/500\n",
            "2/2 [==============================] - 0s 4ms/step - loss: 6.9930 - mae: 6.9930\n",
            "Epoch 327/500\n",
            "2/2 [==============================] - 0s 3ms/step - loss: 17.6297 - mae: 17.6297\n",
            "Epoch 328/500\n",
            "2/2 [==============================] - 0s 16ms/step - loss: 14.3738 - mae: 14.3738\n",
            "Epoch 329/500\n",
            "2/2 [==============================] - 0s 28ms/step - loss: 17.6862 - mae: 17.6862\n",
            "Epoch 330/500\n",
            "2/2 [==============================] - 0s 5ms/step - loss: 6.7832 - mae: 6.7832\n",
            "Epoch 331/500\n",
            "2/2 [==============================] - 0s 8ms/step - loss: 19.7392 - mae: 19.7392\n",
            "Epoch 332/500\n",
            "2/2 [==============================] - 0s 6ms/step - loss: 10.5504 - mae: 10.5504\n",
            "Epoch 333/500\n",
            "2/2 [==============================] - 0s 9ms/step - loss: 16.3365 - mae: 16.3365\n",
            "Epoch 334/500\n",
            "2/2 [==============================] - 0s 9ms/step - loss: 9.7204 - mae: 9.7204\n",
            "Epoch 335/500\n",
            "2/2 [==============================] - 0s 6ms/step - loss: 13.0571 - mae: 13.0571\n",
            "Epoch 336/500\n",
            "2/2 [==============================] - 0s 7ms/step - loss: 32.4954 - mae: 32.4954\n",
            "Epoch 337/500\n",
            "2/2 [==============================] - 0s 7ms/step - loss: 11.0398 - mae: 11.0398\n",
            "Epoch 338/500\n",
            "2/2 [==============================] - 0s 4ms/step - loss: 19.9557 - mae: 19.9557\n",
            "Epoch 339/500\n",
            "2/2 [==============================] - 0s 25ms/step - loss: 34.3118 - mae: 34.3118\n",
            "Epoch 340/500\n",
            "2/2 [==============================] - 0s 7ms/step - loss: 8.7204 - mae: 8.7204\n",
            "Epoch 341/500\n",
            "2/2 [==============================] - 0s 8ms/step - loss: 21.9521 - mae: 21.9521\n",
            "Epoch 342/500\n",
            "2/2 [==============================] - 0s 7ms/step - loss: 13.8474 - mae: 13.8474\n",
            "Epoch 343/500\n",
            "2/2 [==============================] - 0s 6ms/step - loss: 11.6931 - mae: 11.6931\n",
            "Epoch 344/500\n",
            "2/2 [==============================] - 0s 4ms/step - loss: 10.6911 - mae: 10.6911\n",
            "Epoch 345/500\n",
            "2/2 [==============================] - 0s 8ms/step - loss: 30.9080 - mae: 30.9080\n",
            "Epoch 346/500\n",
            "2/2 [==============================] - 0s 5ms/step - loss: 10.6418 - mae: 10.6418\n",
            "Epoch 347/500\n",
            "2/2 [==============================] - 0s 5ms/step - loss: 25.5682 - mae: 25.5682\n",
            "Epoch 348/500\n",
            "2/2 [==============================] - 0s 7ms/step - loss: 13.2760 - mae: 13.2760\n",
            "Epoch 349/500\n",
            "2/2 [==============================] - 0s 3ms/step - loss: 13.0389 - mae: 13.0389\n",
            "Epoch 350/500\n",
            "2/2 [==============================] - 0s 6ms/step - loss: 15.4016 - mae: 15.4016\n",
            "Epoch 351/500\n",
            "2/2 [==============================] - 0s 13ms/step - loss: 32.8786 - mae: 32.8786\n",
            "Epoch 352/500\n",
            "2/2 [==============================] - 0s 6ms/step - loss: 14.0887 - mae: 14.0887\n",
            "Epoch 353/500\n",
            "2/2 [==============================] - 0s 15ms/step - loss: 17.7845 - mae: 17.7845\n",
            "Epoch 354/500\n",
            "2/2 [==============================] - 0s 6ms/step - loss: 11.3456 - mae: 11.3456\n",
            "Epoch 355/500\n",
            "2/2 [==============================] - 0s 8ms/step - loss: 26.7768 - mae: 26.7768\n",
            "Epoch 356/500\n",
            "2/2 [==============================] - 0s 4ms/step - loss: 10.1413 - mae: 10.1413\n",
            "Epoch 357/500\n",
            "2/2 [==============================] - 0s 4ms/step - loss: 14.6965 - mae: 14.6965\n",
            "Epoch 358/500\n",
            "2/2 [==============================] - 0s 5ms/step - loss: 14.5669 - mae: 14.5669\n",
            "Epoch 359/500\n",
            "2/2 [==============================] - 0s 4ms/step - loss: 12.3553 - mae: 12.3553\n",
            "Epoch 360/500\n",
            "2/2 [==============================] - 0s 4ms/step - loss: 20.3741 - mae: 20.3741\n",
            "Epoch 361/500\n",
            "2/2 [==============================] - 0s 5ms/step - loss: 10.8611 - mae: 10.8611\n",
            "Epoch 362/500\n",
            "2/2 [==============================] - 0s 4ms/step - loss: 6.8143 - mae: 6.8143\n",
            "Epoch 363/500\n",
            "2/2 [==============================] - 0s 4ms/step - loss: 23.7580 - mae: 23.7580\n",
            "Epoch 364/500\n",
            "2/2 [==============================] - 0s 8ms/step - loss: 29.4392 - mae: 29.4392\n",
            "Epoch 365/500\n",
            "2/2 [==============================] - 0s 9ms/step - loss: 8.2609 - mae: 8.2609\n",
            "Epoch 366/500\n",
            "2/2 [==============================] - 0s 10ms/step - loss: 6.1080 - mae: 6.1080\n",
            "Epoch 367/500\n",
            "2/2 [==============================] - 0s 8ms/step - loss: 34.5084 - mae: 34.5084\n",
            "Epoch 368/500\n",
            "2/2 [==============================] - 0s 7ms/step - loss: 7.3386 - mae: 7.3386\n",
            "Epoch 369/500\n",
            "2/2 [==============================] - 0s 7ms/step - loss: 8.6853 - mae: 8.6853\n",
            "Epoch 370/500\n",
            "2/2 [==============================] - 0s 4ms/step - loss: 14.2204 - mae: 14.2204\n",
            "Epoch 371/500\n",
            "2/2 [==============================] - 0s 9ms/step - loss: 6.8365 - mae: 6.8365\n",
            "Epoch 372/500\n",
            "2/2 [==============================] - 0s 10ms/step - loss: 6.5532 - mae: 6.5532\n",
            "Epoch 373/500\n",
            "2/2 [==============================] - 0s 8ms/step - loss: 24.1444 - mae: 24.1444\n",
            "Epoch 374/500\n",
            "2/2 [==============================] - 0s 7ms/step - loss: 10.2379 - mae: 10.2379\n",
            "Epoch 375/500\n",
            "2/2 [==============================] - 0s 4ms/step - loss: 12.8609 - mae: 12.8609\n",
            "Epoch 376/500\n",
            "2/2 [==============================] - 0s 4ms/step - loss: 14.7345 - mae: 14.7345\n",
            "Epoch 377/500\n",
            "2/2 [==============================] - 0s 6ms/step - loss: 14.6624 - mae: 14.6624\n",
            "Epoch 378/500\n",
            "2/2 [==============================] - 0s 4ms/step - loss: 16.1848 - mae: 16.1848\n",
            "Epoch 379/500\n",
            "2/2 [==============================] - 0s 3ms/step - loss: 20.6248 - mae: 20.6248\n",
            "Epoch 380/500\n",
            "2/2 [==============================] - 0s 4ms/step - loss: 34.1467 - mae: 34.1467\n",
            "Epoch 381/500\n",
            "2/2 [==============================] - 0s 4ms/step - loss: 8.8398 - mae: 8.8398\n",
            "Epoch 382/500\n",
            "2/2 [==============================] - 0s 4ms/step - loss: 9.5903 - mae: 9.5903\n",
            "Epoch 383/500\n",
            "2/2 [==============================] - 0s 4ms/step - loss: 5.7475 - mae: 5.7475\n",
            "Epoch 384/500\n",
            "2/2 [==============================] - 0s 10ms/step - loss: 8.7343 - mae: 8.7343\n",
            "Epoch 385/500\n",
            "2/2 [==============================] - 0s 8ms/step - loss: 4.9610 - mae: 4.9610\n",
            "Epoch 386/500\n",
            "2/2 [==============================] - 0s 4ms/step - loss: 25.1394 - mae: 25.1394\n",
            "Epoch 387/500\n",
            "2/2 [==============================] - 0s 23ms/step - loss: 15.0848 - mae: 15.0848\n",
            "Epoch 388/500\n",
            "2/2 [==============================] - 0s 11ms/step - loss: 6.6537 - mae: 6.6537\n",
            "Epoch 389/500\n",
            "2/2 [==============================] - 0s 4ms/step - loss: 17.5735 - mae: 17.5735\n",
            "Epoch 390/500\n",
            "2/2 [==============================] - 0s 5ms/step - loss: 23.8722 - mae: 23.8722\n",
            "Epoch 391/500\n",
            "2/2 [==============================] - 0s 11ms/step - loss: 16.4860 - mae: 16.4860\n",
            "Epoch 392/500\n",
            "2/2 [==============================] - 0s 4ms/step - loss: 8.3799 - mae: 8.3799\n",
            "Epoch 393/500\n",
            "2/2 [==============================] - 0s 6ms/step - loss: 18.1540 - mae: 18.1540\n",
            "Epoch 394/500\n",
            "2/2 [==============================] - 0s 3ms/step - loss: 14.2061 - mae: 14.2061\n",
            "Epoch 395/500\n",
            "2/2 [==============================] - 0s 4ms/step - loss: 28.6830 - mae: 28.6830\n",
            "Epoch 396/500\n",
            "2/2 [==============================] - 0s 5ms/step - loss: 8.2067 - mae: 8.2067\n",
            "Epoch 397/500\n",
            "2/2 [==============================] - 0s 5ms/step - loss: 10.4882 - mae: 10.4882\n",
            "Epoch 398/500\n",
            "2/2 [==============================] - 0s 4ms/step - loss: 7.3829 - mae: 7.3829\n",
            "Epoch 399/500\n",
            "2/2 [==============================] - 0s 4ms/step - loss: 15.5525 - mae: 15.5525\n",
            "Epoch 400/500\n",
            "2/2 [==============================] - 0s 9ms/step - loss: 6.7261 - mae: 6.7261\n",
            "Epoch 401/500\n",
            "2/2 [==============================] - 0s 4ms/step - loss: 7.9880 - mae: 7.9880\n",
            "Epoch 402/500\n",
            "2/2 [==============================] - 0s 10ms/step - loss: 16.3915 - mae: 16.3915\n",
            "Epoch 403/500\n",
            "2/2 [==============================] - 0s 4ms/step - loss: 12.3790 - mae: 12.3790\n",
            "Epoch 404/500\n",
            "2/2 [==============================] - 0s 4ms/step - loss: 22.9715 - mae: 22.9715\n",
            "Epoch 405/500\n",
            "2/2 [==============================] - 0s 6ms/step - loss: 18.0145 - mae: 18.0145\n",
            "Epoch 406/500\n",
            "2/2 [==============================] - 0s 11ms/step - loss: 7.0428 - mae: 7.0428\n",
            "Epoch 407/500\n",
            "2/2 [==============================] - 0s 8ms/step - loss: 12.5847 - mae: 12.5847\n",
            "Epoch 408/500\n",
            "2/2 [==============================] - 0s 5ms/step - loss: 5.6744 - mae: 5.6744\n",
            "Epoch 409/500\n",
            "2/2 [==============================] - 0s 8ms/step - loss: 31.0699 - mae: 31.0699\n",
            "Epoch 410/500\n",
            "2/2 [==============================] - 0s 7ms/step - loss: 9.2949 - mae: 9.2949\n",
            "Epoch 411/500\n",
            "2/2 [==============================] - 0s 5ms/step - loss: 14.9031 - mae: 14.9031\n",
            "Epoch 412/500\n",
            "2/2 [==============================] - 0s 9ms/step - loss: 21.8005 - mae: 21.8005\n",
            "Epoch 413/500\n",
            "2/2 [==============================] - 0s 5ms/step - loss: 12.5131 - mae: 12.5131\n",
            "Epoch 414/500\n",
            "2/2 [==============================] - 0s 5ms/step - loss: 6.0941 - mae: 6.0941\n",
            "Epoch 415/500\n",
            "2/2 [==============================] - 0s 3ms/step - loss: 13.2518 - mae: 13.2518\n",
            "Epoch 416/500\n",
            "2/2 [==============================] - 0s 3ms/step - loss: 27.4879 - mae: 27.4879\n",
            "Epoch 417/500\n",
            "2/2 [==============================] - 0s 13ms/step - loss: 10.4894 - mae: 10.4894\n",
            "Epoch 418/500\n",
            "2/2 [==============================] - 0s 6ms/step - loss: 12.8735 - mae: 12.8735\n",
            "Epoch 419/500\n",
            "2/2 [==============================] - 0s 4ms/step - loss: 15.9124 - mae: 15.9124\n",
            "Epoch 420/500\n",
            "2/2 [==============================] - 0s 4ms/step - loss: 24.8210 - mae: 24.8210\n",
            "Epoch 421/500\n",
            "2/2 [==============================] - 0s 8ms/step - loss: 17.2069 - mae: 17.2069\n",
            "Epoch 422/500\n",
            "2/2 [==============================] - 0s 6ms/step - loss: 7.8224 - mae: 7.8224\n",
            "Epoch 423/500\n",
            "2/2 [==============================] - 0s 7ms/step - loss: 25.4446 - mae: 25.4446\n",
            "Epoch 424/500\n",
            "2/2 [==============================] - 0s 4ms/step - loss: 14.9594 - mae: 14.9594\n",
            "Epoch 425/500\n",
            "2/2 [==============================] - 0s 4ms/step - loss: 7.1071 - mae: 7.1071\n",
            "Epoch 426/500\n",
            "2/2 [==============================] - 0s 4ms/step - loss: 20.1569 - mae: 20.1569\n",
            "Epoch 427/500\n",
            "2/2 [==============================] - 0s 5ms/step - loss: 6.2677 - mae: 6.2677\n",
            "Epoch 428/500\n",
            "2/2 [==============================] - 0s 4ms/step - loss: 12.6563 - mae: 12.6563\n",
            "Epoch 429/500\n",
            "2/2 [==============================] - 0s 5ms/step - loss: 12.0960 - mae: 12.0960\n",
            "Epoch 430/500\n",
            "2/2 [==============================] - 0s 4ms/step - loss: 11.0939 - mae: 11.0939\n",
            "Epoch 431/500\n",
            "2/2 [==============================] - 0s 7ms/step - loss: 10.0177 - mae: 10.0177\n",
            "Epoch 432/500\n",
            "2/2 [==============================] - 0s 3ms/step - loss: 13.3634 - mae: 13.3634\n",
            "Epoch 433/500\n",
            "2/2 [==============================] - 0s 3ms/step - loss: 11.3840 - mae: 11.3840\n",
            "Epoch 434/500\n",
            "2/2 [==============================] - 0s 5ms/step - loss: 30.4181 - mae: 30.4181\n",
            "Epoch 435/500\n",
            "2/2 [==============================] - 0s 4ms/step - loss: 10.5025 - mae: 10.5025\n",
            "Epoch 436/500\n",
            "2/2 [==============================] - 0s 6ms/step - loss: 28.9030 - mae: 28.9030\n",
            "Epoch 437/500\n",
            "2/2 [==============================] - 0s 5ms/step - loss: 8.6079 - mae: 8.6079\n",
            "Epoch 438/500\n",
            "2/2 [==============================] - 0s 3ms/step - loss: 12.7370 - mae: 12.7370\n",
            "Epoch 439/500\n",
            "2/2 [==============================] - 0s 4ms/step - loss: 33.6905 - mae: 33.6905\n",
            "Epoch 440/500\n",
            "2/2 [==============================] - 0s 5ms/step - loss: 15.1092 - mae: 15.1092\n",
            "Epoch 441/500\n",
            "2/2 [==============================] - 0s 11ms/step - loss: 17.4910 - mae: 17.4910\n",
            "Epoch 442/500\n",
            "2/2 [==============================] - 0s 4ms/step - loss: 22.3351 - mae: 22.3351\n",
            "Epoch 443/500\n",
            "2/2 [==============================] - 0s 6ms/step - loss: 23.5134 - mae: 23.5134\n",
            "Epoch 444/500\n",
            "2/2 [==============================] - 0s 3ms/step - loss: 10.9375 - mae: 10.9375\n",
            "Epoch 445/500\n",
            "2/2 [==============================] - 0s 8ms/step - loss: 14.9323 - mae: 14.9323\n",
            "Epoch 446/500\n",
            "2/2 [==============================] - 0s 14ms/step - loss: 18.0209 - mae: 18.0209\n",
            "Epoch 447/500\n",
            "2/2 [==============================] - 0s 5ms/step - loss: 5.4084 - mae: 5.4084\n",
            "Epoch 448/500\n",
            "2/2 [==============================] - 0s 14ms/step - loss: 10.0721 - mae: 10.0721\n",
            "Epoch 449/500\n",
            "2/2 [==============================] - 0s 12ms/step - loss: 14.0213 - mae: 14.0213\n",
            "Epoch 450/500\n",
            "2/2 [==============================] - 0s 6ms/step - loss: 16.7930 - mae: 16.7930\n",
            "Epoch 451/500\n",
            "2/2 [==============================] - 0s 11ms/step - loss: 14.2969 - mae: 14.2969\n",
            "Epoch 452/500\n",
            "2/2 [==============================] - 0s 8ms/step - loss: 30.6382 - mae: 30.6382\n",
            "Epoch 453/500\n",
            "2/2 [==============================] - 0s 6ms/step - loss: 7.6471 - mae: 7.6471\n",
            "Epoch 454/500\n",
            "2/2 [==============================] - 0s 14ms/step - loss: 28.1639 - mae: 28.1639\n",
            "Epoch 455/500\n",
            "2/2 [==============================] - 0s 3ms/step - loss: 7.9552 - mae: 7.9552\n",
            "Epoch 456/500\n",
            "2/2 [==============================] - 0s 3ms/step - loss: 10.4065 - mae: 10.4065\n",
            "Epoch 457/500\n",
            "2/2 [==============================] - 0s 8ms/step - loss: 15.0418 - mae: 15.0418\n",
            "Epoch 458/500\n",
            "2/2 [==============================] - 0s 10ms/step - loss: 16.5709 - mae: 16.5709\n",
            "Epoch 459/500\n",
            "2/2 [==============================] - 0s 4ms/step - loss: 26.8802 - mae: 26.8802\n",
            "Epoch 460/500\n",
            "2/2 [==============================] - 0s 8ms/step - loss: 12.4289 - mae: 12.4289\n",
            "Epoch 461/500\n",
            "2/2 [==============================] - 0s 10ms/step - loss: 12.4970 - mae: 12.4970\n",
            "Epoch 462/500\n",
            "2/2 [==============================] - 0s 8ms/step - loss: 13.3265 - mae: 13.3265\n",
            "Epoch 463/500\n",
            "2/2 [==============================] - 0s 3ms/step - loss: 29.5723 - mae: 29.5723\n",
            "Epoch 464/500\n",
            "2/2 [==============================] - 0s 6ms/step - loss: 3.4551 - mae: 3.4551\n",
            "Epoch 465/500\n",
            "2/2 [==============================] - 0s 8ms/step - loss: 15.2294 - mae: 15.2294\n",
            "Epoch 466/500\n",
            "2/2 [==============================] - 0s 5ms/step - loss: 20.8631 - mae: 20.8631\n",
            "Epoch 467/500\n",
            "2/2 [==============================] - 0s 6ms/step - loss: 30.4324 - mae: 30.4324\n",
            "Epoch 468/500\n",
            "2/2 [==============================] - 0s 9ms/step - loss: 11.0177 - mae: 11.0177\n",
            "Epoch 469/500\n",
            "2/2 [==============================] - 0s 7ms/step - loss: 12.7861 - mae: 12.7861\n",
            "Epoch 470/500\n",
            "2/2 [==============================] - 0s 8ms/step - loss: 3.2208 - mae: 3.2208\n",
            "Epoch 471/500\n",
            "2/2 [==============================] - 0s 9ms/step - loss: 16.7157 - mae: 16.7157\n",
            "Epoch 472/500\n",
            "2/2 [==============================] - 0s 8ms/step - loss: 13.4055 - mae: 13.4055\n",
            "Epoch 473/500\n",
            "2/2 [==============================] - 0s 7ms/step - loss: 15.2931 - mae: 15.2931\n",
            "Epoch 474/500\n",
            "2/2 [==============================] - 0s 8ms/step - loss: 11.7605 - mae: 11.7605\n",
            "Epoch 475/500\n",
            "2/2 [==============================] - 0s 4ms/step - loss: 16.4321 - mae: 16.4321\n",
            "Epoch 476/500\n",
            "2/2 [==============================] - 0s 4ms/step - loss: 14.0069 - mae: 14.0069\n",
            "Epoch 477/500\n",
            "2/2 [==============================] - 0s 11ms/step - loss: 30.5862 - mae: 30.5862\n",
            "Epoch 478/500\n",
            "2/2 [==============================] - 0s 9ms/step - loss: 8.1694 - mae: 8.1694\n",
            "Epoch 479/500\n",
            "2/2 [==============================] - 0s 3ms/step - loss: 11.2276 - mae: 11.2276\n",
            "Epoch 480/500\n",
            "2/2 [==============================] - 0s 3ms/step - loss: 17.8935 - mae: 17.8935\n",
            "Epoch 481/500\n",
            "2/2 [==============================] - 0s 8ms/step - loss: 15.8000 - mae: 15.8000\n",
            "Epoch 482/500\n",
            "2/2 [==============================] - 0s 7ms/step - loss: 21.2924 - mae: 21.2924\n",
            "Epoch 483/500\n",
            "2/2 [==============================] - 0s 6ms/step - loss: 25.4153 - mae: 25.4153\n",
            "Epoch 484/500\n",
            "2/2 [==============================] - 0s 15ms/step - loss: 24.0084 - mae: 24.0084\n",
            "Epoch 485/500\n",
            "2/2 [==============================] - 0s 4ms/step - loss: 5.7663 - mae: 5.7663\n",
            "Epoch 486/500\n",
            "2/2 [==============================] - 0s 8ms/step - loss: 20.0279 - mae: 20.0279\n",
            "Epoch 487/500\n",
            "2/2 [==============================] - 0s 8ms/step - loss: 14.0383 - mae: 14.0383\n",
            "Epoch 488/500\n",
            "2/2 [==============================] - 0s 4ms/step - loss: 30.6057 - mae: 30.6057\n",
            "Epoch 489/500\n",
            "2/2 [==============================] - 0s 5ms/step - loss: 11.9324 - mae: 11.9324\n",
            "Epoch 490/500\n",
            "2/2 [==============================] - 0s 8ms/step - loss: 12.7299 - mae: 12.7299\n",
            "Epoch 491/500\n",
            "2/2 [==============================] - 0s 3ms/step - loss: 23.6069 - mae: 23.6069\n",
            "Epoch 492/500\n",
            "2/2 [==============================] - 0s 6ms/step - loss: 20.5582 - mae: 20.5582\n",
            "Epoch 493/500\n",
            "2/2 [==============================] - 0s 6ms/step - loss: 4.9865 - mae: 4.9865\n",
            "Epoch 494/500\n",
            "2/2 [==============================] - 0s 6ms/step - loss: 12.8093 - mae: 12.8093\n",
            "Epoch 495/500\n",
            "2/2 [==============================] - 0s 6ms/step - loss: 13.3707 - mae: 13.3707\n",
            "Epoch 496/500\n",
            "2/2 [==============================] - 0s 5ms/step - loss: 12.6678 - mae: 12.6678\n",
            "Epoch 497/500\n",
            "2/2 [==============================] - 0s 9ms/step - loss: 17.6088 - mae: 17.6088\n",
            "Epoch 498/500\n",
            "2/2 [==============================] - 0s 4ms/step - loss: 23.5821 - mae: 23.5821\n",
            "Epoch 499/500\n",
            "2/2 [==============================] - 0s 12ms/step - loss: 9.3903 - mae: 9.3903\n",
            "Epoch 500/500\n",
            "2/2 [==============================] - 0s 6ms/step - loss: 14.6258 - mae: 14.6258\n"
          ]
        },
        {
          "output_type": "execute_result",
          "data": {
            "text/plain": [
              "<keras.callbacks.History at 0x7f026bc7b4d0>"
            ]
          },
          "metadata": {},
          "execution_count": 102
        }
      ]
    },
    {
      "cell_type": "code",
      "metadata": {
        "colab": {
          "base_uri": "https://localhost:8080/",
          "height": 428
        },
        "id": "dwBmlK7YZ1Gx",
        "outputId": "b6ed36d9-a1d7-4ed2-ec94-4b21e7e73544"
      },
      "source": [
        "# Make and plot predictions for model_3\n",
        "y_preds_3 = model_3.predict(X_test)\n",
        "plot_predictions(predictions=y_preds_3)"
      ],
      "execution_count": 103,
      "outputs": [
        {
          "output_type": "display_data",
          "data": {
            "image/png": "[encoded data removed]",
            "text/plain": [
              "<Figure size 720x504 with 1 Axes>"
            ]
          },
          "metadata": {
            "needs_background": "light"
          }
        }
      ]
    },
    {
      "cell_type": "code",
      "metadata": {
        "colab": {
          "base_uri": "https://localhost:8080/"
        },
        "id": "4rVF9o_VaE8a",
        "outputId": "a5754656-02cf-4c5e-a680-73a55b7e94e0"
      },
      "source": [
        "mae_3 = mae(y_test, y_preds_3)\n",
        "mse_3 = mse(y_test, y_preds_3)\n",
        "\n",
        "mae_1, mae_2, mae_2_1, mae_3, mse_1, mse_2, mse_2_1, mse_3"
      ],
      "execution_count": 104,
      "outputs": [
        {
          "output_type": "execute_result",
          "data": {
            "text/plain": [
              "(<tf.Tensor: shape=(), dtype=float32, numpy=18.745327>,\n",
              " <tf.Tensor: shape=(), dtype=float32, numpy=1.9098114>,\n",
              " <tf.Tensor: shape=(), dtype=float32, numpy=3.1969407>,\n",
              " <tf.Tensor: shape=(), dtype=float32, numpy=68.68786>,\n",
              " <tf.Tensor: shape=(), dtype=float32, numpy=353.57336>,\n",
              " <tf.Tensor: shape=(), dtype=float32, numpy=5.459232>,\n",
              " <tf.Tensor: shape=(), dtype=float32, numpy=13.070143>,\n",
              " <tf.Tensor: shape=(), dtype=float32, numpy=4804.4717>)"
            ]
          },
          "metadata": {},
          "execution_count": 104
        }
      ]
    },
    {
      "cell_type": "markdown",
      "metadata": {
        "id": "j3MVTAuyaY4C"
      },
      "source": [
        "### Comparing the results of the experiments\n",
        "\n",
        "Now that we have ran a few experiments, we will compare the results."
      ]
    },
    {
      "cell_type": "markdown",
      "metadata": {
        "id": "x_KRf9sedmHD"
      },
      "source": [
        "🔑 **Note** You should start with small experiments (small models)  and make sure they work and then increase their scale when necessary. 🔑"
      ]
    },
    {
      "cell_type": "markdown",
      "metadata": {
        "id": "QqH5CWh_dVua"
      },
      "source": [
        "Let's compare our model's results using a Pandas dataframe"
      ]
    },
    {
      "cell_type": "code",
      "metadata": {
        "id": "rz9WiUDTeiS4"
      },
      "source": [
        "import pandas as pd\n",
        "\n",
        "model_results = [['model_1', mae_1, mse_1],\n",
        "                 ['model_2', mae_2, mse_2],\n",
        "                 ['model_2.1', mae_2_1, mse_2_1],\n",
        "                 ['model_3', mae_3, mse_3]]\n",
        "\n",
        "all_results = pd.DataFrame(model_results, columns=['Model', 'mae', 'mse'])"
      ],
      "execution_count": 107,
      "outputs": []
    },
    {
      "cell_type": "code",
      "metadata": {
        "colab": {
          "base_uri": "https://localhost:8080/",
          "height": 172
        },
        "id": "hTdAfA7TfjYW",
        "outputId": "0b2967b2-5f35-4ddb-bb05-a1c67042026c"
      },
      "source": [
        "all_results"
      ],
      "execution_count": 108,
      "outputs": [
        {
          "output_type": "execute_result",
          "data": {
            "text/html": [
              "<div>\n",
              "<style scoped>\n",
              "    .dataframe tbody tr th:only-of-type {\n",
              "        vertical-align: middle;\n",
              "    }\n",
              "\n",
              "    .dataframe tbody tr th {\n",
              "        vertical-align: top;\n",
              "    }\n",
              "\n",
              "    .dataframe thead th {\n",
              "        text-align: right;\n",
              "    }\n",
              "</style>\n",
              "<table border=\"1\" class=\"dataframe\">\n",
              "  <thead>\n",
              "    <tr style=\"text-align: right;\">\n",
              "      <th></th>\n",
              "      <th>Model</th>\n",
              "      <th>mae</th>\n",
              "      <th>mse</th>\n",
              "    </tr>\n",
              "  </thead>\n",
              "  <tbody>\n",
              "    <tr>\n",
              "      <th>0</th>\n",
              "      <td>model_1</td>\n",
              "      <td>tf.Tensor(18.745327, shape=(), dtype=float32)</td>\n",
              "      <td>tf.Tensor(353.57336, shape=(), dtype=float32)</td>\n",
              "    </tr>\n",
              "    <tr>\n",
              "      <th>1</th>\n",
              "      <td>model_2</td>\n",
              "      <td>tf.Tensor(1.9098114, shape=(), dtype=float32)</td>\n",
              "      <td>tf.Tensor(5.459232, shape=(), dtype=float32)</td>\n",
              "    </tr>\n",
              "    <tr>\n",
              "      <th>2</th>\n",
              "      <td>model_2.1</td>\n",
              "      <td>tf.Tensor(3.1969407, shape=(), dtype=float32)</td>\n",
              "      <td>tf.Tensor(13.070143, shape=(), dtype=float32)</td>\n",
              "    </tr>\n",
              "    <tr>\n",
              "      <th>3</th>\n",
              "      <td>model_3</td>\n",
              "      <td>tf.Tensor(68.68786, shape=(), dtype=float32)</td>\n",
              "      <td>tf.Tensor(4804.4717, shape=(), dtype=float32)</td>\n",
              "    </tr>\n",
              "  </tbody>\n",
              "</table>\n",
              "</div>"
            ],
            "text/plain": [
              "       Model  ...                                            mse\n",
              "0    model_1  ...  tf.Tensor(353.57336, shape=(), dtype=float32)\n",
              "1    model_2  ...   tf.Tensor(5.459232, shape=(), dtype=float32)\n",
              "2  model_2.1  ...  tf.Tensor(13.070143, shape=(), dtype=float32)\n",
              "3    model_3  ...  tf.Tensor(4804.4717, shape=(), dtype=float32)\n",
              "\n",
              "[4 rows x 3 columns]"
            ]
          },
          "metadata": {},
          "execution_count": 108
        }
      ]
    },
    {
      "cell_type": "code",
      "metadata": {
        "id": "bkjzX5jZfvRu"
      },
      "source": [
        "model_results = [['model_1', mae_1.numpy(), mse_1.numpy()],\n",
        "                 ['model_2', mae_2.numpy(), mse_2.numpy()],\n",
        "                 ['model_2.1', mae_2_1.numpy(), mse_2_1.numpy()],\n",
        "                 ['model_3', mae_3.numpy(), mse_3.numpy()]]\n",
        "\n",
        "all_results = pd.DataFrame(model_results, columns=['Model', 'mae', 'mse'])"
      ],
      "execution_count": 127,
      "outputs": []
    },
    {
      "cell_type": "code",
      "metadata": {
        "colab": {
          "base_uri": "https://localhost:8080/",
          "height": 172
        },
        "id": "Iqco4mgbgIt7",
        "outputId": "a918477f-c5e2-4507-b01f-e4132f319f64"
      },
      "source": [
        "all_results"
      ],
      "execution_count": 128,
      "outputs": [
        {
          "output_type": "execute_result",
          "data": {
            "text/html": [
              "<div>\n",
              "<style scoped>\n",
              "    .dataframe tbody tr th:only-of-type {\n",
              "        vertical-align: middle;\n",
              "    }\n",
              "\n",
              "    .dataframe tbody tr th {\n",
              "        vertical-align: top;\n",
              "    }\n",
              "\n",
              "    .dataframe thead th {\n",
              "        text-align: right;\n",
              "    }\n",
              "</style>\n",
              "<table border=\"1\" class=\"dataframe\">\n",
              "  <thead>\n",
              "    <tr style=\"text-align: right;\">\n",
              "      <th></th>\n",
              "      <th>Model</th>\n",
              "      <th>mae</th>\n",
              "      <th>mse</th>\n",
              "    </tr>\n",
              "  </thead>\n",
              "  <tbody>\n",
              "    <tr>\n",
              "      <th>0</th>\n",
              "      <td>model_1</td>\n",
              "      <td>18.745327</td>\n",
              "      <td>353.573364</td>\n",
              "    </tr>\n",
              "    <tr>\n",
              "      <th>1</th>\n",
              "      <td>model_2</td>\n",
              "      <td>1.909811</td>\n",
              "      <td>5.459232</td>\n",
              "    </tr>\n",
              "    <tr>\n",
              "      <th>2</th>\n",
              "      <td>model_2.1</td>\n",
              "      <td>3.196941</td>\n",
              "      <td>13.070143</td>\n",
              "    </tr>\n",
              "    <tr>\n",
              "      <th>3</th>\n",
              "      <td>model_3</td>\n",
              "      <td>68.687859</td>\n",
              "      <td>4804.471680</td>\n",
              "    </tr>\n",
              "  </tbody>\n",
              "</table>\n",
              "</div>"
            ],
            "text/plain": [
              "       Model        mae          mse\n",
              "0    model_1  18.745327   353.573364\n",
              "1    model_2   1.909811     5.459232\n",
              "2  model_2.1   3.196941    13.070143\n",
              "3    model_3  68.687859  4804.471680"
            ]
          },
          "metadata": {},
          "execution_count": 128
        }
      ]
    },
    {
      "cell_type": "code",
      "metadata": {
        "colab": {
          "base_uri": "https://localhost:8080/"
        },
        "id": "c0w4twBIgLYv",
        "outputId": "ba8a2199-1471-4d04-fd41-18cc6eaa954f"
      },
      "source": [
        "model_2.summary()"
      ],
      "execution_count": 129,
      "outputs": [
        {
          "output_type": "stream",
          "name": "stdout",
          "text": [
            "Model: \"sequential_12\"\n",
            "_________________________________________________________________\n",
            "Layer (type)                 Output Shape              Param #   \n",
            "=================================================================\n",
            "dense_18 (Dense)             (None, 1)                 2         \n",
            "_________________________________________________________________\n",
            "dense_19 (Dense)             (None, 1)                 2         \n",
            "=================================================================\n",
            "Total params: 4\n",
            "Trainable params: 4\n",
            "Non-trainable params: 0\n",
            "_________________________________________________________________\n"
          ]
        }
      ]
    },
    {
      "cell_type": "markdown",
      "metadata": {
        "id": "yX-Yz3n1jAyM"
      },
      "source": [
        "🔑 **Note:** One of your main goals should be to minimise the time between your experiments. The more experiments you do, the more things you will figure out which do not work and in turn approach closer to working out what will work. When in doubt, remember the machine learning practioner's motto: \"Experiment, experiment, experiment\" 🔑"
      ]
    },
    {
      "cell_type": "markdown",
      "metadata": {
        "id": "Cf66dG9FkoGe"
      },
      "source": [
        "### Tracking experiments\n",
        "\n",
        "A good habit in machine learning modelling is to track the results from the experiments.\n",
        "\n",
        "When doing so, it can become tedious if running numerous experiments.\n",
        "\n",
        "Luckily, there are tools to help.\n",
        "\n",
        "📖 **Resource:** 📖\n",
        "* TensorBoard - a componentof the Tensorflow library to help track modelling experiments.\n",
        "* Weights & Biases - a tool for tracking all kinds of machine learning experiments (plugs straight into TensorBoard)"
      ]
    },
    {
      "cell_type": "markdown",
      "metadata": {
        "id": "VtC_YlfFoA5o"
      },
      "source": [
        "## Saving our models\n",
        "\n",
        "Saving our models allows us to use them outside of Google Colab (or wherever they were trained) and use them in a web application or a mobile app.\n",
        "\n",
        "There are two main formats we can save our models too:\n",
        "1. The SavedModel format.\n",
        "2. The HDF5 format."
      ]
    },
    {
      "cell_type": "markdown",
      "metadata": {
        "id": "W2SP4YoZo007"
      },
      "source": [
        "Save the model using the SavedModel format"
      ]
    },
    {
      "cell_type": "code",
      "metadata": {
        "colab": {
          "base_uri": "https://localhost:8080/"
        },
        "id": "4fTAERfFqnZU",
        "outputId": "f38fb05c-cd95-41b1-c98d-acdfea233d85"
      },
      "source": [
        "model_2.save(\"best_model_SavedModel_format\")"
      ],
      "execution_count": 132,
      "outputs": [
        {
          "output_type": "stream",
          "name": "stdout",
          "text": [
            "INFO:tensorflow:Assets written to: best_model_SavedModel_format/assets\n"
          ]
        }
      ]
    },
    {
      "cell_type": "markdown",
      "metadata": {
        "id": "wUY_e6yfq2Bu"
      },
      "source": [
        "Save the model using the HDF5 format"
      ]
    },
    {
      "cell_type": "code",
      "metadata": {
        "id": "ijmBZuEjrcG1"
      },
      "source": [
        "model_2.save(\"best_model_HDF5_format.h5\")"
      ],
      "execution_count": 133,
      "outputs": []
    },
    {
      "cell_type": "markdown",
      "metadata": {
        "id": "wWlDkBdlr2gS"
      },
      "source": [
        "## Loading in a saved model "
      ]
    },
    {
      "cell_type": "markdown",
      "metadata": {
        "id": "xDHi8l7xsfgC"
      },
      "source": [
        "Load in the SavedModel format model"
      ]
    },
    {
      "cell_type": "code",
      "metadata": {
        "colab": {
          "base_uri": "https://localhost:8080/"
        },
        "id": "lJXrYYwask-U",
        "outputId": "d631da9d-8d0c-4daa-fecd-cee3c1a38fce"
      },
      "source": [
        "loaded_saved_model_format = tf.keras.models.load_model('best_model_SavedModel_format')\n",
        "loaded_saved_model_format.summary()"
      ],
      "execution_count": 134,
      "outputs": [
        {
          "output_type": "stream",
          "name": "stdout",
          "text": [
            "Model: \"sequential_12\"\n",
            "_________________________________________________________________\n",
            "Layer (type)                 Output Shape              Param #   \n",
            "=================================================================\n",
            "dense_18 (Dense)             (None, 1)                 2         \n",
            "_________________________________________________________________\n",
            "dense_19 (Dense)             (None, 1)                 2         \n",
            "=================================================================\n",
            "Total params: 4\n",
            "Trainable params: 4\n",
            "Non-trainable params: 0\n",
            "_________________________________________________________________\n"
          ]
        }
      ]
    },
    {
      "cell_type": "code",
      "metadata": {
        "colab": {
          "base_uri": "https://localhost:8080/"
        },
        "id": "epcj2BCxtGNd",
        "outputId": "c2814f74-539b-494a-d97f-c421daa7e23c"
      },
      "source": [
        "model_2.summary()"
      ],
      "execution_count": 135,
      "outputs": [
        {
          "output_type": "stream",
          "name": "stdout",
          "text": [
            "Model: \"sequential_12\"\n",
            "_________________________________________________________________\n",
            "Layer (type)                 Output Shape              Param #   \n",
            "=================================================================\n",
            "dense_18 (Dense)             (None, 1)                 2         \n",
            "_________________________________________________________________\n",
            "dense_19 (Dense)             (None, 1)                 2         \n",
            "=================================================================\n",
            "Total params: 4\n",
            "Trainable params: 4\n",
            "Non-trainable params: 0\n",
            "_________________________________________________________________\n"
          ]
        }
      ]
    },
    {
      "cell_type": "markdown",
      "metadata": {
        "id": "Xhk-NCjZtRMv"
      },
      "source": [
        "Compare model_2 predictions with loaded_saved_model_format predictions"
      ]
    },
    {
      "cell_type": "code",
      "metadata": {
        "id": "j5ZvOp31tkG0"
      },
      "source": [
        "model_2_preds = model_2.predict(X_test)\n",
        "loaded_saved_model_format_preds = loaded_saved_model_format.predict(X_test)"
      ],
      "execution_count": 136,
      "outputs": []
    },
    {
      "cell_type": "code",
      "metadata": {
        "colab": {
          "base_uri": "https://localhost:8080/"
        },
        "id": "ck76LHBwt9QP",
        "outputId": "272fe15c-78f2-4c90-8601-af698ab5d45b"
      },
      "source": [
        "model_2_preds == loaded_saved_model_format_preds"
      ],
      "execution_count": 137,
      "outputs": [
        {
          "output_type": "execute_result",
          "data": {
            "text/plain": [
              "array([[ True],\n",
              "       [ True],\n",
              "       [ True],\n",
              "       [ True],\n",
              "       [ True],\n",
              "       [ True],\n",
              "       [ True],\n",
              "       [ True],\n",
              "       [ True],\n",
              "       [ True]])"
            ]
          },
          "metadata": {},
          "execution_count": 137
        }
      ]
    },
    {
      "cell_type": "code",
      "metadata": {
        "colab": {
          "base_uri": "https://localhost:8080/"
        },
        "id": "zgdiWPdnuB7A",
        "outputId": "4864768a-425d-4a5e-e6b0-b7b80810633e"
      },
      "source": [
        "mae(y_true=y_test, y_pred=model_2_preds) == mae(y_true=y_test, y_pred=loaded_saved_model_format_preds)"
      ],
      "execution_count": 138,
      "outputs": [
        {
          "output_type": "execute_result",
          "data": {
            "text/plain": [
              "<tf.Tensor: shape=(), dtype=bool, numpy=True>"
            ]
          },
          "metadata": {},
          "execution_count": 138
        }
      ]
    },
    {
      "cell_type": "markdown",
      "metadata": {
        "id": "r7MxiXXIumga"
      },
      "source": [
        "Load in a model using the .h5 format"
      ]
    },
    {
      "cell_type": "code",
      "metadata": {
        "id": "UB5vvOf1vMq7"
      },
      "source": [
        "loaded_h5_model = tf.keras.models.load_model('best_model_HDF5_format.h5')"
      ],
      "execution_count": 139,
      "outputs": []
    },
    {
      "cell_type": "code",
      "metadata": {
        "id": "2sHZgvy9vhjF"
      },
      "source": [
        "loaded_h5_model_pred = loaded_h5_model.predict(X_test)"
      ],
      "execution_count": 140,
      "outputs": []
    },
    {
      "cell_type": "code",
      "metadata": {
        "colab": {
          "base_uri": "https://localhost:8080/"
        },
        "id": "T9sSRHjFvuw7",
        "outputId": "f3bd2f0f-acb7-4766-e36f-62dc9304417d"
      },
      "source": [
        "loaded_saved_model_format_preds == loaded_h5_model_pred"
      ],
      "execution_count": 141,
      "outputs": [
        {
          "output_type": "execute_result",
          "data": {
            "text/plain": [
              "array([[ True],\n",
              "       [ True],\n",
              "       [ True],\n",
              "       [ True],\n",
              "       [ True],\n",
              "       [ True],\n",
              "       [ True],\n",
              "       [ True],\n",
              "       [ True],\n",
              "       [ True]])"
            ]
          },
          "metadata": {},
          "execution_count": 141
        }
      ]
    },
    {
      "cell_type": "code",
      "metadata": {
        "colab": {
          "base_uri": "https://localhost:8080/"
        },
        "id": "lhe4v7lsvybR",
        "outputId": "483b64fc-fabc-4583-f93d-2ab277949baf"
      },
      "source": [
        "loaded_h5_model.summary()"
      ],
      "execution_count": 142,
      "outputs": [
        {
          "output_type": "stream",
          "name": "stdout",
          "text": [
            "Model: \"sequential_12\"\n",
            "_________________________________________________________________\n",
            "Layer (type)                 Output Shape              Param #   \n",
            "=================================================================\n",
            "dense_18 (Dense)             (None, 1)                 2         \n",
            "_________________________________________________________________\n",
            "dense_19 (Dense)             (None, 1)                 2         \n",
            "=================================================================\n",
            "Total params: 4\n",
            "Trainable params: 4\n",
            "Non-trainable params: 0\n",
            "_________________________________________________________________\n"
          ]
        }
      ]
    },
    {
      "cell_type": "code",
      "metadata": {
        "colab": {
          "base_uri": "https://localhost:8080/"
        },
        "id": "GSAfUMOdwABa",
        "outputId": "e5c93956-87cb-4a10-d9f6-d53ac6b00a80"
      },
      "source": [
        "model_2.summary()"
      ],
      "execution_count": 143,
      "outputs": [
        {
          "output_type": "stream",
          "name": "stdout",
          "text": [
            "Model: \"sequential_12\"\n",
            "_________________________________________________________________\n",
            "Layer (type)                 Output Shape              Param #   \n",
            "=================================================================\n",
            "dense_18 (Dense)             (None, 1)                 2         \n",
            "_________________________________________________________________\n",
            "dense_19 (Dense)             (None, 1)                 2         \n",
            "=================================================================\n",
            "Total params: 4\n",
            "Trainable params: 4\n",
            "Non-trainable params: 0\n",
            "_________________________________________________________________\n"
          ]
        }
      ]
    },
    {
      "cell_type": "code",
      "metadata": {
        "id": "FYZMYyZfwEL7"
      },
      "source": [
        ""
      ],
      "execution_count": null,
      "outputs": []
    }
  ]
}