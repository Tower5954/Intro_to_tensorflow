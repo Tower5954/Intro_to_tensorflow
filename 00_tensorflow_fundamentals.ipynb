{
  "nbformat": 4,
  "nbformat_minor": 0,
  "metadata": {
    "colab": {
      "name": "00_tensorflow_fundamentals.ipynb",
      "provenance": [],
      "toc_visible": true,
      "authorship_tag": "ABX9TyPzeyaKOpFtNI5+4x305EP7",
      "include_colab_link": true
    },
    "kernelspec": {
      "name": "python3",
      "display_name": "Python 3"
    },
    "language_info": {
      "name": "python"
    },
    "accelerator": "GPU"
  },
  "cells": [
    {
      "cell_type": "markdown",
      "metadata": {
        "id": "view-in-github",
        "colab_type": "text"
      },
      "source": [
        "<a href=\"https://colab.research.google.com/github/Tower5954/Intro_to_tensorflow/blob/main/00_tensorflow_fundamentals.ipynb\" target=\"_parent\"><img src=\"https://colab.research.google.com/assets/colab-badge.svg\" alt=\"Open In Colab\"/></a>"
      ]
    },
    {
      "cell_type": "markdown",
      "metadata": {
        "id": "FEyTdvZrOkLk"
      },
      "source": [
        "# In this notebook, we're going to cover some of the most fundamental concepts of tensors using TensorFlow"
      ]
    },
    {
      "cell_type": "markdown",
      "metadata": {
        "id": "vM0Ne-fQPKxj"
      },
      "source": [
        "More specifically, we will cover:\n",
        "* Introductuction to tensors\n",
        "* Getting information from tensors\n",
        "* Manipulating tensors \n",
        "* Tensors & NumPy\n",
        "* Using @tf.function (a way to speed up your regular Python functions)\n",
        "* Using GPU's with TensorFlow (or TPU's)\n"
      ]
    },
    {
      "cell_type": "markdown",
      "metadata": {
        "id": "9bIwmo09QI3u"
      },
      "source": [
        "\n",
        "\n",
        "\n",
        "## Introduction to Tensors"
      ]
    },
    {
      "cell_type": "markdown",
      "metadata": {
        "id": "I19q5SX3aY-C"
      },
      "source": [
        "### What is a tensor?\n",
        "\n",
        "Tensors are multi-dimensional arrays with a uniform type (called a dtype). You can see all supported dtypes at tf.dtypes.DType.\n",
        "\n",
        "If you're familiar with NumPy, tensors are (kind of) like np.arrays.\n",
        "\n",
        "All tensors are immutable like Python numbers and strings: you can never update the contents of a tensor, only create a new one."
      ]
    },
    {
      "cell_type": "code",
      "metadata": {
        "colab": {
          "base_uri": "https://localhost:8080/"
        },
        "id": "7PEV2V7cQdBv",
        "outputId": "d9fc4a2b-9c86-4225-ea6a-c8367880ee40"
      },
      "source": [
        "# Import tensors\n",
        "import tensorflow as tf\n",
        "print(tf.__version__)"
      ],
      "execution_count": null,
      "outputs": [
        {
          "output_type": "stream",
          "name": "stdout",
          "text": [
            "2.6.0\n"
          ]
        }
      ]
    },
    {
      "cell_type": "code",
      "metadata": {
        "colab": {
          "base_uri": "https://localhost:8080/"
        },
        "id": "6I7cZBzeQq_p",
        "outputId": "6268ec34-f236-4296-f57f-7d4f75e0f29f"
      },
      "source": [
        "# Creating tensors with tf.constant()\n",
        "scalar = tf.constant(7)\n",
        "scalar"
      ],
      "execution_count": null,
      "outputs": [
        {
          "output_type": "execute_result",
          "data": {
            "text/plain": [
              "<tf.Tensor: shape=(), dtype=int32, numpy=7>"
            ]
          },
          "metadata": {},
          "execution_count": 2
        }
      ]
    },
    {
      "cell_type": "code",
      "metadata": {
        "colab": {
          "base_uri": "https://localhost:8080/"
        },
        "id": "dbw55QKrRAnU",
        "outputId": "aadeee99-c802-4f01-8518-1e56fd1b24d4"
      },
      "source": [
        "# Check the number of dimensions of a tensor (ndim stands for number of dimensions)\n",
        "scalar.ndim"
      ],
      "execution_count": null,
      "outputs": [
        {
          "output_type": "execute_result",
          "data": {
            "text/plain": [
              "0"
            ]
          },
          "metadata": {},
          "execution_count": 3
        }
      ]
    },
    {
      "cell_type": "code",
      "metadata": {
        "colab": {
          "base_uri": "https://localhost:8080/"
        },
        "id": "iJLSFVCXR3dH",
        "outputId": "a162514e-e177-4ccf-c64f-a00ce39a7416"
      },
      "source": [
        "# Create a vector\n",
        "vector = tf.constant([10, 10])\n",
        "vector"
      ],
      "execution_count": null,
      "outputs": [
        {
          "output_type": "execute_result",
          "data": {
            "text/plain": [
              "<tf.Tensor: shape=(2,), dtype=int32, numpy=array([10, 10], dtype=int32)>"
            ]
          },
          "metadata": {},
          "execution_count": 4
        }
      ]
    },
    {
      "cell_type": "code",
      "metadata": {
        "colab": {
          "base_uri": "https://localhost:8080/"
        },
        "id": "HHBQvHc1SM42",
        "outputId": "9058b1a5-a732-47a2-bff3-9cf282331740"
      },
      "source": [
        "vector.ndim"
      ],
      "execution_count": null,
      "outputs": [
        {
          "output_type": "execute_result",
          "data": {
            "text/plain": [
              "1"
            ]
          },
          "metadata": {},
          "execution_count": 5
        }
      ]
    },
    {
      "cell_type": "code",
      "metadata": {
        "colab": {
          "base_uri": "https://localhost:8080/"
        },
        "id": "4H6ZSgs0STXS",
        "outputId": "9186570a-6cb7-4362-c548-8dc64ef0d6f2"
      },
      "source": [
        "# Create a matrix (has more than 1 dimension)\n",
        "matrix = tf.constant([[10, 7],\n",
        "                      [7, 10]])\n",
        "matrix"
      ],
      "execution_count": null,
      "outputs": [
        {
          "output_type": "execute_result",
          "data": {
            "text/plain": [
              "<tf.Tensor: shape=(2, 2), dtype=int32, numpy=\n",
              "array([[10,  7],\n",
              "       [ 7, 10]], dtype=int32)>"
            ]
          },
          "metadata": {},
          "execution_count": 6
        }
      ]
    },
    {
      "cell_type": "code",
      "metadata": {
        "colab": {
          "base_uri": "https://localhost:8080/"
        },
        "id": "68UBYAvXSx-4",
        "outputId": "99986169-6ed9-4b84-fa70-eab4f6e844f1"
      },
      "source": [
        "matrix.ndim"
      ],
      "execution_count": null,
      "outputs": [
        {
          "output_type": "execute_result",
          "data": {
            "text/plain": [
              "2"
            ]
          },
          "metadata": {},
          "execution_count": 7
        }
      ]
    },
    {
      "cell_type": "code",
      "metadata": {
        "colab": {
          "base_uri": "https://localhost:8080/"
        },
        "id": "OTy0RgzFTBKD",
        "outputId": "6c067200-ce18-4d20-b2d4-4ca038ceb256"
      },
      "source": [
        "# Create another matrix\n",
        "another_matrix = tf.constant([[10., 7.],\n",
        "                              [3., 2.],\n",
        "                              [8., 9.]], dtype=tf.float16) # specify the data type with dtype parameter\n",
        "\n",
        "\n",
        "another_matrix"
      ],
      "execution_count": null,
      "outputs": [
        {
          "output_type": "execute_result",
          "data": {
            "text/plain": [
              "<tf.Tensor: shape=(3, 2), dtype=float16, numpy=\n",
              "array([[10.,  7.],\n",
              "       [ 3.,  2.],\n",
              "       [ 8.,  9.]], dtype=float16)>"
            ]
          },
          "metadata": {},
          "execution_count": 8
        }
      ]
    },
    {
      "cell_type": "code",
      "metadata": {
        "colab": {
          "base_uri": "https://localhost:8080/"
        },
        "id": "c1T_1DUbUUZo",
        "outputId": "ce5b75b4-cea0-4f7d-c60b-cb7586058302"
      },
      "source": [
        "another_matrix.ndim"
      ],
      "execution_count": null,
      "outputs": [
        {
          "output_type": "execute_result",
          "data": {
            "text/plain": [
              "2"
            ]
          },
          "metadata": {},
          "execution_count": 9
        }
      ]
    },
    {
      "cell_type": "code",
      "metadata": {
        "colab": {
          "base_uri": "https://localhost:8080/"
        },
        "id": "tigvYtReUdM3",
        "outputId": "62ab3e5d-0fa3-4c59-c196-8d54b043618f"
      },
      "source": [
        "# Create a tensor \n",
        "tensor = tf.constant([[[1, 2, 3],\n",
        "                       [4, 5, 6]],\n",
        "                      [[7, 8, 9],\n",
        "                       [10, 11, 12]],\n",
        "                      [[13, 14, 15],\n",
        "                       [16, 17, 18]]])\n",
        "\n",
        "tensor"
      ],
      "execution_count": null,
      "outputs": [
        {
          "output_type": "execute_result",
          "data": {
            "text/plain": [
              "<tf.Tensor: shape=(3, 2, 3), dtype=int32, numpy=\n",
              "array([[[ 1,  2,  3],\n",
              "        [ 4,  5,  6]],\n",
              "\n",
              "       [[ 7,  8,  9],\n",
              "        [10, 11, 12]],\n",
              "\n",
              "       [[13, 14, 15],\n",
              "        [16, 17, 18]]], dtype=int32)>"
            ]
          },
          "metadata": {},
          "execution_count": 10
        }
      ]
    },
    {
      "cell_type": "code",
      "metadata": {
        "colab": {
          "base_uri": "https://localhost:8080/"
        },
        "id": "-1JAeAA0WOvs",
        "outputId": "33354ec8-b412-4353-dcdd-8be1d111928e"
      },
      "source": [
        "tensor.ndim"
      ],
      "execution_count": null,
      "outputs": [
        {
          "output_type": "execute_result",
          "data": {
            "text/plain": [
              "3"
            ]
          },
          "metadata": {},
          "execution_count": 11
        }
      ]
    },
    {
      "cell_type": "markdown",
      "metadata": {
        "id": "NO5YDL1CWlgL"
      },
      "source": [
        "What we have created so far:\n",
        "\n",
        "* Scalar: a single number\n",
        "* Vector: a number with direction (e.g. wind speed and direction)\n",
        "* Matrix: a 2-dimensional array of numbers\n",
        "* Tensor: an n-dimensional array of numbers (when n can be any number, a 0-dimensional tensor is a scalar, a 1-dimensional tensor is a vector)\n",
        "\n"
      ]
    },
    {
      "cell_type": "markdown",
      "metadata": {
        "id": "K3THXyMucNv8"
      },
      "source": [
        "![tensorflow.png](data:image/png;base64,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)"
      ]
    },
    {
      "cell_type": "markdown",
      "metadata": {
        "id": "QQhNLIJPcqe9"
      },
      "source": [
        "![tensorflow2.png](data:image/png;base64,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)"
      ]
    },
    {
      "cell_type": "markdown",
      "metadata": {
        "id": "7R-txOYiYFRF"
      },
      "source": [
        "### Creating tensors with `tf.variable()`"
      ]
    },
    {
      "cell_type": "code",
      "metadata": {
        "id": "mnUJNJiQYDF1"
      },
      "source": [
        "# Create the same tensor with tf.Variable () as above\n",
        "\n",
        "changeable_tensor = tf.Variable([10, 7])\n",
        "unchangeable_tensor = tf.constant([10, 7])"
      ],
      "execution_count": null,
      "outputs": []
    },
    {
      "cell_type": "code",
      "metadata": {
        "colab": {
          "base_uri": "https://localhost:8080/"
        },
        "id": "B6B3ZAIVZNBY",
        "outputId": "9505fdec-ae14-4011-baea-6f93a2aa151c"
      },
      "source": [
        "changeable_tensor, unchangeable_tensor"
      ],
      "execution_count": null,
      "outputs": [
        {
          "output_type": "execute_result",
          "data": {
            "text/plain": [
              "(<tf.Variable 'Variable:0' shape=(2,) dtype=int32, numpy=array([10,  7], dtype=int32)>,\n",
              " <tf.Tensor: shape=(2,), dtype=int32, numpy=array([10,  7], dtype=int32)>)"
            ]
          },
          "metadata": {},
          "execution_count": 13
        }
      ]
    },
    {
      "cell_type": "code",
      "metadata": {
        "colab": {
          "base_uri": "https://localhost:8080/"
        },
        "id": "HB5tw3KeZPkS",
        "outputId": "44244545-f840-4e79-f54a-625430afb386"
      },
      "source": [
        "# Try to change one of our elements in the changeable tensor\n",
        "changeable_tensor[0]"
      ],
      "execution_count": null,
      "outputs": [
        {
          "output_type": "execute_result",
          "data": {
            "text/plain": [
              "<tf.Tensor: shape=(), dtype=int32, numpy=10>"
            ]
          },
          "metadata": {},
          "execution_count": 14
        }
      ]
    },
    {
      "cell_type": "code",
      "metadata": {
        "id": "ZcBFkIEHbu_T"
      },
      "source": [
        "# The following code will run an error:\n",
        "\n",
        "# changeable_tensor[0] = 7\n",
        "# changeable_tensor"
      ],
      "execution_count": null,
      "outputs": []
    },
    {
      "cell_type": "code",
      "metadata": {
        "colab": {
          "base_uri": "https://localhost:8080/"
        },
        "id": "DvPa5VZNcCjC",
        "outputId": "ff20a453-8106-4619-f824-36f21ddf8cdc"
      },
      "source": [
        "# Next we will try another way:\n",
        "\n",
        "changeable_tensor[0].assign(7)\n",
        "changeable_tensor"
      ],
      "execution_count": null,
      "outputs": [
        {
          "output_type": "execute_result",
          "data": {
            "text/plain": [
              "<tf.Variable 'Variable:0' shape=(2,) dtype=int32, numpy=array([7, 7], dtype=int32)>"
            ]
          },
          "metadata": {},
          "execution_count": 16
        }
      ]
    },
    {
      "cell_type": "code",
      "metadata": {
        "id": "n7lc5yLHdlCM"
      },
      "source": [
        "# Lets try and change the unchangeable tensor\n",
        "\n",
        "# The following code will run an error\n",
        "\n",
        "# unchangeable_tensor[0].assign(7)"
      ],
      "execution_count": null,
      "outputs": []
    },
    {
      "cell_type": "markdown",
      "metadata": {
        "id": "Ub2lfvxIeJoA"
      },
      "source": [
        "**Note** Rarely in practice will you have to decide whether to use `tf.constant` or `tf.Variable` to create tensors, As TensorFlow does this for you.\n",
        "However, if in doubt, use `tf.constant` and change later if necessary"
      ]
    },
    {
      "cell_type": "markdown",
      "metadata": {
        "id": "2VutDdy8fr0h"
      },
      "source": [
        "### Creating random tensors\n",
        "\n",
        "\n",
        "Random tensors are tensors of some arbitary size which contain random numbers.\n",
        "\n",
        "**Why?**\\\n",
        "A good example of when we might use random tensors is found in neural networks.\n",
        "After encoding the image in the input nodes it will then assign random tensors at the hidden level. These will then be 'tweaked' as the results come in."
      ]
    },
    {
      "cell_type": "code",
      "metadata": {
        "colab": {
          "base_uri": "https://localhost:8080/"
        },
        "id": "Jacj9miFgSDi",
        "outputId": "11144c35-fd60-4de7-c7fe-ac7150abcc00"
      },
      "source": [
        "# Create two random (but the same) tensors\n",
        "\n",
        "random_1 = tf.random.Generator.from_seed(42) # set seed for reproducability\n",
        "random_1 = random_1.normal(shape=(3, 2))\n",
        "random_1"
      ],
      "execution_count": null,
      "outputs": [
        {
          "output_type": "execute_result",
          "data": {
            "text/plain": [
              "<tf.Tensor: shape=(3, 2), dtype=float32, numpy=\n",
              "array([[-0.7565803 , -0.06854702],\n",
              "       [ 0.07595026, -1.2573844 ],\n",
              "       [-0.23193763, -1.8107855 ]], dtype=float32)>"
            ]
          },
          "metadata": {},
          "execution_count": 18
        }
      ]
    },
    {
      "cell_type": "code",
      "metadata": {
        "id": "O300SiZ9h3qH"
      },
      "source": [
        "\n",
        "random_1 = tf.random.Generator.from_seed(42) \n",
        "random_1 = random_1.normal(shape=(3, 2))\n",
        "\n",
        "random_2 = tf.random.Generator.from_seed(42) \n",
        "random_2 = random_2.normal(shape=(3, 2))"
      ],
      "execution_count": null,
      "outputs": []
    },
    {
      "cell_type": "code",
      "metadata": {
        "colab": {
          "base_uri": "https://localhost:8080/"
        },
        "id": "Q35AshwOjjeH",
        "outputId": "e39ac810-7afd-471f-86d8-a9be15d62d5f"
      },
      "source": [
        "# Are they equal?\n",
        "\n",
        "random_1, random_2, random_1 == random_2"
      ],
      "execution_count": null,
      "outputs": [
        {
          "output_type": "execute_result",
          "data": {
            "text/plain": [
              "(<tf.Tensor: shape=(3, 2), dtype=float32, numpy=\n",
              " array([[-0.7565803 , -0.06854702],\n",
              "        [ 0.07595026, -1.2573844 ],\n",
              "        [-0.23193763, -1.8107855 ]], dtype=float32)>,\n",
              " <tf.Tensor: shape=(3, 2), dtype=float32, numpy=\n",
              " array([[-0.7565803 , -0.06854702],\n",
              "        [ 0.07595026, -1.2573844 ],\n",
              "        [-0.23193763, -1.8107855 ]], dtype=float32)>,\n",
              " <tf.Tensor: shape=(3, 2), dtype=bool, numpy=\n",
              " array([[ True,  True],\n",
              "        [ True,  True],\n",
              "        [ True,  True]])>)"
            ]
          },
          "metadata": {},
          "execution_count": 20
        }
      ]
    },
    {
      "cell_type": "markdown",
      "metadata": {
        "id": "ZqGL3gNvjyTd"
      },
      "source": [
        "### Shuffle the elements in a tensor\n",
        "\n",
        "This can be valuable when you want to shuffle your data so the inheritant order does not effect learning.\n"
      ]
    },
    {
      "cell_type": "code",
      "metadata": {
        "colab": {
          "base_uri": "https://localhost:8080/"
        },
        "id": "Nt4rRyWQlwda",
        "outputId": "15a913d3-285b-4ff7-c5bd-4d9a9d5eb5d4"
      },
      "source": [
        "# Shuffle data\n",
        "\n",
        "not_shuffled = tf.constant([[10, 7],\n",
        "                           [3, 4],\n",
        "                           [2, 5]])\n",
        "\n",
        "not_shuffled.ndim"
      ],
      "execution_count": null,
      "outputs": [
        {
          "output_type": "execute_result",
          "data": {
            "text/plain": [
              "2"
            ]
          },
          "metadata": {},
          "execution_count": 21
        }
      ]
    },
    {
      "cell_type": "code",
      "metadata": {
        "colab": {
          "base_uri": "https://localhost:8080/"
        },
        "id": "sXis7oL9nZeh",
        "outputId": "c4135c48-0b31-4b96-c33c-032ac535f9e9"
      },
      "source": [
        "# Shuffle our non-shuffled tensor\n",
        "tf.random.shuffle(not_shuffled)"
      ],
      "execution_count": null,
      "outputs": [
        {
          "output_type": "execute_result",
          "data": {
            "text/plain": [
              "<tf.Tensor: shape=(3, 2), dtype=int32, numpy=\n",
              "array([[ 2,  5],\n",
              "       [10,  7],\n",
              "       [ 3,  4]], dtype=int32)>"
            ]
          },
          "metadata": {},
          "execution_count": 22
        }
      ]
    },
    {
      "cell_type": "code",
      "metadata": {
        "colab": {
          "base_uri": "https://localhost:8080/"
        },
        "id": "TnzKpPhvouhZ",
        "outputId": "6d260907-68ac-428d-eb26-94ffe7c13625"
      },
      "source": [
        "tf.random.set_seed(42)\n",
        "tf.random.shuffle(not_shuffled, seed=42)\n"
      ],
      "execution_count": null,
      "outputs": [
        {
          "output_type": "execute_result",
          "data": {
            "text/plain": [
              "<tf.Tensor: shape=(3, 2), dtype=int32, numpy=\n",
              "array([[10,  7],\n",
              "       [ 3,  4],\n",
              "       [ 2,  5]], dtype=int32)>"
            ]
          },
          "metadata": {},
          "execution_count": 23
        }
      ]
    },
    {
      "cell_type": "code",
      "metadata": {
        "id": "RtK9ewOFpq3w",
        "colab": {
          "base_uri": "https://localhost:8080/"
        },
        "outputId": "e795104f-0d74-40e2-bee8-091656d30455"
      },
      "source": [
        "tf.random.shuffle(not_shuffled, seed=42)\n"
      ],
      "execution_count": null,
      "outputs": [
        {
          "output_type": "execute_result",
          "data": {
            "text/plain": [
              "<tf.Tensor: shape=(3, 2), dtype=int32, numpy=\n",
              "array([[ 2,  5],\n",
              "       [10,  7],\n",
              "       [ 3,  4]], dtype=int32)>"
            ]
          },
          "metadata": {},
          "execution_count": 24
        }
      ]
    },
    {
      "cell_type": "code",
      "metadata": {
        "colab": {
          "base_uri": "https://localhost:8080/"
        },
        "id": "hG3sDbC2ud7j",
        "outputId": "5b1c79dd-ce2a-4009-fe82-a43adfc51163"
      },
      "source": [
        "tf.random.set_seed(42)    # Global level random seed\n",
        "tf.random.shuffle(not_shuffled, seed=42)    # Operation level random seed"
      ],
      "execution_count": null,
      "outputs": [
        {
          "output_type": "execute_result",
          "data": {
            "text/plain": [
              "<tf.Tensor: shape=(3, 2), dtype=int32, numpy=\n",
              "array([[10,  7],\n",
              "       [ 3,  4],\n",
              "       [ 2,  5]], dtype=int32)>"
            ]
          },
          "metadata": {},
          "execution_count": 25
        }
      ]
    },
    {
      "cell_type": "markdown",
      "metadata": {
        "id": "1OaKqYsGvBa-"
      },
      "source": [
        "If we want our shuffled tensors to be in the same order, We have to use the global level random seed as well as the operation level random seed."
      ]
    },
    {
      "cell_type": "markdown",
      "metadata": {
        "id": "9HZ8632_vb8m"
      },
      "source": [
        "### Other ways to make tensors"
      ]
    },
    {
      "cell_type": "code",
      "metadata": {
        "colab": {
          "base_uri": "https://localhost:8080/"
        },
        "id": "0szyn-SYvtXL",
        "outputId": "c6207d22-f8fe-455d-d6e7-594a67aa9d88"
      },
      "source": [
        "# Create a tensor of all ones\n",
        "tf.ones([10, 7])"
      ],
      "execution_count": null,
      "outputs": [
        {
          "output_type": "execute_result",
          "data": {
            "text/plain": [
              "<tf.Tensor: shape=(10, 7), dtype=float32, numpy=\n",
              "array([[1., 1., 1., 1., 1., 1., 1.],\n",
              "       [1., 1., 1., 1., 1., 1., 1.],\n",
              "       [1., 1., 1., 1., 1., 1., 1.],\n",
              "       [1., 1., 1., 1., 1., 1., 1.],\n",
              "       [1., 1., 1., 1., 1., 1., 1.],\n",
              "       [1., 1., 1., 1., 1., 1., 1.],\n",
              "       [1., 1., 1., 1., 1., 1., 1.],\n",
              "       [1., 1., 1., 1., 1., 1., 1.],\n",
              "       [1., 1., 1., 1., 1., 1., 1.],\n",
              "       [1., 1., 1., 1., 1., 1., 1.]], dtype=float32)>"
            ]
          },
          "metadata": {},
          "execution_count": 26
        }
      ]
    },
    {
      "cell_type": "code",
      "metadata": {
        "colab": {
          "base_uri": "https://localhost:8080/"
        },
        "id": "jD5u-Oprv6BU",
        "outputId": "89178d6a-5f74-489e-9ddf-5348f2153454"
      },
      "source": [
        "# Create a tensor of all zeroes\n",
        "tf.zeros(shape=(3, 4))"
      ],
      "execution_count": null,
      "outputs": [
        {
          "output_type": "execute_result",
          "data": {
            "text/plain": [
              "<tf.Tensor: shape=(3, 4), dtype=float32, numpy=\n",
              "array([[0., 0., 0., 0.],\n",
              "       [0., 0., 0., 0.],\n",
              "       [0., 0., 0., 0.]], dtype=float32)>"
            ]
          },
          "metadata": {},
          "execution_count": 27
        }
      ]
    },
    {
      "cell_type": "markdown",
      "metadata": {
        "id": "RjPs1hG9w6yn"
      },
      "source": [
        "### Turn NumPy arrays into tensors\n",
        "\n",
        "The main difference between NumPy arrays and TensorFlow tensors are that tensors can be run on a GPU (much faster for numerical computing)."
      ]
    },
    {
      "cell_type": "code",
      "metadata": {
        "colab": {
          "base_uri": "https://localhost:8080/"
        },
        "id": "3vjjfhlFxzAq",
        "outputId": "0b310a22-cd75-4a6f-eb39-6c68cde9c626"
      },
      "source": [
        "# Turning NumPy arrays into tensors\n",
        "import numpy as np\n",
        "numpy_A = np.arange(1, 25, dtype=np.int32)    # Create a NumPy array between 1 and 25\n",
        "numpy_A\n",
        "\n",
        "# X = tf.constant(some_matrix) # capital for matrix or tensor\n",
        "# y = tf.constant(vector) # non-capital for vector"
      ],
      "execution_count": null,
      "outputs": [
        {
          "output_type": "execute_result",
          "data": {
            "text/plain": [
              "array([ 1,  2,  3,  4,  5,  6,  7,  8,  9, 10, 11, 12, 13, 14, 15, 16, 17,\n",
              "       18, 19, 20, 21, 22, 23, 24], dtype=int32)"
            ]
          },
          "metadata": {},
          "execution_count": 28
        }
      ]
    },
    {
      "cell_type": "code",
      "metadata": {
        "colab": {
          "base_uri": "https://localhost:8080/"
        },
        "id": "lL8RE0cXy7_1",
        "outputId": "8580afaa-7d49-4569-be4b-a70de5900d71"
      },
      "source": [
        "A = tf.constant(numpy_A)\n",
        "A"
      ],
      "execution_count": null,
      "outputs": [
        {
          "output_type": "execute_result",
          "data": {
            "text/plain": [
              "<tf.Tensor: shape=(24,), dtype=int32, numpy=\n",
              "array([ 1,  2,  3,  4,  5,  6,  7,  8,  9, 10, 11, 12, 13, 14, 15, 16, 17,\n",
              "       18, 19, 20, 21, 22, 23, 24], dtype=int32)>"
            ]
          },
          "metadata": {},
          "execution_count": 29
        }
      ]
    },
    {
      "cell_type": "code",
      "metadata": {
        "colab": {
          "base_uri": "https://localhost:8080/"
        },
        "id": "Ez9HEsfjzUbM",
        "outputId": "3451623a-7dc5-474f-e44a-287f52ea88d1"
      },
      "source": [
        "A = tf.constant(numpy_A, shape=(2, 3, 4))\n",
        "A\n"
      ],
      "execution_count": null,
      "outputs": [
        {
          "output_type": "execute_result",
          "data": {
            "text/plain": [
              "<tf.Tensor: shape=(2, 3, 4), dtype=int32, numpy=\n",
              "array([[[ 1,  2,  3,  4],\n",
              "        [ 5,  6,  7,  8],\n",
              "        [ 9, 10, 11, 12]],\n",
              "\n",
              "       [[13, 14, 15, 16],\n",
              "        [17, 18, 19, 20],\n",
              "        [21, 22, 23, 24]]], dtype=int32)>"
            ]
          },
          "metadata": {},
          "execution_count": 30
        }
      ]
    },
    {
      "cell_type": "code",
      "metadata": {
        "colab": {
          "base_uri": "https://localhost:8080/"
        },
        "id": "aNBx4_Tqzxd1",
        "outputId": "7fd576c4-7426-4d32-9b16-b8d0e36146c1"
      },
      "source": [
        "B = tf.constant(numpy_A)\n",
        "A, B"
      ],
      "execution_count": null,
      "outputs": [
        {
          "output_type": "execute_result",
          "data": {
            "text/plain": [
              "(<tf.Tensor: shape=(2, 3, 4), dtype=int32, numpy=\n",
              " array([[[ 1,  2,  3,  4],\n",
              "         [ 5,  6,  7,  8],\n",
              "         [ 9, 10, 11, 12]],\n",
              " \n",
              "        [[13, 14, 15, 16],\n",
              "         [17, 18, 19, 20],\n",
              "         [21, 22, 23, 24]]], dtype=int32)>,\n",
              " <tf.Tensor: shape=(24,), dtype=int32, numpy=\n",
              " array([ 1,  2,  3,  4,  5,  6,  7,  8,  9, 10, 11, 12, 13, 14, 15, 16, 17,\n",
              "        18, 19, 20, 21, 22, 23, 24], dtype=int32)>)"
            ]
          },
          "metadata": {},
          "execution_count": 31
        }
      ]
    },
    {
      "cell_type": "code",
      "metadata": {
        "colab": {
          "base_uri": "https://localhost:8080/"
        },
        "id": "gjn60jau0DBJ",
        "outputId": "6c1b171d-7ef0-46b9-9b1c-5b0742eff76e"
      },
      "source": [
        "B = tf.constant(numpy_A, shape=(3, 8))\n",
        "A, B "
      ],
      "execution_count": null,
      "outputs": [
        {
          "output_type": "execute_result",
          "data": {
            "text/plain": [
              "(<tf.Tensor: shape=(2, 3, 4), dtype=int32, numpy=\n",
              " array([[[ 1,  2,  3,  4],\n",
              "         [ 5,  6,  7,  8],\n",
              "         [ 9, 10, 11, 12]],\n",
              " \n",
              "        [[13, 14, 15, 16],\n",
              "         [17, 18, 19, 20],\n",
              "         [21, 22, 23, 24]]], dtype=int32)>,\n",
              " <tf.Tensor: shape=(3, 8), dtype=int32, numpy=\n",
              " array([[ 1,  2,  3,  4,  5,  6,  7,  8],\n",
              "        [ 9, 10, 11, 12, 13, 14, 15, 16],\n",
              "        [17, 18, 19, 20, 21, 22, 23, 24]], dtype=int32)>)"
            ]
          },
          "metadata": {},
          "execution_count": 32
        }
      ]
    },
    {
      "cell_type": "markdown",
      "metadata": {
        "id": "Z8PkNy_O1fEL"
      },
      "source": [
        "### Getting information from tensors\n",
        "\n",
        "When dealing with tensors, you should be aware of the following attributes:\n",
        "\n",
        "* Shape \n",
        "* Rank\n",
        "* Axis or Dimension\n",
        "* Size"
      ]
    },
    {
      "cell_type": "code",
      "metadata": {
        "colab": {
          "base_uri": "https://localhost:8080/"
        },
        "id": "pnYp90jL13dF",
        "outputId": "5a74006d-b9ab-4f0a-fd25-e056e7c23a98"
      },
      "source": [
        "# Create a rank 4 tensor (4 dimensions)\n",
        "\n",
        "rank_4_tensors = tf.zeros(shape=[2, 3, 4, 5])\n",
        "rank_4_tensors"
      ],
      "execution_count": null,
      "outputs": [
        {
          "output_type": "execute_result",
          "data": {
            "text/plain": [
              "<tf.Tensor: shape=(2, 3, 4, 5), dtype=float32, numpy=\n",
              "array([[[[0., 0., 0., 0., 0.],\n",
              "         [0., 0., 0., 0., 0.],\n",
              "         [0., 0., 0., 0., 0.],\n",
              "         [0., 0., 0., 0., 0.]],\n",
              "\n",
              "        [[0., 0., 0., 0., 0.],\n",
              "         [0., 0., 0., 0., 0.],\n",
              "         [0., 0., 0., 0., 0.],\n",
              "         [0., 0., 0., 0., 0.]],\n",
              "\n",
              "        [[0., 0., 0., 0., 0.],\n",
              "         [0., 0., 0., 0., 0.],\n",
              "         [0., 0., 0., 0., 0.],\n",
              "         [0., 0., 0., 0., 0.]]],\n",
              "\n",
              "\n",
              "       [[[0., 0., 0., 0., 0.],\n",
              "         [0., 0., 0., 0., 0.],\n",
              "         [0., 0., 0., 0., 0.],\n",
              "         [0., 0., 0., 0., 0.]],\n",
              "\n",
              "        [[0., 0., 0., 0., 0.],\n",
              "         [0., 0., 0., 0., 0.],\n",
              "         [0., 0., 0., 0., 0.],\n",
              "         [0., 0., 0., 0., 0.]],\n",
              "\n",
              "        [[0., 0., 0., 0., 0.],\n",
              "         [0., 0., 0., 0., 0.],\n",
              "         [0., 0., 0., 0., 0.],\n",
              "         [0., 0., 0., 0., 0.]]]], dtype=float32)>"
            ]
          },
          "metadata": {},
          "execution_count": 33
        }
      ]
    },
    {
      "cell_type": "code",
      "metadata": {
        "colab": {
          "base_uri": "https://localhost:8080/"
        },
        "id": "SlM3xGIw5mLc",
        "outputId": "5ddf564a-35a8-486c-b878-2f8181165324"
      },
      "source": [
        "rank_4_tensors.shape, rank_4_tensors.ndim, tf.size(rank_4_tensors)"
      ],
      "execution_count": null,
      "outputs": [
        {
          "output_type": "execute_result",
          "data": {
            "text/plain": [
              "(TensorShape([2, 3, 4, 5]), 4, <tf.Tensor: shape=(), dtype=int32, numpy=120>)"
            ]
          },
          "metadata": {},
          "execution_count": 34
        }
      ]
    },
    {
      "cell_type": "code",
      "metadata": {
        "colab": {
          "base_uri": "https://localhost:8080/"
        },
        "id": "Z0eWpN7q6gNb",
        "outputId": "b82a320c-9995-464c-d759-f5f97c8c344e"
      },
      "source": [
        "# Get various attributes for our tensors\n",
        "print(\"Datatype of every element:\", rank_4_tensors.dtype)\n",
        "print(\"Number of dimensions (rank):\", rank_4_tensors.ndim)\n",
        "print(\"Shape of tensor:\", rank_4_tensors.shape)\n",
        "print(\"Elements along the 0 axis:\", rank_4_tensors.shape[0])\n",
        "print(\"Elements along the last axis:\", rank_4_tensors.shape[-1])\n",
        "print(\"Total number of elements in our tensor:\", tf.size(rank_4_tensors).numpy())"
      ],
      "execution_count": null,
      "outputs": [
        {
          "output_type": "stream",
          "name": "stdout",
          "text": [
            "Datatype of every element: <dtype: 'float32'>\n",
            "Number of dimensions (rank): 4\n",
            "Shape of tensor: (2, 3, 4, 5)\n",
            "Elements along the 0 axis: 2\n",
            "Elements along the last axis: 5\n",
            "Total number of elements in our tensor: 120\n"
          ]
        }
      ]
    },
    {
      "cell_type": "markdown",
      "metadata": {
        "id": "0FDRdnR39wer"
      },
      "source": [
        "### Indexing tensors \n",
        "\n",
        "Tensors can be indexed just like in Python lists."
      ]
    },
    {
      "cell_type": "code",
      "metadata": {
        "colab": {
          "base_uri": "https://localhost:8080/"
        },
        "id": "3HdyfV1T___L",
        "outputId": "4f703ca5-2a72-4f26-f746-3921416f2800"
      },
      "source": [
        "# Python list\n",
        "some_python_list = [1, 2, 3, 4, 5]\n",
        "some_python_list[:2]"
      ],
      "execution_count": null,
      "outputs": [
        {
          "output_type": "execute_result",
          "data": {
            "text/plain": [
              "[1, 2]"
            ]
          },
          "metadata": {},
          "execution_count": 36
        }
      ]
    },
    {
      "cell_type": "code",
      "metadata": {
        "colab": {
          "base_uri": "https://localhost:8080/"
        },
        "id": "a-4o3UkM_M8-",
        "outputId": "2c70f0b0-86e0-4d5d-8dc2-925aea15f7c4"
      },
      "source": [
        "# Get the first two elements of each dimension\n",
        "\n",
        "rank_4_tensors[:2, :2, :2, :2, ]"
      ],
      "execution_count": null,
      "outputs": [
        {
          "output_type": "execute_result",
          "data": {
            "text/plain": [
              "<tf.Tensor: shape=(2, 2, 2, 2), dtype=float32, numpy=\n",
              "array([[[[0., 0.],\n",
              "         [0., 0.]],\n",
              "\n",
              "        [[0., 0.],\n",
              "         [0., 0.]]],\n",
              "\n",
              "\n",
              "       [[[0., 0.],\n",
              "         [0., 0.]],\n",
              "\n",
              "        [[0., 0.],\n",
              "         [0., 0.]]]], dtype=float32)>"
            ]
          },
          "metadata": {},
          "execution_count": 37
        }
      ]
    },
    {
      "cell_type": "code",
      "metadata": {
        "colab": {
          "base_uri": "https://localhost:8080/"
        },
        "id": "BKAPV5sq_6AN",
        "outputId": "95a5ff3a-d69d-4437-f496-729d89c8adf8"
      },
      "source": [
        "# Get the first element from from each dimension from each index except for the final one.\n",
        "\n",
        "rank_4_tensors[:1, :1, :1, :]"
      ],
      "execution_count": null,
      "outputs": [
        {
          "output_type": "execute_result",
          "data": {
            "text/plain": [
              "<tf.Tensor: shape=(1, 1, 1, 5), dtype=float32, numpy=array([[[[0., 0., 0., 0., 0.]]]], dtype=float32)>"
            ]
          },
          "metadata": {},
          "execution_count": 38
        }
      ]
    },
    {
      "cell_type": "code",
      "metadata": {
        "colab": {
          "base_uri": "https://localhost:8080/"
        },
        "id": "0nf7vhrnBD_c",
        "outputId": "430a9298-c504-4087-c30b-9d2da62e0881"
      },
      "source": [
        "rank_4_tensors[:1, :1, :, :1]"
      ],
      "execution_count": null,
      "outputs": [
        {
          "output_type": "execute_result",
          "data": {
            "text/plain": [
              "<tf.Tensor: shape=(1, 1, 4, 1), dtype=float32, numpy=\n",
              "array([[[[0.],\n",
              "         [0.],\n",
              "         [0.],\n",
              "         [0.]]]], dtype=float32)>"
            ]
          },
          "metadata": {},
          "execution_count": 39
        }
      ]
    },
    {
      "cell_type": "code",
      "metadata": {
        "colab": {
          "base_uri": "https://localhost:8080/"
        },
        "id": "FhryTvmjBh3u",
        "outputId": "46311afa-9440-4a98-e3f6-0159da4342ba"
      },
      "source": [
        "rank_4_tensors[:1, :, :1, :1]"
      ],
      "execution_count": null,
      "outputs": [
        {
          "output_type": "execute_result",
          "data": {
            "text/plain": [
              "<tf.Tensor: shape=(1, 3, 1, 1), dtype=float32, numpy=\n",
              "array([[[[0.]],\n",
              "\n",
              "        [[0.]],\n",
              "\n",
              "        [[0.]]]], dtype=float32)>"
            ]
          },
          "metadata": {},
          "execution_count": 40
        }
      ]
    },
    {
      "cell_type": "code",
      "metadata": {
        "colab": {
          "base_uri": "https://localhost:8080/"
        },
        "id": "MOKjSGlQBnSe",
        "outputId": "374a3136-af64-4f26-b2de-a3b322c407e3"
      },
      "source": [
        "rank_4_tensors[:, :1, :1, :1]"
      ],
      "execution_count": null,
      "outputs": [
        {
          "output_type": "execute_result",
          "data": {
            "text/plain": [
              "<tf.Tensor: shape=(2, 1, 1, 1), dtype=float32, numpy=\n",
              "array([[[[0.]]],\n",
              "\n",
              "\n",
              "       [[[0.]]]], dtype=float32)>"
            ]
          },
          "metadata": {},
          "execution_count": 41
        }
      ]
    },
    {
      "cell_type": "code",
      "metadata": {
        "id": "nYLesC9KBrsS"
      },
      "source": [
        "# Create a rank 2 tensor (2 dimensions)\n",
        "rank_2_tensor = tf.constant([[10, 7],\n",
        "                            [5, 9]])\n"
      ],
      "execution_count": null,
      "outputs": []
    },
    {
      "cell_type": "code",
      "metadata": {
        "colab": {
          "base_uri": "https://localhost:8080/"
        },
        "id": "M3oHF2xLCk_Y",
        "outputId": "a3f14def-7f1d-4c81-8b47-eff49771e88f"
      },
      "source": [
        "rank_2_tensor.shape, rank_2_tensor.ndim, tf.shape(rank_2_tensor)"
      ],
      "execution_count": null,
      "outputs": [
        {
          "output_type": "execute_result",
          "data": {
            "text/plain": [
              "(TensorShape([2, 2]),\n",
              " 2,\n",
              " <tf.Tensor: shape=(2,), dtype=int32, numpy=array([2, 2], dtype=int32)>)"
            ]
          },
          "metadata": {},
          "execution_count": 43
        }
      ]
    },
    {
      "cell_type": "code",
      "metadata": {
        "colab": {
          "base_uri": "https://localhost:8080/"
        },
        "id": "bcQBqwEuC2vP",
        "outputId": "cc04b66c-88b3-49c6-eeb0-ed90172aef73"
      },
      "source": [
        "# Get the last element from each row of our rank 2 tensor\n",
        "rank_2_tensor[:, -1]"
      ],
      "execution_count": null,
      "outputs": [
        {
          "output_type": "execute_result",
          "data": {
            "text/plain": [
              "<tf.Tensor: shape=(2,), dtype=int32, numpy=array([7, 9], dtype=int32)>"
            ]
          },
          "metadata": {},
          "execution_count": 44
        }
      ]
    },
    {
      "cell_type": "code",
      "metadata": {
        "id": "-vOAY54GDgTn"
      },
      "source": [
        "# Add in extra dimension in our rank 2 tensor\n",
        "rank_3_tensor = rank_2_tensor[...,tf.newaxis]"
      ],
      "execution_count": null,
      "outputs": []
    },
    {
      "cell_type": "code",
      "metadata": {
        "colab": {
          "base_uri": "https://localhost:8080/"
        },
        "id": "jZuWMP_ZDoe-",
        "outputId": "57b6187a-48a4-4266-e953-bc6aabc798c4"
      },
      "source": [
        "rank_3_tensor"
      ],
      "execution_count": null,
      "outputs": [
        {
          "output_type": "execute_result",
          "data": {
            "text/plain": [
              "<tf.Tensor: shape=(2, 2, 1), dtype=int32, numpy=\n",
              "array([[[10],\n",
              "        [ 7]],\n",
              "\n",
              "       [[ 5],\n",
              "        [ 9]]], dtype=int32)>"
            ]
          },
          "metadata": {},
          "execution_count": 46
        }
      ]
    },
    {
      "cell_type": "code",
      "metadata": {
        "colab": {
          "base_uri": "https://localhost:8080/"
        },
        "id": "WR0KQzatEOsZ",
        "outputId": "da8c52d5-6042-4112-d98f-9cc39362cffb"
      },
      "source": [
        "# Alternative to tf.newaxis\n",
        "tf.expand_dims(rank_2_tensor, axis=-1)    # -1 means expand the final axis"
      ],
      "execution_count": null,
      "outputs": [
        {
          "output_type": "execute_result",
          "data": {
            "text/plain": [
              "<tf.Tensor: shape=(2, 2, 1), dtype=int32, numpy=\n",
              "array([[[10],\n",
              "        [ 7]],\n",
              "\n",
              "       [[ 5],\n",
              "        [ 9]]], dtype=int32)>"
            ]
          },
          "metadata": {},
          "execution_count": 47
        }
      ]
    },
    {
      "cell_type": "code",
      "metadata": {
        "colab": {
          "base_uri": "https://localhost:8080/"
        },
        "id": "cWMFgOwlFMum",
        "outputId": "0cf4ea40-e494-417a-b652-29ef8e63c5d5"
      },
      "source": [
        "tf.expand_dims(rank_2_tensor, axis=0)"
      ],
      "execution_count": null,
      "outputs": [
        {
          "output_type": "execute_result",
          "data": {
            "text/plain": [
              "<tf.Tensor: shape=(1, 2, 2), dtype=int32, numpy=\n",
              "array([[[10,  7],\n",
              "        [ 5,  9]]], dtype=int32)>"
            ]
          },
          "metadata": {},
          "execution_count": 48
        }
      ]
    },
    {
      "cell_type": "code",
      "metadata": {
        "colab": {
          "base_uri": "https://localhost:8080/"
        },
        "id": "xFetyhH9FfBN",
        "outputId": "c5c5ab54-8cb1-4801-85b9-fdbc63be5547"
      },
      "source": [
        "tf.expand_dims(rank_2_tensor, axis=1)"
      ],
      "execution_count": null,
      "outputs": [
        {
          "output_type": "execute_result",
          "data": {
            "text/plain": [
              "<tf.Tensor: shape=(2, 1, 2), dtype=int32, numpy=\n",
              "array([[[10,  7]],\n",
              "\n",
              "       [[ 5,  9]]], dtype=int32)>"
            ]
          },
          "metadata": {},
          "execution_count": 49
        }
      ]
    },
    {
      "cell_type": "code",
      "metadata": {
        "colab": {
          "base_uri": "https://localhost:8080/"
        },
        "id": "AEPgG2kJFj5M",
        "outputId": "a3fece59-a9d7-4858-bae8-482118052293"
      },
      "source": [
        "tf.expand_dims(rank_2_tensor, axis=-1)"
      ],
      "execution_count": null,
      "outputs": [
        {
          "output_type": "execute_result",
          "data": {
            "text/plain": [
              "<tf.Tensor: shape=(2, 2, 1), dtype=int32, numpy=\n",
              "array([[[10],\n",
              "        [ 7]],\n",
              "\n",
              "       [[ 5],\n",
              "        [ 9]]], dtype=int32)>"
            ]
          },
          "metadata": {},
          "execution_count": 50
        }
      ]
    },
    {
      "cell_type": "markdown",
      "metadata": {
        "id": "OY9xmJJSFlsr"
      },
      "source": [
        "### Manipulating tensors (tensor operations)\n",
        "\n",
        "**Basic operations**\n",
        "\n",
        "`+`, `-`, `*`, `/`"
      ]
    },
    {
      "cell_type": "code",
      "metadata": {
        "colab": {
          "base_uri": "https://localhost:8080/"
        },
        "id": "afQXGf6Huf6x",
        "outputId": "9aed32e2-0730-46fd-9c9c-67a129b13fad"
      },
      "source": [
        "# We can add values to a tensor using the addition operator\n",
        "tensor = tf.constant([[10, 7], [5, 9]])\n",
        "tensor + 10"
      ],
      "execution_count": null,
      "outputs": [
        {
          "output_type": "execute_result",
          "data": {
            "text/plain": [
              "<tf.Tensor: shape=(2, 2), dtype=int32, numpy=\n",
              "array([[20, 17],\n",
              "       [15, 19]], dtype=int32)>"
            ]
          },
          "metadata": {},
          "execution_count": 51
        }
      ]
    },
    {
      "cell_type": "code",
      "metadata": {
        "colab": {
          "base_uri": "https://localhost:8080/"
        },
        "id": "JtASeR_xvT2Q",
        "outputId": "3d4b2e6a-454d-4e80-ac36-7e5adda54c68"
      },
      "source": [
        "# Original tensor is unchanged\n",
        "tensor"
      ],
      "execution_count": null,
      "outputs": [
        {
          "output_type": "execute_result",
          "data": {
            "text/plain": [
              "<tf.Tensor: shape=(2, 2), dtype=int32, numpy=\n",
              "array([[10,  7],\n",
              "       [ 5,  9]], dtype=int32)>"
            ]
          },
          "metadata": {},
          "execution_count": 52
        }
      ]
    },
    {
      "cell_type": "code",
      "metadata": {
        "colab": {
          "base_uri": "https://localhost:8080/"
        },
        "id": "k9JUnDJjvuaE",
        "outputId": "b63c35d6-35cf-407b-f2eb-28f3b2638186"
      },
      "source": [
        "# Multiplication still works\n",
        "tensor * 10"
      ],
      "execution_count": null,
      "outputs": [
        {
          "output_type": "execute_result",
          "data": {
            "text/plain": [
              "<tf.Tensor: shape=(2, 2), dtype=int32, numpy=\n",
              "array([[100,  70],\n",
              "       [ 50,  90]], dtype=int32)>"
            ]
          },
          "metadata": {},
          "execution_count": 53
        }
      ]
    },
    {
      "cell_type": "code",
      "metadata": {
        "colab": {
          "base_uri": "https://localhost:8080/"
        },
        "id": "Ad6iQ1dTwEvu",
        "outputId": "3677a243-bf97-41b3-d565-75802129e98d"
      },
      "source": [
        "# We can also use the tensorflow built-in functions\n",
        "tf.multiply(tensor, 10)"
      ],
      "execution_count": null,
      "outputs": [
        {
          "output_type": "execute_result",
          "data": {
            "text/plain": [
              "<tf.Tensor: shape=(2, 2), dtype=int32, numpy=\n",
              "array([[100,  70],\n",
              "       [ 50,  90]], dtype=int32)>"
            ]
          },
          "metadata": {},
          "execution_count": 54
        }
      ]
    },
    {
      "cell_type": "markdown",
      "metadata": {
        "id": "W7rBmaWIwrvt"
      },
      "source": [
        "**Matrix Multiplication**\n",
        "\n",
        "In machine learning, matrix multiplication is one of the most common tensor operations."
      ]
    },
    {
      "cell_type": "markdown",
      "metadata": {
        "id": "0QrZtUXXxK3Y"
      },
      "source": [
        "📖 **Resource** 📖 How a matrix multiplication works with steps http://matrixmultiplication.xyz/"
      ]
    },
    {
      "cell_type": "code",
      "metadata": {
        "colab": {
          "base_uri": "https://localhost:8080/"
        },
        "id": "XRIX2qM9pCI-",
        "outputId": "5f17551f-007b-443a-8475-b0ed8fc8f03e"
      },
      "source": [
        "print(tensor)"
      ],
      "execution_count": null,
      "outputs": [
        {
          "output_type": "stream",
          "name": "stdout",
          "text": [
            "tf.Tensor(\n",
            "[[10  7]\n",
            " [ 5  9]], shape=(2, 2), dtype=int32)\n"
          ]
        }
      ]
    },
    {
      "cell_type": "code",
      "metadata": {
        "colab": {
          "base_uri": "https://localhost:8080/"
        },
        "id": "iSdIegNo6cXB",
        "outputId": "77963a41-5499-468b-a688-43583824c7a7"
      },
      "source": [
        "tf.matmul(tensor, tensor)"
      ],
      "execution_count": null,
      "outputs": [
        {
          "output_type": "execute_result",
          "data": {
            "text/plain": [
              "<tf.Tensor: shape=(2, 2), dtype=int32, numpy=\n",
              "array([[135, 133],\n",
              "       [ 95, 116]], dtype=int32)>"
            ]
          },
          "metadata": {},
          "execution_count": 56
        }
      ]
    },
    {
      "cell_type": "code",
      "metadata": {
        "colab": {
          "base_uri": "https://localhost:8080/"
        },
        "id": "qWCTvogM6lkb",
        "outputId": "6c9fafb2-746c-463d-c539-3bb9cce5feb8"
      },
      "source": [
        "# Different to element-wise multiplication which would produce this: \n",
        "tensor * tensor"
      ],
      "execution_count": null,
      "outputs": [
        {
          "output_type": "execute_result",
          "data": {
            "text/plain": [
              "<tf.Tensor: shape=(2, 2), dtype=int32, numpy=\n",
              "array([[100,  49],\n",
              "       [ 25,  81]], dtype=int32)>"
            ]
          },
          "metadata": {},
          "execution_count": 57
        }
      ]
    },
    {
      "cell_type": "code",
      "metadata": {
        "colab": {
          "base_uri": "https://localhost:8080/"
        },
        "id": "WWMFw56v7h7I",
        "outputId": "de8e1931-7f82-4f46-c15c-8c85d408086a"
      },
      "source": [
        "# Matrix multiplication with python operator @\n",
        "tensor @ tensor"
      ],
      "execution_count": null,
      "outputs": [
        {
          "output_type": "execute_result",
          "data": {
            "text/plain": [
              "<tf.Tensor: shape=(2, 2), dtype=int32, numpy=\n",
              "array([[135, 133],\n",
              "       [ 95, 116]], dtype=int32)>"
            ]
          },
          "metadata": {},
          "execution_count": 58
        }
      ]
    },
    {
      "cell_type": "code",
      "metadata": {
        "id": "khp8fW187-Pb"
      },
      "source": [
        "# Create a (3, 2) tensor\n",
        "\n",
        "X = tf.constant([[1, 2],\n",
        "                 [3, 4],\n",
        "                 [5, 6]])"
      ],
      "execution_count": null,
      "outputs": []
    },
    {
      "cell_type": "code",
      "metadata": {
        "id": "dBhoQcHT95xx"
      },
      "source": [
        "# Create another (3, 2) tensor\n",
        "\n",
        "Y = tf.constant([[7, 8],\n",
        "                 [9, 10],\n",
        "                 [11, 12]])"
      ],
      "execution_count": null,
      "outputs": []
    },
    {
      "cell_type": "code",
      "metadata": {
        "colab": {
          "base_uri": "https://localhost:8080/"
        },
        "id": "9_sCegNq_DkM",
        "outputId": "56571235-aeaf-41ad-a9e4-cd4d1db172a6"
      },
      "source": [
        "X, Y"
      ],
      "execution_count": null,
      "outputs": [
        {
          "output_type": "execute_result",
          "data": {
            "text/plain": [
              "(<tf.Tensor: shape=(3, 2), dtype=int32, numpy=\n",
              " array([[1, 2],\n",
              "        [3, 4],\n",
              "        [5, 6]], dtype=int32)>, <tf.Tensor: shape=(3, 2), dtype=int32, numpy=\n",
              " array([[ 7,  8],\n",
              "        [ 9, 10],\n",
              "        [11, 12]], dtype=int32)>)"
            ]
          },
          "metadata": {},
          "execution_count": 61
        }
      ]
    },
    {
      "cell_type": "markdown",
      "metadata": {
        "id": "4JfDScdnC4qR"
      },
      "source": [
        "📖 **Resource** 📖 Info and example of matrix multiplication https://www.\n",
        "\n",
        "*   List item\n",
        "*   List item\n",
        "\n",
        "mathsisfun.com/algebra/matrix-multiplying.html"
      ]
    },
    {
      "cell_type": "markdown",
      "metadata": {
        "id": "V2y7zXFMC7sm"
      },
      "source": [
        "There are two rules our tensors (or matrices) need to fulfil if we are going to multiply them:\n",
        "1. The inner dimensions must match\n",
        "2. The resulting matrix has the shape of the inner dimensions"
      ]
    },
    {
      "cell_type": "code",
      "metadata": {
        "id": "OtlojhahFXuj"
      },
      "source": [
        "# The following code will produce an error:\n",
        "\n",
        "# X @ Y"
      ],
      "execution_count": null,
      "outputs": []
    },
    {
      "cell_type": "markdown",
      "metadata": {
        "id": "E7R8EQOBG7v7"
      },
      "source": [
        "Because it does not follow those rules"
      ]
    },
    {
      "cell_type": "code",
      "metadata": {
        "id": "bmLnV1-1HHVm"
      },
      "source": [
        "# Let's change the shape of Y\n",
        "Y = tf.reshape(Y, shape=(2, 3))"
      ],
      "execution_count": null,
      "outputs": []
    },
    {
      "cell_type": "code",
      "metadata": {
        "colab": {
          "base_uri": "https://localhost:8080/"
        },
        "id": "M_fC5LJVHV2O",
        "outputId": "c2eaa2f1-5aa9-4879-d76d-6fd4df5621a7"
      },
      "source": [
        "# And try again\n",
        "\n",
        "X @ Y"
      ],
      "execution_count": null,
      "outputs": [
        {
          "output_type": "execute_result",
          "data": {
            "text/plain": [
              "<tf.Tensor: shape=(3, 3), dtype=int32, numpy=\n",
              "array([[ 27,  30,  33],\n",
              "       [ 61,  68,  75],\n",
              "       [ 95, 106, 117]], dtype=int32)>"
            ]
          },
          "metadata": {},
          "execution_count": 64
        }
      ]
    },
    {
      "cell_type": "code",
      "metadata": {
        "colab": {
          "base_uri": "https://localhost:8080/"
        },
        "id": "P-94OEbMHZ1g",
        "outputId": "84761485-7f82-407a-a434-0db2b0674a62"
      },
      "source": [
        "# We can do the same with transpose\n",
        "\n",
        "tf.transpose(X), tf.reshape(X, shape=(2, 3))"
      ],
      "execution_count": null,
      "outputs": [
        {
          "output_type": "execute_result",
          "data": {
            "text/plain": [
              "(<tf.Tensor: shape=(2, 3), dtype=int32, numpy=\n",
              " array([[1, 3, 5],\n",
              "        [2, 4, 6]], dtype=int32)>,\n",
              " <tf.Tensor: shape=(2, 3), dtype=int32, numpy=\n",
              " array([[1, 2, 3],\n",
              "        [4, 5, 6]], dtype=int32)>)"
            ]
          },
          "metadata": {},
          "execution_count": 65
        }
      ]
    },
    {
      "cell_type": "markdown",
      "metadata": {
        "id": "1pisRhERK5vA"
      },
      "source": [
        "**Transpose** mixes up the order by changing the axis.\\\n",
        "**Reshape** changes the shape to the request "
      ]
    },
    {
      "cell_type": "code",
      "metadata": {
        "id": "7n9pHYaNIvd4"
      },
      "source": [
        "# Try matrix multiplication with transpose rather than reshape\n"
      ],
      "execution_count": null,
      "outputs": []
    },
    {
      "cell_type": "code",
      "metadata": {
        "id": "kNK7bHJpJRoD"
      },
      "source": [
        "Y = tf.constant([[7, 8],\n",
        "                 [9, 10],\n",
        "                 [11, 12]])"
      ],
      "execution_count": null,
      "outputs": []
    },
    {
      "cell_type": "code",
      "metadata": {
        "colab": {
          "base_uri": "https://localhost:8080/"
        },
        "id": "3nQGpEoPJmtG",
        "outputId": "8170a7ad-50e5-47fd-a4f4-18d6cecba0d2"
      },
      "source": [
        "tf.matmul(tf.transpose(X), Y)"
      ],
      "execution_count": null,
      "outputs": [
        {
          "output_type": "execute_result",
          "data": {
            "text/plain": [
              "<tf.Tensor: shape=(2, 2), dtype=int32, numpy=\n",
              "array([[ 89,  98],\n",
              "       [116, 128]], dtype=int32)>"
            ]
          },
          "metadata": {},
          "execution_count": 68
        }
      ]
    },
    {
      "cell_type": "markdown",
      "metadata": {
        "id": "LQH7M-3YJpLs"
      },
      "source": [
        "**The dot product**\n",
        "\n",
        "Matrix multiplication is also referred to as the dot product.\n",
        "\n",
        "We can perform matrix multiplication using:\n",
        "* `tf.matmul()`\n",
        "* `tf.tensordot()`"
      ]
    },
    {
      "cell_type": "code",
      "metadata": {
        "id": "uks2NBgiLHIt"
      },
      "source": [
        "# Perform the dot product on X and Y (requires X or Y to be transposed)"
      ],
      "execution_count": null,
      "outputs": []
    },
    {
      "cell_type": "markdown",
      "metadata": {
        "id": "ykNC-MWIMbuZ"
      },
      "source": [
        "📖 **Resource** 📖  description on the diffrence between reshape and transpose: https://lihan.me/2018/01/numpy-reshape-and-transpose/"
      ]
    },
    {
      "cell_type": "code",
      "metadata": {
        "colab": {
          "base_uri": "https://localhost:8080/"
        },
        "id": "aI1UDunLNKaS",
        "outputId": "4a97bd9b-4e3c-4e7d-8bcc-4696a1ce24c9"
      },
      "source": [
        "X, Y"
      ],
      "execution_count": null,
      "outputs": [
        {
          "output_type": "execute_result",
          "data": {
            "text/plain": [
              "(<tf.Tensor: shape=(3, 2), dtype=int32, numpy=\n",
              " array([[1, 2],\n",
              "        [3, 4],\n",
              "        [5, 6]], dtype=int32)>, <tf.Tensor: shape=(3, 2), dtype=int32, numpy=\n",
              " array([[ 7,  8],\n",
              "        [ 9, 10],\n",
              "        [11, 12]], dtype=int32)>)"
            ]
          },
          "metadata": {},
          "execution_count": 70
        }
      ]
    },
    {
      "cell_type": "code",
      "metadata": {
        "colab": {
          "base_uri": "https://localhost:8080/"
        },
        "id": "T2Ac8ohbMrPZ",
        "outputId": "e735a78d-0538-4cb6-b8f4-6f65bd04d3ac"
      },
      "source": [
        "tf.tensordot(tf.transpose(X), Y, axes=1)"
      ],
      "execution_count": null,
      "outputs": [
        {
          "output_type": "execute_result",
          "data": {
            "text/plain": [
              "<tf.Tensor: shape=(2, 2), dtype=int32, numpy=\n",
              "array([[ 89,  98],\n",
              "       [116, 128]], dtype=int32)>"
            ]
          },
          "metadata": {},
          "execution_count": 71
        }
      ]
    },
    {
      "cell_type": "code",
      "metadata": {
        "colab": {
          "base_uri": "https://localhost:8080/"
        },
        "id": "QIVPltJiNewk",
        "outputId": "8f342d95-08ba-418f-d5fd-3be5b4de0bdd"
      },
      "source": [
        "# Perform matrix multiplication between X and Y (transposed)\n",
        "\n",
        "tf.matmul(X, tf.transpose(Y) )"
      ],
      "execution_count": null,
      "outputs": [
        {
          "output_type": "execute_result",
          "data": {
            "text/plain": [
              "<tf.Tensor: shape=(3, 3), dtype=int32, numpy=\n",
              "array([[ 23,  29,  35],\n",
              "       [ 53,  67,  81],\n",
              "       [ 83, 105, 127]], dtype=int32)>"
            ]
          },
          "metadata": {},
          "execution_count": 72
        }
      ]
    },
    {
      "cell_type": "code",
      "metadata": {
        "colab": {
          "base_uri": "https://localhost:8080/"
        },
        "id": "5yw0jnkNOJ70",
        "outputId": "981c4117-3034-439a-d719-87ef063a505c"
      },
      "source": [
        "# Perform matrix multiplication between X and Y (reshaped)\n",
        "\n",
        "tf.matmul(X, tf.reshape(Y, shape=(2, 3)))"
      ],
      "execution_count": null,
      "outputs": [
        {
          "output_type": "execute_result",
          "data": {
            "text/plain": [
              "<tf.Tensor: shape=(3, 3), dtype=int32, numpy=\n",
              "array([[ 27,  30,  33],\n",
              "       [ 61,  68,  75],\n",
              "       [ 95, 106, 117]], dtype=int32)>"
            ]
          },
          "metadata": {},
          "execution_count": 73
        }
      ]
    },
    {
      "cell_type": "code",
      "metadata": {
        "colab": {
          "base_uri": "https://localhost:8080/"
        },
        "id": "8UvtZpYNOjyY",
        "outputId": "83b9c64c-2aab-4124-edb5-8e932639ad06"
      },
      "source": [
        "# Check the values of Y, reshape Y, and transposed Y\n",
        "print(\"Normal Y\")\n",
        "print(Y, \"\\n\")\n",
        "\n",
        "print(\"Y reshaped to (2, 3):\")\n",
        "print(tf.reshape(Y, (2, 3)), \"\\n\" )\n",
        "\n",
        "print(\"Y transposed:\")\n",
        "print(tf.transpose(Y))"
      ],
      "execution_count": null,
      "outputs": [
        {
          "output_type": "stream",
          "name": "stdout",
          "text": [
            "Normal Y\n",
            "tf.Tensor(\n",
            "[[ 7  8]\n",
            " [ 9 10]\n",
            " [11 12]], shape=(3, 2), dtype=int32) \n",
            "\n",
            "Y reshaped to (2, 3):\n",
            "tf.Tensor(\n",
            "[[ 7  8  9]\n",
            " [10 11 12]], shape=(2, 3), dtype=int32) \n",
            "\n",
            "Y transposed:\n",
            "tf.Tensor(\n",
            "[[ 7  9 11]\n",
            " [ 8 10 12]], shape=(2, 3), dtype=int32)\n"
          ]
        }
      ]
    },
    {
      "cell_type": "markdown",
      "metadata": {
        "id": "9JcJw-ZyPzWO"
      },
      "source": [
        "Generally, when performing matrix multiplication on two tensors and one of the axes doesn't line up. You will *transpose* (rather than reshape) one of the tensors to satisfy the matrix multiplication rules."
      ]
    },
    {
      "cell_type": "markdown",
      "metadata": {
        "id": "Q33z0axFSOZ1"
      },
      "source": [
        "**Changing the datatype of a tensor**"
      ]
    },
    {
      "cell_type": "code",
      "metadata": {
        "colab": {
          "base_uri": "https://localhost:8080/"
        },
        "id": "oEXyvJK-BRsG",
        "outputId": "e4d2b1ba-ba0a-42c6-c88c-4dcc7ed8970e"
      },
      "source": [
        "# Create a new tensor with default datatype (float32)\n",
        "\n",
        "B = tf.constant([1.7, 7.4])\n",
        "B, B.dtype, B.ndim"
      ],
      "execution_count": null,
      "outputs": [
        {
          "output_type": "execute_result",
          "data": {
            "text/plain": [
              "(<tf.Tensor: shape=(2,), dtype=float32, numpy=array([1.7, 7.4], dtype=float32)>,\n",
              " tf.float32,\n",
              " 1)"
            ]
          },
          "metadata": {},
          "execution_count": 75
        }
      ]
    },
    {
      "cell_type": "code",
      "metadata": {
        "colab": {
          "base_uri": "https://localhost:8080/"
        },
        "id": "qFKnyHnkBtzz",
        "outputId": "41c99406-9b82-4eda-895d-765c3dec952d"
      },
      "source": [
        "C = tf.constant([7, 10])\n",
        "C.dtype"
      ],
      "execution_count": null,
      "outputs": [
        {
          "output_type": "execute_result",
          "data": {
            "text/plain": [
              "tf.int32"
            ]
          },
          "metadata": {},
          "execution_count": 76
        }
      ]
    },
    {
      "cell_type": "code",
      "metadata": {
        "colab": {
          "base_uri": "https://localhost:8080/"
        },
        "id": "8zei5KxGB40r",
        "outputId": "7cfe379d-c9a0-479d-b810-17b6235fc1c4"
      },
      "source": [
        "# Change from float32 to float16 (reduced precision)\n",
        "\n",
        "D = tf.cast(B, dtype=tf.float16)\n",
        "D, D.dtype, D.ndim"
      ],
      "execution_count": null,
      "outputs": [
        {
          "output_type": "execute_result",
          "data": {
            "text/plain": [
              "(<tf.Tensor: shape=(2,), dtype=float16, numpy=array([1.7, 7.4], dtype=float16)>,\n",
              " tf.float16,\n",
              " 1)"
            ]
          },
          "metadata": {},
          "execution_count": 77
        }
      ]
    },
    {
      "cell_type": "code",
      "metadata": {
        "colab": {
          "base_uri": "https://localhost:8080/"
        },
        "id": "HMUoN-hdDB8e",
        "outputId": "3091ffc8-b6e4-4c0e-fad2-0567e3312f0e"
      },
      "source": [
        "# Change from int32 to float32\n",
        "\n",
        "E = tf.cast(C, dtype=tf.float32)\n",
        "E, E.dtype"
      ],
      "execution_count": null,
      "outputs": [
        {
          "output_type": "execute_result",
          "data": {
            "text/plain": [
              "(<tf.Tensor: shape=(2,), dtype=float32, numpy=array([ 7., 10.], dtype=float32)>,\n",
              " tf.float32)"
            ]
          },
          "metadata": {},
          "execution_count": 78
        }
      ]
    },
    {
      "cell_type": "code",
      "metadata": {
        "colab": {
          "base_uri": "https://localhost:8080/"
        },
        "id": "tDS7NxXzEOXY",
        "outputId": "4d7fd113-43a8-4b10-b362-2a2d23254da4"
      },
      "source": [
        "E_float16 = tf.cast(E, dtype=tf.float16)\n",
        "E_float16.dtype"
      ],
      "execution_count": null,
      "outputs": [
        {
          "output_type": "execute_result",
          "data": {
            "text/plain": [
              "tf.float16"
            ]
          },
          "metadata": {},
          "execution_count": 79
        }
      ]
    },
    {
      "cell_type": "markdown",
      "metadata": {
        "id": "F0dG2XFwEh9V"
      },
      "source": [
        "### Aggregating tensors"
      ]
    },
    {
      "cell_type": "markdown",
      "metadata": {
        "id": "-g8vK0nWFhLj"
      },
      "source": [
        "Aggregating tensors = Condensing them from multiple values down to a smaller amount of values"
      ]
    },
    {
      "cell_type": "code",
      "metadata": {
        "colab": {
          "base_uri": "https://localhost:8080/"
        },
        "id": "-YxbqhsyF3Ac",
        "outputId": "7989cfca-93f6-41c0-b200-c0007816e266"
      },
      "source": [
        "# Get the absolute values\n",
        "\n",
        "D = tf.constant([-7, -10])\n",
        "D"
      ],
      "execution_count": null,
      "outputs": [
        {
          "output_type": "execute_result",
          "data": {
            "text/plain": [
              "<tf.Tensor: shape=(2,), dtype=int32, numpy=array([ -7, -10], dtype=int32)>"
            ]
          },
          "metadata": {},
          "execution_count": 80
        }
      ]
    },
    {
      "cell_type": "code",
      "metadata": {
        "colab": {
          "base_uri": "https://localhost:8080/"
        },
        "id": "mNMERNWaGLfx",
        "outputId": "f2dbfd0c-3b9c-42a8-9ce9-aa1226bb12f7"
      },
      "source": [
        "tf.abs(D)"
      ],
      "execution_count": null,
      "outputs": [
        {
          "output_type": "execute_result",
          "data": {
            "text/plain": [
              "<tf.Tensor: shape=(2,), dtype=int32, numpy=array([ 7, 10], dtype=int32)>"
            ]
          },
          "metadata": {},
          "execution_count": 81
        }
      ]
    },
    {
      "cell_type": "markdown",
      "metadata": {
        "id": "EtT2BcZ0GWkL"
      },
      "source": [
        "Let's go through the following forms of aggregation:\n",
        "* Get the minimum\n",
        "* Get the maximum\n",
        "* Get the mean of a tensor\n",
        "* Get the sum of a tensor"
      ]
    },
    {
      "cell_type": "code",
      "metadata": {
        "colab": {
          "base_uri": "https://localhost:8080/"
        },
        "id": "XAtjV60YG_tq",
        "outputId": "3e5dbe45-529a-4815-f7f6-bd1a29cfc39c"
      },
      "source": [
        "# Create a random tensor with values between 0 and 100, size = 50\n",
        "\n",
        "E = tf.constant(np.random.randint(0, 100, size=50))\n",
        "E"
      ],
      "execution_count": null,
      "outputs": [
        {
          "output_type": "execute_result",
          "data": {
            "text/plain": [
              "<tf.Tensor: shape=(50,), dtype=int64, numpy=\n",
              "array([61, 96, 19, 60, 12, 67, 22, 39, 15, 64, 23, 27, 27, 84, 77, 36,  9,\n",
              "       73, 19, 24, 12, 67, 77,  2,  1, 35, 98, 17, 54, 33, 38, 42, 58, 83,\n",
              "       12, 18, 12,  8, 27, 40, 67, 65, 24, 79, 17, 26,  0, 68, 31, 33])>"
            ]
          },
          "metadata": {},
          "execution_count": 82
        }
      ]
    },
    {
      "cell_type": "code",
      "metadata": {
        "colab": {
          "base_uri": "https://localhost:8080/"
        },
        "id": "BkNHWTPqHfRX",
        "outputId": "d730ab6c-aecb-4553-fcb0-23c7fd64b51c"
      },
      "source": [
        "tf.size(E), E.shape, E.ndim"
      ],
      "execution_count": null,
      "outputs": [
        {
          "output_type": "execute_result",
          "data": {
            "text/plain": [
              "(<tf.Tensor: shape=(), dtype=int32, numpy=50>, TensorShape([50]), 1)"
            ]
          },
          "metadata": {},
          "execution_count": 83
        }
      ]
    },
    {
      "cell_type": "code",
      "metadata": {
        "colab": {
          "base_uri": "https://localhost:8080/"
        },
        "id": "c4gpv5xgHxD3",
        "outputId": "3f553417-c8f9-4ad3-bac3-a1107abffb47"
      },
      "source": [
        "# Find the minimum\n",
        "tf.reduce_min(E)"
      ],
      "execution_count": null,
      "outputs": [
        {
          "output_type": "execute_result",
          "data": {
            "text/plain": [
              "<tf.Tensor: shape=(), dtype=int64, numpy=0>"
            ]
          },
          "metadata": {},
          "execution_count": 84
        }
      ]
    },
    {
      "cell_type": "code",
      "metadata": {
        "colab": {
          "base_uri": "https://localhost:8080/"
        },
        "id": "RngWszh2ICLF",
        "outputId": "0b1eb193-22a0-4d7f-fa45-31980f312dcb"
      },
      "source": [
        "# Find the maximum\n",
        "\n",
        "tf.reduce_max(E)"
      ],
      "execution_count": null,
      "outputs": [
        {
          "output_type": "execute_result",
          "data": {
            "text/plain": [
              "<tf.Tensor: shape=(), dtype=int64, numpy=98>"
            ]
          },
          "metadata": {},
          "execution_count": 85
        }
      ]
    },
    {
      "cell_type": "code",
      "metadata": {
        "colab": {
          "base_uri": "https://localhost:8080/"
        },
        "id": "gCeiV5bgIK0k",
        "outputId": "7ca27211-722e-4a03-afac-f74d8ffa9749"
      },
      "source": [
        "# Find the Mean\n",
        "\n",
        "tf.reduce_mean(E)"
      ],
      "execution_count": null,
      "outputs": [
        {
          "output_type": "execute_result",
          "data": {
            "text/plain": [
              "<tf.Tensor: shape=(), dtype=int64, numpy=39>"
            ]
          },
          "metadata": {},
          "execution_count": 86
        }
      ]
    },
    {
      "cell_type": "code",
      "metadata": {
        "colab": {
          "base_uri": "https://localhost:8080/"
        },
        "id": "dsQGgaSUIRU8",
        "outputId": "1f2c0ac8-9315-422c-f3af-9d22524a6763"
      },
      "source": [
        "# Find the Sum\n",
        "\n",
        "tf.reduce_sum(E)"
      ],
      "execution_count": null,
      "outputs": [
        {
          "output_type": "execute_result",
          "data": {
            "text/plain": [
              "<tf.Tensor: shape=(), dtype=int64, numpy=1998>"
            ]
          },
          "metadata": {},
          "execution_count": 87
        }
      ]
    },
    {
      "cell_type": "code",
      "metadata": {
        "id": "UyWXMIOZIc50"
      },
      "source": [
        "# standard deviation and variance"
      ],
      "execution_count": null,
      "outputs": []
    },
    {
      "cell_type": "code",
      "metadata": {
        "id": "dptGocuqNFuM"
      },
      "source": [
        "import tensorflow_probability as tfp"
      ],
      "execution_count": null,
      "outputs": []
    },
    {
      "cell_type": "code",
      "metadata": {
        "colab": {
          "base_uri": "https://localhost:8080/"
        },
        "id": "jh5VMARqNNfD",
        "outputId": "8222d398-bffb-4f36-e258-3f8170324ac0"
      },
      "source": [
        "tfp.stats.variance(E)"
      ],
      "execution_count": null,
      "outputs": [
        {
          "output_type": "execute_result",
          "data": {
            "text/plain": [
              "<tf.Tensor: shape=(), dtype=int64, numpy=720>"
            ]
          },
          "metadata": {},
          "execution_count": 90
        }
      ]
    },
    {
      "cell_type": "code",
      "metadata": {
        "id": "1_MTM64kNa13"
      },
      "source": [
        "#####------- won't work------######\n",
        "#    tf.math.reduce_std(E)"
      ],
      "execution_count": null,
      "outputs": []
    },
    {
      "cell_type": "code",
      "metadata": {
        "colab": {
          "base_uri": "https://localhost:8080/"
        },
        "id": "6Qck3mIbNn11",
        "outputId": "df5712a2-0d95-43b1-966d-d9a605470dc5"
      },
      "source": [
        "tf.math.reduce_std(tf.cast(E, dtype=tf.float32))"
      ],
      "execution_count": null,
      "outputs": [
        {
          "output_type": "execute_result",
          "data": {
            "text/plain": [
              "<tf.Tensor: shape=(), dtype=float32, numpy=26.81713>"
            ]
          },
          "metadata": {},
          "execution_count": 92
        }
      ]
    },
    {
      "cell_type": "markdown",
      "metadata": {
        "id": "Ykgq5ugDOjsK"
      },
      "source": [
        "### Find the positional minimum and maximum"
      ]
    },
    {
      "cell_type": "code",
      "metadata": {
        "colab": {
          "base_uri": "https://localhost:8080/"
        },
        "id": "tWG5hruBQdQZ",
        "outputId": "2ab4e3ac-9936-4f50-840f-06c74eea1948"
      },
      "source": [
        "# Create a new tensor for finding positional minimum and maximum\n",
        "tf.random.set_seed(42)\n",
        "F = tf.random.uniform(shape=[50])\n",
        "F"
      ],
      "execution_count": null,
      "outputs": [
        {
          "output_type": "execute_result",
          "data": {
            "text/plain": [
              "<tf.Tensor: shape=(50,), dtype=float32, numpy=\n",
              "array([0.6645621 , 0.44100678, 0.3528825 , 0.46448255, 0.03366041,\n",
              "       0.68467236, 0.74011743, 0.8724445 , 0.22632635, 0.22319686,\n",
              "       0.3103881 , 0.7223358 , 0.13318717, 0.5480639 , 0.5746088 ,\n",
              "       0.8996835 , 0.00946367, 0.5212307 , 0.6345445 , 0.1993283 ,\n",
              "       0.72942245, 0.54583454, 0.10756552, 0.6767061 , 0.6602763 ,\n",
              "       0.33695042, 0.60141766, 0.21062577, 0.8527372 , 0.44062173,\n",
              "       0.9485276 , 0.23752594, 0.81179297, 0.5263394 , 0.494308  ,\n",
              "       0.21612847, 0.8457197 , 0.8718841 , 0.3083862 , 0.6868038 ,\n",
              "       0.23764038, 0.7817228 , 0.9671384 , 0.06870162, 0.79873943,\n",
              "       0.66028714, 0.5871513 , 0.16461694, 0.7381023 , 0.32054043],\n",
              "      dtype=float32)>"
            ]
          },
          "metadata": {},
          "execution_count": 93
        }
      ]
    },
    {
      "cell_type": "code",
      "metadata": {
        "colab": {
          "base_uri": "https://localhost:8080/"
        },
        "id": "yHnKVaahQ5L1",
        "outputId": "16a55962-99be-4f5a-d96f-d2459bcb469c"
      },
      "source": [
        "# Find the positional maximum\n",
        "tf.argmax(F)"
      ],
      "execution_count": null,
      "outputs": [
        {
          "output_type": "execute_result",
          "data": {
            "text/plain": [
              "<tf.Tensor: shape=(), dtype=int64, numpy=42>"
            ]
          },
          "metadata": {},
          "execution_count": 94
        }
      ]
    },
    {
      "cell_type": "code",
      "metadata": {
        "colab": {
          "base_uri": "https://localhost:8080/"
        },
        "id": "D2v_7rlKRaKx",
        "outputId": "63d96944-4f2a-4279-d157-a6ddf53f34c3"
      },
      "source": [
        "# Index on largest value\n",
        "F[tf.argmax(F)]"
      ],
      "execution_count": null,
      "outputs": [
        {
          "output_type": "execute_result",
          "data": {
            "text/plain": [
              "<tf.Tensor: shape=(), dtype=float32, numpy=0.9671384>"
            ]
          },
          "metadata": {},
          "execution_count": 95
        }
      ]
    },
    {
      "cell_type": "code",
      "metadata": {
        "colab": {
          "base_uri": "https://localhost:8080/"
        },
        "id": "Eyn0R_1cRoHp",
        "outputId": "a95495c1-6c0e-447e-91ac-42752a761ece"
      },
      "source": [
        "# Find the maximum value of F\n",
        "tf.reduce_max(F)"
      ],
      "execution_count": null,
      "outputs": [
        {
          "output_type": "execute_result",
          "data": {
            "text/plain": [
              "<tf.Tensor: shape=(), dtype=float32, numpy=0.9671384>"
            ]
          },
          "metadata": {},
          "execution_count": 96
        }
      ]
    },
    {
      "cell_type": "code",
      "metadata": {
        "id": "8kfEAtzZR2Ae"
      },
      "source": [
        "# Check for equality\n",
        "\n",
        "assert F[tf.argmax(F)] == tf.reduce_max(F)"
      ],
      "execution_count": null,
      "outputs": []
    },
    {
      "cell_type": "code",
      "metadata": {
        "colab": {
          "base_uri": "https://localhost:8080/"
        },
        "id": "OcOPWx_kSG9U",
        "outputId": "360c4633-f0a8-40e1-a056-f66b7ca0d229"
      },
      "source": [
        "F[tf.argmax(F)] == tf.reduce_max(F)"
      ],
      "execution_count": null,
      "outputs": [
        {
          "output_type": "execute_result",
          "data": {
            "text/plain": [
              "<tf.Tensor: shape=(), dtype=bool, numpy=True>"
            ]
          },
          "metadata": {},
          "execution_count": 98
        }
      ]
    },
    {
      "cell_type": "code",
      "metadata": {
        "colab": {
          "base_uri": "https://localhost:8080/"
        },
        "id": "CREyXBS1SI40",
        "outputId": "d3152fe5-689f-4f7e-e953-fc715b6ab7ee"
      },
      "source": [
        "# Find the positional minimum\n",
        "tf.argmin(F)"
      ],
      "execution_count": null,
      "outputs": [
        {
          "output_type": "execute_result",
          "data": {
            "text/plain": [
              "<tf.Tensor: shape=(), dtype=int64, numpy=16>"
            ]
          },
          "metadata": {},
          "execution_count": 99
        }
      ]
    },
    {
      "cell_type": "code",
      "metadata": {
        "colab": {
          "base_uri": "https://localhost:8080/"
        },
        "id": "RCZhvj5JSjC5",
        "outputId": "0d836af9-13fc-433b-fe7a-8a3950376c39"
      },
      "source": [
        "# find the min using the minimum index\n",
        "F[tf.argmin(F)]"
      ],
      "execution_count": null,
      "outputs": [
        {
          "output_type": "execute_result",
          "data": {
            "text/plain": [
              "<tf.Tensor: shape=(), dtype=float32, numpy=0.009463668>"
            ]
          },
          "metadata": {},
          "execution_count": 100
        }
      ]
    },
    {
      "cell_type": "markdown",
      "metadata": {
        "id": "uxwIuNYWSwEb"
      },
      "source": [
        "### Squeezing a tensor (removing all single dimensions)"
      ]
    },
    {
      "cell_type": "code",
      "metadata": {
        "colab": {
          "base_uri": "https://localhost:8080/"
        },
        "id": "WH0QjsluPXxZ",
        "outputId": "779c6920-88b5-433d-ce9a-a959c57e14d3"
      },
      "source": [
        "tf.random.set_seed(42)\n",
        "G = tf.constant(tf.random.uniform(shape=[50]), shape=(1, 1, 1, 1, 50))\n",
        "G"
      ],
      "execution_count": null,
      "outputs": [
        {
          "output_type": "execute_result",
          "data": {
            "text/plain": [
              "<tf.Tensor: shape=(1, 1, 1, 1, 50), dtype=float32, numpy=\n",
              "array([[[[[0.6645621 , 0.44100678, 0.3528825 , 0.46448255, 0.03366041,\n",
              "           0.68467236, 0.74011743, 0.8724445 , 0.22632635, 0.22319686,\n",
              "           0.3103881 , 0.7223358 , 0.13318717, 0.5480639 , 0.5746088 ,\n",
              "           0.8996835 , 0.00946367, 0.5212307 , 0.6345445 , 0.1993283 ,\n",
              "           0.72942245, 0.54583454, 0.10756552, 0.6767061 , 0.6602763 ,\n",
              "           0.33695042, 0.60141766, 0.21062577, 0.8527372 , 0.44062173,\n",
              "           0.9485276 , 0.23752594, 0.81179297, 0.5263394 , 0.494308  ,\n",
              "           0.21612847, 0.8457197 , 0.8718841 , 0.3083862 , 0.6868038 ,\n",
              "           0.23764038, 0.7817228 , 0.9671384 , 0.06870162, 0.79873943,\n",
              "           0.66028714, 0.5871513 , 0.16461694, 0.7381023 , 0.32054043]]]]],\n",
              "      dtype=float32)>"
            ]
          },
          "metadata": {},
          "execution_count": 103
        }
      ]
    },
    {
      "cell_type": "code",
      "metadata": {
        "colab": {
          "base_uri": "https://localhost:8080/"
        },
        "id": "1g6_5RhKPtkj",
        "outputId": "3f01a663-5c48-429d-9cea-1c532ce6a9c9"
      },
      "source": [
        "G.shape"
      ],
      "execution_count": null,
      "outputs": [
        {
          "output_type": "execute_result",
          "data": {
            "text/plain": [
              "TensorShape([1, 1, 1, 1, 50])"
            ]
          },
          "metadata": {},
          "execution_count": 104
        }
      ]
    },
    {
      "cell_type": "code",
      "metadata": {
        "colab": {
          "base_uri": "https://localhost:8080/"
        },
        "id": "cs_0WAbLP-xn",
        "outputId": "b3524e58-8bb4-48d5-85d8-f4f1ab36005d"
      },
      "source": [
        "G_squeezed = tf.squeeze(G)\n",
        "G_squeezed"
      ],
      "execution_count": null,
      "outputs": [
        {
          "output_type": "execute_result",
          "data": {
            "text/plain": [
              "<tf.Tensor: shape=(50,), dtype=float32, numpy=\n",
              "array([0.6645621 , 0.44100678, 0.3528825 , 0.46448255, 0.03366041,\n",
              "       0.68467236, 0.74011743, 0.8724445 , 0.22632635, 0.22319686,\n",
              "       0.3103881 , 0.7223358 , 0.13318717, 0.5480639 , 0.5746088 ,\n",
              "       0.8996835 , 0.00946367, 0.5212307 , 0.6345445 , 0.1993283 ,\n",
              "       0.72942245, 0.54583454, 0.10756552, 0.6767061 , 0.6602763 ,\n",
              "       0.33695042, 0.60141766, 0.21062577, 0.8527372 , 0.44062173,\n",
              "       0.9485276 , 0.23752594, 0.81179297, 0.5263394 , 0.494308  ,\n",
              "       0.21612847, 0.8457197 , 0.8718841 , 0.3083862 , 0.6868038 ,\n",
              "       0.23764038, 0.7817228 , 0.9671384 , 0.06870162, 0.79873943,\n",
              "       0.66028714, 0.5871513 , 0.16461694, 0.7381023 , 0.32054043],\n",
              "      dtype=float32)>"
            ]
          },
          "metadata": {},
          "execution_count": 105
        }
      ]
    },
    {
      "cell_type": "code",
      "metadata": {
        "colab": {
          "base_uri": "https://localhost:8080/"
        },
        "id": "GF67fBE1QOtt",
        "outputId": "abede19e-c9cf-4aeb-afce-e6a3a47667c2"
      },
      "source": [
        "G_squeezed.shape"
      ],
      "execution_count": null,
      "outputs": [
        {
          "output_type": "execute_result",
          "data": {
            "text/plain": [
              "TensorShape([50])"
            ]
          },
          "metadata": {},
          "execution_count": 106
        }
      ]
    },
    {
      "cell_type": "markdown",
      "metadata": {
        "id": "c3YxGvagQQ9w"
      },
      "source": [
        "### One-hot encoding tensors"
      ]
    },
    {
      "cell_type": "code",
      "metadata": {
        "colab": {
          "base_uri": "https://localhost:8080/"
        },
        "id": "YXJFAroGTDgQ",
        "outputId": "b582224f-232f-4913-ed92-f8d09ea9d2c0"
      },
      "source": [
        "# Create a list of indices\n",
        "\n",
        "some_list = [0, 1, 2, 3] # Could be red, green, yellow, blue\n",
        "\n",
        "# One hot encode our list of indices\n",
        "\n",
        "tf.one_hot(some_list, depth=4)"
      ],
      "execution_count": null,
      "outputs": [
        {
          "output_type": "execute_result",
          "data": {
            "text/plain": [
              "<tf.Tensor: shape=(4, 4), dtype=float32, numpy=\n",
              "array([[1., 0., 0., 0.],\n",
              "       [0., 1., 0., 0.],\n",
              "       [0., 0., 1., 0.],\n",
              "       [0., 0., 0., 1.]], dtype=float32)>"
            ]
          },
          "metadata": {},
          "execution_count": 107
        }
      ]
    },
    {
      "cell_type": "code",
      "metadata": {
        "colab": {
          "base_uri": "https://localhost:8080/"
        },
        "id": "vPsMzBFFUNQO",
        "outputId": "9f649bbc-8ae8-4559-cbff-94dd88cf58d5"
      },
      "source": [
        "# Specify custom values for one hot encoding \n",
        "\n",
        "tf.one_hot(some_list, depth=4, on_value=\"correct\", off_value=\"negative\")"
      ],
      "execution_count": null,
      "outputs": [
        {
          "output_type": "execute_result",
          "data": {
            "text/plain": [
              "<tf.Tensor: shape=(4, 4), dtype=string, numpy=\n",
              "array([[b'correct', b'negative', b'negative', b'negative'],\n",
              "       [b'negative', b'correct', b'negative', b'negative'],\n",
              "       [b'negative', b'negative', b'correct', b'negative'],\n",
              "       [b'negative', b'negative', b'negative', b'correct']], dtype=object)>"
            ]
          },
          "metadata": {},
          "execution_count": 108
        }
      ]
    },
    {
      "cell_type": "markdown",
      "metadata": {
        "id": "CMolvc7UVAHI"
      },
      "source": [
        "### Squaring, Log, Square root"
      ]
    },
    {
      "cell_type": "code",
      "metadata": {
        "colab": {
          "base_uri": "https://localhost:8080/"
        },
        "id": "2ZfRA-cKWAL8",
        "outputId": "57f3e9e6-5bcc-4e89-96d6-80eb72b3e00e"
      },
      "source": [
        "# Create a new tensor\n",
        "\n",
        "H = tf.range(1, 10)\n",
        "H"
      ],
      "execution_count": null,
      "outputs": [
        {
          "output_type": "execute_result",
          "data": {
            "text/plain": [
              "<tf.Tensor: shape=(9,), dtype=int32, numpy=array([1, 2, 3, 4, 5, 6, 7, 8, 9], dtype=int32)>"
            ]
          },
          "metadata": {},
          "execution_count": 110
        }
      ]
    },
    {
      "cell_type": "code",
      "metadata": {
        "colab": {
          "base_uri": "https://localhost:8080/"
        },
        "id": "_AW77tpdWIj3",
        "outputId": "b2aa0e9c-a24a-4b14-e46c-86d4d67340b7"
      },
      "source": [
        "# Square the elements\n",
        "\n",
        "tf.square(H)"
      ],
      "execution_count": null,
      "outputs": [
        {
          "output_type": "execute_result",
          "data": {
            "text/plain": [
              "<tf.Tensor: shape=(9,), dtype=int32, numpy=array([ 1,  4,  9, 16, 25, 36, 49, 64, 81], dtype=int32)>"
            ]
          },
          "metadata": {},
          "execution_count": 113
        }
      ]
    },
    {
      "cell_type": "code",
      "metadata": {
        "id": "-PZ60D-aWRiZ"
      },
      "source": [
        "# Find the square root \n",
        "\n",
        " # -------  tf.sqrt(H) ------ will error"
      ],
      "execution_count": null,
      "outputs": []
    },
    {
      "cell_type": "code",
      "metadata": {
        "colab": {
          "base_uri": "https://localhost:8080/"
        },
        "id": "K1tHZyWOW8gY",
        "outputId": "17cadd95-bdfb-4edb-c311-6703eb60bcc6"
      },
      "source": [
        "tf.sqrt(tf.cast(H, dtype=tf.float32))"
      ],
      "execution_count": null,
      "outputs": [
        {
          "output_type": "execute_result",
          "data": {
            "text/plain": [
              "<tf.Tensor: shape=(9,), dtype=float32, numpy=\n",
              "array([0.99999994, 1.4142134 , 1.7320508 , 1.9999999 , 2.236068  ,\n",
              "       2.4494896 , 2.6457512 , 2.8284268 , 3.        ], dtype=float32)>"
            ]
          },
          "metadata": {},
          "execution_count": 116
        }
      ]
    },
    {
      "cell_type": "code",
      "metadata": {
        "colab": {
          "base_uri": "https://localhost:8080/"
        },
        "id": "uy9TR68wXG-B",
        "outputId": "d5b727a8-d65d-4546-9ed6-7a1faad73955"
      },
      "source": [
        "# Find the log\n",
        "\n",
        "tf.math.log(tf.cast(H, dtype=tf.float32))"
      ],
      "execution_count": null,
      "outputs": [
        {
          "output_type": "execute_result",
          "data": {
            "text/plain": [
              "<tf.Tensor: shape=(9,), dtype=float32, numpy=\n",
              "array([0.       , 0.6931472, 1.0986123, 1.3862944, 1.609438 , 1.7917595,\n",
              "       1.9459102, 2.0794415, 2.1972246], dtype=float32)>"
            ]
          },
          "metadata": {},
          "execution_count": 121
        }
      ]
    },
    {
      "cell_type": "code",
      "metadata": {
        "colab": {
          "base_uri": "https://localhost:8080/"
        },
        "id": "zZ3wV52nXc0a",
        "outputId": "bf7070ca-a303-4b82-c161-c1d4f6dd10c5"
      },
      "source": [
        "tf.cumsum(H)"
      ],
      "execution_count": null,
      "outputs": [
        {
          "output_type": "execute_result",
          "data": {
            "text/plain": [
              "<tf.Tensor: shape=(9,), dtype=int32, numpy=array([ 1,  3,  6, 10, 15, 21, 28, 36, 45], dtype=int32)>"
            ]
          },
          "metadata": {},
          "execution_count": 122
        }
      ]
    },
    {
      "cell_type": "code",
      "metadata": {
        "colab": {
          "base_uri": "https://localhost:8080/"
        },
        "id": "j5hZiuXqX7ID",
        "outputId": "c52fb479-e931-4576-ec56-9a4398c7e279"
      },
      "source": [
        "tf.negative(H)"
      ],
      "execution_count": null,
      "outputs": [
        {
          "output_type": "execute_result",
          "data": {
            "text/plain": [
              "<tf.Tensor: shape=(9,), dtype=int32, numpy=array([-1, -2, -3, -4, -5, -6, -7, -8, -9], dtype=int32)>"
            ]
          },
          "metadata": {},
          "execution_count": 123
        }
      ]
    },
    {
      "cell_type": "code",
      "metadata": {
        "colab": {
          "base_uri": "https://localhost:8080/"
        },
        "id": "bx1Wtb2kYNOU",
        "outputId": "0358abe7-f50b-4d98-d458-c2f546468a17"
      },
      "source": [
        "tf.math.sin(tf.cast(H, dtype=tf.float32))"
      ],
      "execution_count": null,
      "outputs": [
        {
          "output_type": "execute_result",
          "data": {
            "text/plain": [
              "<tf.Tensor: shape=(9,), dtype=float32, numpy=\n",
              "array([ 0.841471  ,  0.9092974 ,  0.14112   , -0.7568025 , -0.9589243 ,\n",
              "       -0.2794155 ,  0.6569866 ,  0.98935825,  0.4121185 ], dtype=float32)>"
            ]
          },
          "metadata": {},
          "execution_count": 126
        }
      ]
    },
    {
      "cell_type": "markdown",
      "metadata": {
        "id": "y4yTytpAYVL3"
      },
      "source": [
        "### Tensors and NumPys\n",
        "\n",
        "\n",
        "TensorFlow works well with NumPy arrays."
      ]
    },
    {
      "cell_type": "code",
      "metadata": {
        "colab": {
          "base_uri": "https://localhost:8080/"
        },
        "id": "hE8Z7FxiZHGY",
        "outputId": "169b5c58-5a30-4b0f-ce9b-128493ca7f2f"
      },
      "source": [
        "# Create a tensor directly from a NumPy array\n",
        "\n",
        "J = tf.constant(np.array([3., 7., 10.]))\n",
        "J"
      ],
      "execution_count": null,
      "outputs": [
        {
          "output_type": "execute_result",
          "data": {
            "text/plain": [
              "<tf.Tensor: shape=(3,), dtype=float64, numpy=array([ 3.,  7., 10.])>"
            ]
          },
          "metadata": {},
          "execution_count": 128
        }
      ]
    },
    {
      "cell_type": "code",
      "metadata": {
        "colab": {
          "base_uri": "https://localhost:8080/"
        },
        "id": "DDngsqtAZ_EU",
        "outputId": "d9e0e379-da07-4526-eb57-0dcbc58b3e2e"
      },
      "source": [
        "# Convert our tensor back to a NumPy array\n",
        "\n",
        "np.array(J)"
      ],
      "execution_count": null,
      "outputs": [
        {
          "output_type": "execute_result",
          "data": {
            "text/plain": [
              "array([ 3.,  7., 10.])"
            ]
          },
          "metadata": {},
          "execution_count": 129
        }
      ]
    },
    {
      "cell_type": "code",
      "metadata": {
        "colab": {
          "base_uri": "https://localhost:8080/"
        },
        "id": "598GXr2YaRIG",
        "outputId": "960f78a5-7620-4547-baf1-859309d9afb3"
      },
      "source": [
        "type(np.array(J))"
      ],
      "execution_count": null,
      "outputs": [
        {
          "output_type": "execute_result",
          "data": {
            "text/plain": [
              "numpy.ndarray"
            ]
          },
          "metadata": {},
          "execution_count": 130
        }
      ]
    },
    {
      "cell_type": "code",
      "metadata": {
        "colab": {
          "base_uri": "https://localhost:8080/"
        },
        "id": "sEpj_9IPaXXm",
        "outputId": "7ee7e584-a3f3-4b48-d695-1917d9e96593"
      },
      "source": [
        "# Convert tensor J to a NumPy array\n",
        "\n",
        "J.numpy(), type(J.numpy())"
      ],
      "execution_count": null,
      "outputs": [
        {
          "output_type": "execute_result",
          "data": {
            "text/plain": [
              "(array([ 3.,  7., 10.]), numpy.ndarray)"
            ]
          },
          "metadata": {},
          "execution_count": 131
        }
      ]
    },
    {
      "cell_type": "code",
      "metadata": {
        "colab": {
          "base_uri": "https://localhost:8080/"
        },
        "id": "RNwTSYpra-55",
        "outputId": "7ec9f63c-cb21-4d9c-9cfe-af5522ea36c4"
      },
      "source": [
        "# The default types are slightly different\n",
        "\n",
        "numpy_J = tf.constant(np.array([3., 7., 10]))\n",
        "tensor_J = tf.constant([3., 7., 10])\n",
        "\n",
        "# Check the datatypes of each\n",
        "\n",
        "numpy_J.dtype, tensor_J.dtype"
      ],
      "execution_count": null,
      "outputs": [
        {
          "output_type": "execute_result",
          "data": {
            "text/plain": [
              "(tf.float64, tf.float32)"
            ]
          },
          "metadata": {},
          "execution_count": 133
        }
      ]
    },
    {
      "cell_type": "markdown",
      "metadata": {
        "id": "K8x3LvAMcFcg"
      },
      "source": [
        "### Finding access to GPUs"
      ]
    },
    {
      "cell_type": "code",
      "metadata": {
        "colab": {
          "base_uri": "https://localhost:8080/"
        },
        "id": "rhxoEQhudPNP",
        "outputId": "70e07b67-a7ac-450f-bca9-90c387fb77ff"
      },
      "source": [
        "tf.config.list_physical_devices()"
      ],
      "execution_count": null,
      "outputs": [
        {
          "output_type": "execute_result",
          "data": {
            "text/plain": [
              "[PhysicalDevice(name='/physical_device:CPU:0', device_type='CPU')]"
            ]
          },
          "metadata": {},
          "execution_count": 135
        }
      ]
    },
    {
      "cell_type": "code",
      "metadata": {
        "colab": {
          "base_uri": "https://localhost:8080/"
        },
        "id": "ThNQ06OGdlnd",
        "outputId": "30062c9a-43bf-4f22-fea5-b255f86e259e"
      },
      "source": [
        "tf.config.list_physical_devices(\"GPU\")"
      ],
      "execution_count": null,
      "outputs": [
        {
          "output_type": "execute_result",
          "data": {
            "text/plain": [
              "[]"
            ]
          },
          "metadata": {},
          "execution_count": 136
        }
      ]
    },
    {
      "cell_type": "code",
      "metadata": {
        "id": "qzNM7otwd_hH"
      },
      "source": [
        "# SELECT Runtime, change runtime type and SELECT GPU.\n",
        "# note this will reset all cells"
      ],
      "execution_count": null,
      "outputs": []
    },
    {
      "cell_type": "code",
      "metadata": {
        "colab": {
          "base_uri": "https://localhost:8080/"
        },
        "id": "RUd3WY3hex-r",
        "outputId": "1ffa58ff-ad33-4030-9c89-f5c281d5fe4a"
      },
      "source": [
        "import tensorflow as tf\n",
        "\n",
        "tf.config.list_physical_devices()\n"
      ],
      "execution_count": null,
      "outputs": [
        {
          "output_type": "execute_result",
          "data": {
            "text/plain": [
              "[PhysicalDevice(name='/physical_device:CPU:0', device_type='CPU'),\n",
              " PhysicalDevice(name='/physical_device:GPU:0', device_type='GPU')]"
            ]
          },
          "metadata": {},
          "execution_count": 1
        }
      ]
    },
    {
      "cell_type": "code",
      "metadata": {
        "colab": {
          "base_uri": "https://localhost:8080/"
        },
        "id": "xve71Hd9e9ks",
        "outputId": "7d3c75c1-b18f-42bd-c6a0-b458c01d7656"
      },
      "source": [
        "tf.config.list_physical_devices(\"GPU\")"
      ],
      "execution_count": null,
      "outputs": [
        {
          "output_type": "execute_result",
          "data": {
            "text/plain": [
              "[PhysicalDevice(name='/physical_device:GPU:0', device_type='GPU')]"
            ]
          },
          "metadata": {},
          "execution_count": 2
        }
      ]
    },
    {
      "cell_type": "code",
      "metadata": {
        "colab": {
          "base_uri": "https://localhost:8080/"
        },
        "id": "Pns_T4SKfAqW",
        "outputId": "09e664c6-8246-4aec-a1f1-c1f8cbb59dab"
      },
      "source": [
        "!nvidia-smi"
      ],
      "execution_count": null,
      "outputs": [
        {
          "output_type": "stream",
          "name": "stdout",
          "text": [
            "Thu Oct 28 10:40:34 2021       \n",
            "+-----------------------------------------------------------------------------+\n",
            "| NVIDIA-SMI 495.29.05    Driver Version: 460.32.03    CUDA Version: 11.2     |\n",
            "|-------------------------------+----------------------+----------------------+\n",
            "| GPU  Name        Persistence-M| Bus-Id        Disp.A | Volatile Uncorr. ECC |\n",
            "| Fan  Temp  Perf  Pwr:Usage/Cap|         Memory-Usage | GPU-Util  Compute M. |\n",
            "|                               |                      |               MIG M. |\n",
            "|===============================+======================+======================|\n",
            "|   0  Tesla K80           Off  | 00000000:00:04.0 Off |                    0 |\n",
            "| N/A   48C    P8    29W / 149W |      3MiB / 11441MiB |      0%      Default |\n",
            "|                               |                      |                  N/A |\n",
            "+-------------------------------+----------------------+----------------------+\n",
            "                                                                               \n",
            "+-----------------------------------------------------------------------------+\n",
            "| Processes:                                                                  |\n",
            "|  GPU   GI   CI        PID   Type   Process name                  GPU Memory |\n",
            "|        ID   ID                                                   Usage      |\n",
            "|=============================================================================|\n",
            "|  No running processes found                                                 |\n",
            "+-----------------------------------------------------------------------------+\n"
          ]
        }
      ]
    },
    {
      "cell_type": "markdown",
      "metadata": {
        "id": "X8caSZWHfLYn"
      },
      "source": [
        "🔑 **NOTE:** If you have access to a CUDA-enabled GPU, Tensorflow will automatically use it whenever possible 🔑 "
      ]
    },
    {
      "cell_type": "code",
      "metadata": {
        "id": "MvmHmmdOgIya"
      },
      "source": [
        ""
      ],
      "execution_count": null,
      "outputs": []
    }
  ]
}