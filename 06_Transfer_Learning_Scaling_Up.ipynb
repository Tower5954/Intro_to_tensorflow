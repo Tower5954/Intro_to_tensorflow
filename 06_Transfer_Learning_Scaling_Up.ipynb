{
  "nbformat": 4,
  "nbformat_minor": 0,
  "metadata": {
    "colab": {
      "name": "06_Transfer_Learning_Scaling_Up.ipynb",
      "provenance": [],
      "toc_visible": true,
      "authorship_tag": "ABX9TyNGCHwNDbULXIeym8062JeE",
      "include_colab_link": true
    },
    "kernelspec": {
      "name": "python3",
      "display_name": "Python 3"
    },
    "language_info": {
      "name": "python"
    },
    "accelerator": "GPU"
  },
  "cells": [
    {
      "cell_type": "markdown",
      "metadata": {
        "id": "view-in-github",
        "colab_type": "text"
      },
      "source": [
        "<a href=\"https://colab.research.google.com/github/Tower5954/TensorFlow/blob/main/06_Transfer_Learning_Scaling_Up.ipynb\" target=\"_parent\"><img src=\"https://colab.research.google.com/assets/colab-badge.svg\" alt=\"Open In Colab\"/></a>"
      ]
    },
    {
      "cell_type": "markdown",
      "source": [
        "# Transfer Learning part.3\n",
        "\n",
        "What we are going to cover:\n",
        "* Downloading and preparing 10% of all Food101 classes (7500+ training images)\n",
        "* Training a transfer learning feature extraction model\n",
        "* Fine-tuning a feature extraction model to beat the original Food101 paper with only 10% of the data.\n",
        "* Evaluating \"Food Visions mini\" predictions.\n",
        "  * Finding the most wrong predictions (on the test data)\n",
        "* Making predictions with Food Vision mini on our own custom data.\n",
        "\n",
        "We have now seen the power of transfer learning feature extraction and fine-tuning, now it is time to scale up to all of the classes in food101 (101 total classes of food).\n",
        "\n",
        "The goal is to beat the original food 101 paper with only 10% of the training (leveraging the power of deep learning).\n",
        "\n",
        " [Original Food101 paper.](https://data.vision.ee.ethz.ch/cvl/datasets_extra/food-101/)\n",
        "\n",
        " The baseline to beat is 50.76% accuracy across 101 classes."
      ],
      "metadata": {
        "id": "58J6Oc1fDnmC"
      }
    },
    {
      "cell_type": "code",
      "source": [
        "# Set up GPU \n",
        "# Check to see if running a GPU\n",
        "\n",
        "!nvidia-smi"
      ],
      "metadata": {
        "colab": {
          "base_uri": "https://localhost:8080/"
        },
        "id": "5NWy2x_DIgdz",
        "outputId": "64290a8c-70c1-4a49-8661-3ade030a730f"
      },
      "execution_count": 1,
      "outputs": [
        {
          "output_type": "stream",
          "name": "stdout",
          "text": [
            "Wed Jan 19 07:00:59 2022       \n",
            "+-----------------------------------------------------------------------------+\n",
            "| NVIDIA-SMI 495.46       Driver Version: 460.32.03    CUDA Version: 11.2     |\n",
            "|-------------------------------+----------------------+----------------------+\n",
            "| GPU  Name        Persistence-M| Bus-Id        Disp.A | Volatile Uncorr. ECC |\n",
            "| Fan  Temp  Perf  Pwr:Usage/Cap|         Memory-Usage | GPU-Util  Compute M. |\n",
            "|                               |                      |               MIG M. |\n",
            "|===============================+======================+======================|\n",
            "|   0  Tesla K80           Off  | 00000000:00:04.0 Off |                    0 |\n",
            "| N/A   34C    P8    27W / 149W |      0MiB / 11441MiB |      0%      Default |\n",
            "|                               |                      |                  N/A |\n",
            "+-------------------------------+----------------------+----------------------+\n",
            "                                                                               \n",
            "+-----------------------------------------------------------------------------+\n",
            "| Processes:                                                                  |\n",
            "|  GPU   GI   CI        PID   Type   Process name                  GPU Memory |\n",
            "|        ID   ID                                                   Usage      |\n",
            "|=============================================================================|\n",
            "|  No running processes found                                                 |\n",
            "+-----------------------------------------------------------------------------+\n"
          ]
        }
      ]
    },
    {
      "cell_type": "code",
      "source": [
        ""
      ],
      "metadata": {
        "id": "cIJEhdYfI2Gr"
      },
      "execution_count": null,
      "outputs": []
    }
  ]
}